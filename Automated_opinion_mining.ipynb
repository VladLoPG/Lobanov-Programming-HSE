{
  "nbformat": 4,
  "nbformat_minor": 0,
  "metadata": {
    "colab": {
      "provenance": [],
      "gpuType": "T4",
      "include_colab_link": true
    },
    "kernelspec": {
      "name": "python3",
      "display_name": "Python 3"
    },
    "language_info": {
      "name": "python"
    },
    "accelerator": "GPU",
    "widgets": {
      "application/vnd.jupyter.widget-state+json": {
        "46eecad2539d45b08f0e8b39a543ae6e": {
          "model_module": "@jupyter-widgets/controls",
          "model_name": "HBoxModel",
          "model_module_version": "1.5.0",
          "state": {
            "_dom_classes": [],
            "_model_module": "@jupyter-widgets/controls",
            "_model_module_version": "1.5.0",
            "_model_name": "HBoxModel",
            "_view_count": null,
            "_view_module": "@jupyter-widgets/controls",
            "_view_module_version": "1.5.0",
            "_view_name": "HBoxView",
            "box_style": "",
            "children": [
              "IPY_MODEL_7c6fe91e454c4e39af0d29b1240b4206",
              "IPY_MODEL_ad1cda1eab0844689f66f95aa4ea904a",
              "IPY_MODEL_934cc8e6416e42bb98201b79cdb4f605"
            ],
            "layout": "IPY_MODEL_3c5fbaf833974f62b0083472ff4f57cb"
          }
        },
        "7c6fe91e454c4e39af0d29b1240b4206": {
          "model_module": "@jupyter-widgets/controls",
          "model_name": "HTMLModel",
          "model_module_version": "1.5.0",
          "state": {
            "_dom_classes": [],
            "_model_module": "@jupyter-widgets/controls",
            "_model_module_version": "1.5.0",
            "_model_name": "HTMLModel",
            "_view_count": null,
            "_view_module": "@jupyter-widgets/controls",
            "_view_module_version": "1.5.0",
            "_view_name": "HTMLView",
            "description": "",
            "description_tooltip": null,
            "layout": "IPY_MODEL_54d9979ea4dd4bcab72e01c6f0fd8517",
            "placeholder": "​",
            "style": "IPY_MODEL_f807a6093bd9456780c59bf72b74fffd",
            "value": "YandexGPT-5-Lite-8B-instruct-Q4_K_M.gguf: 100%"
          }
        },
        "ad1cda1eab0844689f66f95aa4ea904a": {
          "model_module": "@jupyter-widgets/controls",
          "model_name": "FloatProgressModel",
          "model_module_version": "1.5.0",
          "state": {
            "_dom_classes": [],
            "_model_module": "@jupyter-widgets/controls",
            "_model_module_version": "1.5.0",
            "_model_name": "FloatProgressModel",
            "_view_count": null,
            "_view_module": "@jupyter-widgets/controls",
            "_view_module_version": "1.5.0",
            "_view_name": "ProgressView",
            "bar_style": "success",
            "description": "",
            "description_tooltip": null,
            "layout": "IPY_MODEL_92be332a1240475ebf6be9a5c1089040",
            "max": 4920741184,
            "min": 0,
            "orientation": "horizontal",
            "style": "IPY_MODEL_08fecd3423604e7e87c16c9fe3bd79c7",
            "value": 4920741184
          }
        },
        "934cc8e6416e42bb98201b79cdb4f605": {
          "model_module": "@jupyter-widgets/controls",
          "model_name": "HTMLModel",
          "model_module_version": "1.5.0",
          "state": {
            "_dom_classes": [],
            "_model_module": "@jupyter-widgets/controls",
            "_model_module_version": "1.5.0",
            "_model_name": "HTMLModel",
            "_view_count": null,
            "_view_module": "@jupyter-widgets/controls",
            "_view_module_version": "1.5.0",
            "_view_name": "HTMLView",
            "description": "",
            "description_tooltip": null,
            "layout": "IPY_MODEL_43d92c3cb2ad4df5a028fde83bb6a95c",
            "placeholder": "​",
            "style": "IPY_MODEL_2c9968e92eeb421db46ac02a667a34e7",
            "value": " 4.92G/4.92G [01:28&lt;00:00, 45.1MB/s]"
          }
        },
        "3c5fbaf833974f62b0083472ff4f57cb": {
          "model_module": "@jupyter-widgets/base",
          "model_name": "LayoutModel",
          "model_module_version": "1.2.0",
          "state": {
            "_model_module": "@jupyter-widgets/base",
            "_model_module_version": "1.2.0",
            "_model_name": "LayoutModel",
            "_view_count": null,
            "_view_module": "@jupyter-widgets/base",
            "_view_module_version": "1.2.0",
            "_view_name": "LayoutView",
            "align_content": null,
            "align_items": null,
            "align_self": null,
            "border": null,
            "bottom": null,
            "display": null,
            "flex": null,
            "flex_flow": null,
            "grid_area": null,
            "grid_auto_columns": null,
            "grid_auto_flow": null,
            "grid_auto_rows": null,
            "grid_column": null,
            "grid_gap": null,
            "grid_row": null,
            "grid_template_areas": null,
            "grid_template_columns": null,
            "grid_template_rows": null,
            "height": null,
            "justify_content": null,
            "justify_items": null,
            "left": null,
            "margin": null,
            "max_height": null,
            "max_width": null,
            "min_height": null,
            "min_width": null,
            "object_fit": null,
            "object_position": null,
            "order": null,
            "overflow": null,
            "overflow_x": null,
            "overflow_y": null,
            "padding": null,
            "right": null,
            "top": null,
            "visibility": null,
            "width": null
          }
        },
        "54d9979ea4dd4bcab72e01c6f0fd8517": {
          "model_module": "@jupyter-widgets/base",
          "model_name": "LayoutModel",
          "model_module_version": "1.2.0",
          "state": {
            "_model_module": "@jupyter-widgets/base",
            "_model_module_version": "1.2.0",
            "_model_name": "LayoutModel",
            "_view_count": null,
            "_view_module": "@jupyter-widgets/base",
            "_view_module_version": "1.2.0",
            "_view_name": "LayoutView",
            "align_content": null,
            "align_items": null,
            "align_self": null,
            "border": null,
            "bottom": null,
            "display": null,
            "flex": null,
            "flex_flow": null,
            "grid_area": null,
            "grid_auto_columns": null,
            "grid_auto_flow": null,
            "grid_auto_rows": null,
            "grid_column": null,
            "grid_gap": null,
            "grid_row": null,
            "grid_template_areas": null,
            "grid_template_columns": null,
            "grid_template_rows": null,
            "height": null,
            "justify_content": null,
            "justify_items": null,
            "left": null,
            "margin": null,
            "max_height": null,
            "max_width": null,
            "min_height": null,
            "min_width": null,
            "object_fit": null,
            "object_position": null,
            "order": null,
            "overflow": null,
            "overflow_x": null,
            "overflow_y": null,
            "padding": null,
            "right": null,
            "top": null,
            "visibility": null,
            "width": null
          }
        },
        "f807a6093bd9456780c59bf72b74fffd": {
          "model_module": "@jupyter-widgets/controls",
          "model_name": "DescriptionStyleModel",
          "model_module_version": "1.5.0",
          "state": {
            "_model_module": "@jupyter-widgets/controls",
            "_model_module_version": "1.5.0",
            "_model_name": "DescriptionStyleModel",
            "_view_count": null,
            "_view_module": "@jupyter-widgets/base",
            "_view_module_version": "1.2.0",
            "_view_name": "StyleView",
            "description_width": ""
          }
        },
        "92be332a1240475ebf6be9a5c1089040": {
          "model_module": "@jupyter-widgets/base",
          "model_name": "LayoutModel",
          "model_module_version": "1.2.0",
          "state": {
            "_model_module": "@jupyter-widgets/base",
            "_model_module_version": "1.2.0",
            "_model_name": "LayoutModel",
            "_view_count": null,
            "_view_module": "@jupyter-widgets/base",
            "_view_module_version": "1.2.0",
            "_view_name": "LayoutView",
            "align_content": null,
            "align_items": null,
            "align_self": null,
            "border": null,
            "bottom": null,
            "display": null,
            "flex": null,
            "flex_flow": null,
            "grid_area": null,
            "grid_auto_columns": null,
            "grid_auto_flow": null,
            "grid_auto_rows": null,
            "grid_column": null,
            "grid_gap": null,
            "grid_row": null,
            "grid_template_areas": null,
            "grid_template_columns": null,
            "grid_template_rows": null,
            "height": null,
            "justify_content": null,
            "justify_items": null,
            "left": null,
            "margin": null,
            "max_height": null,
            "max_width": null,
            "min_height": null,
            "min_width": null,
            "object_fit": null,
            "object_position": null,
            "order": null,
            "overflow": null,
            "overflow_x": null,
            "overflow_y": null,
            "padding": null,
            "right": null,
            "top": null,
            "visibility": null,
            "width": null
          }
        },
        "08fecd3423604e7e87c16c9fe3bd79c7": {
          "model_module": "@jupyter-widgets/controls",
          "model_name": "ProgressStyleModel",
          "model_module_version": "1.5.0",
          "state": {
            "_model_module": "@jupyter-widgets/controls",
            "_model_module_version": "1.5.0",
            "_model_name": "ProgressStyleModel",
            "_view_count": null,
            "_view_module": "@jupyter-widgets/base",
            "_view_module_version": "1.2.0",
            "_view_name": "StyleView",
            "bar_color": null,
            "description_width": ""
          }
        },
        "43d92c3cb2ad4df5a028fde83bb6a95c": {
          "model_module": "@jupyter-widgets/base",
          "model_name": "LayoutModel",
          "model_module_version": "1.2.0",
          "state": {
            "_model_module": "@jupyter-widgets/base",
            "_model_module_version": "1.2.0",
            "_model_name": "LayoutModel",
            "_view_count": null,
            "_view_module": "@jupyter-widgets/base",
            "_view_module_version": "1.2.0",
            "_view_name": "LayoutView",
            "align_content": null,
            "align_items": null,
            "align_self": null,
            "border": null,
            "bottom": null,
            "display": null,
            "flex": null,
            "flex_flow": null,
            "grid_area": null,
            "grid_auto_columns": null,
            "grid_auto_flow": null,
            "grid_auto_rows": null,
            "grid_column": null,
            "grid_gap": null,
            "grid_row": null,
            "grid_template_areas": null,
            "grid_template_columns": null,
            "grid_template_rows": null,
            "height": null,
            "justify_content": null,
            "justify_items": null,
            "left": null,
            "margin": null,
            "max_height": null,
            "max_width": null,
            "min_height": null,
            "min_width": null,
            "object_fit": null,
            "object_position": null,
            "order": null,
            "overflow": null,
            "overflow_x": null,
            "overflow_y": null,
            "padding": null,
            "right": null,
            "top": null,
            "visibility": null,
            "width": null
          }
        },
        "2c9968e92eeb421db46ac02a667a34e7": {
          "model_module": "@jupyter-widgets/controls",
          "model_name": "DescriptionStyleModel",
          "model_module_version": "1.5.0",
          "state": {
            "_model_module": "@jupyter-widgets/controls",
            "_model_module_version": "1.5.0",
            "_model_name": "DescriptionStyleModel",
            "_view_count": null,
            "_view_module": "@jupyter-widgets/base",
            "_view_module_version": "1.2.0",
            "_view_name": "StyleView",
            "description_width": ""
          }
        }
      }
    }
  },
  "cells": [
    {
      "cell_type": "markdown",
      "metadata": {
        "id": "view-in-github",
        "colab_type": "text"
      },
      "source": [
        "<a href=\"https://colab.research.google.com/github/VladLoPG/Lobanov-Programming-HSE/blob/main/Automated_opinion_mining.ipynb\" target=\"_parent\"><img src=\"https://colab.research.google.com/assets/colab-badge.svg\" alt=\"Open In Colab\"/></a>"
      ]
    },
    {
      "cell_type": "markdown",
      "source": [
        "# Устанавливаем необходимые зависимости"
      ],
      "metadata": {
        "id": "etnVKe06w_wV"
      }
    },
    {
      "cell_type": "code",
      "source": [
        "!pip install pandas tqdm datetime"
      ],
      "metadata": {
        "id": "xEZln4m2THBN",
        "colab": {
          "base_uri": "https://localhost:8080/"
        },
        "outputId": "0e62dcf0-bab2-4f83-dace-4bddbdf06a09"
      },
      "execution_count": null,
      "outputs": [
        {
          "output_type": "stream",
          "name": "stdout",
          "text": [
            "Requirement already satisfied: pandas in /usr/local/lib/python3.11/dist-packages (2.2.2)\n",
            "Requirement already satisfied: tqdm in /usr/local/lib/python3.11/dist-packages (4.67.1)\n",
            "Collecting datetime\n",
            "  Downloading DateTime-5.5-py3-none-any.whl.metadata (33 kB)\n",
            "Requirement already satisfied: numpy>=1.23.2 in /usr/local/lib/python3.11/dist-packages (from pandas) (2.0.2)\n",
            "Requirement already satisfied: python-dateutil>=2.8.2 in /usr/local/lib/python3.11/dist-packages (from pandas) (2.9.0.post0)\n",
            "Requirement already satisfied: pytz>=2020.1 in /usr/local/lib/python3.11/dist-packages (from pandas) (2025.2)\n",
            "Requirement already satisfied: tzdata>=2022.7 in /usr/local/lib/python3.11/dist-packages (from pandas) (2025.2)\n",
            "Collecting zope.interface (from datetime)\n",
            "  Downloading zope.interface-7.2-cp311-cp311-manylinux_2_5_x86_64.manylinux1_x86_64.manylinux_2_17_x86_64.manylinux2014_x86_64.whl.metadata (44 kB)\n",
            "\u001b[2K     \u001b[90m━━━━━━━━━━━━━━━━━━━━━━━━━━━━━━━━━━━━━━━━\u001b[0m \u001b[32m44.4/44.4 kB\u001b[0m \u001b[31m3.2 MB/s\u001b[0m eta \u001b[36m0:00:00\u001b[0m\n",
            "\u001b[?25hRequirement already satisfied: six>=1.5 in /usr/local/lib/python3.11/dist-packages (from python-dateutil>=2.8.2->pandas) (1.17.0)\n",
            "Requirement already satisfied: setuptools in /usr/local/lib/python3.11/dist-packages (from zope.interface->datetime) (75.2.0)\n",
            "Downloading DateTime-5.5-py3-none-any.whl (52 kB)\n",
            "\u001b[2K   \u001b[90m━━━━━━━━━━━━━━━━━━━━━━━━━━━━━━━━━━━━━━━━\u001b[0m \u001b[32m52.6/52.6 kB\u001b[0m \u001b[31m5.5 MB/s\u001b[0m eta \u001b[36m0:00:00\u001b[0m\n",
            "\u001b[?25hDownloading zope.interface-7.2-cp311-cp311-manylinux_2_5_x86_64.manylinux1_x86_64.manylinux_2_17_x86_64.manylinux2014_x86_64.whl (259 kB)\n",
            "\u001b[2K   \u001b[90m━━━━━━━━━━━━━━━━━━━━━━━━━━━━━━━━━━━━━━━━\u001b[0m \u001b[32m259.8/259.8 kB\u001b[0m \u001b[31m16.5 MB/s\u001b[0m eta \u001b[36m0:00:00\u001b[0m\n",
            "\u001b[?25hInstalling collected packages: zope.interface, datetime\n",
            "Successfully installed datetime-5.5 zope.interface-7.2\n"
          ]
        }
      ]
    },
    {
      "cell_type": "markdown",
      "source": [
        "# Загрузка ллама с++. Почему-то только с этой версией llama-cpp получается активировать GPU в колабе, иначе работает центральный процессор, а он для этой задачи безумно медленный"
      ],
      "metadata": {
        "id": "rCCHF1OqxEZr"
      }
    },
    {
      "cell_type": "code",
      "source": [
        "!CMAKE_ARGS=\"-DGGML_CUDA=on -DCMAKE_CUDA_ARCHITECTURES=75\" pip install --no-cache-dir llama-cpp-python==0.2.77 --extra-index-url https://abetlen.github.io/llama-cpp-python/whl/cu122"
      ],
      "metadata": {
        "id": "6ldO8MUZrANZ",
        "colab": {
          "base_uri": "https://localhost:8080/"
        },
        "outputId": "1c74e670-5e5d-4a57-ae03-13bfa8e6e819"
      },
      "execution_count": null,
      "outputs": [
        {
          "output_type": "stream",
          "name": "stdout",
          "text": [
            "Looking in indexes: https://pypi.org/simple, https://abetlen.github.io/llama-cpp-python/whl/cu122\n",
            "Collecting llama-cpp-python==0.2.77\n",
            "  Downloading https://github.com/abetlen/llama-cpp-python/releases/download/v0.2.77-cu122/llama_cpp_python-0.2.77-cp311-cp311-linux_x86_64.whl (315.7 MB)\n",
            "\u001b[2K     \u001b[90m━━━━━━━━━━━━━━━━━━━━━━━━━━━━━━━━━━━━━━\u001b[0m \u001b[32m315.7/315.7 MB\u001b[0m \u001b[31m53.9 MB/s\u001b[0m eta \u001b[36m0:00:00\u001b[0m\n",
            "\u001b[?25hRequirement already satisfied: typing-extensions>=4.5.0 in /usr/local/lib/python3.11/dist-packages (from llama-cpp-python==0.2.77) (4.13.2)\n",
            "Requirement already satisfied: numpy>=1.20.0 in /usr/local/lib/python3.11/dist-packages (from llama-cpp-python==0.2.77) (2.0.2)\n",
            "Collecting diskcache>=5.6.1 (from llama-cpp-python==0.2.77)\n",
            "  Downloading diskcache-5.6.3-py3-none-any.whl.metadata (20 kB)\n",
            "Requirement already satisfied: jinja2>=2.11.3 in /usr/local/lib/python3.11/dist-packages (from llama-cpp-python==0.2.77) (3.1.6)\n",
            "Requirement already satisfied: MarkupSafe>=2.0 in /usr/local/lib/python3.11/dist-packages (from jinja2>=2.11.3->llama-cpp-python==0.2.77) (3.0.2)\n",
            "Downloading diskcache-5.6.3-py3-none-any.whl (45 kB)\n",
            "\u001b[2K   \u001b[90m━━━━━━━━━━━━━━━━━━━━━━━━━━━━━━━━━━━━━━━━\u001b[0m \u001b[32m45.5/45.5 kB\u001b[0m \u001b[31m13.6 MB/s\u001b[0m eta \u001b[36m0:00:00\u001b[0m\n",
            "\u001b[?25hInstalling collected packages: diskcache, llama-cpp-python\n",
            "Successfully installed diskcache-5.6.3 llama-cpp-python-0.2.77\n"
          ]
        }
      ]
    },
    {
      "cell_type": "markdown",
      "source": [
        "# Загрузка модели"
      ],
      "metadata": {
        "id": "m8XHvJ32xNx9"
      }
    },
    {
      "cell_type": "code",
      "source": [
        "from llama_cpp import Llama\n",
        "from huggingface_hub import hf_hub_download\n",
        "\n",
        "# Download the model and get the local file path\n",
        "repo_id = \"yandex/YandexGPT-5-Lite-8B-instruct-GGUF\"\n",
        "filename = \"YandexGPT-5-Lite-8B-instruct-Q4_K_M.gguf\"\n",
        "\n",
        "# Download the model file and store the path\n",
        "MODEL_PATH = hf_hub_download(repo_id=repo_id, filename=filename)\n"
      ],
      "metadata": {
        "collapsed": true,
        "id": "stkCiKynSqbp",
        "colab": {
          "base_uri": "https://localhost:8080/",
          "height": 176,
          "referenced_widgets": [
            "46eecad2539d45b08f0e8b39a543ae6e",
            "7c6fe91e454c4e39af0d29b1240b4206",
            "ad1cda1eab0844689f66f95aa4ea904a",
            "934cc8e6416e42bb98201b79cdb4f605",
            "3c5fbaf833974f62b0083472ff4f57cb",
            "54d9979ea4dd4bcab72e01c6f0fd8517",
            "f807a6093bd9456780c59bf72b74fffd",
            "92be332a1240475ebf6be9a5c1089040",
            "08fecd3423604e7e87c16c9fe3bd79c7",
            "43d92c3cb2ad4df5a028fde83bb6a95c",
            "2c9968e92eeb421db46ac02a667a34e7"
          ]
        },
        "outputId": "ae1ffff9-ce45-43c7-ec26-303d12bde101"
      },
      "execution_count": null,
      "outputs": [
        {
          "output_type": "stream",
          "name": "stderr",
          "text": [
            "/usr/local/lib/python3.11/dist-packages/huggingface_hub/utils/_auth.py:94: UserWarning: \n",
            "The secret `HF_TOKEN` does not exist in your Colab secrets.\n",
            "To authenticate with the Hugging Face Hub, create a token in your settings tab (https://huggingface.co/settings/tokens), set it as secret in your Google Colab and restart your session.\n",
            "You will be able to reuse this secret in all of your notebooks.\n",
            "Please note that authentication is recommended but still optional to access public models or datasets.\n",
            "  warnings.warn(\n"
          ]
        },
        {
          "output_type": "display_data",
          "data": {
            "text/plain": [
              "YandexGPT-5-Lite-8B-instruct-Q4_K_M.gguf:   0%|          | 0.00/4.92G [00:00<?, ?B/s]"
            ],
            "application/vnd.jupyter.widget-view+json": {
              "version_major": 2,
              "version_minor": 0,
              "model_id": "46eecad2539d45b08f0e8b39a543ae6e"
            }
          },
          "metadata": {}
        }
      ]
    },
    {
      "cell_type": "markdown",
      "source": [
        "# Импорт всех нужных библиотек"
      ],
      "metadata": {
        "id": "e-udxnxBT3Ip"
      }
    },
    {
      "cell_type": "code",
      "source": [
        "import pandas as pd\n",
        "import re\n",
        "from tqdm import tqdm\n",
        "from datetime import datetime\n",
        "import unicodedata\n",
        "from collections import defaultdict\n",
        "import time"
      ],
      "metadata": {
        "id": "29KmqpVw5pyZ"
      },
      "execution_count": null,
      "outputs": []
    },
    {
      "cell_type": "markdown",
      "source": [
        "# Код для извлечения ключевых слов, результат сохранится в таблицу csv, пополняется по мере обработки отзывов, через каждые 50"
      ],
      "metadata": {
        "id": "0oJ22scdxP3k"
      }
    },
    {
      "cell_type": "code",
      "source": [
        "# Пути к файлам\n",
        "CSV_FILE_PATH = \"/content/all_with_google_spaso-efim_df.csv\"\n",
        "OUTPUT_CSV_PATH = \"keywords_spaso_efim.csv\"\n",
        "\n",
        "# Параметры модели\n",
        "N_CTX = 3072 # размер контекста для обработки одного отзыва\n",
        "N_THREADS = 2 # кол-во ядер цпу\n",
        "MAX_TOKENS = 128 # максимальное кол-во токенов на ответ модели\n",
        "TEMPERATURE = 0.1 # температура модели, чем выше, тем рандомнее ответ\n",
        "MAX_RETRIES = 2  # максимальное кол-во повторных обработок при неудаче обработки отзыва\n",
        "\n",
        "def load_model(model_path: str, n_threads: int, n_ctx: int):\n",
        "    \"\"\"Загрузка модели с использованием GPU, параметры модели определяются в константах в начале кода\"\"\"\n",
        "    try:\n",
        "        return Llama(\n",
        "            model_path=model_path,\n",
        "            n_ctx=n_ctx,       # Размер контекста\n",
        "            n_gpu_layers=-1,  # Используем GPU (можно -1 для авто)\n",
        "            n_threads=n_threads,\n",
        "            verbose=False     # Отключить или True для диагностики\n",
        "        )\n",
        "    except Exception as e:\n",
        "        raise SystemExit(f\"Ошибка загрузки модели: {e}\")\n",
        "\n",
        "def extract_year(date_str):\n",
        "    \"\"\"Извлечение года из строки даты в разных форматах\"\"\"\n",
        "    if not isinstance(date_str, str) or not date_str.strip():\n",
        "        return \"unknown\"\n",
        "    try:\n",
        "        dt = pd.to_datetime(date_str, errors='coerce')\n",
        "        if pd.notna(dt):\n",
        "            return str(dt.year)\n",
        "\n",
        "        if \"-\" in date_str:\n",
        "             dt_dash = pd.to_datetime(date_str, format='%d-%m-%Y', errors='coerce')\n",
        "             if pd.notna(dt_dash):\n",
        "                 return str(dt_dash.year)\n",
        "\n",
        "        match = re.search(r'\\b(\\d{4})\\b', date_str)\n",
        "        if match:\n",
        "            year = int(match.group(1))\n",
        "            current_year = datetime.now().year\n",
        "            if 1900 <= year <= current_year:\n",
        "                 return str(year)\n",
        "\n",
        "        return \"unknown\"\n",
        "    except Exception:\n",
        "        return \"unknown\"\n",
        "\n",
        "def parse_response(response: str) -> dict | None:\n",
        "    \"\"\"\n",
        "    Парсинг ответа модели с использованием строгого регулярного выражения.\n",
        "    Ожидает формат: {id}, {year}, {positives}, {negatives} (4 элемента)\n",
        "    Возвращает словарь при успехе, иначе None.\n",
        "    \"\"\"\n",
        "    pattern = r'^\\s*\\{([^}]*)\\}\\s*,\\s*\\{([^}]*)\\}\\s*,\\s*\\{([^}]*)\\}\\s*,\\s*\\{([^}]*)\\}\\s*$'\n",
        "    match = re.match(pattern, response)\n",
        "\n",
        "    if match:\n",
        "        review_id, year, positives, negatives = [part.strip() for part in match.groups()]\n",
        "        if review_id and (year.isdigit() or year == \"unknown\"):\n",
        "            return {\n",
        "                \"review_id\": review_id,\n",
        "                \"year\": year,\n",
        "                \"positives\": positives if positives and positives != \"-\" else \"-\",\n",
        "                \"negatives\": negatives if negatives and negatives != \"-\" else \"-\",\n",
        "                \"failed\": False\n",
        "            }\n",
        "    return None\n",
        "\n",
        "def analyze_review(llm, review_text: str, rating: int, review_id: str, year: str, max_retries: int = 3) -> dict:\n",
        "    \"\"\"Анализ отзыва с проверкой формата\"\"\"\n",
        "    if not isinstance(review_text, str) or not review_text.strip():\n",
        "        return {\n",
        "            \"review_id\": review_id, \"year\": year,\n",
        "            \"positives\": \"-\", \"negatives\": \"-\", \"failed\": False\n",
        "        }\n",
        "\n",
        "    prompt = f\"\"\"\n",
        "Инструкции:\n",
        "1. Извлекай краткие, полезные положительные и отрицательные ключевые слова/фразы ТОЛЬКО из текста указанного отзыва. Избегай оценочных фраз по типу \"прекрасный музей\"/\"величественный собор\". Пиши на русском.\n",
        "2. Если положительных или отрицательных аспектов в тексте нет, пиши \"-\".\n",
        "3. ВСЕГДА возвращай результат СТРОГО в формате: {{review_id}}, {{year}}, {{positive keywords}}, {{negative keywords}}\n",
        "4. Все 4 элемента должны быть в фигурных скобках и разделены запятыми.\n",
        "5. Не добавляй никакого другого текста или пояснений до или после этого формата.\n",
        "\n",
        "Примеры:\n",
        "Отзыв: \"Отличный вид на город, но подъем очень высокий и крутой.\" Рейтинг: 3\n",
        "Ответ: {{review_1}}, {{2022}}, {{отличный вид на город}}, {{подъем очень высокий и крутой}}\n",
        "---\n",
        "Задание:\n",
        "Отзыв: {review_text}\n",
        "Рейтинг: {rating}\n",
        "review_id: {review_id}\n",
        "year: {year}\n",
        "\n",
        "Верни ТОЛЬКО одну строку в указанном формате.\n",
        "Ответ:\n",
        "\"\"\".strip()\n",
        "\n",
        "    for attempt in range(max_retries):\n",
        "        try:\n",
        "            llm_response = llm(prompt, max_tokens=MAX_TOKENS, temperature=TEMPERATURE, stop=['\\n'])\n",
        "\n",
        "            response_text = \"\"\n",
        "            if llm_response and 'choices' in llm_response and llm_response['choices']:\n",
        "                 response_text = llm_response[\"choices\"][0][\"text\"].strip()\n",
        "\n",
        "            if not response_text:\n",
        "                print(f\"\\nПопытка {attempt + 1} для {review_id}: Пустой ответ от модели.\")\n",
        "                continue\n",
        "\n",
        "            parsed_response = parse_response(response_text)\n",
        "            if parsed_response:\n",
        "                if parsed_response[\"review_id\"] == review_id and parsed_response[\"year\"] == year:\n",
        "                    return parsed_response\n",
        "                else:\n",
        "                    print(f\"\\nПопытка {attempt + 1} для {review_id}: ID/Год в ответе не совпали (Ожидали: {review_id}/{year}, Получили: {parsed_response.get('review_id')}/{parsed_response.get('year')}). Ответ: {response_text}\")\n",
        "                    continue\n",
        "            else:\n",
        "                print(f\"\\nПопытка {attempt + 1} для {review_id}: Неверный формат ответа модели. Ответ: {response_text}\")\n",
        "                continue\n",
        "\n",
        "        except Exception as e:\n",
        "            print(f\"\\nОшибка при вызове LLM для {review_id} на попытке {attempt + 1}: {e}\")\n",
        "            continue\n",
        "\n",
        "    print(f\"\\nНе удалось обработать {review_id} после {max_retries} попыток.\")\n",
        "    return {\n",
        "        \"review_id\": review_id, \"year\": year,\n",
        "        \"positives\": \"failed_processing\", \"negatives\": \"-\",\n",
        "        \"failed\": True\n",
        "    }\n",
        "\n",
        "def process_csv_reviews(csv_file_path: str, output_csv_path: str):\n",
        "    \"\"\"Основная функция, которая последовательно обрабатывает отзывы:\n",
        "    1. Загружает модель\n",
        "    2. Читает таблицу с отзывами\n",
        "    3. Фильтрует пустые отзывы\n",
        "    4. Собственно обрабатывает отзывы, подгружая по 50 строк из таблицы\n",
        "    5. Сохраняет результаты обработки в таблицу csv\n",
        "    \"\"\"\n",
        "    try:\n",
        "        llm = load_model(MODEL_PATH, N_THREADS, N_CTX)\n",
        "    except SystemExit as e:\n",
        "        print(e)\n",
        "        return\n",
        "\n",
        "    try:\n",
        "        df = pd.read_csv(csv_file_path)\n",
        "        required_columns = {\"publication_date\", \"rating\", \"text\"}\n",
        "        if not required_columns.issubset(df.columns):\n",
        "            raise ValueError(f\"Отсутствуют необходимые столбцы: {required_columns - set(df.columns)}\")\n",
        "    except FileNotFoundError:\n",
        "        print(f\"Ошибка: Файл не найден по пути {csv_file_path}\")\n",
        "        return\n",
        "    except Exception as e:\n",
        "        print(f\"Ошибка чтения CSV: {e}\")\n",
        "        return\n",
        "\n",
        "    print(\"Подготовка данных для обработки (фильтрация пустых отзывов и отзывов вне интересующего периода)...\")\n",
        "    tasks = []\n",
        "    all_results_map = {}\n",
        "    empty_review_count = 0\n",
        "    outdated_review_count = 0\n",
        "\n",
        "    for index, row in df.iterrows():\n",
        "        review_text = row.get(\"text\", \"\")\n",
        "        review_id = f\"review_{index + 1}\"\n",
        "        if pd.isna(review_text) or not str(review_text).strip():\n",
        "            empty_review_count += 1\n",
        "            continue\n",
        "\n",
        "        year = extract_year(row.get(\"publication_date\"))\n",
        "        if  year == 'unknown' or not 2020 <= int(year) <= 2025:\n",
        "            outdated_review_count += 1\n",
        "            continue\n",
        "        rating = row.get(\"rating\")\n",
        "        task = (\n",
        "            str(review_text).strip(),\n",
        "            rating,\n",
        "            review_id,\n",
        "            year,\n",
        "            MAX_RETRIES,\n",
        "            MODEL_PATH,\n",
        "            N_THREADS,\n",
        "            N_CTX,\n",
        "            MAX_TOKENS,\n",
        "            TEMPERATURE\n",
        "        )\n",
        "        tasks.append(task)\n",
        "        all_results_map[review_id] = {\n",
        "            \"review_id\": review_id,\n",
        "            \"year\": year,\n",
        "            \"status\": \"pending\",\n",
        "            \"positives\": \"-\",\n",
        "            \"negatives\": \"-\"\n",
        "        }\n",
        "\n",
        "    print(f\"Отфильтровано пустых отзывов: {empty_review_count}\")\n",
        "    print(f\"Отфильтровано отзывов, не попавших в промежуток с 2020-2025 год: {outdated_review_count}\")\n",
        "    if not tasks:\n",
        "        print(\"Нет данных для обработки.\")\n",
        "        return\n",
        "\n",
        "    total_tasks = len(tasks)\n",
        "    print(f\"Начинаем анализ {total_tasks} отзывов...\")\n",
        "\n",
        "    results_list = []\n",
        "    failed_analysis_count = 0\n",
        "    is_first_write = True  # Flag to control header writing\n",
        "\n",
        "    for task in tqdm(tasks, total=total_tasks, desc=\"Обработка отзывов\", mininterval=1.0):\n",
        "        review_text, rating, review_id, year, _, _, _, _, _, _ = task\n",
        "        analysis_result = analyze_review(llm, review_text, rating, review_id, year, MAX_RETRIES)\n",
        "        if analysis_result.get(\"failed\", False):\n",
        "            failed_analysis_count += 1\n",
        "\n",
        "        output_columns = ['review_id', 'year', 'positives', 'negatives']\n",
        "        record = {col: analysis_result.get(col, '-') for col in output_columns}\n",
        "        if record[\"positives\"] == \"failed_processing\":\n",
        "            record[\"positives\"] = \"-\"\n",
        "        results_list.append(record)\n",
        "\n",
        "        if len(results_list) >= 50:\n",
        "            pd.DataFrame(results_list[-50:], columns=output_columns).to_csv(\n",
        "                output_csv_path,\n",
        "                mode='w' if is_first_write else 'a',\n",
        "                index=False,\n",
        "                encoding='utf-8',\n",
        "                header=is_first_write\n",
        "            )\n",
        "            is_first_write = False\n",
        "            results_list = results_list[:-50]\n",
        "\n",
        "    if results_list:\n",
        "        pd.DataFrame(results_list, columns=output_columns).to_csv(\n",
        "            output_csv_path,\n",
        "            mode='w' if is_first_write else 'a',\n",
        "            index=False,\n",
        "            encoding='utf-8',\n",
        "            header=is_first_write\n",
        "        )\n",
        "\n",
        "    print(\"\\nАнализ завершен.\")\n",
        "    print(f\"Результаты сохранены в '{output_csv_path}'\")\n",
        "    if failed_analysis_count > 0:\n",
        "        print(f\"Количество отзывов, не обработанных LLM после всех попыток: {failed_analysis_count}\")\n",
        "\n",
        "# Запуск\n",
        "if __name__ == \"__main__\":\n",
        "    process_csv_reviews(CSV_FILE_PATH, OUTPUT_CSV_PATH)"
      ],
      "metadata": {
        "id": "54y8cAYpSYUw"
      },
      "execution_count": null,
      "outputs": []
    },
    {
      "cell_type": "markdown",
      "source": [
        "# Код для анализа ключевых слов. На вход принимает табличку с ключевыми словами из предыдущего кода, на выходе получаем файл txt с разбивкой по категориям для каждого года с 2020 по 2025"
      ],
      "metadata": {
        "id": "Si4Y-ADJT-4e"
      }
    },
    {
      "cell_type": "code",
      "source": [
        "# Пути к файлам\n",
        "INPUT_CSV_PATH = \"/content/keywords_titan (6).csv\"\n",
        "OUTPUT_TXT_PATH = \"/content/reports/report_spaso_efim.txt\"\n",
        "# 2020-2025 включительно\n",
        "\n",
        "# Model parameters\n",
        "N_CTX = 32000 # Увеличено для потенциально больших списков слов за год\n",
        "N_THREADS = 2 # Кол-во ядер ЦПУ\n",
        "MAX_TOKENS = 3072 # Увеличено для более детальных ответов по категориям\n",
        "TEMPERATURE = 0.1 # Температура модели\n",
        "MAX_RETRIES = 3 # Максимальное кол-во повторных попыток при неправильном ответе модели\n",
        "RETRY_DELAY = 5 # Секунды задержки между повторными попытками\n",
        "YEAR_RANGE = range(2020, 2026) # Годы, по которым идет анализ\n",
        "\n",
        "def load_model(model_path: str):\n",
        "    \"\"\"Загрузка модели с использованием GPU, параметры модели определяются в константах в начале кода\"\"\"\n",
        "    try:\n",
        "        return Llama(\n",
        "            model_path=model_path,\n",
        "            n_ctx=N_CTX,\n",
        "            n_gpu_layers=-1, # максимально задействует графический процессор\n",
        "            n_threads=N_THREADS,\n",
        "            verbose=False\n",
        "        )\n",
        "    except Exception as e:\n",
        "        raise SystemExit(f\"Ошибка загрузки модели: {e}\")\n",
        "\n",
        "def sanitize_text(text: str) -> str:\n",
        "    \"\"\"Выполняет простую очистку текста ключевых слов\"\"\"\n",
        "    if pd.isna(text) or not isinstance(text, str) or text.strip() == \"-\" or not text.strip():\n",
        "        return \"\"\n",
        "    # Нормализация Unicode для единообразия (например, разные типы кавычек)\n",
        "    text = unicodedata.normalize('NFKC', text)\n",
        "    # Удаление символов, которые не являются буквами, цифрами, знаками препинания или пробелами\n",
        "    # Оставляем кириллицу, латиницу, цифры и базовую пунктуацию\n",
        "    text = re.sub(r'[^\\w\\s,.!?-]', ' ', text, flags=re.UNICODE)\n",
        "    # Замена множественных пробелов на один\n",
        "    text = re.sub(r'\\s+', ' ', text).strip()\n",
        "    return text\n",
        "\n",
        "def deduplicate_keywords(keywords: list) -> list:\n",
        "    \"\"\"Дедуплицирует ключевые слова (удаляет повторяющиеся)\"\"\"\n",
        "    seen = set()\n",
        "    deduplicated = []\n",
        "    for kw in keywords:\n",
        "        # Приводим к нижнему регистру для дедупликации, но сохраняем оригинальный регистр (опционально)\n",
        "        # Если регистр не важен, можно сразу добавлять .lower() в seen и deduplicated\n",
        "        kw_lower = kw.lower()\n",
        "        if kw_lower not in seen:\n",
        "            seen.add(kw_lower)\n",
        "            deduplicated.append(kw) # Сохраняем оригинальный регистр\n",
        "    return deduplicated\n",
        "\n",
        "def parse_yearly_response(response: str, year: int, total_reviews_for_year: int) -> dict:\n",
        "    \"\"\"Парсит ответ модели по каждому году и проверяет на соответствие шаблону\"\"\"\n",
        "    result = {\n",
        "        \"positive_categories\": [],\n",
        "        \"negative_categories\": []\n",
        "    }\n",
        "    response = response.strip()\n",
        "\n",
        "    # Ищем маркеры секций\n",
        "    positive_marker = \"Позитивные категории\"\n",
        "    negative_marker = \"Негативные категории\"\n",
        "\n",
        "    try:\n",
        "        positive_start_index = response.find(positive_marker)\n",
        "        negative_start_index = response.find(negative_marker)\n",
        "\n",
        "        if positive_start_index == -1 or negative_start_index == -1:\n",
        "            print(f\"Ошибка ({year}): Не найдены маркеры '{positive_marker}' или '{negative_marker}'. Ответ: {response[:500]}...\")\n",
        "            return result # Возвращаем пустой результат\n",
        "\n",
        "        # Извлекаем тексты секций\n",
        "        positive_section_text = response[positive_start_index + len(positive_marker):negative_start_index].strip()\n",
        "        negative_section_text = response[negative_start_index + len(negative_marker):].strip()\n",
        "\n",
        "        def parse_section(section_text: str, section_name: str) -> list:\n",
        "            '''Парсит ответ модели по положительной/негативной категории и проверяет на соответствие шаблону'''\n",
        "            categories = []\n",
        "            lines = [line.strip() for line in section_text.split(\"\\n\") if line.strip()]\n",
        "            for line in lines:\n",
        "                # Используем regex для более гибкого парсинга строки\n",
        "                # Формат: Категория - описание: кол-во / общее_кол-во (процент%)\n",
        "                match = re.match(r'^(.*?)\\s*-\\s*(.*?):\\s*(\\d+\\s*/\\s*\\d+\\s*\\(\\s*\\d+%?\\s*\\))$', line)\n",
        "                if match:\n",
        "                    category, description, counts = match.groups()\n",
        "                    categories.append({\n",
        "                        \"category\": category.strip(),\n",
        "                        \"description\": description.strip(),\n",
        "                        \"counts\": counts.strip()\n",
        "                    })\n",
        "                # Обработка случая \"Нет данных\"\n",
        "                elif \"Нет данных\" in line and \"Отсутствуют релевантные слова\" in line:\n",
        "                     match_nodata = re.match(r'^(.*?)\\s*-\\s*(.*?):\\s*(\\d+\\s*/\\s*\\d+\\s*\\(\\s*\\d+%?\\s*\\))$', line)\n",
        "                     if match_nodata:\n",
        "                         category, description, counts = match_nodata.groups()\n",
        "                         categories.append({\n",
        "                             \"category\": category.strip(),\n",
        "                             \"description\": description.strip(),\n",
        "                             \"counts\": counts.strip()\n",
        "                             })\n",
        "                     else:\n",
        "                        print(f\"Предупреждение ({year}, {section_name}): Не удалось распарсить строку 'Нет данных': {line}\")\n",
        "                else:\n",
        "                    print(f\"Предупреждение ({year}, {section_name}): Неверный формат строки, пропуск: {line}\")\n",
        "            return categories\n",
        "\n",
        "        result[\"positive_categories\"] = parse_section(positive_section_text, \"Позитивные\")\n",
        "        result[\"negative_categories\"] = parse_section(negative_section_text, \"Негативные\")\n",
        "\n",
        "    except Exception as e:\n",
        "        print(f\"Ошибка парсинга ({year}): {e}. Ответ: {response[:500]}...\")\n",
        "        # Возвращаем дефолтные значения при ошибке парсинга\n",
        "        result = {\n",
        "            \"positive_categories\": [{\"category\": \"Ошибка парсинга\", \"description\": \"Не удалось обработать ответ модели\", \"counts\": f\"0 / {total_reviews_for_year} (0%)\"}],\n",
        "            \"negative_categories\": [{\"category\": \"Ошибка парсинга\", \"description\": \"Не удалось обработать ответ модели\", \"counts\": f\"0 / {total_reviews_for_year} (0%)\"}]\n",
        "        }\n",
        "\n",
        "    # Добавляем категории \"Нет данных\", если секция пуста и не было ошибки парсинга\n",
        "    if not result[\"positive_categories\"] and \"Ошибка парсинга\" not in str(result[\"positive_categories\"]):\n",
        "         result[\"positive_categories\"].append({\"category\": \"Нет данных\", \"description\": \"Отсутствуют релевантные слова\", \"counts\": f\"0 / {total_reviews_for_year} (0%)\"})\n",
        "    if not result[\"negative_categories\"] and \"Ошибка парсинга\" not in str(result[\"negative_categories\"]):\n",
        "         result[\"negative_categories\"].append({\"category\": \"Нет данных\", \"description\": \"Отсутствуют релевантные слова\", \"counts\": f\"0 / {total_reviews_for_year} (0%)\"})\n",
        "\n",
        "\n",
        "    return result\n",
        "\n",
        "\n",
        "def analyze_keywords_for_year(llm, year: int, positive_keywords: list, negative_keywords: list, total_reviews_for_year: int) -> dict:\n",
        "    \"\"\"Use the model to categorize keywords for a specific year.\"\"\"\n",
        "    print(f\"\\n--- Анализ для года: {year} ---\")\n",
        "    print(f\"Всего отзывов за год: {total_reviews_for_year}\")\n",
        "\n",
        "    # Sanitize keywords (пропускаем пустые строки после санитизации)\n",
        "    positive_sanitized = [kw for kw in map(sanitize_text, positive_keywords) if kw]\n",
        "    negative_sanitized = [kw for kw in map(sanitize_text, negative_keywords) if kw]\n",
        "\n",
        "    # Deduplicate keywords for this year\n",
        "    positive_deduplicated = deduplicate_keywords(positive_sanitized)\n",
        "    negative_deduplicated = deduplicate_keywords(negative_sanitized)\n",
        "\n",
        "    # # Ограничение длины входных данных для промпта (опционально, я не делал, так как их много)\n",
        "    # # MAX_KW_DISPLAY = 50 # Показать N первых ключевых слов в логе и промпте\n",
        "    # positive_input = \", \".join(positive_deduplicated) if positive_deduplicated else \"нет\"\n",
        "    # negative_input = \", \".join(negative_deduplicated) if negative_deduplicated else \"нет\"\n",
        "\n",
        "    # # Добавляем многоточие, если список был обрезан\n",
        "    # if len(positive_deduplicated) > MAX_KW_DISPLAY: positive_input += \"...\"\n",
        "    # if len(negative_deduplicated) > MAX_KW_DISPLAY: negative_input += \"...\"\n",
        "\n",
        "\n",
        "    print(f\"Позитивные слова ({len(positive_deduplicated)})\")\n",
        "    print(f\"Негативные слова ({len(negative_deduplicated)})\")\n",
        "\n",
        "    if not positive_deduplicated and not negative_deduplicated:\n",
        "        print(f\"Нет ключевых слов для анализа за {year} год.\")\n",
        "        return {\n",
        "            \"positive_categories\": [{\"category\": \"Нет данных\", \"description\": \"Отсутствуют релевантные слова\", \"counts\": f\"0 / {total_reviews_for_year} (0%)\"}],\n",
        "            \"negative_categories\": [{\"category\": \"Нет данных\", \"description\": \"Отсутствуют релевантные слова\", \"counts\": f\"0 / {total_reviews_for_year} (0%)\"}]\n",
        "        }\n",
        "\n",
        "    # Используем полный список дедуплицированных слов для промпта, если он не слишком длинный\n",
        "    # Если слов очень много, можно рассмотреть передачу только части или более агрессивную дедупликацию/фильтрацию\n",
        "    full_positive_input = \", \".join(positive_deduplicated) if positive_deduplicated else \"нет\"\n",
        "    full_negative_input = \", \".join(negative_deduplicated) if negative_deduplicated else \"нет\"\n",
        "\n",
        "    prompt = f\"\"\"\n",
        "Инструкции:\n",
        "1. Проанализируй предоставленные позитивные и негативные ключевые слова из отзывов для {year} года.\n",
        "2. Сгруппируй похожие по смыслу слова в осмысленные категории.\n",
        "3. Для каждой категории сформулируй описание, объясняющее её суть. Важно: Описание должно содержать как минимум два словосочетания вида \"прилагательное + существительное\" (например: \"увлекательные лекции\", \"современное оборудование\").\n",
        "4. Подсчитай количество отзывов, упоминающих слова из каждой категории, и представь это в формате \"кол-во_в_категории / {total_reviews_for_year} (процент%)\". Процент округляй до целого. Не выделяй категории, для которых всего один отзыв. Выводи категории в порядке убывания количества отзывов.\n",
        "5. Если для позитива или негатива нет релевантных слов или они не формируют категорию, используй специальную категорию \"Нет данных\" с описанием \"Отсутствуют релевантные слова\" и подсчетом \"0 / {total_reviews_for_year} (0%)\".\n",
        "6. Выведи результат строго в две секции: \"Позитивные категории\" и \"Негативные категории\". Обе секции должны присутствовать, даже если одна из них содержит только \"Нет данных\".\n",
        "7. Не добавляй никакой лишний текст: ни введение, ни заключение, ни заголовки года, ни комментарии – только результат в указанном формате.\n",
        "\n",
        "Примеры Формата и Описаний:\n",
        "\n",
        "* Пример позитивной категории (с 2+ \"прил.+сущ.\" в описании):\n",
        "    Экспозиция и Выставки - Интересные экспонаты и познавательные материалы, частые обновления коллекций: 58 / {total_reviews_for_year} (X%)\n",
        "* Пример другой позитивной категории:\n",
        "    Атмосфера и Комфорт - Приятная обстановка и чистое помещение, удобные места для отдыха: 29 / {total_reviews_for_year} (Y%)\n",
        "* Пример негативной категории (с 2+ \"прил.+сущ.\" в описании):\n",
        "    Работа персонала - Медленное обслуживание и невнимательные сотрудники, долгое ожидание ответа: 21 / {total_reviews_for_year} (Z%)\n",
        "* Пример категории \"Нет данных\":\n",
        "    Нет данных - Отсутствуют релевантные слова: 0 / {total_reviews_for_year} (0%)\n",
        "\n",
        "Данные для анализа:\n",
        "\n",
        "Общее количество отзывов за {year} год: {total_reviews_for_year}\n",
        "\n",
        "Позитивные слова: {full_positive_input}\n",
        "Негативные слова: {full_negative_input}\n",
        "\"\"\".strip()\n",
        "\n",
        "    # print(f\"Промпт для {year}:\\n{prompt}\\n--------------------\") # Раскомментировать для отладки промпта\n",
        "\n",
        "    for attempt in range(MAX_RETRIES):\n",
        "        try:\n",
        "            print(f\"Отправка запроса LLM для года {year} (Попытка {attempt + 1}/{MAX_RETRIES})...\")\n",
        "            llm_response = llm(prompt, max_tokens=MAX_TOKENS, temperature=TEMPERATURE, stop=['\\n\\n\\n']) # Можно добавить больше \\n как стоп-токен\n",
        "            # print(f\"LLM Response Raw ({year}, Attempt {attempt+1}): \", llm_response) # Отладка\n",
        "\n",
        "            if not llm_response or 'choices' not in llm_response or not llm_response['choices']:\n",
        "                 print(f\"Попытка {attempt + 1} ({year}): Некорректный или пустой ответ от LLM.\")\n",
        "                 if attempt < MAX_RETRIES - 1:\n",
        "                     time.sleep(RETRY_DELAY) # Задержка перед повторной попыткой\n",
        "                 continue\n",
        "\n",
        "            response_text = llm_response[\"choices\"][0][\"text\"].strip()\n",
        "            # print(f\"Текст ответа LLM ({year}, Попытка {attempt+1}):\\n{response_text}\\n--------------------\") # Отладка\n",
        "\n",
        "            if not response_text:\n",
        "                print(f\"Попытка {attempt + 1} ({year}): Пустой текст ответа от модели.\")\n",
        "                if attempt < MAX_RETRIES - 1:\n",
        "                     time.sleep(RETRY_DELAY)\n",
        "                continue\n",
        "\n",
        "            # Простая проверка наличия ключевых маркеров перед парсингом\n",
        "            if \"Позитивные категории\" not in response_text or \"Негативные категории\" not in response_text:\n",
        "                 print(f\"Попытка {attempt + 1} ({year}): Ответ не содержит ожидаемых секций 'Позитивные категории' или 'Негативные категории'. Ответ: {response_text[:300]}...\")\n",
        "                 if attempt < MAX_RETRIES - 1:\n",
        "                     time.sleep(RETRY_DELAY)\n",
        "                 continue\n",
        "\n",
        "\n",
        "            parsed_response = parse_yearly_response(response_text, year, total_reviews_for_year)\n",
        "\n",
        "            # Проверяем, что парсинг прошел успешно (есть хотя бы по одной категории или категория \"Нет данных\"/\"Ошибка парсинга\")\n",
        "            if (parsed_response[\"positive_categories\"] or parsed_response[\"negative_categories\"]) and \"Ошибка парсинга\" not in str(parsed_response[\"positive_categories\"]):\n",
        "                print(f\"Успешно обработан ответ модели для года {year} на попытке {attempt + 1}.\")\n",
        "                return parsed_response\n",
        "            else:\n",
        "                 # Логируем ошибку парсинга, если она произошла\n",
        "                 if \"Ошибка парсинга\" in str(parsed_response[\"positive_categories\"]):\n",
        "                    print(f\"Попытка {attempt + 1} ({year}): Ошибка во время парсинга ответа.\")\n",
        "                 else:\n",
        "                    print(f\"Попытка {attempt + 1} ({year}): Неверный формат ответа модели после парсинга. Ответ: {response_text[:300]}...\")\n",
        "                 if attempt < MAX_RETRIES - 1:\n",
        "                    time.sleep(RETRY_DELAY)\n",
        "                 continue # Повторяем попытку\n",
        "\n",
        "        except Exception as e:\n",
        "            print(f\"Попытка {attempt + 1} ({year}): Ошибка при вызове или обработке ответа модели: {e}\")\n",
        "            if attempt < MAX_RETRIES - 1:\n",
        "                 time.sleep(RETRY_DELAY)\n",
        "            continue # Повторяем попытку\n",
        "\n",
        "    print(f\"Не удалось получить корректный ответ от LLM для года {year} после {MAX_RETRIES} попыток.\")\n",
        "    # Возвращаем структуру с указанием на ошибку\n",
        "    return {\n",
        "        \"positive_categories\": [{\"category\": \"Ошибка LLM\", \"description\": f\"Не удалось получить ответ от модели после {MAX_RETRIES} попыток\", \"counts\": f\"0 / {total_reviews_for_year} (0%)\"}],\n",
        "        \"negative_categories\": [{\"category\": \"Ошибка LLM\", \"description\": f\"Не удалось получить ответ от модели после {MAX_RETRIES} попыток\", \"counts\": f\"0 / {total_reviews_for_year} (0%)\"}]\n",
        "    }\n",
        "\n",
        "def find_recurring_categories(yearly_results: dict, min_years: int = 3) -> dict:\n",
        "    \"\"\"Ищет категории, встречающиеся как минимум 3 года за 2020-2025\"\"\"\n",
        "    positive_category_years = defaultdict(list)\n",
        "    negative_category_years = defaultdict(list)\n",
        "\n",
        "    for year, results in yearly_results.items():\n",
        "        for cat_data in results.get(\"positive_categories\", []):\n",
        "            cat_name = cat_data.get(\"category\")\n",
        "            # Игнорируем служебные/ошибочные категории\n",
        "            if cat_name and cat_name not in [\"Нет данных\", \"Ошибка парсинга\", \"Ошибка LLM\"]:\n",
        "                positive_category_years[cat_name].append(year)\n",
        "        for cat_data in results.get(\"negative_categories\", []):\n",
        "            cat_name = cat_data.get(\"category\")\n",
        "            if cat_name and cat_name not in [\"Нет данных\", \"Ошибка парсинга\", \"Ошибка LLM\"]:\n",
        "                negative_category_years[cat_name].append(year)\n",
        "\n",
        "    recurring = {\n",
        "        \"positive\": {cat: years for cat, years in positive_category_years.items() if len(years) >= min_years},\n",
        "        \"negative\": {cat: years for cat, years in negative_category_years.items() if len(years) >= min_years}\n",
        "    }\n",
        "    # Сортируем словари по имени категории для стабильного вывода\n",
        "    recurring[\"positive\"] = dict(sorted(recurring[\"positive\"].items()))\n",
        "    recurring[\"negative\"] = dict(sorted(recurring[\"negative\"].items()))\n",
        "\n",
        "    return recurring\n",
        "\n",
        "def process_csv_and_generate_report(csv_file_path: str, output_txt_path: str):\n",
        "    \"\"\"Основная функция для обработки ключевых слов\n",
        "    1. Загружает модель\n",
        "    2. Читает таблицу с ключевыми словами и переводит в датафрейм\n",
        "    3. Фильтрует датафрейм по годам\n",
        "    4. Собственно проводит анализ по годам\n",
        "    5. Находит повторяющиеся категории\n",
        "    6. Записывает результат в текстовый файл\"\"\"\n",
        "    try:\n",
        "        llm = load_model(MODEL_PATH)\n",
        "    except SystemExit as e:\n",
        "        print(e)\n",
        "        return\n",
        "\n",
        "    try:\n",
        "        df = pd.read_csv(csv_file_path)\n",
        "        required_columns = {\"publication_date\", \"positives\", \"negatives\"} # Убедитесь, что эти столбцы есть\n",
        "        if not required_columns.issubset(df.columns):\n",
        "            raise ValueError(f\"Отсутствуют необходимые столбцы: {required_columns - set(df.columns)}\")\n",
        "        # Преобразуем год в числовой тип, обрабатывая возможные ошибки\n",
        "        df['publication_date'] = pd.to_numeric(df['publication_date'], errors='coerce')\n",
        "        df.dropna(subset=['publication_date'], inplace=True) # Удаляем строки с невалидным годом\n",
        "        df['publication_date'] = df['publication_date'].astype(int)\n",
        "\n",
        "    except FileNotFoundError:\n",
        "        print(f\"Ошибка: Файл не найден по пути {csv_file_path}\")\n",
        "        return\n",
        "    except ValueError as e:\n",
        "         print(f\"Ошибка в данных CSV: {e}\")\n",
        "         return\n",
        "    except Exception as e:\n",
        "        print(f\"Ошибка чтения или обработки CSV: {e}\")\n",
        "        return\n",
        "\n",
        "    # Фильтруем DataFrame по годам\n",
        "    df_filtered = df[df['publication_date'].isin(YEAR_RANGE)].copy() # Используем copy() для избежания SettingWithCopyWarning\n",
        "    if df_filtered.empty:\n",
        "        print(f\"Нет данных для анализа в диапазоне лет {min(YEAR_RANGE)}-{max(YEAR_RANGE)}.\")\n",
        "        return\n",
        "\n",
        "    # Заполняем пропуски в ключевых словах пустыми строками перед агрегацией\n",
        "    df_filtered['positives'] = df_filtered['positives'].fillna('')\n",
        "    df_filtered['negatives'] = df_filtered['negatives'].fillna('')\n",
        "\n",
        "\n",
        "    total_reviews_overall = len(df_filtered)\n",
        "    print(f\"Загружено и отфильтровано {total_reviews_overall} отзывов за {min(YEAR_RANGE)}-{max(YEAR_RANGE)} годы.\")\n",
        "\n",
        "    yearly_results = {}\n",
        "    # Группируем по годам и анализируем\n",
        "    for year, group in df_filtered.groupby('publication_date'):\n",
        "        if year not in YEAR_RANGE: # Дополнительная проверка\n",
        "             continue\n",
        "\n",
        "        total_reviews_for_year = len(group)\n",
        "        # Собираем все ключевые слова за год. Используем extend для добавления элементов списков.\n",
        "        # filter(None, ...) убирает пустые строки или None из списков перед передачей в LLM\n",
        "        positive_keywords_year = list(filter(None, group['positives'].tolist()))\n",
        "        negative_keywords_year = list(filter(None, group['negatives'].tolist()))\n",
        "\n",
        "        # Проверяем, есть ли вообще слова для анализа\n",
        "        if not positive_keywords_year and not negative_keywords_year:\n",
        "             print(f\"Пропуск года {year}: нет позитивных или негативных ключевых слов.\")\n",
        "             # Сохраняем пустой результат, чтобы год присутствовал в отчете\n",
        "             yearly_results[year] = {\n",
        "                 \"positive_categories\": [{\"category\": \"Нет данных\", \"description\": \"Отсутствуют исходные ключевые слова\", \"counts\": f\"0 / {total_reviews_for_year} (0%)\"}],\n",
        "                 \"negative_categories\": [{\"category\": \"Нет данных\", \"description\": \"Отсутствуют исходные ключевые слова\", \"counts\": f\"0 / {total_reviews_for_year} (0%)\"}]\n",
        "             }\n",
        "             continue\n",
        "\n",
        "\n",
        "        # Анализ для конкретного года\n",
        "        result_year = analyze_keywords_for_year(llm, year, positive_keywords_year, negative_keywords_year, total_reviews_for_year)\n",
        "        yearly_results[year] = result_year\n",
        "        # Добавим небольшую паузу между запросами к LLM, чтобы не перегружать API (если используется удаленное)\n",
        "        # или для предотвращения потенциальных проблем с локальной моделью\n",
        "        time.sleep(1) # Пауза в 1 секунду\n",
        "\n",
        "\n",
        "    # Находим повторяющиеся категории (минимум 3 года)\n",
        "    recurring_categories = find_recurring_categories(yearly_results, min_years=3)\n",
        "\n",
        "    # Записываем результаты в текстовый файл\n",
        "    print(f\"\\nЗапись результатов в файл: {output_txt_path}\")\n",
        "    try:\n",
        "        with open(output_txt_path, 'w', encoding='utf-8') as f:\n",
        "            f.write(f\"Отчет по анализу категорий отзывов за {min(YEAR_RANGE)}-{max(YEAR_RANGE)} года\\n\")\n",
        "            f.write(f\"Общее количество проанализированных отзывов: {total_reviews_overall}\\n\")\n",
        "            f.write(\"=\"*40 + \"\\n\\n\")\n",
        "\n",
        "            # Записываем результаты по годам\n",
        "            for year in sorted(yearly_results.keys()): # Сортируем годы для порядка в отчете\n",
        "                f.write(f\"{year} год\\n\")\n",
        "                f.write(\"-\" * 10 + \"\\n\")\n",
        "                result = yearly_results[year]\n",
        "\n",
        "                f.write(\"Позитивные категории\\n\")\n",
        "                if result[\"positive_categories\"]:\n",
        "                    for cat in result[\"positive_categories\"]:\n",
        "                        f.write(f\"{cat['category']} - {cat['description']}: {cat['counts']}\\n\")\n",
        "                else:\n",
        "                     f.write(\"Нет данных\\n\") # Если список пуст по какой-то причине\n",
        "\n",
        "                f.write(\"\\nНегативные категории\\n\")\n",
        "                if result[\"negative_categories\"]:\n",
        "                    for cat in result[\"negative_categories\"]:\n",
        "                        f.write(f\"{cat['category']} - {cat['description']}: {cat['counts']}\\n\")\n",
        "                else:\n",
        "                    f.write(\"Нет данных\\n\") # Если список пуст\n",
        "\n",
        "                f.write(\"\\n\" + \"=\"*40 + \"\\n\\n\")\n",
        "\n",
        "            # Записываем повторяющиеся категории\n",
        "            f.write(\"Категории, встречающиеся чаще 2-ух лет:\\n\")\n",
        "            f.write(\"-\" * 35 + \"\\n\")\n",
        "\n",
        "            f.write(\"Позитивные категории:\\n\")\n",
        "            if recurring_categories[\"positive\"]:\n",
        "                for cat, years in recurring_categories[\"positive\"].items():\n",
        "                    year_str = \", \".join(map(str, sorted(years)))\n",
        "                    f.write(f\"{cat} ({year_str})\\n\")\n",
        "            else:\n",
        "                f.write(\"Нет повторяющихся позитивных категорий (встречающихся >= 3 раз).\\n\")\n",
        "\n",
        "            f.write(\"\\nНегативные категории:\\n\")\n",
        "            if recurring_categories[\"negative\"]:\n",
        "                for cat, years in recurring_categories[\"negative\"].items():\n",
        "                     year_str = \", \".join(map(str, sorted(years)))\n",
        "                     f.write(f\"{cat} ({year_str})\\n\")\n",
        "            else:\n",
        "                f.write(\"Нет повторяющихся негативных категорий (встречающихся >= 3 раз).\\n\")\n",
        "\n",
        "        print(f\"Результаты анализа сохранены в '{output_txt_path}'.\")\n",
        "\n",
        "    except IOError as e:\n",
        "         print(f\"Ошибка записи в файл {output_txt_path}: {e}\")\n",
        "    except Exception as e:\n",
        "         print(f\"Непредвиденная ошибка при записи отчета: {e}\")\n",
        "\n",
        "\n",
        "if __name__ == \"__main__\":\n",
        "    process_csv_and_generate_report(INPUT_CSV_PATH, OUTPUT_TXT_PATH)"
      ],
      "metadata": {
        "colab": {
          "base_uri": "https://localhost:8080/"
        },
        "id": "qe90hPrOylGO",
        "outputId": "d47eb755-ae93-432d-b360-2aa821e83688",
        "collapsed": true
      },
      "execution_count": null,
      "outputs": [
        {
          "output_type": "stream",
          "name": "stderr",
          "text": [
            "ggml_backend_cuda_buffer_type_alloc_buffer: allocating 4000.00 MiB on device 0: cudaMalloc failed: out of memory\n",
            "llama_kv_cache_init: failed to allocate buffer for kv cache\n",
            "llama_new_context_with_model: llama_kv_cache_init() failed for self-attention cache\n"
          ]
        },
        {
          "output_type": "stream",
          "name": "stdout",
          "text": [
            "Ошибка загрузки модели: Failed to create llama_context\n"
          ]
        }
      ]
    },
    {
      "cell_type": "markdown",
      "source": [
        "# Код для извлечения ключевых слов из таблицы титан, оставляя информацию о годе, месту жительства посетителя, платформе, никнейму"
      ],
      "metadata": {
        "id": "A0lMCvAI-Go_"
      }
    },
    {
      "cell_type": "code",
      "source": [
        "from google.colab import drive\n",
        "drive.mount('/content/drive')"
      ],
      "metadata": {
        "colab": {
          "base_uri": "https://localhost:8080/"
        },
        "id": "RR5YEOuR-WZY",
        "outputId": "60ab9d50-15ed-4a53-fda7-73a48017d86a"
      },
      "execution_count": null,
      "outputs": [
        {
          "output_type": "stream",
          "name": "stdout",
          "text": [
            "Mounted at /content/drive\n"
          ]
        }
      ]
    },
    {
      "cell_type": "code",
      "source": [
        "df = pd.read_csv('/content/drive/MyDrive/ВШЭ/titan_20_25-2-updated.csv')\n",
        "df.head(2)"
      ],
      "metadata": {
        "id": "Rw53wJPE_bew",
        "colab": {
          "base_uri": "https://localhost:8080/",
          "height": 323
        },
        "outputId": "4039d8b6-9818-42ff-8496-74d1f189ecfe"
      },
      "execution_count": null,
      "outputs": [
        {
          "output_type": "execute_result",
          "data": {
            "text/plain": [
              "  web-scraper-start-url  rating       heading  \\\n",
              "0              tonkosti     3.0           NaN   \n",
              "1               otzovik     1.0  Полная хрень   \n",
              "\n",
              "                                                text pluses minuses  \\\n",
              "0  Плохая работа персонала Сама экспозиция очень ...    NaN     NaN   \n",
              "1  Здравствуйте! Это полная хрень. Развод на день...    Нет   Полно   \n",
              "\n",
              "             name gender with_whom city_where_from country_where_from  \\\n",
              "0       kauspeh72    NaN       NaN             NaN                NaN   \n",
              "1  AnnaFomina0112    NaN       NaN       Краснодар             Россия   \n",
              "\n",
              "                visiting_date  publication_date        object  \n",
              "0  был(а) здесь в ноябре 2020              2020  derevo_musey  \n",
              "1                         NaN              2020  derevo_musey  "
            ],
            "text/html": [
              "\n",
              "  <div id=\"df-df16ec64-d477-4bc9-a2a6-1b486a480776\" class=\"colab-df-container\">\n",
              "    <div>\n",
              "<style scoped>\n",
              "    .dataframe tbody tr th:only-of-type {\n",
              "        vertical-align: middle;\n",
              "    }\n",
              "\n",
              "    .dataframe tbody tr th {\n",
              "        vertical-align: top;\n",
              "    }\n",
              "\n",
              "    .dataframe thead th {\n",
              "        text-align: right;\n",
              "    }\n",
              "</style>\n",
              "<table border=\"1\" class=\"dataframe\">\n",
              "  <thead>\n",
              "    <tr style=\"text-align: right;\">\n",
              "      <th></th>\n",
              "      <th>web-scraper-start-url</th>\n",
              "      <th>rating</th>\n",
              "      <th>heading</th>\n",
              "      <th>text</th>\n",
              "      <th>pluses</th>\n",
              "      <th>minuses</th>\n",
              "      <th>name</th>\n",
              "      <th>gender</th>\n",
              "      <th>with_whom</th>\n",
              "      <th>city_where_from</th>\n",
              "      <th>country_where_from</th>\n",
              "      <th>visiting_date</th>\n",
              "      <th>publication_date</th>\n",
              "      <th>object</th>\n",
              "    </tr>\n",
              "  </thead>\n",
              "  <tbody>\n",
              "    <tr>\n",
              "      <th>0</th>\n",
              "      <td>tonkosti</td>\n",
              "      <td>3.0</td>\n",
              "      <td>NaN</td>\n",
              "      <td>Плохая работа персонала Сама экспозиция очень ...</td>\n",
              "      <td>NaN</td>\n",
              "      <td>NaN</td>\n",
              "      <td>kauspeh72</td>\n",
              "      <td>NaN</td>\n",
              "      <td>NaN</td>\n",
              "      <td>NaN</td>\n",
              "      <td>NaN</td>\n",
              "      <td>был(а) здесь в ноябре 2020</td>\n",
              "      <td>2020</td>\n",
              "      <td>derevo_musey</td>\n",
              "    </tr>\n",
              "    <tr>\n",
              "      <th>1</th>\n",
              "      <td>otzovik</td>\n",
              "      <td>1.0</td>\n",
              "      <td>Полная хрень</td>\n",
              "      <td>Здравствуйте! Это полная хрень. Развод на день...</td>\n",
              "      <td>Нет</td>\n",
              "      <td>Полно</td>\n",
              "      <td>AnnaFomina0112</td>\n",
              "      <td>NaN</td>\n",
              "      <td>NaN</td>\n",
              "      <td>Краснодар</td>\n",
              "      <td>Россия</td>\n",
              "      <td>NaN</td>\n",
              "      <td>2020</td>\n",
              "      <td>derevo_musey</td>\n",
              "    </tr>\n",
              "  </tbody>\n",
              "</table>\n",
              "</div>\n",
              "    <div class=\"colab-df-buttons\">\n",
              "\n",
              "  <div class=\"colab-df-container\">\n",
              "    <button class=\"colab-df-convert\" onclick=\"convertToInteractive('df-df16ec64-d477-4bc9-a2a6-1b486a480776')\"\n",
              "            title=\"Convert this dataframe to an interactive table.\"\n",
              "            style=\"display:none;\">\n",
              "\n",
              "  <svg xmlns=\"http://www.w3.org/2000/svg\" height=\"24px\" viewBox=\"0 -960 960 960\">\n",
              "    <path d=\"M120-120v-720h720v720H120Zm60-500h600v-160H180v160Zm220 220h160v-160H400v160Zm0 220h160v-160H400v160ZM180-400h160v-160H180v160Zm440 0h160v-160H620v160ZM180-180h160v-160H180v160Zm440 0h160v-160H620v160Z\"/>\n",
              "  </svg>\n",
              "    </button>\n",
              "\n",
              "  <style>\n",
              "    .colab-df-container {\n",
              "      display:flex;\n",
              "      gap: 12px;\n",
              "    }\n",
              "\n",
              "    .colab-df-convert {\n",
              "      background-color: #E8F0FE;\n",
              "      border: none;\n",
              "      border-radius: 50%;\n",
              "      cursor: pointer;\n",
              "      display: none;\n",
              "      fill: #1967D2;\n",
              "      height: 32px;\n",
              "      padding: 0 0 0 0;\n",
              "      width: 32px;\n",
              "    }\n",
              "\n",
              "    .colab-df-convert:hover {\n",
              "      background-color: #E2EBFA;\n",
              "      box-shadow: 0px 1px 2px rgba(60, 64, 67, 0.3), 0px 1px 3px 1px rgba(60, 64, 67, 0.15);\n",
              "      fill: #174EA6;\n",
              "    }\n",
              "\n",
              "    .colab-df-buttons div {\n",
              "      margin-bottom: 4px;\n",
              "    }\n",
              "\n",
              "    [theme=dark] .colab-df-convert {\n",
              "      background-color: #3B4455;\n",
              "      fill: #D2E3FC;\n",
              "    }\n",
              "\n",
              "    [theme=dark] .colab-df-convert:hover {\n",
              "      background-color: #434B5C;\n",
              "      box-shadow: 0px 1px 3px 1px rgba(0, 0, 0, 0.15);\n",
              "      filter: drop-shadow(0px 1px 2px rgba(0, 0, 0, 0.3));\n",
              "      fill: #FFFFFF;\n",
              "    }\n",
              "  </style>\n",
              "\n",
              "    <script>\n",
              "      const buttonEl =\n",
              "        document.querySelector('#df-df16ec64-d477-4bc9-a2a6-1b486a480776 button.colab-df-convert');\n",
              "      buttonEl.style.display =\n",
              "        google.colab.kernel.accessAllowed ? 'block' : 'none';\n",
              "\n",
              "      async function convertToInteractive(key) {\n",
              "        const element = document.querySelector('#df-df16ec64-d477-4bc9-a2a6-1b486a480776');\n",
              "        const dataTable =\n",
              "          await google.colab.kernel.invokeFunction('convertToInteractive',\n",
              "                                                    [key], {});\n",
              "        if (!dataTable) return;\n",
              "\n",
              "        const docLinkHtml = 'Like what you see? Visit the ' +\n",
              "          '<a target=\"_blank\" href=https://colab.research.google.com/notebooks/data_table.ipynb>data table notebook</a>'\n",
              "          + ' to learn more about interactive tables.';\n",
              "        element.innerHTML = '';\n",
              "        dataTable['output_type'] = 'display_data';\n",
              "        await google.colab.output.renderOutput(dataTable, element);\n",
              "        const docLink = document.createElement('div');\n",
              "        docLink.innerHTML = docLinkHtml;\n",
              "        element.appendChild(docLink);\n",
              "      }\n",
              "    </script>\n",
              "  </div>\n",
              "\n",
              "\n",
              "    <div id=\"df-75e4b839-abe1-4e03-8fd5-49e0204c321b\">\n",
              "      <button class=\"colab-df-quickchart\" onclick=\"quickchart('df-75e4b839-abe1-4e03-8fd5-49e0204c321b')\"\n",
              "                title=\"Suggest charts\"\n",
              "                style=\"display:none;\">\n",
              "\n",
              "<svg xmlns=\"http://www.w3.org/2000/svg\" height=\"24px\"viewBox=\"0 0 24 24\"\n",
              "     width=\"24px\">\n",
              "    <g>\n",
              "        <path d=\"M19 3H5c-1.1 0-2 .9-2 2v14c0 1.1.9 2 2 2h14c1.1 0 2-.9 2-2V5c0-1.1-.9-2-2-2zM9 17H7v-7h2v7zm4 0h-2V7h2v10zm4 0h-2v-4h2v4z\"/>\n",
              "    </g>\n",
              "</svg>\n",
              "      </button>\n",
              "\n",
              "<style>\n",
              "  .colab-df-quickchart {\n",
              "      --bg-color: #E8F0FE;\n",
              "      --fill-color: #1967D2;\n",
              "      --hover-bg-color: #E2EBFA;\n",
              "      --hover-fill-color: #174EA6;\n",
              "      --disabled-fill-color: #AAA;\n",
              "      --disabled-bg-color: #DDD;\n",
              "  }\n",
              "\n",
              "  [theme=dark] .colab-df-quickchart {\n",
              "      --bg-color: #3B4455;\n",
              "      --fill-color: #D2E3FC;\n",
              "      --hover-bg-color: #434B5C;\n",
              "      --hover-fill-color: #FFFFFF;\n",
              "      --disabled-bg-color: #3B4455;\n",
              "      --disabled-fill-color: #666;\n",
              "  }\n",
              "\n",
              "  .colab-df-quickchart {\n",
              "    background-color: var(--bg-color);\n",
              "    border: none;\n",
              "    border-radius: 50%;\n",
              "    cursor: pointer;\n",
              "    display: none;\n",
              "    fill: var(--fill-color);\n",
              "    height: 32px;\n",
              "    padding: 0;\n",
              "    width: 32px;\n",
              "  }\n",
              "\n",
              "  .colab-df-quickchart:hover {\n",
              "    background-color: var(--hover-bg-color);\n",
              "    box-shadow: 0 1px 2px rgba(60, 64, 67, 0.3), 0 1px 3px 1px rgba(60, 64, 67, 0.15);\n",
              "    fill: var(--button-hover-fill-color);\n",
              "  }\n",
              "\n",
              "  .colab-df-quickchart-complete:disabled,\n",
              "  .colab-df-quickchart-complete:disabled:hover {\n",
              "    background-color: var(--disabled-bg-color);\n",
              "    fill: var(--disabled-fill-color);\n",
              "    box-shadow: none;\n",
              "  }\n",
              "\n",
              "  .colab-df-spinner {\n",
              "    border: 2px solid var(--fill-color);\n",
              "    border-color: transparent;\n",
              "    border-bottom-color: var(--fill-color);\n",
              "    animation:\n",
              "      spin 1s steps(1) infinite;\n",
              "  }\n",
              "\n",
              "  @keyframes spin {\n",
              "    0% {\n",
              "      border-color: transparent;\n",
              "      border-bottom-color: var(--fill-color);\n",
              "      border-left-color: var(--fill-color);\n",
              "    }\n",
              "    20% {\n",
              "      border-color: transparent;\n",
              "      border-left-color: var(--fill-color);\n",
              "      border-top-color: var(--fill-color);\n",
              "    }\n",
              "    30% {\n",
              "      border-color: transparent;\n",
              "      border-left-color: var(--fill-color);\n",
              "      border-top-color: var(--fill-color);\n",
              "      border-right-color: var(--fill-color);\n",
              "    }\n",
              "    40% {\n",
              "      border-color: transparent;\n",
              "      border-right-color: var(--fill-color);\n",
              "      border-top-color: var(--fill-color);\n",
              "    }\n",
              "    60% {\n",
              "      border-color: transparent;\n",
              "      border-right-color: var(--fill-color);\n",
              "    }\n",
              "    80% {\n",
              "      border-color: transparent;\n",
              "      border-right-color: var(--fill-color);\n",
              "      border-bottom-color: var(--fill-color);\n",
              "    }\n",
              "    90% {\n",
              "      border-color: transparent;\n",
              "      border-bottom-color: var(--fill-color);\n",
              "    }\n",
              "  }\n",
              "</style>\n",
              "\n",
              "      <script>\n",
              "        async function quickchart(key) {\n",
              "          const quickchartButtonEl =\n",
              "            document.querySelector('#' + key + ' button');\n",
              "          quickchartButtonEl.disabled = true;  // To prevent multiple clicks.\n",
              "          quickchartButtonEl.classList.add('colab-df-spinner');\n",
              "          try {\n",
              "            const charts = await google.colab.kernel.invokeFunction(\n",
              "                'suggestCharts', [key], {});\n",
              "          } catch (error) {\n",
              "            console.error('Error during call to suggestCharts:', error);\n",
              "          }\n",
              "          quickchartButtonEl.classList.remove('colab-df-spinner');\n",
              "          quickchartButtonEl.classList.add('colab-df-quickchart-complete');\n",
              "        }\n",
              "        (() => {\n",
              "          let quickchartButtonEl =\n",
              "            document.querySelector('#df-75e4b839-abe1-4e03-8fd5-49e0204c321b button');\n",
              "          quickchartButtonEl.style.display =\n",
              "            google.colab.kernel.accessAllowed ? 'block' : 'none';\n",
              "        })();\n",
              "      </script>\n",
              "    </div>\n",
              "    </div>\n",
              "  </div>\n"
            ],
            "application/vnd.google.colaboratory.intrinsic+json": {
              "type": "dataframe",
              "variable_name": "df",
              "summary": "{\n  \"name\": \"df\",\n  \"rows\": 17694,\n  \"fields\": [\n    {\n      \"column\": \"web-scraper-start-url\",\n      \"properties\": {\n        \"dtype\": \"category\",\n        \"num_unique_values\": 13,\n        \"samples\": [\n          \"https://otzovik.com/review_14213035.html\",\n          \"https://otzovik.com/review_16448039.html\",\n          \"tonkosti\"\n        ],\n        \"semantic_type\": \"\",\n        \"description\": \"\"\n      }\n    },\n    {\n      \"column\": \"rating\",\n      \"properties\": {\n        \"dtype\": \"number\",\n        \"std\": 0.7364011000511729,\n        \"min\": 0.0,\n        \"max\": 5.05,\n        \"num_unique_values\": 9,\n        \"samples\": [\n          4.05,\n          1.0,\n          0.0\n        ],\n        \"semantic_type\": \"\",\n        \"description\": \"\"\n      }\n    },\n    {\n      \"column\": \"heading\",\n      \"properties\": {\n        \"dtype\": \"category\",\n        \"num_unique_values\": 392,\n        \"samples\": [\n          \"\\u0417\\u043d\\u0430\\u043a\\u043e\\u043c\\u0441\\u0442\\u0432\\u043e \\u0441 \\u0412\\u043b\\u0430\\u0434\\u0438\\u043c\\u0438\\u0440\\u043e\\u043c\",\n          \"\\u041b\\u0443\\u0447\\u0448\\u0430\\u044f \\u0432\\u0430\\u0440\\u0438\\u0430\\u0446\\u0438\\u044f \\u043a\\u0440\\u0430\\u0435\\u0432\\u0435\\u0434\\u0447\\u0435\\u0441\\u043a\\u043e\\u0433\\u043e \\u043c\\u0443\\u0437\\u0435\\u044f \\u043d\\u0430 \\u043c\\u043e\\u0435\\u0439 \\u043f\\u0430\\u043c\\u044f\\u0442\\u0438\",\n          \"\\u0421\\u0442\\u0430\\u0440\\u0430\\u044f \\u0432\\u043e\\u0434\\u043e\\u043d\\u0430\\u043f\\u043e\\u0440\\u043d\\u0430\\u044f \\u0431\\u0430\\u0448\\u043d\\u044f \\u0441 \\u0445\\u043e\\u0440\\u043e\\u0448\\u0435\\u0439 \\u0441\\u043c\\u043e\\u0442\\u0440\\u043e\\u0432\\u043e\\u0439 \\u043f\\u043b\\u043e\\u0449\\u0430\\u0434\\u043a\\u043e\\u0439.\"\n        ],\n        \"semantic_type\": \"\",\n        \"description\": \"\"\n      }\n    },\n    {\n      \"column\": \"text\",\n      \"properties\": {\n        \"dtype\": \"string\",\n        \"num_unique_values\": 9285,\n        \"samples\": [\n          \"\\u0414\\u0435\\u0440\\u0435\\u0432\\u044f\\u043d\\u043d\\u044b\\u0435 \\u0434\\u043e\\u043c\\u0430, \\u0432\\u043d\\u0443\\u0442\\u0440\\u0435\\u043d\\u043d\\u0435\\u0435 \\u0443\\u0431\\u0440\\u0430\\u043d\\u0441\\u0442\\u0432\\u043e, \\u043a\\u0443\\u0445\\u043e\\u043d\\u043d\\u0430\\u044f \\u0443\\u0442\\u0432\\u0430\\u0440\\u044c \\u0432\\u0441\\u0435 \\u043f\\u0440\\u0435\\u0434\\u0441\\u0442\\u0430\\u0432\\u043b\\u0435\\u043d\\u043e \\u043d\\u0430\\u0441\\u0442\\u043e\\u043b\\u044c\\u043a\\u043e \\u0440\\u0435\\u0430\\u043b\\u0438\\u0441\\u0442\\u0438\\u0447\\u043d\\u043e, \\u0447\\u0442\\u043e\\u0431\\u044b  \\u043d\\u0435\\u043c\\u043d\\u043e\\u0433\\u043e \\u0440\\u0430\\u0441\\u0442\\u0432\\u043e\\u0440\\u0438\\u0442\\u044c\\u0441\\u044f \\u0432 \\u0430\\u0442\\u043c\\u043e\\u0441\\u0444\\u0435\\u0440\\u0435 \\u043a\\u0440\\u0435\\u0441\\u0442\\u044c\\u044f\\u043d\\u0441\\u043a\\u043e\\u0433\\u043e \\u0431\\u044b\\u0442\\u0430 \\u0442\\u043e\\u0433\\u043e \\u0432\\u0440\\u0435\\u043c\\u0435\\u043d\\u0438. \\u041c\\u0435\\u043b\\u044c\\u043d\\u0438\\u0446\\u044b, \\u0445\\u0440\\u0430\\u043c\\u044b \\u0438 \\u043f\\u043e\\u0434\\u0441\\u043e\\u0431\\u043d\\u044b\\u0435 \\u043f\\u043e\\u0441\\u0442\\u0440\\u043e\\u0439\\u043a\\u0438. \\u041e\\u0431\\u044f\\u0437\\u0430\\u0442\\u0435\\u043b\\u044c\\u043d\\u043e \\u0441\\u0442\\u043e\\u0438\\u0442 \\u043f\\u043e\\u0441\\u0435\\u0442\\u0438\\u0442\\u044c \\u044d\\u0442\\u043e \\u043c\\u0435\\u0441\\u0442\\u043e. \\u0410 \\u0435\\u0449\\u0451, \\u043a\\u043e\\u0433\\u0434\\u0430 \\u043f\\u043e\\u0441\\u0435\\u0442\\u0438\\u0442\\u0435 \\u044d\\u0442\\u043e \\u043c\\u0435\\u0441\\u0442\\u043e \\u043d\\u0435 \\u043f\\u0440\\u043e\\u0445\\u043e\\u0434\\u0438\\u0442\\u0435 \\u043c\\u0438\\u043c\\u043e \\u0438\\u043d\\u0442\\u0435\\u0440\\u0430\\u043a\\u0442\\u0438\\u0432\\u043d\\u043e\\u0439 \\u043f\\u0430\\u0443\\u0437\\u044b. \\u0412\\u0435\\u0441\\u0435\\u043b\\u044b\\u0435 \\u0434\\u0435\\u0432\\u0447\\u043e\\u043d\\u043a\\u0438 \\u0432 \\u043a\\u0440\\u0435\\u0441\\u0442\\u044c\\u044f\\u043d\\u0441\\u043a\\u0438\\u0445 \\u043a\\u043e\\u0441\\u0442\\u044e\\u043c\\u0430\\u0445 \\u0437\\u0430\\u0432\\u043b\\u0435\\u043a\\u0443\\u0442 \\u0432\\u0430\\u0441 \\u0432  \\u0445\\u043e\\u0440\\u043e\\u0432\\u043e\\u0434 , \\u0431\\u0443\\u0434\\u0435\\u0442 \\u0432\\u0435\\u0441\\u0435\\u043b\\u043e!\",\n          \"\\u041a\\u0440\\u0430\\u0441\\u0438\\u0432\\u043e\\u0435 \\u043c\\u0435\\u0441\\u0442\\u043e, \\u0442\\u0438\\u0448\\u0438\\u043d\\u0430, \\u0441\\u043f\\u043e\\u043a\\u043e\\u0439\\u0441\\u0442\\u0432\\u0438\\u0435 \\u0438 \\u0443\\u043c\\u0438\\u0440\\u043e\\u0442\\u0432\\u043e\\u0440\\u0435\\u043d\\u0438\\u0435!! \\u0412\\u0435\\u043b\\u0438\\u0447\\u0430\\u0439\\u0448\\u0430\\u044f \\u0438\\u0441\\u0442\\u043e\\u0440\\u0438\\u044f \\u0438 \\u0430\\u0440\\u0442\\u0435\\u0444\\u0430\\u043a\\u0442\\u044b!!!\",\n          \"\\u0424\\u0443.....\"\n        ],\n        \"semantic_type\": \"\",\n        \"description\": \"\"\n      }\n    },\n    {\n      \"column\": \"pluses\",\n      \"properties\": {\n        \"dtype\": \"category\",\n        \"num_unique_values\": 80,\n        \"samples\": [\n          \"\\u0432\\u044b\\u0441\\u0442\\u0430\\u0432\\u043a\\u0430 \\u0440\\u0430\\u0431\\u043e\\u0442 \\u0438\\u0437 \\u0445\\u0440\\u0443\\u0441\\u0442\\u0430\\u043b\\u044f \\u043d\\u0430\\u0447\\u0438\\u043d\\u0430\\u044f \\u0441 18 \\u0432\\u0435\\u043a\\u0430 \\u0438 \\u0434\\u043e \\u043d\\u0430\\u0448\\u0438\\u0445 \\u0432\\u0440\\u0435\\u043c\\u0435\\u043d, \\u0430\\u0432\\u0442\\u043e\\u0440\\u0441\\u043a\\u0438\\u0435 \\u0440\\u0430\\u0431\\u043e\\u0442\\u044b\",\n          \"\\u041d\\u0435\\u0442\",\n          \"            \\u0414\\u043e\\u0431\\u0440\\u043e\\u0436\\u0435\\u043b\\u0430\\u0442\\u0435\\u043b\\u044c\\u043d\\u043e\\u0435 \\u043e\\u0442\\u043d\\u043e\\u0448\\u0435\\u043d\\u0438\\u0435\\n            \\n        \\n            \\n            \\u0414\\u043e\\u0441\\u0442\\u0443\\u043f\\u043d\\u044b\\u0435 \\u0431\\u0438\\u043b\\u0435\\u0442\\u044b\\n            \\n        \\n            \\n            \\u0418\\u043d\\u0442\\u0435\\u0440\\u0435\\u0441\\u043d\\u043e\\n            \\n        \\n            \\n            \\u0418\\u0441\\u0442\\u043e\\u0440\\u0438\\u044f \\u0420\\u043e\\u0441\\u0441\\u0438\\u0438\\n            \\n        \\n            \\n            \\u041f\\u043e\\u0437\\u043d\\u0430\\u0432\\u0430\\u0442\\u0435\\u043b\\u044c\\u043d\\u043e\"\n        ],\n        \"semantic_type\": \"\",\n        \"description\": \"\"\n      }\n    },\n    {\n      \"column\": \"minuses\",\n      \"properties\": {\n        \"dtype\": \"category\",\n        \"num_unique_values\": 49,\n        \"samples\": [\n          \"\\u041c\\u043d\\u043e\\u0433\\u043e \\u043d\\u043e\\u0432\\u043e\\u0434\\u0435\\u043b\\u0430 \\u0432 \\u0440\\u0435\\u0441\\u0442\\u0430\\u0432\\u0440\\u0430\\u0446\\u0438\\u0438, \\u043d\\u0435\\u0442 \\u0441\\u043e\\u0431\\u0441\\u0442\\u0432\\u0435\\u043d\\u043d\\u043e\\u0439 \\u0431\\u0435\\u0441\\u043f\\u043b\\u0430\\u0442\\u043d\\u043e\\u0439 \\u043f\\u0430\\u0440\\u043a\\u043e\\u0432\\u043a\\u0438, \\u043d\\u0430 \\u0442\\u0435\\u0440\\u0440\\u0438\\u0442\\u043e\\u0440\\u0438\\u0438 \\u043d\\u0435 \\u043f\\u0440\\u043e\\u0434\\u0430\\u044e\\u0442 \\u0432\\u043e\\u0434\\u0443, \\u043d\\u0435\\u043c\\u043d\\u043e\\u0433\\u043e \\u0437\\u0430\\u0432\\u044b\\u0448\\u0435\\u043d\\u0430 \\u0446\\u0435\\u043d\\u0430 \\u0432\\u0445\\u043e\\u0434\\u043d\\u043e\\u0433\\u043e \\u0431\\u0438\\u043b\\u0435\\u0442\\u0430.\",\n          \"\\u0422\\u0435\\u0440\\u0440\\u0438\\u0442\\u043e\\u0440\\u0438\\u044f \\u0434\\u043b\\u044f \\u041a\\u0440\\u0435\\u043c\\u043b\\u044f \\u043a\\u0430\\u0436\\u0435\\u0442\\u0441\\u044f \\u0441\\u043a\\u0440\\u043e\\u043c\\u043d\\u043e\\u0439, \\u043d\\u043e \\u0447\\u0442\\u043e \\u0435\\u0441\\u0442\\u044c.\",\n          \"\\u0442\\u0440\\u0435\\u0431\\u0443\\u0435\\u0442\\u0441\\u044f \\u0440\\u0435\\u0441\\u0442\\u0430\\u0432\\u0440\\u0430\\u0446\\u0438\\u044f\"\n        ],\n        \"semantic_type\": \"\",\n        \"description\": \"\"\n      }\n    },\n    {\n      \"column\": \"name\",\n      \"properties\": {\n        \"dtype\": \"category\",\n        \"num_unique_values\": 229,\n        \"samples\": [\n          \"hollybeat\",\n          \"\\u041e\\u041b\\u044c\\u0433\\u0430 \\u041a\",\n          \"natali1663\"\n        ],\n        \"semantic_type\": \"\",\n        \"description\": \"\"\n      }\n    },\n    {\n      \"column\": \"gender\",\n      \"properties\": {\n        \"dtype\": \"category\",\n        \"num_unique_values\": 3,\n        \"samples\": [\n          \"f\",\n          \"m\",\n          \"mf\"\n        ],\n        \"semantic_type\": \"\",\n        \"description\": \"\"\n      }\n    },\n    {\n      \"column\": \"with_whom\",\n      \"properties\": {\n        \"dtype\": \"category\",\n        \"num_unique_values\": 5,\n        \"samples\": [\n          \"\\u0441\\u0435\\u043c\\u044c\\u044f\",\n          \"\\u0430\\u0432 2021\",\n          \"\\u0441\\u043e\\u043b\\u043e\"\n        ],\n        \"semantic_type\": \"\",\n        \"description\": \"\"\n      }\n    },\n    {\n      \"column\": \"city_where_from\",\n      \"properties\": {\n        \"dtype\": \"category\",\n        \"num_unique_values\": 61,\n        \"samples\": [\n          \"\\u041a\\u0440\\u0430\\u0441\\u043d\\u043e\\u0434\\u0430\\u0440\",\n          \"\\u0420\\u043e\\u0434\\u043d\\u043e\\u0439\",\n          \"\\u0410\\u0440\\u0438\\u0437\\u043e\\u043d\\u0430\"\n        ],\n        \"semantic_type\": \"\",\n        \"description\": \"\"\n      }\n    },\n    {\n      \"column\": \"country_where_from\",\n      \"properties\": {\n        \"dtype\": \"category\",\n        \"num_unique_values\": 16,\n        \"samples\": [\n          \"\\u0420\\u043e\\u0441\\u0441\\u0438\\u044f\",\n          \"\\u0421\\u0428\\u0410\",\n          \"\\u041e\\u0433\\u0430\\u0439\\u043e\"\n        ],\n        \"semantic_type\": \"\",\n        \"description\": \"\"\n      }\n    },\n    {\n      \"column\": \"visiting_date\",\n      \"properties\": {\n        \"dtype\": \"category\",\n        \"num_unique_values\": 78,\n        \"samples\": [\n          \"\\u043e\\u043a\\u0442. 2021 \\u0433.\",\n          \"\\u0431\\u044b\\u043b(\\u0430) \\u0437\\u0434\\u0435\\u0441\\u044c \\u0432 \\u043d\\u043e\\u044f\\u0431\\u0440\\u0435 2020\",\n          \"\\u044f\\u043d\\u0432. 2025 \\u0433.\"\n        ],\n        \"semantic_type\": \"\",\n        \"description\": \"\"\n      }\n    },\n    {\n      \"column\": \"publication_date\",\n      \"properties\": {\n        \"dtype\": \"number\",\n        \"std\": 1,\n        \"min\": 2020,\n        \"max\": 2025,\n        \"num_unique_values\": 6,\n        \"samples\": [\n          2020,\n          2021,\n          2025\n        ],\n        \"semantic_type\": \"\",\n        \"description\": \"\"\n      }\n    },\n    {\n      \"column\": \"object\",\n      \"properties\": {\n        \"dtype\": \"category\",\n        \"num_unique_values\": 10,\n        \"samples\": [\n          \"suzdal_kreml\",\n          \"hrustal_musey\",\n          \"prirodi_musey\"\n        ],\n        \"semantic_type\": \"\",\n        \"description\": \"\"\n      }\n    }\n  ]\n}"
            }
          },
          "metadata": {},
          "execution_count": 19
        }
      ]
    },
    {
      "cell_type": "code",
      "source": [
        "df_analysis = df.drop(columns=['pluses', 'minuses', 'rating', 'heading', 'country_where_from', 'with_whom', 'gender'])"
      ],
      "metadata": {
        "id": "U_wBfPogAObQ"
      },
      "execution_count": null,
      "outputs": []
    },
    {
      "cell_type": "code",
      "source": [
        "df_analysis['platform'] = df_analysis['web-scraper-start-url']\n"
      ],
      "metadata": {
        "collapsed": true,
        "id": "8A2p2bVSAu8N"
      },
      "execution_count": null,
      "outputs": []
    },
    {
      "cell_type": "code",
      "source": [
        "df_analysis.drop(columns=['web-scraper-start-url'], inplace=True)\n",
        "df_analysis.head()"
      ],
      "metadata": {
        "colab": {
          "base_uri": "https://localhost:8080/",
          "height": 206
        },
        "id": "oHTXbIt8BWYO",
        "outputId": "0050c585-9751-468a-f4f5-4ff1b95f267f"
      },
      "execution_count": null,
      "outputs": [
        {
          "output_type": "execute_result",
          "data": {
            "text/plain": [
              "                                                text            name  \\\n",
              "0  Плохая работа персонала Сама экспозиция очень ...       kauspeh72   \n",
              "1  Здравствуйте! Это полная хрень. Развод на день...  AnnaFomina0112   \n",
              "2  Посещали данный музей в рождество этого года. ...        Иродиада   \n",
              "3  Этим летом проезжали Суздаль и решили посетить...         АНЯМАША   \n",
              "4  Посещали всей семьей этот музей, нам очень пон...      nastyasol1   \n",
              "\n",
              "  city_where_from               visiting_date  publication_date        object  \\\n",
              "0             NaN  был(а) здесь в ноябре 2020              2020  derevo_musey   \n",
              "1       Краснодар                         NaN              2020  derevo_musey   \n",
              "2        Владимир                         NaN              2020  derevo_musey   \n",
              "3          МОСКВА                         NaN              2020  derevo_musey   \n",
              "4          Москва                         NaN              2020  derevo_musey   \n",
              "\n",
              "   platform  \n",
              "0  tonkosti  \n",
              "1   otzovik  \n",
              "2   otzovik  \n",
              "3   otzovik  \n",
              "4   otzovik  "
            ],
            "text/html": [
              "\n",
              "  <div id=\"df-c8d765ad-3ccb-4422-a969-73e9f5f4562e\" class=\"colab-df-container\">\n",
              "    <div>\n",
              "<style scoped>\n",
              "    .dataframe tbody tr th:only-of-type {\n",
              "        vertical-align: middle;\n",
              "    }\n",
              "\n",
              "    .dataframe tbody tr th {\n",
              "        vertical-align: top;\n",
              "    }\n",
              "\n",
              "    .dataframe thead th {\n",
              "        text-align: right;\n",
              "    }\n",
              "</style>\n",
              "<table border=\"1\" class=\"dataframe\">\n",
              "  <thead>\n",
              "    <tr style=\"text-align: right;\">\n",
              "      <th></th>\n",
              "      <th>text</th>\n",
              "      <th>name</th>\n",
              "      <th>city_where_from</th>\n",
              "      <th>visiting_date</th>\n",
              "      <th>publication_date</th>\n",
              "      <th>object</th>\n",
              "      <th>platform</th>\n",
              "    </tr>\n",
              "  </thead>\n",
              "  <tbody>\n",
              "    <tr>\n",
              "      <th>0</th>\n",
              "      <td>Плохая работа персонала Сама экспозиция очень ...</td>\n",
              "      <td>kauspeh72</td>\n",
              "      <td>NaN</td>\n",
              "      <td>был(а) здесь в ноябре 2020</td>\n",
              "      <td>2020</td>\n",
              "      <td>derevo_musey</td>\n",
              "      <td>tonkosti</td>\n",
              "    </tr>\n",
              "    <tr>\n",
              "      <th>1</th>\n",
              "      <td>Здравствуйте! Это полная хрень. Развод на день...</td>\n",
              "      <td>AnnaFomina0112</td>\n",
              "      <td>Краснодар</td>\n",
              "      <td>NaN</td>\n",
              "      <td>2020</td>\n",
              "      <td>derevo_musey</td>\n",
              "      <td>otzovik</td>\n",
              "    </tr>\n",
              "    <tr>\n",
              "      <th>2</th>\n",
              "      <td>Посещали данный музей в рождество этого года. ...</td>\n",
              "      <td>Иродиада</td>\n",
              "      <td>Владимир</td>\n",
              "      <td>NaN</td>\n",
              "      <td>2020</td>\n",
              "      <td>derevo_musey</td>\n",
              "      <td>otzovik</td>\n",
              "    </tr>\n",
              "    <tr>\n",
              "      <th>3</th>\n",
              "      <td>Этим летом проезжали Суздаль и решили посетить...</td>\n",
              "      <td>АНЯМАША</td>\n",
              "      <td>МОСКВА</td>\n",
              "      <td>NaN</td>\n",
              "      <td>2020</td>\n",
              "      <td>derevo_musey</td>\n",
              "      <td>otzovik</td>\n",
              "    </tr>\n",
              "    <tr>\n",
              "      <th>4</th>\n",
              "      <td>Посещали всей семьей этот музей, нам очень пон...</td>\n",
              "      <td>nastyasol1</td>\n",
              "      <td>Москва</td>\n",
              "      <td>NaN</td>\n",
              "      <td>2020</td>\n",
              "      <td>derevo_musey</td>\n",
              "      <td>otzovik</td>\n",
              "    </tr>\n",
              "  </tbody>\n",
              "</table>\n",
              "</div>\n",
              "    <div class=\"colab-df-buttons\">\n",
              "\n",
              "  <div class=\"colab-df-container\">\n",
              "    <button class=\"colab-df-convert\" onclick=\"convertToInteractive('df-c8d765ad-3ccb-4422-a969-73e9f5f4562e')\"\n",
              "            title=\"Convert this dataframe to an interactive table.\"\n",
              "            style=\"display:none;\">\n",
              "\n",
              "  <svg xmlns=\"http://www.w3.org/2000/svg\" height=\"24px\" viewBox=\"0 -960 960 960\">\n",
              "    <path d=\"M120-120v-720h720v720H120Zm60-500h600v-160H180v160Zm220 220h160v-160H400v160Zm0 220h160v-160H400v160ZM180-400h160v-160H180v160Zm440 0h160v-160H620v160ZM180-180h160v-160H180v160Zm440 0h160v-160H620v160Z\"/>\n",
              "  </svg>\n",
              "    </button>\n",
              "\n",
              "  <style>\n",
              "    .colab-df-container {\n",
              "      display:flex;\n",
              "      gap: 12px;\n",
              "    }\n",
              "\n",
              "    .colab-df-convert {\n",
              "      background-color: #E8F0FE;\n",
              "      border: none;\n",
              "      border-radius: 50%;\n",
              "      cursor: pointer;\n",
              "      display: none;\n",
              "      fill: #1967D2;\n",
              "      height: 32px;\n",
              "      padding: 0 0 0 0;\n",
              "      width: 32px;\n",
              "    }\n",
              "\n",
              "    .colab-df-convert:hover {\n",
              "      background-color: #E2EBFA;\n",
              "      box-shadow: 0px 1px 2px rgba(60, 64, 67, 0.3), 0px 1px 3px 1px rgba(60, 64, 67, 0.15);\n",
              "      fill: #174EA6;\n",
              "    }\n",
              "\n",
              "    .colab-df-buttons div {\n",
              "      margin-bottom: 4px;\n",
              "    }\n",
              "\n",
              "    [theme=dark] .colab-df-convert {\n",
              "      background-color: #3B4455;\n",
              "      fill: #D2E3FC;\n",
              "    }\n",
              "\n",
              "    [theme=dark] .colab-df-convert:hover {\n",
              "      background-color: #434B5C;\n",
              "      box-shadow: 0px 1px 3px 1px rgba(0, 0, 0, 0.15);\n",
              "      filter: drop-shadow(0px 1px 2px rgba(0, 0, 0, 0.3));\n",
              "      fill: #FFFFFF;\n",
              "    }\n",
              "  </style>\n",
              "\n",
              "    <script>\n",
              "      const buttonEl =\n",
              "        document.querySelector('#df-c8d765ad-3ccb-4422-a969-73e9f5f4562e button.colab-df-convert');\n",
              "      buttonEl.style.display =\n",
              "        google.colab.kernel.accessAllowed ? 'block' : 'none';\n",
              "\n",
              "      async function convertToInteractive(key) {\n",
              "        const element = document.querySelector('#df-c8d765ad-3ccb-4422-a969-73e9f5f4562e');\n",
              "        const dataTable =\n",
              "          await google.colab.kernel.invokeFunction('convertToInteractive',\n",
              "                                                    [key], {});\n",
              "        if (!dataTable) return;\n",
              "\n",
              "        const docLinkHtml = 'Like what you see? Visit the ' +\n",
              "          '<a target=\"_blank\" href=https://colab.research.google.com/notebooks/data_table.ipynb>data table notebook</a>'\n",
              "          + ' to learn more about interactive tables.';\n",
              "        element.innerHTML = '';\n",
              "        dataTable['output_type'] = 'display_data';\n",
              "        await google.colab.output.renderOutput(dataTable, element);\n",
              "        const docLink = document.createElement('div');\n",
              "        docLink.innerHTML = docLinkHtml;\n",
              "        element.appendChild(docLink);\n",
              "      }\n",
              "    </script>\n",
              "  </div>\n",
              "\n",
              "\n",
              "    <div id=\"df-c6c79fe9-7618-4f76-90e9-2777b30d2e25\">\n",
              "      <button class=\"colab-df-quickchart\" onclick=\"quickchart('df-c6c79fe9-7618-4f76-90e9-2777b30d2e25')\"\n",
              "                title=\"Suggest charts\"\n",
              "                style=\"display:none;\">\n",
              "\n",
              "<svg xmlns=\"http://www.w3.org/2000/svg\" height=\"24px\"viewBox=\"0 0 24 24\"\n",
              "     width=\"24px\">\n",
              "    <g>\n",
              "        <path d=\"M19 3H5c-1.1 0-2 .9-2 2v14c0 1.1.9 2 2 2h14c1.1 0 2-.9 2-2V5c0-1.1-.9-2-2-2zM9 17H7v-7h2v7zm4 0h-2V7h2v10zm4 0h-2v-4h2v4z\"/>\n",
              "    </g>\n",
              "</svg>\n",
              "      </button>\n",
              "\n",
              "<style>\n",
              "  .colab-df-quickchart {\n",
              "      --bg-color: #E8F0FE;\n",
              "      --fill-color: #1967D2;\n",
              "      --hover-bg-color: #E2EBFA;\n",
              "      --hover-fill-color: #174EA6;\n",
              "      --disabled-fill-color: #AAA;\n",
              "      --disabled-bg-color: #DDD;\n",
              "  }\n",
              "\n",
              "  [theme=dark] .colab-df-quickchart {\n",
              "      --bg-color: #3B4455;\n",
              "      --fill-color: #D2E3FC;\n",
              "      --hover-bg-color: #434B5C;\n",
              "      --hover-fill-color: #FFFFFF;\n",
              "      --disabled-bg-color: #3B4455;\n",
              "      --disabled-fill-color: #666;\n",
              "  }\n",
              "\n",
              "  .colab-df-quickchart {\n",
              "    background-color: var(--bg-color);\n",
              "    border: none;\n",
              "    border-radius: 50%;\n",
              "    cursor: pointer;\n",
              "    display: none;\n",
              "    fill: var(--fill-color);\n",
              "    height: 32px;\n",
              "    padding: 0;\n",
              "    width: 32px;\n",
              "  }\n",
              "\n",
              "  .colab-df-quickchart:hover {\n",
              "    background-color: var(--hover-bg-color);\n",
              "    box-shadow: 0 1px 2px rgba(60, 64, 67, 0.3), 0 1px 3px 1px rgba(60, 64, 67, 0.15);\n",
              "    fill: var(--button-hover-fill-color);\n",
              "  }\n",
              "\n",
              "  .colab-df-quickchart-complete:disabled,\n",
              "  .colab-df-quickchart-complete:disabled:hover {\n",
              "    background-color: var(--disabled-bg-color);\n",
              "    fill: var(--disabled-fill-color);\n",
              "    box-shadow: none;\n",
              "  }\n",
              "\n",
              "  .colab-df-spinner {\n",
              "    border: 2px solid var(--fill-color);\n",
              "    border-color: transparent;\n",
              "    border-bottom-color: var(--fill-color);\n",
              "    animation:\n",
              "      spin 1s steps(1) infinite;\n",
              "  }\n",
              "\n",
              "  @keyframes spin {\n",
              "    0% {\n",
              "      border-color: transparent;\n",
              "      border-bottom-color: var(--fill-color);\n",
              "      border-left-color: var(--fill-color);\n",
              "    }\n",
              "    20% {\n",
              "      border-color: transparent;\n",
              "      border-left-color: var(--fill-color);\n",
              "      border-top-color: var(--fill-color);\n",
              "    }\n",
              "    30% {\n",
              "      border-color: transparent;\n",
              "      border-left-color: var(--fill-color);\n",
              "      border-top-color: var(--fill-color);\n",
              "      border-right-color: var(--fill-color);\n",
              "    }\n",
              "    40% {\n",
              "      border-color: transparent;\n",
              "      border-right-color: var(--fill-color);\n",
              "      border-top-color: var(--fill-color);\n",
              "    }\n",
              "    60% {\n",
              "      border-color: transparent;\n",
              "      border-right-color: var(--fill-color);\n",
              "    }\n",
              "    80% {\n",
              "      border-color: transparent;\n",
              "      border-right-color: var(--fill-color);\n",
              "      border-bottom-color: var(--fill-color);\n",
              "    }\n",
              "    90% {\n",
              "      border-color: transparent;\n",
              "      border-bottom-color: var(--fill-color);\n",
              "    }\n",
              "  }\n",
              "</style>\n",
              "\n",
              "      <script>\n",
              "        async function quickchart(key) {\n",
              "          const quickchartButtonEl =\n",
              "            document.querySelector('#' + key + ' button');\n",
              "          quickchartButtonEl.disabled = true;  // To prevent multiple clicks.\n",
              "          quickchartButtonEl.classList.add('colab-df-spinner');\n",
              "          try {\n",
              "            const charts = await google.colab.kernel.invokeFunction(\n",
              "                'suggestCharts', [key], {});\n",
              "          } catch (error) {\n",
              "            console.error('Error during call to suggestCharts:', error);\n",
              "          }\n",
              "          quickchartButtonEl.classList.remove('colab-df-spinner');\n",
              "          quickchartButtonEl.classList.add('colab-df-quickchart-complete');\n",
              "        }\n",
              "        (() => {\n",
              "          let quickchartButtonEl =\n",
              "            document.querySelector('#df-c6c79fe9-7618-4f76-90e9-2777b30d2e25 button');\n",
              "          quickchartButtonEl.style.display =\n",
              "            google.colab.kernel.accessAllowed ? 'block' : 'none';\n",
              "        })();\n",
              "      </script>\n",
              "    </div>\n",
              "    </div>\n",
              "  </div>\n"
            ],
            "application/vnd.google.colaboratory.intrinsic+json": {
              "type": "dataframe",
              "variable_name": "df_analysis",
              "summary": "{\n  \"name\": \"df_analysis\",\n  \"rows\": 17694,\n  \"fields\": [\n    {\n      \"column\": \"text\",\n      \"properties\": {\n        \"dtype\": \"string\",\n        \"num_unique_values\": 9285,\n        \"samples\": [\n          \"\\u0414\\u0435\\u0440\\u0435\\u0432\\u044f\\u043d\\u043d\\u044b\\u0435 \\u0434\\u043e\\u043c\\u0430, \\u0432\\u043d\\u0443\\u0442\\u0440\\u0435\\u043d\\u043d\\u0435\\u0435 \\u0443\\u0431\\u0440\\u0430\\u043d\\u0441\\u0442\\u0432\\u043e, \\u043a\\u0443\\u0445\\u043e\\u043d\\u043d\\u0430\\u044f \\u0443\\u0442\\u0432\\u0430\\u0440\\u044c \\u0432\\u0441\\u0435 \\u043f\\u0440\\u0435\\u0434\\u0441\\u0442\\u0430\\u0432\\u043b\\u0435\\u043d\\u043e \\u043d\\u0430\\u0441\\u0442\\u043e\\u043b\\u044c\\u043a\\u043e \\u0440\\u0435\\u0430\\u043b\\u0438\\u0441\\u0442\\u0438\\u0447\\u043d\\u043e, \\u0447\\u0442\\u043e\\u0431\\u044b  \\u043d\\u0435\\u043c\\u043d\\u043e\\u0433\\u043e \\u0440\\u0430\\u0441\\u0442\\u0432\\u043e\\u0440\\u0438\\u0442\\u044c\\u0441\\u044f \\u0432 \\u0430\\u0442\\u043c\\u043e\\u0441\\u0444\\u0435\\u0440\\u0435 \\u043a\\u0440\\u0435\\u0441\\u0442\\u044c\\u044f\\u043d\\u0441\\u043a\\u043e\\u0433\\u043e \\u0431\\u044b\\u0442\\u0430 \\u0442\\u043e\\u0433\\u043e \\u0432\\u0440\\u0435\\u043c\\u0435\\u043d\\u0438. \\u041c\\u0435\\u043b\\u044c\\u043d\\u0438\\u0446\\u044b, \\u0445\\u0440\\u0430\\u043c\\u044b \\u0438 \\u043f\\u043e\\u0434\\u0441\\u043e\\u0431\\u043d\\u044b\\u0435 \\u043f\\u043e\\u0441\\u0442\\u0440\\u043e\\u0439\\u043a\\u0438. \\u041e\\u0431\\u044f\\u0437\\u0430\\u0442\\u0435\\u043b\\u044c\\u043d\\u043e \\u0441\\u0442\\u043e\\u0438\\u0442 \\u043f\\u043e\\u0441\\u0435\\u0442\\u0438\\u0442\\u044c \\u044d\\u0442\\u043e \\u043c\\u0435\\u0441\\u0442\\u043e. \\u0410 \\u0435\\u0449\\u0451, \\u043a\\u043e\\u0433\\u0434\\u0430 \\u043f\\u043e\\u0441\\u0435\\u0442\\u0438\\u0442\\u0435 \\u044d\\u0442\\u043e \\u043c\\u0435\\u0441\\u0442\\u043e \\u043d\\u0435 \\u043f\\u0440\\u043e\\u0445\\u043e\\u0434\\u0438\\u0442\\u0435 \\u043c\\u0438\\u043c\\u043e \\u0438\\u043d\\u0442\\u0435\\u0440\\u0430\\u043a\\u0442\\u0438\\u0432\\u043d\\u043e\\u0439 \\u043f\\u0430\\u0443\\u0437\\u044b. \\u0412\\u0435\\u0441\\u0435\\u043b\\u044b\\u0435 \\u0434\\u0435\\u0432\\u0447\\u043e\\u043d\\u043a\\u0438 \\u0432 \\u043a\\u0440\\u0435\\u0441\\u0442\\u044c\\u044f\\u043d\\u0441\\u043a\\u0438\\u0445 \\u043a\\u043e\\u0441\\u0442\\u044e\\u043c\\u0430\\u0445 \\u0437\\u0430\\u0432\\u043b\\u0435\\u043a\\u0443\\u0442 \\u0432\\u0430\\u0441 \\u0432  \\u0445\\u043e\\u0440\\u043e\\u0432\\u043e\\u0434 , \\u0431\\u0443\\u0434\\u0435\\u0442 \\u0432\\u0435\\u0441\\u0435\\u043b\\u043e!\",\n          \"\\u041a\\u0440\\u0430\\u0441\\u0438\\u0432\\u043e\\u0435 \\u043c\\u0435\\u0441\\u0442\\u043e, \\u0442\\u0438\\u0448\\u0438\\u043d\\u0430, \\u0441\\u043f\\u043e\\u043a\\u043e\\u0439\\u0441\\u0442\\u0432\\u0438\\u0435 \\u0438 \\u0443\\u043c\\u0438\\u0440\\u043e\\u0442\\u0432\\u043e\\u0440\\u0435\\u043d\\u0438\\u0435!! \\u0412\\u0435\\u043b\\u0438\\u0447\\u0430\\u0439\\u0448\\u0430\\u044f \\u0438\\u0441\\u0442\\u043e\\u0440\\u0438\\u044f \\u0438 \\u0430\\u0440\\u0442\\u0435\\u0444\\u0430\\u043a\\u0442\\u044b!!!\",\n          \"\\u0424\\u0443.....\"\n        ],\n        \"semantic_type\": \"\",\n        \"description\": \"\"\n      }\n    },\n    {\n      \"column\": \"name\",\n      \"properties\": {\n        \"dtype\": \"category\",\n        \"num_unique_values\": 229,\n        \"samples\": [\n          \"hollybeat\",\n          \"\\u041e\\u041b\\u044c\\u0433\\u0430 \\u041a\",\n          \"natali1663\"\n        ],\n        \"semantic_type\": \"\",\n        \"description\": \"\"\n      }\n    },\n    {\n      \"column\": \"city_where_from\",\n      \"properties\": {\n        \"dtype\": \"category\",\n        \"num_unique_values\": 61,\n        \"samples\": [\n          \"\\u041a\\u0440\\u0430\\u0441\\u043d\\u043e\\u0434\\u0430\\u0440\",\n          \"\\u0420\\u043e\\u0434\\u043d\\u043e\\u0439\",\n          \"\\u0410\\u0440\\u0438\\u0437\\u043e\\u043d\\u0430\"\n        ],\n        \"semantic_type\": \"\",\n        \"description\": \"\"\n      }\n    },\n    {\n      \"column\": \"visiting_date\",\n      \"properties\": {\n        \"dtype\": \"category\",\n        \"num_unique_values\": 78,\n        \"samples\": [\n          \"\\u043e\\u043a\\u0442. 2021 \\u0433.\",\n          \"\\u0431\\u044b\\u043b(\\u0430) \\u0437\\u0434\\u0435\\u0441\\u044c \\u0432 \\u043d\\u043e\\u044f\\u0431\\u0440\\u0435 2020\",\n          \"\\u044f\\u043d\\u0432. 2025 \\u0433.\"\n        ],\n        \"semantic_type\": \"\",\n        \"description\": \"\"\n      }\n    },\n    {\n      \"column\": \"publication_date\",\n      \"properties\": {\n        \"dtype\": \"number\",\n        \"std\": 1,\n        \"min\": 2020,\n        \"max\": 2025,\n        \"num_unique_values\": 6,\n        \"samples\": [\n          2020,\n          2021,\n          2025\n        ],\n        \"semantic_type\": \"\",\n        \"description\": \"\"\n      }\n    },\n    {\n      \"column\": \"object\",\n      \"properties\": {\n        \"dtype\": \"category\",\n        \"num_unique_values\": 10,\n        \"samples\": [\n          \"suzdal_kreml\",\n          \"hrustal_musey\",\n          \"prirodi_musey\"\n        ],\n        \"semantic_type\": \"\",\n        \"description\": \"\"\n      }\n    },\n    {\n      \"column\": \"platform\",\n      \"properties\": {\n        \"dtype\": \"category\",\n        \"num_unique_values\": 13,\n        \"samples\": [\n          \"https://otzovik.com/review_14213035.html\",\n          \"https://otzovik.com/review_16448039.html\",\n          \"tonkosti\"\n        ],\n        \"semantic_type\": \"\",\n        \"description\": \"\"\n      }\n    }\n  ]\n}"
            }
          },
          "metadata": {},
          "execution_count": 22
        }
      ]
    },
    {
      "cell_type": "code",
      "source": [
        "empty_review_count = 0\n",
        "for index, row in df_analysis.iterrows():\n",
        "    review_text = row.get(\"text\", \"\")\n",
        "    if pd.isna(review_text) or not str(review_text).strip():\n",
        "        empty_review_count += 1\n",
        "        df_analysis.drop(index, inplace=True)\n",
        "        continue\n",
        "\n",
        "print(f\"Отфильтровано пустых отзывов: {empty_review_count}\")\n",
        "df_analysis.reset_index(drop=True, inplace=True)"
      ],
      "metadata": {
        "colab": {
          "base_uri": "https://localhost:8080/"
        },
        "id": "beMSRZrbAqEL",
        "outputId": "dec75fff-e2ab-4f8d-b5d6-2e825c7671e8"
      },
      "execution_count": null,
      "outputs": [
        {
          "output_type": "stream",
          "name": "stdout",
          "text": [
            "Отфильтровано пустых отзывов: 7699\n"
          ]
        }
      ]
    },
    {
      "cell_type": "code",
      "source": [
        "print(len(df_analysis))\n",
        "df_analysis[5000:5005]"
      ],
      "metadata": {
        "colab": {
          "base_uri": "https://localhost:8080/",
          "height": 311
        },
        "id": "JLF02sV0C-fN",
        "outputId": "799780b1-023d-4481-a7f2-d598e84b69d0"
      },
      "execution_count": null,
      "outputs": [
        {
          "output_type": "stream",
          "name": "stdout",
          "text": [
            "9995\n"
          ]
        },
        {
          "output_type": "execute_result",
          "data": {
            "text/plain": [
              "                                                   text name city_where_from  \\\n",
              "5000  Одно из красивейших мест Суздаля, прекрасно от...  NaN             NaN   \n",
              "5001  На мой взгляд это самый интересный музейный ко...  NaN             NaN   \n",
              "5002  Красивый хорошо сохранившийся монастырь.  Его ...  NaN             NaN   \n",
              "5003  Это место обязательно к посещению для  туристо...  NaN             NaN   \n",
              "5004  Отличное место, особенно кто в Суздале в первы...  NaN             NaN   \n",
              "\n",
              "     visiting_date  publication_date      object    platform positives  \\\n",
              "5000           NaN              2022  spaso_efim  yandexmaps             \n",
              "5001           NaN              2022  spaso_efim  yandexmaps             \n",
              "5002           NaN              2022  spaso_efim  yandexmaps             \n",
              "5003           NaN              2022  spaso_efim  yandexmaps             \n",
              "5004           NaN              2022  spaso_efim  yandexmaps             \n",
              "\n",
              "     negatives gender  \n",
              "5000                   \n",
              "5001                   \n",
              "5002                   \n",
              "5003                   \n",
              "5004                   "
            ],
            "text/html": [
              "\n",
              "  <div id=\"df-3dd2e408-9cdc-4d49-bf8b-72e6f06b2e76\" class=\"colab-df-container\">\n",
              "    <div>\n",
              "<style scoped>\n",
              "    .dataframe tbody tr th:only-of-type {\n",
              "        vertical-align: middle;\n",
              "    }\n",
              "\n",
              "    .dataframe tbody tr th {\n",
              "        vertical-align: top;\n",
              "    }\n",
              "\n",
              "    .dataframe thead th {\n",
              "        text-align: right;\n",
              "    }\n",
              "</style>\n",
              "<table border=\"1\" class=\"dataframe\">\n",
              "  <thead>\n",
              "    <tr style=\"text-align: right;\">\n",
              "      <th></th>\n",
              "      <th>text</th>\n",
              "      <th>name</th>\n",
              "      <th>city_where_from</th>\n",
              "      <th>visiting_date</th>\n",
              "      <th>publication_date</th>\n",
              "      <th>object</th>\n",
              "      <th>platform</th>\n",
              "      <th>positives</th>\n",
              "      <th>negatives</th>\n",
              "      <th>gender</th>\n",
              "    </tr>\n",
              "  </thead>\n",
              "  <tbody>\n",
              "    <tr>\n",
              "      <th>5000</th>\n",
              "      <td>Одно из красивейших мест Суздаля, прекрасно от...</td>\n",
              "      <td>NaN</td>\n",
              "      <td>NaN</td>\n",
              "      <td>NaN</td>\n",
              "      <td>2022</td>\n",
              "      <td>spaso_efim</td>\n",
              "      <td>yandexmaps</td>\n",
              "      <td></td>\n",
              "      <td></td>\n",
              "      <td></td>\n",
              "    </tr>\n",
              "    <tr>\n",
              "      <th>5001</th>\n",
              "      <td>На мой взгляд это самый интересный музейный ко...</td>\n",
              "      <td>NaN</td>\n",
              "      <td>NaN</td>\n",
              "      <td>NaN</td>\n",
              "      <td>2022</td>\n",
              "      <td>spaso_efim</td>\n",
              "      <td>yandexmaps</td>\n",
              "      <td></td>\n",
              "      <td></td>\n",
              "      <td></td>\n",
              "    </tr>\n",
              "    <tr>\n",
              "      <th>5002</th>\n",
              "      <td>Красивый хорошо сохранившийся монастырь.  Его ...</td>\n",
              "      <td>NaN</td>\n",
              "      <td>NaN</td>\n",
              "      <td>NaN</td>\n",
              "      <td>2022</td>\n",
              "      <td>spaso_efim</td>\n",
              "      <td>yandexmaps</td>\n",
              "      <td></td>\n",
              "      <td></td>\n",
              "      <td></td>\n",
              "    </tr>\n",
              "    <tr>\n",
              "      <th>5003</th>\n",
              "      <td>Это место обязательно к посещению для  туристо...</td>\n",
              "      <td>NaN</td>\n",
              "      <td>NaN</td>\n",
              "      <td>NaN</td>\n",
              "      <td>2022</td>\n",
              "      <td>spaso_efim</td>\n",
              "      <td>yandexmaps</td>\n",
              "      <td></td>\n",
              "      <td></td>\n",
              "      <td></td>\n",
              "    </tr>\n",
              "    <tr>\n",
              "      <th>5004</th>\n",
              "      <td>Отличное место, особенно кто в Суздале в первы...</td>\n",
              "      <td>NaN</td>\n",
              "      <td>NaN</td>\n",
              "      <td>NaN</td>\n",
              "      <td>2022</td>\n",
              "      <td>spaso_efim</td>\n",
              "      <td>yandexmaps</td>\n",
              "      <td></td>\n",
              "      <td></td>\n",
              "      <td></td>\n",
              "    </tr>\n",
              "  </tbody>\n",
              "</table>\n",
              "</div>\n",
              "    <div class=\"colab-df-buttons\">\n",
              "\n",
              "  <div class=\"colab-df-container\">\n",
              "    <button class=\"colab-df-convert\" onclick=\"convertToInteractive('df-3dd2e408-9cdc-4d49-bf8b-72e6f06b2e76')\"\n",
              "            title=\"Convert this dataframe to an interactive table.\"\n",
              "            style=\"display:none;\">\n",
              "\n",
              "  <svg xmlns=\"http://www.w3.org/2000/svg\" height=\"24px\" viewBox=\"0 -960 960 960\">\n",
              "    <path d=\"M120-120v-720h720v720H120Zm60-500h600v-160H180v160Zm220 220h160v-160H400v160Zm0 220h160v-160H400v160ZM180-400h160v-160H180v160Zm440 0h160v-160H620v160ZM180-180h160v-160H180v160Zm440 0h160v-160H620v160Z\"/>\n",
              "  </svg>\n",
              "    </button>\n",
              "\n",
              "  <style>\n",
              "    .colab-df-container {\n",
              "      display:flex;\n",
              "      gap: 12px;\n",
              "    }\n",
              "\n",
              "    .colab-df-convert {\n",
              "      background-color: #E8F0FE;\n",
              "      border: none;\n",
              "      border-radius: 50%;\n",
              "      cursor: pointer;\n",
              "      display: none;\n",
              "      fill: #1967D2;\n",
              "      height: 32px;\n",
              "      padding: 0 0 0 0;\n",
              "      width: 32px;\n",
              "    }\n",
              "\n",
              "    .colab-df-convert:hover {\n",
              "      background-color: #E2EBFA;\n",
              "      box-shadow: 0px 1px 2px rgba(60, 64, 67, 0.3), 0px 1px 3px 1px rgba(60, 64, 67, 0.15);\n",
              "      fill: #174EA6;\n",
              "    }\n",
              "\n",
              "    .colab-df-buttons div {\n",
              "      margin-bottom: 4px;\n",
              "    }\n",
              "\n",
              "    [theme=dark] .colab-df-convert {\n",
              "      background-color: #3B4455;\n",
              "      fill: #D2E3FC;\n",
              "    }\n",
              "\n",
              "    [theme=dark] .colab-df-convert:hover {\n",
              "      background-color: #434B5C;\n",
              "      box-shadow: 0px 1px 3px 1px rgba(0, 0, 0, 0.15);\n",
              "      filter: drop-shadow(0px 1px 2px rgba(0, 0, 0, 0.3));\n",
              "      fill: #FFFFFF;\n",
              "    }\n",
              "  </style>\n",
              "\n",
              "    <script>\n",
              "      const buttonEl =\n",
              "        document.querySelector('#df-3dd2e408-9cdc-4d49-bf8b-72e6f06b2e76 button.colab-df-convert');\n",
              "      buttonEl.style.display =\n",
              "        google.colab.kernel.accessAllowed ? 'block' : 'none';\n",
              "\n",
              "      async function convertToInteractive(key) {\n",
              "        const element = document.querySelector('#df-3dd2e408-9cdc-4d49-bf8b-72e6f06b2e76');\n",
              "        const dataTable =\n",
              "          await google.colab.kernel.invokeFunction('convertToInteractive',\n",
              "                                                    [key], {});\n",
              "        if (!dataTable) return;\n",
              "\n",
              "        const docLinkHtml = 'Like what you see? Visit the ' +\n",
              "          '<a target=\"_blank\" href=https://colab.research.google.com/notebooks/data_table.ipynb>data table notebook</a>'\n",
              "          + ' to learn more about interactive tables.';\n",
              "        element.innerHTML = '';\n",
              "        dataTable['output_type'] = 'display_data';\n",
              "        await google.colab.output.renderOutput(dataTable, element);\n",
              "        const docLink = document.createElement('div');\n",
              "        docLink.innerHTML = docLinkHtml;\n",
              "        element.appendChild(docLink);\n",
              "      }\n",
              "    </script>\n",
              "  </div>\n",
              "\n",
              "\n",
              "    <div id=\"df-b4c9424a-a8f8-4a49-bcf8-f118d3cc3393\">\n",
              "      <button class=\"colab-df-quickchart\" onclick=\"quickchart('df-b4c9424a-a8f8-4a49-bcf8-f118d3cc3393')\"\n",
              "                title=\"Suggest charts\"\n",
              "                style=\"display:none;\">\n",
              "\n",
              "<svg xmlns=\"http://www.w3.org/2000/svg\" height=\"24px\"viewBox=\"0 0 24 24\"\n",
              "     width=\"24px\">\n",
              "    <g>\n",
              "        <path d=\"M19 3H5c-1.1 0-2 .9-2 2v14c0 1.1.9 2 2 2h14c1.1 0 2-.9 2-2V5c0-1.1-.9-2-2-2zM9 17H7v-7h2v7zm4 0h-2V7h2v10zm4 0h-2v-4h2v4z\"/>\n",
              "    </g>\n",
              "</svg>\n",
              "      </button>\n",
              "\n",
              "<style>\n",
              "  .colab-df-quickchart {\n",
              "      --bg-color: #E8F0FE;\n",
              "      --fill-color: #1967D2;\n",
              "      --hover-bg-color: #E2EBFA;\n",
              "      --hover-fill-color: #174EA6;\n",
              "      --disabled-fill-color: #AAA;\n",
              "      --disabled-bg-color: #DDD;\n",
              "  }\n",
              "\n",
              "  [theme=dark] .colab-df-quickchart {\n",
              "      --bg-color: #3B4455;\n",
              "      --fill-color: #D2E3FC;\n",
              "      --hover-bg-color: #434B5C;\n",
              "      --hover-fill-color: #FFFFFF;\n",
              "      --disabled-bg-color: #3B4455;\n",
              "      --disabled-fill-color: #666;\n",
              "  }\n",
              "\n",
              "  .colab-df-quickchart {\n",
              "    background-color: var(--bg-color);\n",
              "    border: none;\n",
              "    border-radius: 50%;\n",
              "    cursor: pointer;\n",
              "    display: none;\n",
              "    fill: var(--fill-color);\n",
              "    height: 32px;\n",
              "    padding: 0;\n",
              "    width: 32px;\n",
              "  }\n",
              "\n",
              "  .colab-df-quickchart:hover {\n",
              "    background-color: var(--hover-bg-color);\n",
              "    box-shadow: 0 1px 2px rgba(60, 64, 67, 0.3), 0 1px 3px 1px rgba(60, 64, 67, 0.15);\n",
              "    fill: var(--button-hover-fill-color);\n",
              "  }\n",
              "\n",
              "  .colab-df-quickchart-complete:disabled,\n",
              "  .colab-df-quickchart-complete:disabled:hover {\n",
              "    background-color: var(--disabled-bg-color);\n",
              "    fill: var(--disabled-fill-color);\n",
              "    box-shadow: none;\n",
              "  }\n",
              "\n",
              "  .colab-df-spinner {\n",
              "    border: 2px solid var(--fill-color);\n",
              "    border-color: transparent;\n",
              "    border-bottom-color: var(--fill-color);\n",
              "    animation:\n",
              "      spin 1s steps(1) infinite;\n",
              "  }\n",
              "\n",
              "  @keyframes spin {\n",
              "    0% {\n",
              "      border-color: transparent;\n",
              "      border-bottom-color: var(--fill-color);\n",
              "      border-left-color: var(--fill-color);\n",
              "    }\n",
              "    20% {\n",
              "      border-color: transparent;\n",
              "      border-left-color: var(--fill-color);\n",
              "      border-top-color: var(--fill-color);\n",
              "    }\n",
              "    30% {\n",
              "      border-color: transparent;\n",
              "      border-left-color: var(--fill-color);\n",
              "      border-top-color: var(--fill-color);\n",
              "      border-right-color: var(--fill-color);\n",
              "    }\n",
              "    40% {\n",
              "      border-color: transparent;\n",
              "      border-right-color: var(--fill-color);\n",
              "      border-top-color: var(--fill-color);\n",
              "    }\n",
              "    60% {\n",
              "      border-color: transparent;\n",
              "      border-right-color: var(--fill-color);\n",
              "    }\n",
              "    80% {\n",
              "      border-color: transparent;\n",
              "      border-right-color: var(--fill-color);\n",
              "      border-bottom-color: var(--fill-color);\n",
              "    }\n",
              "    90% {\n",
              "      border-color: transparent;\n",
              "      border-bottom-color: var(--fill-color);\n",
              "    }\n",
              "  }\n",
              "</style>\n",
              "\n",
              "      <script>\n",
              "        async function quickchart(key) {\n",
              "          const quickchartButtonEl =\n",
              "            document.querySelector('#' + key + ' button');\n",
              "          quickchartButtonEl.disabled = true;  // To prevent multiple clicks.\n",
              "          quickchartButtonEl.classList.add('colab-df-spinner');\n",
              "          try {\n",
              "            const charts = await google.colab.kernel.invokeFunction(\n",
              "                'suggestCharts', [key], {});\n",
              "          } catch (error) {\n",
              "            console.error('Error during call to suggestCharts:', error);\n",
              "          }\n",
              "          quickchartButtonEl.classList.remove('colab-df-spinner');\n",
              "          quickchartButtonEl.classList.add('colab-df-quickchart-complete');\n",
              "        }\n",
              "        (() => {\n",
              "          let quickchartButtonEl =\n",
              "            document.querySelector('#df-b4c9424a-a8f8-4a49-bcf8-f118d3cc3393 button');\n",
              "          quickchartButtonEl.style.display =\n",
              "            google.colab.kernel.accessAllowed ? 'block' : 'none';\n",
              "        })();\n",
              "      </script>\n",
              "    </div>\n",
              "    </div>\n",
              "  </div>\n"
            ],
            "application/vnd.google.colaboratory.intrinsic+json": {
              "type": "dataframe",
              "repr_error": "0"
            }
          },
          "metadata": {},
          "execution_count": 27
        }
      ]
    },
    {
      "cell_type": "code",
      "source": [
        "df_analysis['positives'] = ''\n",
        "df_analysis['negatives'] = ''\n",
        "df_analysis['gender'] = ''"
      ],
      "metadata": {
        "id": "wmCKuy8LEp3t"
      },
      "execution_count": null,
      "outputs": []
    },
    {
      "cell_type": "code",
      "source": [
        "# Пути к файлам\n",
        "OUTPUT_CSV_PATH = \"/content/keywords_titan.csv\"\n",
        "\n",
        "# Model parameters\n",
        "N_CTX = 4096 # Увеличено для потенциально больших списков слов за год\n",
        "N_THREADS = 2 # Кол-во ядер ЦПУ\n",
        "MAX_TOKENS = 128 # Увеличено для более детальных ответов по категориям\n",
        "TEMPERATURE = 0.1 # Температура модели\n",
        "MAX_RETRIES = 3 # Максимальное кол-во повторных попыток при неправильном ответе модели"
      ],
      "metadata": {
        "id": "FCY67xDOCTMM"
      },
      "execution_count": null,
      "outputs": []
    },
    {
      "cell_type": "markdown",
      "source": [
        "# Объявляем функции для работы"
      ],
      "metadata": {
        "id": "FqNtyi52DQ8U"
      }
    },
    {
      "cell_type": "code",
      "source": [
        "def load_model(model_path: str, n_threads: int, n_ctx: int):\n",
        "    \"\"\"Загрузка модели с использованием GPU, параметры модели определяются в константах в начале кода\"\"\"\n",
        "    try:\n",
        "        return Llama(\n",
        "            model_path=model_path,\n",
        "            n_ctx=n_ctx,       # Размер контекста\n",
        "            n_gpu_layers=-1,  # Используем GPU (можно -1 для авто)\n",
        "            n_threads=n_threads,\n",
        "            verbose=False     # Отключить или True для диагностики\n",
        "        )\n",
        "    except Exception as e:\n",
        "        raise SystemExit(f\"Ошибка загрузки модели: {e}\")\n",
        "\n",
        "\n",
        "def parse_response(response: str) -> dict:\n",
        "  ''' Парсит ответ модели и проверяет его на соответствие формату'''\n",
        "  try:\n",
        "    parts = [p.strip() for p in response.split('<sep>')]\n",
        "    if len(parts) != 3:\n",
        "      raise ValueError(f\"Неверное число полей: {len(parts)}\")\n",
        "    positives, negatives, gender = parts\n",
        "    if gender in ['М', 'Ж', 'unknown']:\n",
        "      return {'positives': positives, 'negatives': negatives, 'gender': gender}\n",
        "    else:\n",
        "      print(f'Пол не определен: {gender}')\n",
        "      return\n",
        "  except Exception as e:\n",
        "    print(f'Не удалось обработать ответ модели: {e}')\n",
        "    return\n",
        "\n",
        "\n",
        "def analyze_review(llm, review_text: str, name: str, max_retries: int = 3) -> dict:\n",
        "    \"\"\"Анализ отзыва с проверкой формата\"\"\"\n",
        "    if not isinstance(review_text, str) or not review_text.strip():\n",
        "        return {\n",
        "            \"review_text\": review_text, \"name\": name,\n",
        "            \"positives\": \"-\", \"negatives\": \"-\", \"failed\": False\n",
        "        }\n",
        "\n",
        "    prompt = f\"\"\"\n",
        "Инструкции:\n",
        "1. Извлекай краткие, полезные положительные и отрицательные ключевые слова/фразы ТОЛЬКО из текста указанного отзыва. Избегай оценочных фраз по типу 'прекрасный музей'/'величественный собор'. Пиши на русском.\n",
        "2. Если положительных или отрицательных аспектов в тексте нет, пиши -.\n",
        "3. Предположи пол автора отзыва на основе текста или ника, М для мужчин, Ж для женщин. Если ты не можешь однозначно определить пол, пиши unknown.\n",
        "3. ВСЕГДА возвращай результат СТРОГО в формате: positive keywords<sep>negative keywords<sep>gender. Если ты хочешь разделить элементы внутри групп, используй запятую\n",
        "4. Все 3 элемента должны быть разделены токеном <sep>, всего ты можешь использовать только два таких токена.\n",
        "5. Не добавляй никакого другого текста или пояснений до или после этого формата.\n",
        "\n",
        "Пример:\n",
        "Отзыв:\n",
        "Отличный вид на город, но подъем очень высокий и крутой\n",
        "AnnaMaslova\n",
        "Хороший ответ:\n",
        "отличный вид на город<sep>подъем очень высокий и крутой<sep>Ж\n",
        "---\n",
        "Задание:\n",
        "Текст отзыва: {review_text}\n",
        "Ник пользователя: {name}\n",
        "\n",
        "Верни ТОЛЬКО одну строку в указанном формате.\n",
        "Ответ:\n",
        "\"\"\".strip()\n",
        "\n",
        "    for attempt in range(max_retries):\n",
        "        try:\n",
        "            llm_response = llm(prompt, max_tokens=MAX_TOKENS, temperature=TEMPERATURE)\n",
        "# ——— DEBUG: show exactly what the model returned\n",
        "#             print(f\"[DEBUG attempt {attempt}] llm_response (type={type(llm_response)}):\\n{repr(llm_response)}\\n\")\n",
        "            if isinstance(llm_response, dict):\n",
        "              choices = llm_response.get('choices', [])\n",
        "              text = choices[0].get('text', '').strip() if choices else ''\n",
        "            elif isinstance(llm_response, list) and llm_response:\n",
        "              text = llm_response[0].strip()\n",
        "            elif isinstance(llm_response, str):\n",
        "              text = llm_response.strip()\n",
        "            else:\n",
        "              text = ''\n",
        "\n",
        "            if not text:\n",
        "                print(f\"\\nПопытка {attempt + 1}: Пустой ответ от модели.\")\n",
        "                continue\n",
        "\n",
        "            parsed_response = parse_response(text)\n",
        "            if parsed_response:\n",
        "              return parsed_response\n",
        "            else:\n",
        "              print(f\"\\nПопытка {attempt + 1}: Неверный формат ответа модели. Ответ: {text}\")\n",
        "              continue\n",
        "\n",
        "        except Exception as e:\n",
        "            print(f\"\\nОшибка при вызове LLM на попытке {attempt + 1}: {e}\")\n",
        "            continue\n",
        "\n",
        "    print(f\"\\nНе удалось обработать отзыв после {max_retries} попыток.\")\n",
        "    return {\n",
        "        \"positives\": \"-\", \"negatives\": \"-\", \"gender\": \"-\",\n",
        "        \"failed\": True\n",
        "    }\n",
        "\n",
        "def process_csv_reviews(df, output_csv_path: str):\n",
        "    \"\"\"Основная функция, которая последовательно обрабатывает отзывы:\n",
        "    1. Загружает модель\n",
        "    2. Читает таблицу с отзывами\n",
        "    3. Фильтрует пустые отзывы\n",
        "    4. Собственно обрабатывает отзывы, подгружая по 50 строк из таблицы\n",
        "    5. Сохраняет результаты обработки в таблицу csv\n",
        "    \"\"\"\n",
        "    try:\n",
        "        llm = load_model(MODEL_PATH, N_THREADS, N_CTX)\n",
        "    except SystemExit as e:\n",
        "        print(e)\n",
        "        return\n",
        "\n",
        "    try:\n",
        "        required_columns = {\"text\", \"name\"}\n",
        "        if not required_columns.issubset(df.columns):\n",
        "            raise ValueError(f\"Отсутствуют необходимые столбцы: {required_columns - set(df.columns)}\")\n",
        "    except FileNotFoundError:\n",
        "        print(f\"Ошибка: Файл не найден\")\n",
        "        return\n",
        "    except Exception as e:\n",
        "        print(f\"Ошибка при чтении датафрейма: {e}\")\n",
        "        return\n",
        "\n",
        "    tasks = []\n",
        "    for index, row in df.iterrows():\n",
        "      review_text = row.get(\"text\", \"\")\n",
        "      name = row.get('name', '')\n",
        "      task = (\n",
        "          str(review_text).strip(),\n",
        "          str(name).strip(),\n",
        "          MAX_RETRIES,\n",
        "          MODEL_PATH,\n",
        "          N_THREADS,\n",
        "          N_CTX,\n",
        "          MAX_TOKENS,\n",
        "          TEMPERATURE\n",
        "      )\n",
        "      tasks.append(task)\n",
        "\n",
        "      if not tasks:\n",
        "          print(\"Нет данных для обработки.\")\n",
        "          return\n",
        "\n",
        "    total_tasks = len(tasks)\n",
        "    print(f\"Начинаем анализ {total_tasks} отзывов...\")\n",
        "\n",
        "    results_list = []\n",
        "    failed_analysis_count = 0\n",
        "\n",
        "    for i, task in enumerate(tqdm(tasks, total=total_tasks, desc=\"Обработка отзывов\", mininterval=1.0)):\n",
        "        review_text, name, _, _, _, _, _, _ = task\n",
        "        analysis_result = analyze_review(llm, review_text, name, MAX_RETRIES)\n",
        "        if analysis_result.get(\"failed\", False):\n",
        "            failed_analysis_count += 1\n",
        "\n",
        "        output_columns = ['positives', 'negatives', 'gender']\n",
        "        for column in output_columns:\n",
        "          df.at[i, column] = analysis_result[column]\n",
        "\n",
        "        if i in range(0, total_tasks, 100): # выводит каждый пятидесятый результат\n",
        "          print()\n",
        "          print(f\"\"\"Текст отзыва: {df.loc[i]['text']},\n",
        "Имя пользователя: {df.loc[i]['name']},\n",
        "Позитивные слова: {df.loc[i]['positives']},\n",
        "Негативные слова: {df.loc[i]['negatives']},\n",
        "Предполагаемый пол: {df.loc[i]['gender']}\n",
        "          \"\"\")\n",
        "\n",
        "    df.to_csv(\n",
        "        output_csv_path,\n",
        "        mode='a',\n",
        "        encoding='utf-8',\n",
        "        header=True\n",
        "    )\n",
        "\n",
        "    print(\"\\nАнализ завершен.\")\n",
        "    print(f\"Результаты сохранены в '{output_csv_path}'\")\n",
        "    if failed_analysis_count > 0:\n",
        "        print(f\"Количество отзывов, не обработанных LLM после всех попыток: {failed_analysis_count}\")\n"
      ],
      "metadata": {
        "id": "M24yZIerC3eo"
      },
      "execution_count": null,
      "outputs": []
    },
    {
      "cell_type": "code",
      "source": [
        "process_csv_reviews(df_analysis, OUTPUT_CSV_PATH)"
      ],
      "metadata": {
        "id": "gnDo-GWiSqMC",
        "colab": {
          "base_uri": "https://localhost:8080/"
        },
        "collapsed": true,
        "outputId": "44ff6f14-5cb2-4d86-eb81-b8752e6135a6"
      },
      "execution_count": null,
      "outputs": [
        {
          "output_type": "stream",
          "name": "stdout",
          "text": [
            "Начинаем анализ 9995 отзывов...\n"
          ]
        },
        {
          "output_type": "stream",
          "name": "stderr",
          "text": [
            "Обработка отзывов:   0%|          | 1/9995 [00:01<4:46:28,  1.72s/it]"
          ]
        },
        {
          "output_type": "stream",
          "name": "stdout",
          "text": [
            "\n",
            "Текст отзыва: Плохая работа персонала Сама экспозиция очень интересная...., но общее впечатление испортило отношение персонала, не приветливые уже в начале , на кассе и так по всей территории. На вопросы , которые возникали по ходу просмотра экспозиции отвечали сухо и неохотно..., часто был ответ : Читайте на табличке)). ходили с ощущением, что нам здесь не рады).\n",
            "05 ноября 2020, \n",
            "Имя пользователя: kauspeh72, \n",
            "Позитивные слова: интересная экспозиция, \n",
            "Негативные слова: плохая работа персонала, не приветливые, сухо и неохотно отвечали, ощущение что не рады, \n",
            "Предполагаемый пол: unknown\n",
            "          \n"
          ]
        },
        {
          "output_type": "stream",
          "name": "stderr",
          "text": [
            "Обработка отзывов:   1%|          | 101/9995 [02:29<3:46:22,  1.37s/it]"
          ]
        },
        {
          "output_type": "stream",
          "name": "stdout",
          "text": [
            "\n",
            "Текст отзыва: Сам музей замечательный. Приезжали на праздник огурца, впечатления неоднозначные. Вход 600 р взрослый, дети до 7 лет бесплатно, 400 р льготники, покупайте заранее онлайн. Море народу, сувениры, развлечения - не дешевы: 5 выстрелов из лука 350р, ребёнок выпросил деревянный ножик - 400р,  одна радость - бесплатно дали дождевики от спонсора банка. Концерт хороший, можно потанцевать и поводить хоровод. Народ располагался вокруг сцены на пледах. Пьяных не было. Туалеты чистые, но надо постоять в очереди. Огурцы не покупали, домашние сами солим вкуснее. Если хотите потолкаться и поразевать рот - приезжайте на праздник огурца, но в принципе ничего особенного, только суздальчанам лишний повод подзаработать. PS можете вырастить свой огурец и помериться им в следующем году, или нарядиться в костюм огурца и поучаствовать в конкурсе., \n",
            "Имя пользователя: nan, \n",
            "Позитивные слова: замечательный музей, \n",
            "Негативные слова: вход дорогой, сувениры дорогие, развлечения дорогие, надо постоять в очереди, \n",
            "Предполагаемый пол: unknown\n",
            "          \n"
          ]
        },
        {
          "output_type": "stream",
          "name": "stderr",
          "text": [
            "Обработка отзывов:   1%|▏         | 148/9995 [03:19<2:32:41,  1.07it/s]"
          ]
        },
        {
          "output_type": "stream",
          "name": "stdout",
          "text": [
            "Не удалось обработать ответ модели: Неверное число полей: 5\n",
            "\n",
            "Попытка 1: Неверный формат ответа модели. Ответ: житие бедняков, середняков, богачей тех времен<sep>прошлое завораживает<sep>поиграли в каляку-маляку простая забавная игра подходит взрослому и детям<sep>-<sep>М\n",
            "Не удалось обработать ответ модели: Неверное число полей: 5\n",
            "\n",
            "Попытка 2: Неверный формат ответа модели. Ответ: житие бедняков, середняков, богачей тех времен<sep>прошлое завораживает<sep>поиграли в каляку-маляку простая забавная игра подходит взрослому и детям<sep>-<sep>М\n"
          ]
        },
        {
          "output_type": "stream",
          "name": "stderr",
          "text": [
            "Обработка отзывов:   2%|▏         | 201/9995 [04:15<2:54:11,  1.07s/it]"
          ]
        },
        {
          "output_type": "stream",
          "name": "stdout",
          "text": [
            "\n",
            "Текст отзыва: Неожиданно приятное место. Провели тут времени больше, чем планировали. Красивые деревянные церкви. Интересные дома крестьян и купцов... Куда-то можно зайти, куда-то нет, но территория большая, есть сувенирный сруб, пара церквей, жилые дома, 2 мельницы, ремесленные сооружения. Кафе и тп. Красиво, \n",
            "Имя пользователя: nan, \n",
            "Позитивные слова: неожиданно приятное место, красивые деревянные церкви, интересные дома крестьян и купцов, большая территория, сувенирный сруб, церкви, жилые дома, мельницы, ремесленные сооружения, кафе, \n",
            "Негативные слова: -, \n",
            "Предполагаемый пол: unknown\n",
            "          \n"
          ]
        },
        {
          "output_type": "stream",
          "name": "stderr",
          "text": [
            "Обработка отзывов:   2%|▏         | 236/9995 [04:45<2:06:00,  1.29it/s]"
          ]
        },
        {
          "output_type": "stream",
          "name": "stdout",
          "text": [
            "Пол не определен: М/unknown\n",
            "\n",
            "Попытка 1: Неверный формат ответа модели. Ответ: красиво, интересно, ухоженная территория, приятное общение<sep>-<sep>М/unknown\n",
            "Пол не определен: М/unknown\n",
            "\n",
            "Попытка 2: Неверный формат ответа модели. Ответ: красиво, интересно, ухоженная территория, приятное общение<sep>-<sep>М/unknown\n"
          ]
        },
        {
          "output_type": "stream",
          "name": "stderr",
          "text": [
            "\rОбработка отзывов:   2%|▏         | 238/9995 [04:48<2:42:02,  1.00it/s]"
          ]
        },
        {
          "output_type": "stream",
          "name": "stdout",
          "text": [
            "Пол не определен: М/unknown\n",
            "\n",
            "Попытка 3: Неверный формат ответа модели. Ответ: красиво, интересно, ухоженная территория, приятное общение<sep>-<sep>М/unknown\n",
            "\n",
            "Не удалось обработать отзыв после 3 попыток.\n"
          ]
        },
        {
          "output_type": "stream",
          "name": "stderr",
          "text": [
            "Обработка отзывов:   3%|▎         | 301/9995 [06:05<3:29:46,  1.30s/it]"
          ]
        },
        {
          "output_type": "stream",
          "name": "stdout",
          "text": [
            "\n",
            "Текст отзыва: Отличный музей под открытым небом. Интересно и познавательно.\n",
            "Дополнительно, кроме деревянных экспонатов, на территории представлен дом-музей купеческой семьи Агаповых, где можно погреться и перекусить. \n",
            "Отдельное спасибо дедушке Юре в избе ремесел за мастер-класс, искрометный юмор и замечательную викторину для детей. Также благодарим Александра, который учил стрелять детей из лука и арбалета., \n",
            "Имя пользователя: nan, \n",
            "Позитивные слова: интересный музей под открытым небом, познавательно, дом-музей купеческой семьи Агаповых, мастер-класс, искрометный юмор, викторина для детей, обучение стрельбе, \n",
            "Негативные слова: -, \n",
            "Предполагаемый пол: unknown\n",
            "          \n"
          ]
        },
        {
          "output_type": "stream",
          "name": "stderr",
          "text": [
            "Обработка отзывов:   4%|▍         | 400/9995 [07:53<2:32:59,  1.05it/s]"
          ]
        },
        {
          "output_type": "stream",
          "name": "stdout",
          "text": [
            "\n",
            "Текст отзыва: Музей деревянного зодчества в Суздале. Сложности с парковкой в выходные дни, очередь на входе. Собственно музей - десятка полтора деревянных сооружений и изб, привезенных из разных мест и собранных заново. В том числе два деревянных храма. Один закрыт для посещений, в другой доступ свободный. К истории Суздаля отношения не имеют, самостоятельная экспозиция о деревянном зодчестве России. Осмотр с экскурсией по времени займет не более часа. На территории есть чайная в старинном купеческом доме, туалеты., \n",
            "Имя пользователя: nan, \n",
            "Позитивные слова: деревянные сооружения и избы, \n",
            "Негативные слова: сложности с парковкой в выходные дни, очередь на входе, к истории Суздаля отношения не имеют, \n",
            "Предполагаемый пол: unknown\n",
            "          \n"
          ]
        },
        {
          "output_type": "stream",
          "name": "stderr",
          "text": [
            "Обработка отзывов:   5%|▌         | 501/9995 [09:25<2:25:29,  1.09it/s]"
          ]
        },
        {
          "output_type": "stream",
          "name": "stdout",
          "text": [
            "\n",
            "Текст отзыва: Отличный музей. Много экспонатов. Практически во все избы можно заходить. Очень доброжелательные сотрудники., \n",
            "Имя пользователя: nan, \n",
            "Позитивные слова: отличный музей, много экспонатов, доброжелательные сотрудники, \n",
            "Негативные слова: -, \n",
            "Предполагаемый пол: М\n",
            "          \n"
          ]
        },
        {
          "output_type": "stream",
          "name": "stderr",
          "text": [
            "Обработка отзывов:   6%|▌         | 601/9995 [10:49<1:55:14,  1.36it/s]"
          ]
        },
        {
          "output_type": "stream",
          "name": "stdout",
          "text": [
            "\n",
            "Текст отзыва: Посещала неоднократно и всегда с огромным удовольствием. Особенно здорово приходить сюда с детьми))), \n",
            "Имя пользователя: nan, \n",
            "Позитивные слова: посещала неоднократно, огромное удовольствие, \n",
            "Негативные слова: -, \n",
            "Предполагаемый пол: Ж\n",
            "          \n"
          ]
        },
        {
          "output_type": "stream",
          "name": "stderr",
          "text": [
            "Обработка отзывов:   7%|▋         | 700/9995 [12:06<1:48:41,  1.43it/s]"
          ]
        },
        {
          "output_type": "stream",
          "name": "stdout",
          "text": [
            "\n",
            "Текст отзыва: Обязателен к посещению в Суздале. Мы здесь четвёртый раз, всегда находим что-то новое, что раньше не видели, да и дома и их убранство постоянно меняется. Можно ознакомиться с бытом русского народа от бедных крестьян до купцов. Посетите мастер-классы. Здесь есть один дедушка, плетёт лапти, делает розы из бересты, да и просто сказочник. Есть ещё рукодельницы, делают замечательные вещи. Отличные подарки ручной работы можно купить, ну и просто отлично провести время в русских избах. Рекомендую!!!, \n",
            "Имя пользователя: nan, \n",
            "Позитивные слова: обязателен к посещению, \n",
            "Негативные слова: --, \n",
            "Предполагаемый пол: unknown\n",
            "          \n"
          ]
        },
        {
          "output_type": "stream",
          "name": "stderr",
          "text": [
            "Обработка отзывов:   8%|▊         | 774/9995 [12:58<1:35:12,  1.61it/s]"
          ]
        },
        {
          "output_type": "stream",
          "name": "stdout",
          "text": [
            "Не удалось обработать ответ модели: Неверное число полей: 4\n",
            "\n",
            "Попытка 1: Неверный формат ответа модели. Ответ: красотища<sep>толпы народу, особенно китайцев<sep>вход 600р<sep>М unknown\n",
            "Не удалось обработать ответ модели: Неверное число полей: 4\n",
            "\n",
            "Попытка 2: Неверный формат ответа модели. Ответ: красотища<sep>толпы народу, особенно китайцев<sep>вход 600р<sep>М unknown\n",
            "Не удалось обработать ответ модели: Неверное число полей: 4\n",
            "\n",
            "Попытка 3: Неверный формат ответа модели. Ответ: красотища<sep>толпы народу, особенно китайцев<sep>вход 600р<sep>М unknown\n",
            "\n",
            "Не удалось обработать отзыв после 3 попыток.\n"
          ]
        },
        {
          "output_type": "stream",
          "name": "stderr",
          "text": [
            "Обработка отзывов:   8%|▊         | 801/9995 [13:19<1:59:50,  1.28it/s]"
          ]
        },
        {
          "output_type": "stream",
          "name": "stdout",
          "text": [
            "\n",
            "Текст отзыва: Очень красивый музей, \n",
            "Имя пользователя: nan, \n",
            "Позитивные слова: красивый музей, \n",
            "Негативные слова: -, \n",
            "Предполагаемый пол: unknown\n",
            "          \n"
          ]
        },
        {
          "output_type": "stream",
          "name": "stderr",
          "text": [
            "Обработка отзывов:   9%|▉         | 900/9995 [14:28<1:46:38,  1.42it/s]"
          ]
        },
        {
          "output_type": "stream",
          "name": "stdout",
          "text": [
            "\n",
            "Текст отзыва: Уже в третий раз, и все интереснее и интереснее., \n",
            "Имя пользователя: nan, \n",
            "Позитивные слова: уже в третий раз и все интереснее и интереснее, \n",
            "Негативные слова: -, \n",
            "Предполагаемый пол: unknown\n",
            "          \n"
          ]
        },
        {
          "output_type": "stream",
          "name": "stderr",
          "text": [
            "Обработка отзывов:  10%|█         | 1001/9995 [15:36<1:27:13,  1.72it/s]"
          ]
        },
        {
          "output_type": "stream",
          "name": "stdout",
          "text": [
            "\n",
            "Текст отзыва: Очень, очень дорогие входные билеты. А посмотреть почти нечего., \n",
            "Имя пользователя: nan, \n",
            "Позитивные слова: -, \n",
            "Негативные слова: очень дорогие входные билеты, смотреть почти нечего, \n",
            "Предполагаемый пол: unknown\n",
            "          \n"
          ]
        },
        {
          "output_type": "stream",
          "name": "stderr",
          "text": [
            "Обработка отзывов:  11%|█         | 1101/9995 [16:43<2:02:56,  1.21it/s]"
          ]
        },
        {
          "output_type": "stream",
          "name": "stdout",
          "text": [
            "\n",
            "Текст отзыва: Здесь собрали с разных мест избы, сделали красивый музей по образу русской деревни. Обязательно стоит посетить, \n",
            "Имя пользователя: nan, \n",
            "Позитивные слова: красивый музей по образу русской деревни, \n",
            "Негативные слова: -, \n",
            "Предполагаемый пол: unknown\n",
            "          \n"
          ]
        },
        {
          "output_type": "stream",
          "name": "stderr",
          "text": [
            "Обработка отзывов:  12%|█▏        | 1201/9995 [17:55<1:42:56,  1.42it/s]"
          ]
        },
        {
          "output_type": "stream",
          "name": "stdout",
          "text": [
            "\n",
            "Текст отзыва: Там оооочень красиво, \n",
            "Имя пользователя: nan, \n",
            "Позитивные слова: очень красиво, \n",
            "Негативные слова: -, \n",
            "Предполагаемый пол: unknown\n",
            "          \n"
          ]
        },
        {
          "output_type": "stream",
          "name": "stderr",
          "text": [
            "Обработка отзывов:  13%|█▎        | 1301/9995 [19:05<1:37:12,  1.49it/s]"
          ]
        },
        {
          "output_type": "stream",
          "name": "stdout",
          "text": [
            "\n",
            "Текст отзыва: Отличные экспонаты. Посетили с детьми, очень поучительно и интересно. Особенно понравились мельницы водяное колесо и дом купца, \n",
            "Имя пользователя: nan, \n",
            "Позитивные слова: отличные экспонаты, поучительно, интересно, \n",
            "Негативные слова: -, \n",
            "Предполагаемый пол: unknown\n",
            "          \n"
          ]
        },
        {
          "output_type": "stream",
          "name": "stderr",
          "text": [
            "Обработка отзывов:  14%|█▍        | 1399/9995 [20:16<2:00:23,  1.19it/s]"
          ]
        },
        {
          "output_type": "stream",
          "name": "stdout",
          "text": [
            "\n",
            "Текст отзыва: Обязательно для всех, \n",
            "Имя пользователя: nan, \n",
            "Позитивные слова: -, \n",
            "Негативные слова: -, \n",
            "Предполагаемый пол: unknown\n",
            "          \n"
          ]
        },
        {
          "output_type": "stream",
          "name": "stderr",
          "text": [
            "Обработка отзывов:  15%|█▌        | 1501/9995 [21:29<2:16:30,  1.04it/s]"
          ]
        },
        {
          "output_type": "stream",
          "name": "stdout",
          "text": [
            "\n",
            "Текст отзыва: Деревянные избы со всем содержимым, утварь, печи, лавки. Мельницы, храм. В целом тоже стоит посетить всё достаточно красиво и добротно сделано.\n",
            "\n",
            "За музеем хороший ресторан, вкусно готовят, но цены московские., \n",
            "Имя пользователя: nan, \n",
            "Позитивные слова: деревянные избы со всем содержимым, утварь, печи, лавки, мельницы, храм, всё достаточно красиво и добротно сделано, \n",
            "Негативные слова: цены московские, \n",
            "Предполагаемый пол: unknown\n",
            "          \n"
          ]
        },
        {
          "output_type": "stream",
          "name": "stderr",
          "text": [
            "Обработка отзывов:  15%|█▌        | 1523/9995 [21:47<1:52:54,  1.25it/s]"
          ]
        },
        {
          "output_type": "stream",
          "name": "stdout",
          "text": [
            "Не удалось обработать ответ модели: Неверное число полей: 2\n",
            "\n",
            "Попытка 1: Неверный формат ответа модели. Ответ: -мало экспонатов, на осмотр уходит максимум 20 минут, цена билета завышена<sep>unknown\n",
            "Не удалось обработать ответ модели: Неверное число полей: 2\n",
            "\n",
            "Попытка 2: Неверный формат ответа модели. Ответ: -мало экспонатов, на осмотр уходит максимум 20 минут, цена билета завышена<sep>unknown\n",
            "Не удалось обработать ответ модели: Неверное число полей: 2\n",
            "\n",
            "Попытка 3: Неверный формат ответа модели. Ответ: -мало экспонатов, на осмотр уходит максимум 20 минут, цена билета завышена<sep>unknown\n",
            "\n",
            "Не удалось обработать отзыв после 3 попыток.\n"
          ]
        },
        {
          "output_type": "stream",
          "name": "stderr",
          "text": [
            "Обработка отзывов:  16%|█▌        | 1601/9995 [22:43<1:23:37,  1.67it/s]"
          ]
        },
        {
          "output_type": "stream",
          "name": "stdout",
          "text": [
            "\n",
            "Текст отзыва: Хорошее., \n",
            "Имя пользователя: nan, \n",
            "Позитивные слова: хорошее, \n",
            "Негативные слова: -, \n",
            "Предполагаемый пол: unknown\n",
            "          \n"
          ]
        },
        {
          "output_type": "stream",
          "name": "stderr",
          "text": [
            "Обработка отзывов:  17%|█▋        | 1700/9995 [23:53<1:24:20,  1.64it/s]"
          ]
        },
        {
          "output_type": "stream",
          "name": "stdout",
          "text": [
            "\n",
            "Текст отзыва: Замечательное место, очень интересно, красиво и интерактивно. Есть на что то состоит. Очень спокойно. Можно взять экскурсию. Интересно с детьми. Есть лавочки чтобы посидеть и магазины. Все аккуратно и чисто.\n",
            "\n",
            "Очень занимательно, \n",
            "Имя пользователя: nan, \n",
            "Позитивные слова: замечательное место, интересно, красиво, интерактивно, спокойно, можно взять экскурсию, интересно с детьми, есть лавочки чтобы посидеть и магазины, все аккуратно и чисто, занимательно, \n",
            "Негативные слова: -, \n",
            "Предполагаемый пол: unknown\n",
            "          \n"
          ]
        },
        {
          "output_type": "stream",
          "name": "stderr",
          "text": [
            "Обработка отзывов:  18%|█▊        | 1800/9995 [25:03<1:40:25,  1.36it/s]"
          ]
        },
        {
          "output_type": "stream",
          "name": "stdout",
          "text": [
            "\n",
            "Текст отзыва: В музее вы увидите старинные деревянные постройки: дома, мельницы, церкви. В жилых домах можно увидеть быт как обычного крестьянина, так и зажиточного купца. Очень интересно. Мне понравилось. Рекомендую к посещению., \n",
            "Имя пользователя: nan, \n",
            "Позитивные слова: старинные деревянные постройки, быт крестьян, быт купца, \n",
            "Негативные слова: -, \n",
            "Предполагаемый пол: М\n",
            "          \n"
          ]
        },
        {
          "output_type": "stream",
          "name": "stderr",
          "text": [
            "Обработка отзывов:  19%|█▉        | 1899/9995 [26:20<2:05:04,  1.08it/s]"
          ]
        },
        {
          "output_type": "stream",
          "name": "stdout",
          "text": [
            "\n",
            "Ошибка при вызове LLM на попытке 1: Requested tokens (5060) exceed context window of 4096\n",
            "\n",
            "Ошибка при вызове LLM на попытке 2: Requested tokens (5060) exceed context window of 4096\n",
            "\n",
            "Ошибка при вызове LLM на попытке 3: Requested tokens (5060) exceed context window of 4096\n",
            "\n",
            "Не удалось обработать отзыв после 3 попыток.\n",
            "\n",
            "Текст отзыва: Приветствую читателей моего отзыва!\n",
            "\n",
            " В городе Владимир одним из наиболее примечательных музеев является Музей хрусталя и стекла 18-21 веков, который размещается в самом центре города напротив Золотых ворот в помещении бывшей Троицкой старообрядческой церкви, известной в городе под названием «Красная церковь», по адресу: г. Владимир, ул. Дворянская, д.2.\n",
            "\n",
            "История музея насчитывает полвека: музей был открыт в 1974 году и долгие годы назывался музеем хрусталя, вышивки и лаковой миниатюры.\n",
            "\n",
            "Совсем недавно в музее проведена реконструкция, произошла и замена экспозиции. Теперь в экспозиции только хрусталь и стекло, поэтому музей и сменил свое название.\n",
            "\n",
            "Читала на сайтах, что эта экспозиция –четвертая по счету.\n",
            "\n",
            "Я очень часто бывала во Владимире с экскурсиями в 70-ые годы, когда входил в программу экскурсионных поездок, поэтому хорошо помню первые экспозиции, они тоже были довольно богаты и всегда производили впечатление, а запоминались именно образцами чудесных хрустальных изделий, производимых в г. Гусь- Хрустальный. Стоит отметить, что тогда подобного музея в г. Гусь-Хрустальный не было, он открылся там позднее на несколько лет.\n",
            "\n",
            "Но с открытием музея в Гусь- Хрустальном, значимость подобного музея во Владимире не пострадала: в Гусь-Хрустальный не каждый турист доберется, а во Владимире туристов значительно больше, и думаю, что увидеть лучшие образцы художественной обработки хрусталя и стекла мало кто откажется.\n",
            "\n",
            "Вот о посещении этого музея и хочу поделиться впечатлениями.\n",
            "\n",
            "Здание старообрядческой Троицкой церкви( вид от Золотых ворот), в которой расположился музей, привлекает своей архитектурой.\n",
            "\n",
            "Оно было построено на средства старообрядцев накануне революции 1917 года в псевдорусском стиле из красного кирпича в технике «крестовой кладки», и внешне очень красиво. И так здорово, что судьба его пощадила от разрушения, хотя ситуация в 60-ые годы прошлого века была, как говорится, \"на грани\", но вмешательство интеллигенции, к мнению которой прислушалась власть, смогло предотвратить непоправимое.\n",
            "\n",
            "Музей находится рядом с Золотыми воротами( на фото сзади, сейчас на реставрации), Драматическим театром, на площади красивый фонтан, памятник провинциальным артистам.\n",
            "\n",
            "Музей работает с 11.00 до 19.00, но в зимний период лучше информацию дополнительно уточнить на сайте. На момент написания отзыва заглянула на сайт и увидела в расписании уже иное: с 10.00до 18.00, вторник- выходной день.\n",
            "\n",
            "Цены в музей не самые высокие: 200 рублей, для некоторых категорий есть бесплатное посещение, льготы: например, для пенсионеров билет стоит 150 рублей, есть дни бесплатного посещения для ряда категорий, есть и люди, которым положено бесплатное посещение. Разумеется, потребуются документы в подтверждение. Детали можно уточнить на сайте Владимиро- Суздальского музея-заповедника, в состав которого и входит этот музей.\n",
            "\n",
            "\n",
            "    \n",
            "        \n",
            "    \n",
            "\n",
            "\n",
            "Приятной неожиданностью для нас явилось то, что мы пришли в музей в предпоследний четверг месяца, когда для пенсионеров бесплатный вход. Повезло!\n",
            "\n",
            "Итак, и я вас приглашаю заглянуть в музей.\n",
            "\n",
            "Занимает музей два зала. В первом, небольшом зале, экспонаты дореволюционного периода, во втором зале, значительно большим по размерам- 20 и 21 век.\n",
            "\n",
            "В музее можно взять в залог аудиогид, но это совсем не обязательно. Возле стендов( на стендах) музея много очень содержательных информационных материалов, полезно их почитать перед осмотром экспозиции, особенно если смотрите экспонаты без эксурсовода, и тогда осмотр экспозиции будет более осознанным.\n",
            "\n",
            "Рядом с экспонатами указаны цифры, а потом по этим цифрам на подобных стендах с перечнем экспонатов размещена необходимая информация: название, век или год, автор, способ обработки... Кому-то это будет интересно, а кто-то, знаю, и не заглядывает в подписи, а просто любуется совершенной красотой экспонатов.\n",
            "\n",
            "Я обычно в подобных музеях вчитываюсь \"в визитную карточку изделия\", если оно меня чем-то зацепит: то ли глаз не отвести от красоты, то ли непонятно, что это и для чего... Поэтому быстрое посещение музея не получается.\n",
            "\n",
            "Но прежде чем начинать изучать экспонаты, мне не терпелось увидеть обновленный облик интерьеров музея.\n",
            "\n",
            "Первое впечатление: простор, воздух, очень много света, какие-то словно невесомые, парящие в пространстве витрины с экспонатами, стеклянные, очень удачно подсвеченные. Они располагаются слева и справа по длине здания. И в них великолепные изделия! Настоящее королевство хрусталя и стекла, итог работы очень талантливых мастеров.\n",
            "\n",
            "\n",
            "\n",
            "В витринах центрального зала авторские произведения выдающихся художников Гусевского хрустального завода В. Муратова, Е. Рогова, О. Козловой, В. Касаткина, В. Филатова и многих других...\n",
            "\n",
            "В центре же экспозиции – яркая стекольная инсталляция «Воспоминание о Венеции», созданная талантом народного художника России Владимира Муратова. Ее образ мне напомнил замечательные дельфиниумы... Сзади - лестница вниз. Это выход из музея через сувенирный магазин, который расположен ниже.\n",
            "\n",
            "В зале длинная с оригинальной стеклянной вставкой скамейка, экспонаты можно рассматривать и сидя на ней, издали, что многие посетители и делают. Можно просто отдохнуть, никто никого тут не торопит.\n",
            "\n",
            "А еще меня покорили своей формой светильники в нишах, очень оригинальное решение, залюбуешься.\n",
            "\n",
            "А какие прекрасные, в тему экспозиции, цветные витражи вверху на стенах, \n",
            "\n",
            "И потолок необычно оформлен. Интерьер залов очень впечатлил!\n",
            "\n",
            "Радует, что в обновленных интерьерах много интерактивных моментов, рассказывающих об истории хрусталя и стекла на владимирской земле, людях, их создающих.\n",
            "\n",
            "Сознаюсь, было грустно смотреть на ленту времени производства изделий в Гусь- Хрустальном... Не хочу даже комментировать, потому что такая история ведь не только у них... Хорошо хоть то, что завод выжил, а ведь сколько заводов в других городах \"канули в лету\"...\n",
            "\n",
            "Но вернемся к экспозиции. Изюминка музея в том, что здесь не только показывают лучшие изделия хрусталя и стекла, но и рассказывают об истории стекольного дела на владимирской земле. И связано оно здесь с несколькими поколениями стеклопромышленников Мальцевых.\n",
            "\n",
            "Производство было основано купцом Акимом Мальцевым в середине 18 века, вокруг которого и возникло поселение, получившее название Гусь- Хрустальный.\n",
            "\n",
            "Разумеется, в мещерской глуши так просто никто не стал бы завод строить. Все было связано с указом Сената о переносе стекольных заводов, которые появились на Руси с возрождением в 17 веке художественного стеклоделия, подальше от Москвы не менее чем на 200 километров. Почему? Стекольное производство требовало много древесины для сжигания. Вот и стали вокруг столицы безжалостно вырубать леса... А в глуши лесов еще было много, народу мало...\n",
            "\n",
            "Экспонаты здесь очень интересные, порой их назначение сразу и не понимаешь, приходится искать информацию. Смотришь и удивляешься, как быстро совершенствовались производство и мастерство.\n",
            "\n",
            "И если посуда 18 века декорировалась в народных традициях, то уже в 19 веке изделия украшаются знаменитой мальцевской гранью, гравировкой, нацветом, росписью золотом.\n",
            "\n",
            "Чем дальше, тем разнообразнее становятся изделия, совершенствуются технологические подходы, позволяющие это сделать.\n",
            "\n",
            "Особо выделяются вазы в стиле модерн, появление которых стало возможно благодаря разработке французом Э. Галле техники нанесения травления по многослойному стеклу.\n",
            "\n",
            "Какое изделие и как выполнено- обо всем этом можно прочитать.\n",
            "\n",
            "На следующей фотографии витрина с наиболее ранними образцами изделий завода.\n",
            "\n",
            "Поражает оригинальность форм некоторых сосудов.\n",
            "\n",
            "Мы видим кубки с интересной гравировкой, потрясает воображение рядом стоящий штоф с крестом и петухом, дочке все-таки удалось его сфотографировать крупным планом( ну не чудо ли ?)\n",
            "\n",
            "То, что еще правее, с позолотой, это образцы императорских заводов( подарок музею). а находится в этой витрине \"по возрасту\".\n",
            "\n",
            "Очень интересна внизу на витрине трость, которая в то время была необходимым атрибутом уважающего себя аристократа, \n",
            "\n",
            "вот она крупным планом.\n",
            "\n",
            "Украшена венецианской нитью.\n",
            "\n",
            "Венецианская нить, иначе филигрань, это тончайший узор из разноцветных стеклянных нитей, которым декорировали стеклянные изделия. Способ декорирования был известен еще в древности, но наибольшее развитие получил в Венеции, отсюда и название.\n",
            "\n",
            "Секрет изготовления таких изделий хранили в тайне, мастера стекольщики были не выездными, но все равно кому-то удавалось сбегать в Европу, где они и открывали мастерские и делились секретами, которые становились доступными и мастерам из других стран.\n",
            "\n",
            "Не менее интересные изделия и на этой витрине, каждое со своей \"родословной\".\n",
            "\n",
            "Вот, к примеру, две рюмочки под цифрой \"2\", их появление связано с нововведениями в стране при Петре Первым.\n",
            "\n",
            "Мы никогда не задумываемся порой, откуда берется то или иное выражение. \"Быть под мухой\" выражение на слуху, что и говорить... А оказывается, что есть у него происхождение.\n",
            "\n",
            "И связано оно с Петром Первым, который решил в стране заменить кабаки, в которых можно было просто выпить, на трактиры, где людям полагалось и пить, и закусывать, и, надо думать, тем самым казну пополнять... Понятно, что не всем это нравилось, поэтому для привлечения клиентов решено было первую рюмку наливать бесплатно. Это уже не нравилось трактирщикам, так как рюмки тогда были большими. Вот поэтому и сделали для трактирщиков маленькие рюмки- на 10-15 мл, которые народ тут же стал называть \"мухами\", и чтобы получить изрядную дозу спиртного и приходилось \"ходить под мухой\" по нескольким заведениям, собирая первую бесплатную чарку. Ну, а если удавалось вдоволь захмелеть от нескольких таких \"мух\", то говорили: \"быть под мухой\".\n",
            "\n",
            "Но время шло. И если в первые годы работы предприятия изготавливались в основном обыденные стеклянные изделия, то вскоре появился и хрусталь, а с ним резко расширились возможности обработки изделий, превращающие изделия в настоящие художественные произведения.\n",
            "\n",
            "А все дело в том, что хрусталь получается за счет добавок в состав для варки стекла оксида свинца( порой до четверти всей массы), благодаря которому изделия приобретают повышенную плотность, а значит их можно огранять, не боясь разрушения. Еще у этого стекла прекрасные лучепреломляемость и блеск, что позволяет ограненным изделиям, преломляющим лучи света под разными углами, быть необыкновенно красивыми. Из хрусталя стали изготавливать дорогую высококачественную посуду и декоративные изделия. А каков мелодичный звон!\n",
            "\n",
            "Впервые хрусталь стали выпускать в Англии, там появилась и алмазная огранка хрусталя, на гусевском заводе тоже выпускали изделия с такой огранкой.\n",
            "\n",
            "И в музее нашем сохранившийся графин в виде двуглавого орла с такой обработкой выставлен вне витрин, отдельно, на своеобразном подиуме. Рядом подпись: \"Конец 19 века, выдувание в форму, гутная техника, алмазная грань.\"\n",
            "\n",
            "Гутная техника, сохранившаяся до наших времен, интереснейшая сторона русского народного искусства, позволяющая создавать уникальные, единичные экземпляры изделий, не похожих друг на друга. Горячее стекло свободно раздувают, выдувальщик сам создает форму, ее совершенство зависит от мастерства исполнителя.\n",
            "\n",
            "А еще эта работа тяжелая, убедитесь в этом, если воспользуетесь в музее возможностями интерактива.\n",
            "\n",
            "В 80-ые годы прошлого века я была на заводе в Гусь-Хрустальном и поразилась, как тяжела работа мастера, работающего там. Ведь все надо успеть сделать, пока стекольная масса расплавлена, тягучая... А какое здоровье, какой объем легких требуется, чтобы набрав на кончик трубки расплавленный шарик стекла, быстро раздуть его в шар, вращая при этом, перекидывая трубку из одной руки в другую, словно в цирке, да еще попутно подправляя форму специальными приспособлениями.\n",
            "\n",
            "Чуть позже я покажу фото работ одного из наиболее виртуозных мастеров.\n",
            "\n",
            "Не останавливаясь на алмазной грани, в Гусь- Хрустальном были изобретены и свои формы огранки: мальцевская грань, русский камень, многогранники.\n",
            "\n",
            "Под \"мальцевской гранью\" понимают целое направление в искусстве стекла, когда изделие украшали геометрическим рисунком, составленным из таких элементов огранки, как «камни», «розетки», «кусты», «звезды», «пальцы», «паутинка»...\n",
            "\n",
            "Особо драгоценными считались изделия с отделкой \" русский камень\", в технологии ее шло подражание огранке драгоценных камней. Структурной единицей такой огранки является восьмиугольный «алмаз» и четырех гнезда более мелких «камней».\n",
            "\n",
            "Впервые изделия с такой огранкой появились именно на мальцевском заводе в первой половине 19 века.\n",
            "\n",
            "Изделия с такими формами можно видеть на фото предыдущей витрины.\n",
            "\n",
            "Несколько понравившихся оттуда изделий крупным планом и снова с интересной историей:\n",
            "\n",
            "На фото ниже сверху два кальяна, ниже их красные сосуды.\n",
            "\n",
            "На одном из них непривычный рисунок- изображение льва и солнца.\n",
            "\n",
            "Оказывается, такой фужер был сделан на предприятии в память о награждении иранскими властями Ивана Сергеевича Мальцева, внука Акима Мальцева орденом Льва и Солнца.\n",
            "\n",
            "Он- наследник фабрики с 1823 года, был очень талантлив во многих направлениях: заводчик, дипломат, литератор. Друг Соболевского, одного из друзей А. С. Пушкина, по его инициативе был направлен в дипмиссию А. С. Грибоедова в Иран. Во время разгрома дипмиссии и гибели Грибоедова оказался единственным сотрудником посольства, которому удалось тогда спастись.\n",
            "\n",
            "В качестве компенсации Иран дал Мальцеву А. И. право на беспошлинную торговлю, вот и появились изделия с восточной тематикой, в том числе и подобные кальяны, оплетенные серебряной вязью, которые поставлялись в Персию, Среднюю Азию, Закавказье.\n",
            "\n",
            "Бывая за границей, в том числе и в Богемии, Чехии, Иван Сергеевич интересовался техническими новшествами, потом внедрял их у себя.\n",
            "\n",
            "Мальцеву впервые удалось производство \"рубинового стекла\", цвет его по рубиновым звездам, думаю, известен каждому, но в витрине, конечно, не звезды, \n",
            "\n",
            "а также уранового стекла, в зеленовато- желтых оттенках( на фото ниже в центре и справа)\n",
            "\n",
            "А еще он положил начало сбору при фабрике уникальных изделий из стекла и образцов массового производства, благодаря этому начинанию теперь и есть, что показывать в музеях.\n",
            "\n",
            "Поэтому не зря мы его портрет видим в первом зале.\n",
            "\n",
            "Есть там и портрет Юрия Степановича Нечаева- Мальцева, \n",
            "\n",
            "которому по наследству перешло все производство после смерти Ивана Сергеевича, его дяди.\n",
            "\n",
            "Он достойно продолжил правление, оставшись в памяти народа не только удачным предпринимателем, но и известным благотворителем и меценатом.\n",
            "\n",
            "Интересуясь судьбой рода Цветаевых, истоки которого на нашей земле, а в пригороде Иванова есть музей Цветаевых, я давно читала, что именно благодаря Юрию Степановичу смог существовать в Москве Музей изящных искусств, сейчас- Государственный музей изобразительных искусств им. А. С. Пушкина, одним из основателей которого он был, взяв на себя основные затраты при строительстве. Он же был и основателем первого во Владимире технического училища.\n",
            "\n",
            "В производстве и обработке стекла при нем была освоена новая техника, позволяющая изготовить изделия, внешне похожие на мрамор, яшму.\n",
            "\n",
            "\n",
            "\n",
            "Не менее интересны и вазы в стиле \"Галле\"( писала выше о сути их) конца 19 века, здесь травление по многослойному хрусталю.\n",
            "\n",
            "Оригинальными были и приборы, изготовленные к 300- летию дома Романовых, в экспозиции тоже есть несколько изделий ( на фото слева):\n",
            "\n",
            "Можно бесконечно рассказывать об изделиях дореволюционного периода в истории предприятия, но пора перейти во второй зал.\n",
            "\n",
            "Этот зал большой, в нем находятся витрины с лучшими работами признанных мастеров 20 и даже 21 века.\n",
            "\n",
            "Вот здесь уже как-то история создания работ меньше интересует, полностью погружаешься в мир фантазии художников, полет мысли которых и приводит к совершенству красоты.\n",
            "\n",
            "Работ много, и трудно даже выделить для себя фаворитов. Тот случай, когда практически все нравятся. Я вообще обожаю созерцать художественное стекло, стараюсь в музеях и на выставках, где есть стекло, обязательно побывать.\n",
            "\n",
            "На следующей витрине дочь меня подвела к трем вазам ( на фото внизу слева) высоким и стройным, разных цветов, с фразой: \"Мама, а ведь у тебя такая ваза есть!).\n",
            "\n",
            "И верно, у меня есть ваза из синего стекла, очень люблю ее, в ней грациозно смотрятся одиночные цветы гладиолусов, которые мы обожаем и выращиваем.\n",
            "\n",
            "На просторах Интернета подобные вазы продаются под общим названием \"Эйфелевы башни\". Грациозные, устремленные ввысь.\n",
            "\n",
            "Правее их удивительной красоты крюшонница с подносом, это авторская работа А. Чистова( середина 20 века), еще один яркий пример использования в отделке венецианской нити.\n",
            "\n",
            "Правее крюшонницы набор из красного стекла по названием \"Пшеница\", если честно, почему так названо- не поняла. Далее \"Орден Победы\" в виде строгого прямоугольника Е. Рогова и за ним шикарный набор В. Касаткина \"Горячий сне\", вот он мне очень понравился.\n",
            "\n",
            "При СССР было модным выпускать хрустальные изделия в связи стой или иной юбилейной датой, либо приуроченные к ряду событий.\n",
            "\n",
            "В правой части данной витрины наверху я невольно обратила внимание на вазу с изображением главного символа города - Золотых ворот, выполненная к юбилейной дате- 850 летия города.\n",
            "\n",
            "Вокруг вазы кубки с крышками: слева \" С. И. Танеев\", справа- \"М. П. Лазарев\". Имя Лазарева многим знакомо, а вот о Танееве, наверно, не все знают. Композитор, уроженец Владимира, ученик Чайковского, бывал в Ясной Поляне, его музыку очень ценила жена Л. Толстого, а он ее даже ревновал, основы отношений музыканта и Софьи толстой послужили основанием для создания \"Крейцеровой сонаты\".\n",
            "\n",
            "Не меньше красоты и в следующей витрине. Из-за лимита фотографий крупный план, увы, отменяется. Просто перечислю, что запомнилось, а запомнилось, благодаря своим оригинальным решениям, почти все. Но все же мои фавориты: в центре ваза с синими и красными вставками\"по талии\"- \"Северное сияние\" С. Верина. Не прочитала бы название, не догадалась бы...\n",
            "\n",
            "А вот под ней в виде \"перевернутой шляпы\" работа В. Муратова \"Юпитер\", согласна, похожа вполне, выполнена в знак освоения космоса. Левее, в нежных сиреневых тонах, его же композиция \"Грезы\".\n",
            "\n",
            "Работ В. Муратова тут немало, был главным художником завода, талант налицо, не зря ...\n",
            "\n",
            "Ах, как Русью повеяло от его работ в гутной технике на следующей витрине: тут и птицы сказочной красоты, \n",
            "\n",
            "и русская тройка!\n",
            "\n",
            "Непревзойденной по красоте является и его работа в гутной технике \"Воспоминания о Венеции\", ранее мною показанная на первой фотографии зала. Известно, что он путешествовал по Европе, по местам, которые славятся своими стеклянными изделиями, проник в суть южного образа жизни, традиций и попытался, очень удачно, воплотить воспоминания в своем труде.\n",
            "\n",
            "Покажу фрагмент работы, чтобы представить детали.\n",
            "\n",
            "Очень запомнился своей нежностью комплект\"Рябинка\"( Е. Рогов), был бы такой в магазине, точно захотелось бы купить!\n",
            "\n",
            "Такие же нежно- пастельные и две чудесные вазы\n",
            "Их название \"Весна человечества\" прямо таки философским смыслом наполнено.\n",
            "\n",
            "Сюда даже цветы я бы не осмелилась поставить, настолько они хороши сами по себе! Столько чувств возникает, когда их созерцаешь, разве что таланта не достает, чтобы из выразить.\n",
            "\n",
            "Но пора и к витринам с работами более позднего периода, конца 20 века, когда в творчестве мастеров стали преобладать авторские композиции, в которых они тем не менее опирались на достижения и наработки старых мастеров.\n",
            "\n",
            "Однако современные возможности позволяют им создавать изделия с более широким многообразием оттенков цветовой гаммы благодаря использованию в качестве добавок оксидов редкоземельных металлов и техники \"нацвета\".\n",
            "\n",
            "В следующей витрине мне больше всего запомнились работа Ольги Козловой \"Дефиле\", представляющая в контрастном исполнении всего из двух цветов моделей в шляпах.\n",
            "\n",
            "а также работа \"Цвети Земля\" - В. Муратова.\n",
            "\n",
            "Еще одна витрина с интереснейшими работами еще более позднего периода, по сути-наших времен: наверху слева композиция В. Касаткина \"Разноцвет\", под ней - ваза \"Искушение\". Правее \"Разноцвета\" в белых тонах декоративная композиция \"Посланники мира\". Необычно смотрится, но, видимо, авторы идею мира решили передать через цвет, ведь белый цвет символ мира и чистоты. Вспомним голубь мира, он всегда белого цвета.\n",
            "\n",
            "А вот чтобы понять, почему ваза носит название \"Искушение\", достаточно ее рассмотреть крупным планом:\n",
            "\n",
            "Хороши и \"Орхидеи\" Корнеева, они правее вазы \"Искушение\" на фотографии общим планом.\n",
            "\n",
            "А в этой витрине запомнились изделия под названием \"Регата\" - три бело-синие вазы в виде паруса. На нижней полочке тоже очень оригинальные решения изделий.:\n",
            "\n",
            "\n",
            "\n",
            "Запоминаются и работы Е. Рогова. Удивительно красива ваза для цветов \"Солнечная\", \n",
            "\n",
            "а его работа \"Возрождение\" ( 1995 год) настолько хороша и совершенна, что помещена в отдельной витрине на границе залов. Ее можно рассматривать с разных сторон и в каждом ракурсе она хороша... Она выполнена в виде церковных куполов, и это символично, ведь в церкви душа наполняется\n",
            "верой и надеждой, ведь сюда приходит православный в дни, когда ему особо тяжело...\n",
            "\n",
            "Когда завершается посещение экспозиции, то ты хочешь или не хочешь, но выходишь из музея через сувенирный магазин. Там мы посмотрели ассортимент сувениров, он очень обширный, не только стекло и хрусталь. Запомнились не только изделия, но и порой очень высокие непривычные простому пенсионеру цены.\n",
            "\n",
            "\n",
            "\n",
            "\n",
            "\n",
            "Мы получили огромное удовольствие от посещения этого музея, совсем не пожалели, что выбрали именно его. В современном исполнении, в обновленных интерьерах церкви, да и сама обновленная, экспозиция хрусталя и стекла несомненно стоит внимания туристов, посещающих Владимир. \n",
            "\n",
            "Рекомендую., \n",
            "Имя пользователя: Alvina16, \n",
            "Позитивные слова: -, \n",
            "Негативные слова: -, \n",
            "Предполагаемый пол: -\n",
            "          \n"
          ]
        },
        {
          "output_type": "stream",
          "name": "stderr",
          "text": [
            "Обработка отзывов:  20%|█▉        | 1992/9995 [27:32<1:29:06,  1.50it/s]"
          ]
        },
        {
          "output_type": "stream",
          "name": "stdout",
          "text": [
            "Пол не определен: М/Ж unknown\n",
            "\n",
            "Попытка 1: Неверный формат ответа модели. Ответ: интересная и прекрасная экспозиция и внутреннее убранство музея, вежливые смотрители<sep>-<sep>М/Ж unknown\n",
            "Пол не определен: М/Ж unknown\n",
            "\n",
            "Попытка 2: Неверный формат ответа модели. Ответ: интересная и прекрасная экспозиция и внутреннее убранство музея, вежливые смотрители<sep>-<sep>М/Ж unknown\n"
          ]
        },
        {
          "output_type": "stream",
          "name": "stderr",
          "text": [
            "\rОбработка отзывов:  20%|█▉        | 1994/9995 [27:36<2:20:13,  1.05s/it]"
          ]
        },
        {
          "output_type": "stream",
          "name": "stdout",
          "text": [
            "Пол не определен: М/Ж unknown\n",
            "\n",
            "Попытка 3: Неверный формат ответа модели. Ответ: интересная и прекрасная экспозиция и внутреннее убранство музея, вежливые смотрители<sep>-<sep>М/Ж unknown\n",
            "\n",
            "Не удалось обработать отзыв после 3 попыток.\n"
          ]
        },
        {
          "output_type": "stream",
          "name": "stderr",
          "text": [
            "Обработка отзывов:  20%|██        | 2000/9995 [27:42<2:13:37,  1.00s/it]"
          ]
        },
        {
          "output_type": "stream",
          "name": "stdout",
          "text": [
            "\n",
            "Текст отзыва: Ходили в музей всей семьей очень понравилось. Рекомендую., \n",
            "Имя пользователя: nan, \n",
            "Позитивные слова: понравилось, \n",
            "Негативные слова: -, \n",
            "Предполагаемый пол: unknown\n",
            "          \n"
          ]
        },
        {
          "output_type": "stream",
          "name": "stderr",
          "text": [
            "Обработка отзывов:  21%|██        | 2100/9995 [29:02<2:06:17,  1.04it/s]"
          ]
        },
        {
          "output_type": "stream",
          "name": "stdout",
          "text": [
            "\n",
            "Текст отзыва: Очень красочно и прекрасная экспозиция. Интерактивные панели с кучей информации. Неудобно сделали односторонний выход к сувенирам., \n",
            "Имя пользователя: nan, \n",
            "Позитивные слова: красочно, прекрасная экспозиция, интерактивные панели, \n",
            "Негативные слова: односторонний выход к сувенирам, \n",
            "Предполагаемый пол: unknown\n",
            "          \n"
          ]
        },
        {
          "output_type": "stream",
          "name": "stderr",
          "text": [
            "Обработка отзывов:  22%|██▏       | 2200/9995 [30:19<1:35:16,  1.36it/s]"
          ]
        },
        {
          "output_type": "stream",
          "name": "stdout",
          "text": [
            "\n",
            "Текст отзыва: Были на мастер -классе \"Секрет стеклодела\" очень познавательно и не обычно. Мастер Алексей- СПАСИБО!!! Вы очень позитивный, было очень интересно и познавательно!!! Мы сделали волшебный листик, украсит мою ёлку!!! , \n",
            "Имя пользователя: nan, \n",
            "Позитивные слова: познавательный мастер класс, позитивный мастер, интересный мастер класс, \n",
            "Негативные слова: -, \n",
            "Предполагаемый пол: unknown\n",
            "          \n"
          ]
        },
        {
          "output_type": "stream",
          "name": "stderr",
          "text": [
            "Обработка отзывов:  23%|██▎       | 2301/9995 [31:35<1:26:19,  1.49it/s]"
          ]
        },
        {
          "output_type": "stream",
          "name": "stdout",
          "text": [
            "\n",
            "Текст отзыва: Стоит посетить. Рекомендую., \n",
            "Имя пользователя: nan, \n",
            "Позитивные слова: стоит посетить, рекомендую, \n",
            "Негативные слова: -, \n",
            "Предполагаемый пол: unknown\n",
            "          \n"
          ]
        },
        {
          "output_type": "stream",
          "name": "stderr",
          "text": [
            "Обработка отзывов:  23%|██▎       | 2338/9995 [32:03<1:28:27,  1.44it/s]"
          ]
        },
        {
          "output_type": "stream",
          "name": "stdout",
          "text": [
            "Пол не определен: М (unknown)\n",
            "\n",
            "Попытка 1: Неверный формат ответа модели. Ответ: профессионал своего дела, интересно и подробно рассказала<sep>-<sep>М (unknown)\n",
            "Пол не определен: М (unknown)\n",
            "\n",
            "Попытка 2: Неверный формат ответа модели. Ответ: профессионал своего дела, интересно и подробно рассказала<sep>-<sep>М (unknown)\n",
            "Пол не определен: М (unknown)\n",
            "\n",
            "Попытка 3: Неверный формат ответа модели. Ответ: профессионал своего дела, интересно и подробно рассказала<sep>-<sep>М (unknown)\n",
            "\n",
            "Не удалось обработать отзыв после 3 попыток.\n"
          ]
        },
        {
          "output_type": "stream",
          "name": "stderr",
          "text": [
            "Обработка отзывов:  24%|██▍       | 2400/9995 [32:56<1:56:12,  1.09it/s]"
          ]
        },
        {
          "output_type": "stream",
          "name": "stdout",
          "text": [
            "\n",
            "Текст отзыва: Билет на взрослого 230-260 рублей. Дети до 16 лет бесплатно. Интересная экспозиция по истории хрусталя., \n",
            "Имя пользователя: nan, \n",
            "Позитивные слова: интересная экспозиция по истории хрусталя, \n",
            "Негативные слова: -, \n",
            "Предполагаемый пол: unknown\n",
            "          \n"
          ]
        },
        {
          "output_type": "stream",
          "name": "stderr",
          "text": [
            "Обработка отзывов:  25%|██▌       | 2500/9995 [34:06<1:18:24,  1.59it/s]"
          ]
        },
        {
          "output_type": "stream",
          "name": "stdout",
          "text": [
            "\n",
            "Текст отзыва: Небольшой музей, который распологается в бывшем соборе (церкви). В нем расказывается об истории хрустоля и производства стекла в России. Очень позновательно и интересные экспозиции. Здание также заслуживпет внимания и снаружи и внутри., \n",
            "Имя пользователя: nan, \n",
            "Позитивные слова: небольшой музей, интересная экспозиция, познавательно, \n",
            "Негативные слова: -, \n",
            "Предполагаемый пол: unknown\n",
            "          \n"
          ]
        },
        {
          "output_type": "stream",
          "name": "stderr",
          "text": [
            "Обработка отзывов:  26%|██▌       | 2601/9995 [35:19<1:39:31,  1.24it/s]"
          ]
        },
        {
          "output_type": "stream",
          "name": "stdout",
          "text": [
            "\n",
            "Текст отзыва: Интересно и познавательно, \n",
            "Имя пользователя: nan, \n",
            "Позитивные слова: интересно, познавательно, \n",
            "Негативные слова: -, \n",
            "Предполагаемый пол: unknown\n",
            "          \n"
          ]
        },
        {
          "output_type": "stream",
          "name": "stderr",
          "text": [
            "Обработка отзывов:  27%|██▋       | 2701/9995 [36:40<2:50:21,  1.40s/it]"
          ]
        },
        {
          "output_type": "stream",
          "name": "stdout",
          "text": [
            "\n",
            "Текст отзыва: Листая приложение «Культура», мне попалась выставка «Исторический музей». В описание было сказано: «Музей познакомит гостей с периодом становления и наивысшего расцвета Владимиро-Суздальского княжества в XII – начале XII века…». Недолго думая, я решила узнать про это и отправилась туда.\n",
            "В зале находилось множество различных экспонатов. Моё путешествие начинается с раннего железный века владимирской области. Это было время освоения основных приемов производства железа и широкого использования сделанных из него орудий труда, таких как крица –сыродутное железо, проколки, наконечники стрел.\n",
            "\n",
            "\n",
            "    \n",
            "        \n",
            "    \n",
            "\n",
            "На территории будущего Владимирского края проживали представители финно-угорских племен. Они вели оседлый образ жизни, занимались скотоводством охотой. Примерно с VI столетия сюда стали проникать первые славянские поселенцы. Темпы славянской колонизации сильно возросли, вскоре они стали преобладать над коренными жителями региона.\n",
            "Зримым воплощением возросшего величия и авторитета Залесской земли стали памятники белокаменного зодчества. Нам представлены крест XII века с вырезанной молитвой «Похвала кресту» и блок с львиной маской.\n",
            "Огромный вклад в историю Владимиро-Суздальского княжества внесли Юрий Долгорукий, Андрей Боголюбов и Всеволод Большое Гнездо. Именно в период их правления произошло возвышения княжества, а именно расширение территории, было построено множество церквей и укрепление политической роли.\n",
            "В 1778 году была учреждена Владимирская губерния. После отмены крепостного права постепенно стала развиваться торговля иконами, лубками, дешёвыми книгами. В XIX веке создали благоприятную почву для развития промышленного производства. Во Владимирской губернии имелось около 1900 фабрик. На многих уже работало современное оборудование: паровые и электрические машины. До Октябрьской революции Владимирскую губернию называли «ситцевым краем», а также в начале XX века считалась лидером отечественного стеклоделия.\n",
            "Владимир – это родина писателя Николая Златовратского, композитора и музыкального педагога Сергея Танеева, учёного-физика с мировым именем Александра Столетова, его братьев, генералов Николая и Дмитрия Столетовых.\n",
            "Это лишь малая часть того, что я узнала. Придя в музей, вы узнаете больше и увидите всё своими глазами., \n",
            "Имя пользователя: Pavlava, \n",
            "Позитивные слова: -, \n",
            "Негативные слова: -, \n",
            "Предполагаемый пол: unknown\n",
            "          \n"
          ]
        },
        {
          "output_type": "stream",
          "name": "stderr",
          "text": [
            "Обработка отзывов:  28%|██▊       | 2801/9995 [38:02<1:28:16,  1.36it/s]"
          ]
        },
        {
          "output_type": "stream",
          "name": "stdout",
          "text": [
            "\n",
            "Текст отзыва: Музей хорошший,много различных выставок,интересно, \n",
            "Имя пользователя: nan, \n",
            "Позитивные слова: музей хороший, много различных выставок, интересно, \n",
            "Негативные слова: -, \n",
            "Предполагаемый пол: unknown\n",
            "          \n"
          ]
        },
        {
          "output_type": "stream",
          "name": "stderr",
          "text": [
            "Обработка отзывов:  29%|██▉       | 2901/9995 [39:20<1:55:28,  1.02it/s]"
          ]
        },
        {
          "output_type": "stream",
          "name": "stdout",
          "text": [
            "\n",
            "Текст отзыва: Если собираетесь посетить Владимир, включите данный музей в обязательный список для посещения. Недорогие билеты. Сам музей небольшой, двухэтажный, НО какой же он интересный! Экспонаты представлены от языческого периода до революции. , \n",
            "Имя пользователя: nan, \n",
            "Позитивные слова: включите данный музей в обязательный список для посещения, недорогие билеты, интересный музей, \n",
            "Негативные слова: -, \n",
            "Предполагаемый пол: unknown\n",
            "          \n"
          ]
        },
        {
          "output_type": "stream",
          "name": "stderr",
          "text": [
            "Обработка отзывов:  30%|███       | 3001/9995 [40:39<1:24:41,  1.38it/s]"
          ]
        },
        {
          "output_type": "stream",
          "name": "stdout",
          "text": [
            "\n",
            "Текст отзыва: Музей приятный, но очень маленькая экспозиция, \n",
            "Имя пользователя: nan, \n",
            "Позитивные слова: приятный музей, \n",
            "Негативные слова: очень маленькая экспозиция, \n",
            "Предполагаемый пол: unknown\n",
            "          \n"
          ]
        },
        {
          "output_type": "stream",
          "name": "stderr",
          "text": [
            "Обработка отзывов:  31%|███       | 3057/9995 [41:26<1:27:58,  1.31it/s]"
          ]
        },
        {
          "output_type": "stream",
          "name": "stdout",
          "text": [
            "Пол не определен: -,nan\n",
            "\n",
            "Попытка 1: Неверный формат ответа модели. Ответ: с большим удовольствием посетили,<sep>посещение исторического музея, возможность присесть<sep>-,nan\n",
            "Пол не определен: -,nan\n",
            "\n",
            "Попытка 2: Неверный формат ответа модели. Ответ: с большим удовольствием посетили,<sep>посещение исторического музея, возможность присесть<sep>-,nan\n"
          ]
        },
        {
          "output_type": "stream",
          "name": "stderr",
          "text": [
            "Обработка отзывов:  31%|███       | 3100/9995 [42:00<1:42:29,  1.12it/s]"
          ]
        },
        {
          "output_type": "stream",
          "name": "stdout",
          "text": [
            "\n",
            "Текст отзыва: Целых три зала! Есть книги и сувениры в продаже. В музее все сделано хорошо, жаль, многие экспонаты были на выставке и не присутствовали. Было интересно., \n",
            "Имя пользователя: nan, \n",
            "Позитивные слова: целых три зала, есть книги и сувениры в продаже, все сделано хорошо, было интересно, \n",
            "Негативные слова: -, \n",
            "Предполагаемый пол: unknown\n",
            "          \n"
          ]
        },
        {
          "output_type": "stream",
          "name": "stderr",
          "text": [
            "Обработка отзывов:  32%|███▏      | 3200/9995 [43:23<1:41:53,  1.11it/s]"
          ]
        },
        {
          "output_type": "stream",
          "name": "stdout",
          "text": [
            "\n",
            "Текст отзыва: Музей который нужно посетить. Экспонаты есть очень редкие и интерессные. Можно взять экскусию. Но только первый этаж можно с экскурсоводом посетить. Второй осмотр самостоятельный.На 5 человек стоит 500р., входной билет взрослые-150р. Музей не большой. Есть сувенирный отдел. Где и стоит за адекватные деньги купить красивые сувениры., \n",
            "Имя пользователя: nan, \n",
            "Позитивные слова: экспонаты очень редкие и интерессные, можно взять экскурсию, красивый сувенир, \n",
            "Негативные слова: музей небольшой, \n",
            "Предполагаемый пол: unknown\n",
            "          \n"
          ]
        },
        {
          "output_type": "stream",
          "name": "stderr",
          "text": [
            "Обработка отзывов:  33%|███▎      | 3301/9995 [44:37<1:33:12,  1.20it/s]"
          ]
        },
        {
          "output_type": "stream",
          "name": "stdout",
          "text": [
            "\n",
            "Текст отзыва: Прихожу в исторический музей довольно часто, он мне нравится и расположением, и самим зданием и атмосферой. В очередной раз проходя мимо и увидев, что это последний день выставки, решила зайти. Конечно сначала надо брать билет, что я и сделала. А потом, уже у входа, у меня стали проверять QRкод. Хорошо, что он у меня был и паспорт был с собой, просто случайно. А если бы не было? Билеты обратно не возвращаются.. кассиры не предупредили о наличии и паспорта и кода. Это хорошо, что я была одна и приобрела один билет, и у меня все с собой было, а если бы я пошла с семьёй из 4-х человек, всем приобрели бы билеты и не попали. Это уже сумма 1600 рублей. И не попасть.\n",
            "А выставка про императорское стекло очень понравилась. Она уже закрыта., \n",
            "Имя пользователя: nan, \n",
            "Позитивные слова: расположение, здание, атмосфера, \n",
            "Негативные слова: билеты обратно не возвращаются, отсутствие предупреждения о необходимости паспорта и QR-кода, \n",
            "Предполагаемый пол: unknown\n",
            "          \n"
          ]
        },
        {
          "output_type": "stream",
          "name": "stderr",
          "text": [
            "Обработка отзывов:  34%|███▍      | 3401/9995 [46:28<2:16:16,  1.24s/it]"
          ]
        },
        {
          "output_type": "stream",
          "name": "stdout",
          "text": [
            "\n",
            "Текст отзыва: Прекрасный музей, находящийся в здании бывшего храма. Интересная экспозиция хрусталя и стекла завораживает своей красотой. Сама атмосфера внутреннего убранства и архитектуры притягивает. Все дышит величием и красотой. Видно бережное отношение людей к храму и православной вере. Для такой экспозиции лучшего места не найти, \n",
            "Имя пользователя: nan, \n",
            "Позитивные слова: прекрасный музей, интересная экспозиция хрусталя и стекла, атмосфера внутреннего убранства и архитектуры, величие и красота, \n",
            "Негативные слова: -, \n",
            "Предполагаемый пол: unknown\n",
            "          \n"
          ]
        },
        {
          "output_type": "stream",
          "name": "stderr",
          "text": [
            "Обработка отзывов:  35%|███▌      | 3500/9995 [48:11<1:38:17,  1.10it/s]"
          ]
        },
        {
          "output_type": "stream",
          "name": "stdout",
          "text": [
            "\n",
            "Текст отзыва: Очень интересное место, достойное посещения. Грамотные, интересно рассказывающие экскурсоводы, захватывающая экскурсия, завораживающие экспонаты. Низкая стоимость экскурсий. Рекомендую к посещению с детьми., \n",
            "Имя пользователя: nan, \n",
            "Позитивные слова: интересное место, грамотные экскурсоводы, захватывающая экскурсия, завораживающие экспонаты, низкая стоимость экскурсий, \n",
            "Негативные слова: -, \n",
            "Предполагаемый пол: unknown\n",
            "          \n"
          ]
        },
        {
          "output_type": "stream",
          "name": "stderr",
          "text": [
            "Обработка отзывов:  36%|███▌      | 3601/9995 [49:59<2:04:37,  1.17s/it]"
          ]
        },
        {
          "output_type": "stream",
          "name": "stdout",
          "text": [
            "\n",
            "Текст отзыва: Отличный музей, красота неописуемая, брали экскурсию, 800 рублей с человека, длительность 2 часа, гид очень подробно всё рассказала, ответила на всё вопросы, а вот цокольный этаж подкачал. Обещали световое шоу, а в итоге картины и несколько ВАЗ без подсветки. Парковка рядом, не большая, отсутсвие указателей достопримечательностей, а в целом остались довольны, городок не большой, но уютный, чистый. Местные советовали кафе в ТЦ Круиз и Чёрный кот, в итоге зашли в не большое кафе Восточная еда, вкусно, быстро, не дорого., \n",
            "Имя пользователя: nan, \n",
            "Позитивные слова: отличный музей, красота неописуемая, гид подробно всё рассказала, ответила на все вопросы, вкусно, быстро, недорого, \n",
            "Негативные слова: цокольный этаж подкачал, отсутствие указателей достопримечательностей, \n",
            "Предполагаемый пол: unknown\n",
            "          \n"
          ]
        },
        {
          "output_type": "stream",
          "name": "stderr",
          "text": [
            "Обработка отзывов:  36%|███▋      | 3636/9995 [50:30<1:23:29,  1.27it/s]"
          ]
        },
        {
          "output_type": "stream",
          "name": "stdout",
          "text": [
            "Не удалось обработать ответ модели: Неверное число полей: 4\n",
            "\n",
            "Попытка 1: Неверный формат ответа модели. Ответ: изумительная выставка<sep>немного неоднозначно<sep>женщины добрые приятные, музей внутри собора добавляет особый статус<sep>unknown\n",
            "Не удалось обработать ответ модели: Неверное число полей: 4\n",
            "\n",
            "Попытка 2: Неверный формат ответа модели. Ответ: изумительная выставка<sep>немного неоднозначно<sep>женщины добрые приятные, музей внутри собора добавляет особый статус<sep>unknown\n"
          ]
        },
        {
          "output_type": "stream",
          "name": "stderr",
          "text": [
            "\rОбработка отзывов:  36%|███▋      | 3638/9995 [50:34<2:03:34,  1.17s/it]"
          ]
        },
        {
          "output_type": "stream",
          "name": "stdout",
          "text": [
            "Не удалось обработать ответ модели: Неверное число полей: 4\n",
            "\n",
            "Попытка 3: Неверный формат ответа модели. Ответ: изумительная выставка<sep>немного неоднозначно<sep>женщины добрые приятные, музей внутри собора добавляет выставке особый статус<sep>unknown\n",
            "\n",
            "Не удалось обработать отзыв после 3 попыток.\n"
          ]
        },
        {
          "output_type": "stream",
          "name": "stderr",
          "text": [
            "Обработка отзывов:  37%|███▋      | 3658/9995 [50:54<1:49:42,  1.04s/it]"
          ]
        },
        {
          "output_type": "stream",
          "name": "stdout",
          "text": [
            "Пол не определен: М/Ж unknown\n",
            "\n",
            "Попытка 1: Неверный формат ответа модели. Ответ: обаятельная экскурсовод, интересные факты и истории, понравилось<sep>-<sep>М/Ж unknown\n"
          ]
        },
        {
          "output_type": "stream",
          "name": "stderr",
          "text": [
            "Обработка отзывов:  37%|███▋      | 3700/9995 [51:34<1:43:49,  1.01it/s]"
          ]
        },
        {
          "output_type": "stream",
          "name": "stdout",
          "text": [
            "\n",
            "Текст отзыва: Музей находится в здании собора. Есть отдельный выставочный зал, для современных мастеров. Большая коллекция, но чувствуется стеснение в средствах. Если не учитывать такие мелочи, то мне очень понравилось., \n",
            "Имя пользователя: nan, \n",
            "Позитивные слова: большая коллекция, \n",
            "Негативные слова: стеснение в средствах, \n",
            "Предполагаемый пол: unknown\n",
            "          \n"
          ]
        },
        {
          "output_type": "stream",
          "name": "stderr",
          "text": [
            "Обработка отзывов:  38%|███▊      | 3801/9995 [53:02<1:25:38,  1.21it/s]"
          ]
        },
        {
          "output_type": "stream",
          "name": "stdout",
          "text": [
            "\n",
            "Текст отзыва: Уныло. Большой зал, много света. Экспонатов много, но всё запылённое. Стеклянных витрины без верха. От посетителей отгородили, а сверху пыль укладывается толстым слоем. От этого хрусталь не отличить от простого стекла.  Были в будний день, автобусы экскурсионные один за одним, посетителей много. Уж могли бы сотрудники содержать экспонаты в достойном виде , \n",
            "Имя пользователя: nan, \n",
            "Позитивные слова: -, \n",
            "Негативные слова: уныло, много света, запылённые экспонаты, стеклянные витрины без верха, пыль толстым слоем, \n",
            "Предполагаемый пол: unknown\n",
            "          \n"
          ]
        },
        {
          "output_type": "stream",
          "name": "stderr",
          "text": [
            "Обработка отзывов:  39%|███▉      | 3901/9995 [54:27<1:30:24,  1.12it/s]"
          ]
        },
        {
          "output_type": "stream",
          "name": "stdout",
          "text": [
            "\n",
            "Текст отзыва: Довольно интересно. Стоит посмотреть., \n",
            "Имя пользователя: nan, \n",
            "Позитивные слова: довольно интересно, стоит посмотреть, \n",
            "Негативные слова: -, \n",
            "Предполагаемый пол: unknown\n",
            "          \n"
          ]
        },
        {
          "output_type": "stream",
          "name": "stderr",
          "text": [
            "Обработка отзывов:  40%|████      | 4001/9995 [55:51<1:13:52,  1.35it/s]"
          ]
        },
        {
          "output_type": "stream",
          "name": "stdout",
          "text": [
            "\n",
            "Текст отзыва: Очень красивое строение, обошла вокруг и хотелось рассматривать каждую деталь, рассказали, что раньше это был собор, просто убрали купола и колокольню. А внутрь меня не пустили, путешествовала в Гусь-Хрустальный с собакой. На руки взять не разрешили. Получилось, что в главную достопримечательность мы не попали, \n",
            "Имя пользователя: nan, \n",
            "Позитивные слова: очень красивое строение, рассматривала каждую деталь, \n",
            "Негативные слова: не пустили внутрь, не разрешили взять на руки собаку, \n",
            "Предполагаемый пол: unknown\n",
            "          \n"
          ]
        },
        {
          "output_type": "stream",
          "name": "stderr",
          "text": [
            "Обработка отзывов:  41%|████      | 4100/9995 [57:26<1:19:11,  1.24it/s]"
          ]
        },
        {
          "output_type": "stream",
          "name": "stdout",
          "text": [
            "\n",
            "Текст отзыва: В экспозиции с современными иконами присутствует антисоветчина, хотя это не вина музея конечно, \n",
            "Имя пользователя: nan, \n",
            "Позитивные слова: антисоветчина, \n",
            "Негативные слова: -, \n",
            "Предполагаемый пол: unknown\n",
            "          \n"
          ]
        },
        {
          "output_type": "stream",
          "name": "stderr",
          "text": [
            "Обработка отзывов:  42%|████▏     | 4201/9995 [58:48<1:36:16,  1.00it/s]"
          ]
        },
        {
          "output_type": "stream",
          "name": "stdout",
          "text": [
            "\n",
            "Текст отзыва: Присоединюсь к восторженным отзывам. Очень интересно, смотрители всё рассказывают, много чего можно потрогать руками. Отдельное спасибо за интерактив в русском доме! , \n",
            "Имя пользователя: nan, \n",
            "Позитивные слова: очень интересно, смотрители всё рассказывают, много чего можно потрогать руками, интерактив в русском доме, \n",
            "Негативные слова: -, \n",
            "Предполагаемый пол: unknown\n",
            "          \n"
          ]
        },
        {
          "output_type": "stream",
          "name": "stderr",
          "text": [
            "Обработка отзывов:  43%|████▎     | 4301/9995 [1:00:16<1:31:58,  1.03it/s]"
          ]
        },
        {
          "output_type": "stream",
          "name": "stdout",
          "text": [
            "\n",
            "Текст отзыва: Это очень интересный музей. \n",
            "К сожалению мне хватило времени обойти только первый этаж этого музея. Он посвящён главной улице Владимира и оформлен так, что, проходя по первому этажу, погружаешься в атмосферу улицы того времени. Справа и слева стоят домики, в которых располагались служебные и присутственные места, аптека, почта, кафе, кинотеатр, пожарная часть. Можно заглянуть в окошки домов, познакомиться с историей дома. \n",
            "    Также на первом этаже есть экспозиции, посвящённые русским богатырям, быту крестьян, школе того времени. Даже туалет тематический, с историческими экспонатами. \n",
            "    Выставка создана с большой любовью к истории города., \n",
            "Имя пользователя: nan, \n",
            "Позитивные слова: интересный музей, \n",
            "Негативные слова: не хватило времени обойти весь музей, \n",
            "Предполагаемый пол: unknown\n",
            "          \n"
          ]
        },
        {
          "output_type": "stream",
          "name": "stderr",
          "text": [
            "Обработка отзывов:  44%|████▎     | 4368/9995 [1:01:11<1:09:18,  1.35it/s]"
          ]
        },
        {
          "output_type": "stream",
          "name": "stdout",
          "text": [
            "Не удалось обработать ответ модели: Неверное число полей: 5\n",
            "\n",
            "Попытка 1: Неверный формат ответа модели. Ответ: посоветовал бы всем,<sep>обновление холла, современные элементы,<sep>приятное впечатление<sep>-<sep>М/Ж unknown\n"
          ]
        },
        {
          "output_type": "stream",
          "name": "stderr",
          "text": [
            "Обработка отзывов:  44%|████▍     | 4400/9995 [1:01:41<1:07:11,  1.39it/s]"
          ]
        },
        {
          "output_type": "stream",
          "name": "stdout",
          "text": [
            "\n",
            "Текст отзыва: Палаты преобразились, но! Моя мама, инвалид 2-ой группы не сможет забраться без лифта на 3-ий и 2-ой этажи, почему не устанавливается подъёмная система для инвалидов, такая же, как в подземных переходах??? В разы бы увеличился поток, если бы пожилые маломобильные люди могли бы посещать эти выставки, \n",
            "Имя пользователя: nan, \n",
            "Позитивные слова: палаты преобразились, \n",
            "Негативные слова: нет подъемной системы для инвалидов, \n",
            "Предполагаемый пол: unknown\n",
            "          \n"
          ]
        },
        {
          "output_type": "stream",
          "name": "stderr",
          "text": [
            "Обработка отзывов:  45%|████▌     | 4501/9995 [1:03:17<1:21:34,  1.12it/s]"
          ]
        },
        {
          "output_type": "stream",
          "name": "stdout",
          "text": [
            "\n",
            "Текст отзыва: Неожиданно интересные и познавательные выставки. Все расположено очень удобно и компактно и можно быстро посетить все экспозиции.  Археологические находки представлены в современном стиле с использованием новых нехнологий, что делает их нескучным и придаёт живой эмоциональный окрас эпохе к палеолита. Также порадовали выставки, посвященнуе кружеву и жемчугу. Приятно осознавать богатство родины, культурное и эстетическое наследие, уходящее в глубь истории. , \n",
            "Имя пользователя: nan, \n",
            "Позитивные слова: интересные и познавательные выставки, удобное и компактное расположение, \n",
            "Негативные слова: -, \n",
            "Предполагаемый пол: unknown\n",
            "          \n"
          ]
        },
        {
          "output_type": "stream",
          "name": "stderr",
          "text": [
            "Обработка отзывов:  45%|████▌     | 4541/9995 [1:03:51<1:14:00,  1.23it/s]"
          ]
        },
        {
          "output_type": "stream",
          "name": "stdout",
          "text": [
            "Не удалось обработать ответ модели: Неверное число полей: 5\n",
            "\n",
            "Попытка 1: Неверный формат ответа модели. Ответ: все выставки хороши<sep>персонал приветливый, народу нет<sep>дети заслушались и впечатлились<sep>-<sep>М/Ж unknown\n"
          ]
        },
        {
          "output_type": "stream",
          "name": "stderr",
          "text": [
            "Обработка отзывов:  46%|████▌     | 4600/9995 [1:04:48<1:20:21,  1.12it/s]"
          ]
        },
        {
          "output_type": "stream",
          "name": "stdout",
          "text": [
            "\n",
            "Текст отзыва: Обязательно нужно посетить всем и не один раз. Познакомится с природой родного края. Отличная экспозиция, \n",
            "Имя пользователя: nan, \n",
            "Позитивные слова: обязательно нужно посетить, отличная экспозиция, \n",
            "Негативные слова: -, \n",
            "Предполагаемый пол: unknown\n",
            "          \n"
          ]
        },
        {
          "output_type": "stream",
          "name": "stderr",
          "text": [
            "Обработка отзывов:  47%|████▋     | 4701/9995 [1:06:09<57:02,  1.55it/s]"
          ]
        },
        {
          "output_type": "stream",
          "name": "stdout",
          "text": [
            "\n",
            "Текст отзыва: Всё замечательно. Очень понравилось. \n",
            "\n",
            ", \n",
            "Имя пользователя: nan, \n",
            "Позитивные слова: всё замечательно, очень понравилось, \n",
            "Негативные слова: -, \n",
            "Предполагаемый пол: unknown\n",
            "          \n"
          ]
        },
        {
          "output_type": "stream",
          "name": "stderr",
          "text": [
            "Обработка отзывов:  47%|████▋     | 4728/9995 [1:06:31<1:26:05,  1.02it/s]"
          ]
        },
        {
          "output_type": "stream",
          "name": "stdout",
          "text": [
            "Пол не определен: М (unknown)\n",
            "\n",
            "Попытка 1: Неверный формат ответа модели. Ответ: шикарно, персонал ласковый, интересный камень<sep>-<sep>М (unknown)\n",
            "Пол не определен: М (unknown)\n",
            "\n",
            "Попытка 2: Неверный формат ответа модели. Ответ: шикарно, персонал ласковый, интересный камень<sep>-<sep>М (unknown)\n"
          ]
        },
        {
          "output_type": "stream",
          "name": "stderr",
          "text": [
            "Обработка отзывов:  48%|████▊     | 4801/9995 [1:07:29<1:04:14,  1.35it/s]"
          ]
        },
        {
          "output_type": "stream",
          "name": "stdout",
          "text": [
            "\n",
            "Текст отзыва: Очень хороший, маленький музей, интереснои то, что там есть весы, которые называют ваш вес в бабочках, медведях, других из животного мира!, \n",
            "Имя пользователя: nan, \n",
            "Позитивные слова: очень хороший, маленький музей, интересно, \n",
            "Негативные слова: -, \n",
            "Предполагаемый пол: unknown\n",
            "          \n"
          ]
        },
        {
          "output_type": "stream",
          "name": "stderr",
          "text": [
            "Обработка отзывов:  48%|████▊     | 4826/9995 [1:07:44<47:28,  1.81it/s]"
          ]
        },
        {
          "output_type": "stream",
          "name": "stdout",
          "text": [
            "Пол не определен: М/unknown\n",
            "\n",
            "Попытка 1: Неверный формат ответа модели. Ответ: все очень красиво и интересно, приятный и добрый персонал, впечатлил музей своими экспозициями<sep>-<sep>М/unknown\n",
            "Пол не определен: М/unknown\n",
            "\n",
            "Попытка 2: Неверный формат ответа модели. Ответ: все очень красиво и интересно, приятный и добрый персонал, впечатлил музей своими экспозициями<sep>-<sep>М/unknown\n"
          ]
        },
        {
          "output_type": "stream",
          "name": "stderr",
          "text": [
            "Обработка отзывов:  49%|████▉     | 4900/9995 [1:09:21<1:34:30,  1.11s/it]"
          ]
        },
        {
          "output_type": "stream",
          "name": "stdout",
          "text": [
            "\n",
            "Текст отзыва: Очень понравилось. Вход 400р. Посмотрели 4 музея, были в храме и на стенах. Слушали звонницу. Гуляли по территории, \n",
            "Имя пользователя: ???? ????????? ????, \n",
            "Позитивные слова: понравилось, \n",
            "Негативные слова: -, \n",
            "Предполагаемый пол: unknown\n",
            "          \n"
          ]
        },
        {
          "output_type": "stream",
          "name": "stderr",
          "text": [
            "Обработка отзывов:  50%|█████     | 5001/9995 [1:11:41<2:03:03,  1.48s/it]"
          ]
        },
        {
          "output_type": "stream",
          "name": "stdout",
          "text": [
            "\n",
            "Текст отзыва: Одно из красивейших мест Суздаля, прекрасно отреставрированное. Великолепные здания, востановленный склеп князя Пожарского. Много экспозиций. Билеты, как и все в Суздале дороговаты: отдельно за вход, отлельно за каждый музей. А вот чайная на территории монастыря недорогая, можно купить неплохую выпечку., \n",
            "Имя пользователя: nan, \n",
            "Позитивные слова: одно из красивейших мест суздаля, прекрасно отреставрированное, великолепные здания, восстановленный склеп князя пожарского, много экспозиций, \n",
            "Негативные слова: дороговаты билеты, \n",
            "Предполагаемый пол: unknown\n",
            "          \n"
          ]
        },
        {
          "output_type": "stream",
          "name": "stderr",
          "text": [
            "Обработка отзывов:  51%|█████     | 5100/9995 [1:13:23<1:19:45,  1.02it/s]"
          ]
        },
        {
          "output_type": "stream",
          "name": "stdout",
          "text": [
            "\n",
            "Текст отзыва: Стоит забраться на колокольню монастыря, с высоты которой открывается захватывающий дух вид на Суздаль и окрестности. Если повезёт услышать колокольный звон - это будет незабываемым впечатлением настоящего концерта , \n",
            "Имя пользователя: nan, \n",
            "Позитивные слова: захватывающий дух вид на Суздаль и окрестности, незабываемое впечатление настоящего концерта, \n",
            "Негативные слова: -, \n",
            "Предполагаемый пол: unknown\n",
            "          \n"
          ]
        },
        {
          "output_type": "stream",
          "name": "stderr",
          "text": [
            "Обработка отзывов:  52%|█████▏    | 5176/9995 [1:14:49<1:42:20,  1.27s/it]"
          ]
        },
        {
          "output_type": "stream",
          "name": "stdout",
          "text": [
            "Пол не определен: М (unknown)\n",
            "\n",
            "Попытка 1: Неверный формат ответа модели. Ответ: отличное место, все очень чисто убрано ухожено<sep>-<sep>М (unknown)\n",
            "Пол не определен: М (unknown)\n",
            "\n",
            "Попытка 2: Неверный формат ответа модели. Ответ: отличное место, все очень чисто убрано ухожено<sep>-<sep>М (unknown)\n"
          ]
        },
        {
          "output_type": "stream",
          "name": "stderr",
          "text": [
            "\rОбработка отзывов:  52%|█████▏    | 5177/9995 [1:14:52<2:06:26,  1.57s/it]"
          ]
        },
        {
          "output_type": "stream",
          "name": "stdout",
          "text": [
            "Пол не определен: М (unknown)\n",
            "\n",
            "Попытка 3: Неверный формат ответа модели. Ответ: отличное место, все очень чисто убрано ухожено<sep>-<sep>М (unknown)\n",
            "\n",
            "Не удалось обработать отзыв после 3 попыток.\n"
          ]
        },
        {
          "output_type": "stream",
          "name": "stderr",
          "text": [
            "Обработка отзывов:  52%|█████▏    | 5200/9995 [1:15:12<1:14:23,  1.07it/s]"
          ]
        },
        {
          "output_type": "stream",
          "name": "stdout",
          "text": [
            "\n",
            "Текст отзыва: Здесь есть классная экскурсия на звонницу со звонарем. Всего на 10 человек, два раза в день, так что записываться нужно заранее. Очень рекомендую. В храме раз в полчаса-час выступает мужской хор - очень красиво поют, но мало., \n",
            "Имя пользователя: nan, \n",
            "Позитивные слова: классная экскурсия на звонницу со звонарем, \n",
            "Негативные слова: мало, \n",
            "Предполагаемый пол: unknown\n",
            "          \n"
          ]
        },
        {
          "output_type": "stream",
          "name": "stderr",
          "text": [
            "Обработка отзывов:  53%|█████▎    | 5294/9995 [1:16:32<57:27,  1.36it/s]  "
          ]
        },
        {
          "output_type": "stream",
          "name": "stdout",
          "text": [
            "Не удалось обработать ответ модели: Неверное число полей: 5\n",
            "\n",
            "Попытка 1: Неверный формат ответа модели. Ответ: обязательное место для посещения<sep>восстановленные фрески в храме<sep>каждый час звонит звонарь, ощущения невероятные<sep>-<sep>М\n"
          ]
        },
        {
          "output_type": "stream",
          "name": "stderr",
          "text": [
            "Обработка отзывов:  53%|█████▎    | 5300/9995 [1:16:37<1:00:50,  1.29it/s]"
          ]
        },
        {
          "output_type": "stream",
          "name": "stdout",
          "text": [
            "\n",
            "Текст отзыва: Сам монастырь с огородом красивые. Неплохая детская площадка на территории. Но неоправданно дорогие билеты, 330 рублей чтобы просто войти на довольно небольшую территорию, никуда зайти кроме собора нельзя. Сервис советский., \n",
            "Имя пользователя: nan, \n",
            "Позитивные слова: красивые, неплохая детская площадка, \n",
            "Негативные слова: неоправданно дорогие билеты, сервис советский, \n",
            "Предполагаемый пол: unknown\n",
            "          \n"
          ]
        },
        {
          "output_type": "stream",
          "name": "stderr",
          "text": [
            "Обработка отзывов:  54%|█████▎    | 5371/9995 [1:17:54<1:03:08,  1.22it/s]"
          ]
        },
        {
          "output_type": "stream",
          "name": "stdout",
          "text": [
            "Не удалось обработать ответ модели: Неверное число полей: 4\n",
            "\n",
            "Попытка 1: Неверный формат ответа модели. Ответ: огромная коллекция, история книгопечатания, иконопись сквозь время, интересно, сохранены истории отдельных людей, выставка украшений XVI-XIX вв., аптекарский огород с разными травами, усыпальница Пожарских, главный собор с фресками, по стене можно походить, детям очень познавательно, детская площадка, кафе-кондитерская атмосферная<sep>-<sep>странное сочетание<sep>unknown\n"
          ]
        },
        {
          "output_type": "stream",
          "name": "stderr",
          "text": [
            "Обработка отзывов:  54%|█████▍    | 5400/9995 [1:18:27<1:13:00,  1.05it/s]"
          ]
        },
        {
          "output_type": "stream",
          "name": "stdout",
          "text": [
            "\n",
            "Текст отзыва: Прекрасное историческое место.  Благодарность работникам музея за внимательное отношение и благожелательное  отношение к таким празднощатающимся, как я., \n",
            "Имя пользователя: nan, \n",
            "Позитивные слова: прекрасное историческое место, благодарность работникам музея за внимательное и благожелательное отношение, \n",
            "Негативные слова: -, \n",
            "Предполагаемый пол: unknown\n",
            "          \n"
          ]
        },
        {
          "output_type": "stream",
          "name": "stderr",
          "text": [
            "Обработка отзывов:  55%|█████▌    | 5500/9995 [1:19:50<1:00:04,  1.25it/s]"
          ]
        },
        {
          "output_type": "stream",
          "name": "stdout",
          "text": [
            "\n",
            "Текст отзыва: Узнаете много нового, очень красиво и безмерное количество истории, \n",
            "Имя пользователя: nan, \n",
            "Позитивные слова: узнаете много нового, очень красиво, \n",
            "Негативные слова: -, \n",
            "Предполагаемый пол: unknown\n",
            "          \n"
          ]
        },
        {
          "output_type": "stream",
          "name": "stderr",
          "text": [
            "Обработка отзывов:  56%|█████▌    | 5591/9995 [1:21:28<1:20:54,  1.10s/it]"
          ]
        },
        {
          "output_type": "stream",
          "name": "stdout",
          "text": [
            "Пол не определен: М/Ж unknown\n",
            "\n",
            "Попытка 1: Неверный формат ответа модели. Ответ: шикарное место, своя особая атмосфера, просто супер, ухоженная территория, красивые клумбы<sep>-<sep>М/Ж unknown\n"
          ]
        },
        {
          "output_type": "stream",
          "name": "stderr",
          "text": [
            "Обработка отзывов:  56%|█████▌    | 5601/9995 [1:21:40<1:27:42,  1.20s/it]"
          ]
        },
        {
          "output_type": "stream",
          "name": "stdout",
          "text": [
            "\n",
            "Текст отзыва: Очень красивое место. Хорошо отреставрировано. Прекрасный собор. Можно погулять по стенам монастыря. У входа отличное кафе. . , \n",
            "Имя пользователя: nan, \n",
            "Позитивные слова: красивое место, хорошо отреставрировано, прекрасный собор, можно погулять по стенам монастыря, отличное кафе, \n",
            "Негативные слова: -, \n",
            "Предполагаемый пол: unknown\n",
            "          \n"
          ]
        },
        {
          "output_type": "stream",
          "name": "stderr",
          "text": [
            "Обработка отзывов:  57%|█████▋    | 5680/9995 [1:22:53<1:03:32,  1.13it/s]"
          ]
        },
        {
          "output_type": "stream",
          "name": "stdout",
          "text": [
            "Пол не определен: неизвестно\n",
            "\n",
            "Попытка 1: Неверный формат ответа модели. Ответ: место которое точно стоит посетить в суздали<sep>территория ухожена, приятно посмотреть<sep>неизвестно\n"
          ]
        },
        {
          "output_type": "stream",
          "name": "stderr",
          "text": [
            "Обработка отзывов:  57%|█████▋    | 5700/9995 [1:23:12<1:05:46,  1.09it/s]"
          ]
        },
        {
          "output_type": "stream",
          "name": "stdout",
          "text": [
            "\n",
            "Текст отзыва: Обязательно к посещению не только с духовной точки зрения, но и как уникальный памятник древнему зодчеству и истории России.\n",
            "В интернете масса информации - лучше подготовиться заранее, но ещё лучше брать с экскурсоводом впечатление незабываемое на всю жизнь.\n",
            "Самый дорогой билет - просто территория и храм (проводятся литургии) - больше никуда не пустят, поэтому берите билеты с посещением разных экспозиций. , \n",
            "Имя пользователя: nan, \n",
            "Позитивные слова: уникальный памятник древнему зодчеству и истории России, \n",
            "Негативные слова: масса информации в интернете, \n",
            "Предполагаемый пол: М\n",
            "          \n"
          ]
        },
        {
          "output_type": "stream",
          "name": "stderr",
          "text": [
            "Обработка отзывов:  58%|█████▊    | 5800/9995 [1:24:24<45:21,  1.54it/s]"
          ]
        },
        {
          "output_type": "stream",
          "name": "stdout",
          "text": [
            "\n",
            "Текст отзыва: Советую всем к посещению.\n",
            "Можно не обходить все экспозиции музея, но в Спасо-Преображенский собор  нужно попасть - сохранившиеся росписи настоящий шедевр.\n",
            "На звоннице в начале каждого часа исполняют колокольный трезвон., \n",
            "Имя пользователя: nan, \n",
            "Позитивные слова: советую всем к посещению, сохранившиеся росписи настоящий шедевр, \n",
            "Негативные слова: -, \n",
            "Предполагаемый пол: unknown\n",
            "          \n"
          ]
        },
        {
          "output_type": "stream",
          "name": "stderr",
          "text": [
            "Обработка отзывов:  59%|█████▉    | 5900/9995 [1:25:32<1:08:20,  1.00s/it]"
          ]
        },
        {
          "output_type": "stream",
          "name": "stdout",
          "text": [
            "\n",
            "Текст отзыва: Красивая территория, цветы, скамейки. Брали билет без музеев только на территорию, прошли по галерее вдоль стен, посмотрели аптекарский огород ( лекарственные растения, которые хорошо растут и цветут в нашей полосе), в соборе можно послушать духовное пение минут пять и купить при желании диск. Чудесная прогулка, \n",
            "Имя пользователя: nan, \n",
            "Позитивные слова: красивая территория, цветы, скамейки, лекарственный огород, \n",
            "Негативные слова: -, \n",
            "Предполагаемый пол: unknown\n",
            "          \n"
          ]
        },
        {
          "output_type": "stream",
          "name": "stderr",
          "text": [
            "Обработка отзывов:  60%|█████▉    | 5951/9995 [1:26:26<57:33,  1.17it/s]"
          ]
        },
        {
          "output_type": "stream",
          "name": "stdout",
          "text": [
            "Не удалось обработать ответ модели: Неверное число полей: 2\n",
            "\n",
            "Попытка 1: Неверный формат ответа модели. Ответ: благодарная россия,-,запустение,стыд<sep>-,unknown\n",
            "Не удалось обработать ответ модели: Неверное число полей: 2\n",
            "\n",
            "Попытка 2: Неверный формат ответа модели. Ответ: благодарная россия,-,запустение,стыд<sep>-,unknown\n"
          ]
        },
        {
          "output_type": "stream",
          "name": "stderr",
          "text": [
            "\rОбработка отзывов:  60%|█████▉    | 5953/9995 [1:26:29<1:06:41,  1.01it/s]"
          ]
        },
        {
          "output_type": "stream",
          "name": "stdout",
          "text": [
            "Не удалось обработать ответ модели: Неверное число полей: 2\n",
            "\n",
            "Попытка 3: Неверный формат ответа модели. Ответ: благодарная россия,-,запустение,стыд<sep>-,unknown\n",
            "\n",
            "Не удалось обработать отзыв после 3 попыток.\n"
          ]
        },
        {
          "output_type": "stream",
          "name": "stderr",
          "text": [
            "Обработка отзывов:  60%|██████    | 6001/9995 [1:27:09<49:15,  1.35it/s]"
          ]
        },
        {
          "output_type": "stream",
          "name": "stdout",
          "text": [
            "\n",
            "Текст отзыва: Хороший комплекс, но как всегда не хватает времени его обойти (посмотреть все достопримечательности). Кроме собора, постоянно  посещаем Суздальскую тюрьму, интересное место. Всем советую туда сходить., \n",
            "Имя пользователя: nan, \n",
            "Позитивные слова: хороший комплекс, \n",
            "Негативные слова: не хватает времени обойти, \n",
            "Предполагаемый пол: unknown\n",
            "          \n"
          ]
        },
        {
          "output_type": "stream",
          "name": "stderr",
          "text": [
            "Обработка отзывов:  61%|██████    | 6100/9995 [1:28:20<41:41,  1.56it/s]"
          ]
        },
        {
          "output_type": "stream",
          "name": "stdout",
          "text": [
            "\n",
            "Текст отзыва: Красиво  и приятно. Нам понравилось , \n",
            "Имя пользователя: nan, \n",
            "Позитивные слова: красиво, приятно, \n",
            "Негативные слова: -, \n",
            "Предполагаемый пол: unknown\n",
            "          \n"
          ]
        },
        {
          "output_type": "stream",
          "name": "stderr",
          "text": [
            "Обработка отзывов:  62%|██████▏   | 6201/9995 [1:29:31<41:57,  1.51it/s]"
          ]
        },
        {
          "output_type": "stream",
          "name": "stdout",
          "text": [
            "\n",
            "Текст отзыва: Отличное, красивое место. Больше похоже на Кремль. Ухоженно, уютно, экспозиции. Можно подняться на стену. На территории детская площадка. Добавить бы больше подсветки, особенно снаружи., \n",
            "Имя пользователя: nan, \n",
            "Позитивные слова: отличное место, красиво, ухоженно, уютно, экспозиции, \n",
            "Негативные слова: добавить больше подсветки, \n",
            "Предполагаемый пол: unknown\n",
            "          \n"
          ]
        },
        {
          "output_type": "stream",
          "name": "stderr",
          "text": [
            "Обработка отзывов:  63%|██████▎   | 6299/9995 [1:30:40<47:39,  1.29it/s]"
          ]
        },
        {
          "output_type": "stream",
          "name": "stdout",
          "text": [
            "\n",
            "Текст отзыва: маленькое место Круглый час в колокола звонит один из монахов-операторов этого места., \n",
            "Имя пользователя: nan, \n",
            "Позитивные слова: -, \n",
            "Негативные слова: -, \n",
            "Предполагаемый пол: unknown\n",
            "          \n"
          ]
        },
        {
          "output_type": "stream",
          "name": "stderr",
          "text": [
            "Обработка отзывов:  64%|██████▎   | 6356/9995 [1:31:19<47:09,  1.29it/s]"
          ]
        },
        {
          "output_type": "stream",
          "name": "stdout",
          "text": [
            "Не удалось обработать ответ модели: Неверное число полей: 5\n",
            "\n",
            "Попытка 1: Неверный формат ответа модели. Ответ: много выставок, можно провести целый день, вкусно перекусив<sep>вход единый<sep>милый аптекарский огород<sep>-<sep>М\n",
            "Не удалось обработать ответ модели: Неверное число полей: 5\n",
            "\n",
            "Попытка 2: Неверный формат ответа модели. Ответ: много выставок, можно провести целый день, вкусно перекусив<sep>вход единый<sep>милый аптекарский огород<sep>-<sep>М\n"
          ]
        },
        {
          "output_type": "stream",
          "name": "stderr",
          "text": [
            "\rОбработка отзывов:  64%|██████▎   | 6359/9995 [1:31:24<1:03:43,  1.05s/it]"
          ]
        },
        {
          "output_type": "stream",
          "name": "stdout",
          "text": [
            "Не удалось обработать ответ модели: Неверное число полей: 5\n",
            "\n",
            "Попытка 3: Неверный формат ответа модели. Ответ: много выставок, можно провести целый день, вкусно перекусив<sep>вход единый<sep>милый аптекарский огород<sep>-<sep>М\n",
            "\n",
            "Не удалось обработать отзыв после 3 попыток.\n"
          ]
        },
        {
          "output_type": "stream",
          "name": "stderr",
          "text": [
            "Обработка отзывов:  64%|██████▍   | 6401/9995 [1:31:54<40:58,  1.46it/s]"
          ]
        },
        {
          "output_type": "stream",
          "name": "stdout",
          "text": [
            "\n",
            "Текст отзыва: Невероятное место! Хочется возвращаться снова и снова, \n",
            "Имя пользователя: nan, \n",
            "Позитивные слова: невероятное место, \n",
            "Негативные слова: -, \n",
            "Предполагаемый пол: unknown\n",
            "          \n"
          ]
        },
        {
          "output_type": "stream",
          "name": "stderr",
          "text": [
            "Обработка отзывов:  65%|██████▌   | 6500/9995 [1:32:58<34:47,  1.67it/s]"
          ]
        },
        {
          "output_type": "stream",
          "name": "stdout",
          "text": [
            "\n",
            "Текст отзыва: Один из самых мощных и величественных монастырей Суздаля. Древнейшая обитель, в которой почивают святые мощи преподобного Евфимия Суздальского. В этом монастыре ныне расположен музей с прекрасной коллекцией предметов старины. Здесь можно бывать множество раз и всегда хочется ещё. Выставки, колокольные звоны, памятники архитектуры, росписи знаменитого Гурия Никитина, аптекарский сад, стены и башни, от которых веет стариной и величием. Дивный природный ландшафт и чудные виды на город. Есть хороший туалет и возможность вкусно покушать., \n",
            "Имя пользователя: nan, \n",
            "Позитивные слова: мощный и величественный монастырь, древнейшая обитель, святые мощи преподобного Евфимия Суздальского, прекрасная коллекция предметов старины, выставки, колокольные звоны, памятники архитектуры, росписи знаменитого Гурия Никитина, аптекарский сад, стены и башни, дивный природный ландшафт, чудные виды на город, хороший туалет, вкусно покушать, \n",
            "Негативные слова: -, \n",
            "Предполагаемый пол: unknown\n",
            "          \n"
          ]
        },
        {
          "output_type": "stream",
          "name": "stderr",
          "text": [
            "Обработка отзывов:  66%|██████▌   | 6600/9995 [1:34:11<43:24,  1.30it/s]"
          ]
        },
        {
          "output_type": "stream",
          "name": "stdout",
          "text": [
            "\n",
            "Текст отзыва: Это не совсем монастырь... Это сейчас музей ... Который берет за вход на территорию 400 рублей с человека. Можно посмотреть но не за такую сумму., \n",
            "Имя пользователя: nan, \n",
            "Позитивные слова: -, \n",
            "Негативные слова: вход дорогой, не за такую сумму, \n",
            "Предполагаемый пол: unknown\n",
            "          \n"
          ]
        },
        {
          "output_type": "stream",
          "name": "stderr",
          "text": [
            "Обработка отзывов:  67%|██████▋   | 6700/9995 [1:35:25<38:34,  1.42it/s]"
          ]
        },
        {
          "output_type": "stream",
          "name": "stdout",
          "text": [
            "\n",
            "Текст отзыва: Непременно к посещению!!, \n",
            "Имя пользователя: nan, \n",
            "Позитивные слова: непременно к посещению, \n",
            "Негативные слова: -, \n",
            "Предполагаемый пол: unknown\n",
            "          \n"
          ]
        },
        {
          "output_type": "stream",
          "name": "stderr",
          "text": [
            "Обработка отзывов:  68%|██████▊   | 6799/9995 [1:36:36<33:43,  1.58it/s]"
          ]
        },
        {
          "output_type": "stream",
          "name": "stdout",
          "text": [
            "\n",
            "Текст отзыва: Очень понравилось\n",
            "\n",
            "\n",
            "\n",
            "\n",
            "\n",
            "\n",
            "\n",
            ", \n",
            "Имя пользователя: nan, \n",
            "Позитивные слова: очень понравилось, \n",
            "Негативные слова: -, \n",
            "Предполагаемый пол: unknown\n",
            "          \n"
          ]
        },
        {
          "output_type": "stream",
          "name": "stderr",
          "text": [
            "Обработка отзывов:  69%|██████▉   | 6901/9995 [1:37:47<36:44,  1.40it/s]"
          ]
        },
        {
          "output_type": "stream",
          "name": "stdout",
          "text": [
            "\n",
            "Текст отзыва: Интересно и очень красиво., \n",
            "Имя пользователя: nan, \n",
            "Позитивные слова: интересно, очень красиво, \n",
            "Негативные слова: -, \n",
            "Предполагаемый пол: unknown\n",
            "          \n"
          ]
        },
        {
          "output_type": "stream",
          "name": "stderr",
          "text": [
            "Обработка отзывов:  70%|███████   | 7001/9995 [1:39:09<33:23,  1.49it/s]"
          ]
        },
        {
          "output_type": "stream",
          "name": "stdout",
          "text": [
            "\n",
            "Текст отзыва: Интересное для посещения место. Советую побывать, \n",
            "Имя пользователя: nan, \n",
            "Позитивные слова: интересное для посещения место, \n",
            "Негативные слова: -, \n",
            "Предполагаемый пол: unknown\n",
            "          \n"
          ]
        },
        {
          "output_type": "stream",
          "name": "stderr",
          "text": [
            "Обработка отзывов:  71%|███████   | 7100/9995 [1:40:40<42:56,  1.12it/s]"
          ]
        },
        {
          "output_type": "stream",
          "name": "stdout",
          "text": [
            "\n",
            "Текст отзыва: Вход стоит 150 р. 3 этажа (в каждом по 1 комнате с витринами) и смотровая площадка с хорошим видом. Выставлены разные вещи: старые вывески, мебель, значки, фотографии, газеты и т.п. За такую цену вполне приемлемо., \n",
            "Имя пользователя: nan, \n",
            "Позитивные слова: разные вещи, хороший вид, \n",
            "Негативные слова: -, \n",
            "Предполагаемый пол: unknown\n",
            "          \n"
          ]
        },
        {
          "output_type": "stream",
          "name": "stderr",
          "text": [
            "Обработка отзывов:  72%|███████▏  | 7200/9995 [1:42:11<30:44,  1.52it/s]"
          ]
        },
        {
          "output_type": "stream",
          "name": "stdout",
          "text": [
            "\n",
            "Текст отзыва: Отличный музей городской истории с артефактами городского быта - объявлениями, газетами, рукописными справками. И обзорная панорамная площадка с видами на весь город., \n",
            "Имя пользователя: nan, \n",
            "Позитивные слова: отличный музей городской истории с артефактами городского быта, обзорная панорамная площадка с видами на весь город, \n",
            "Негативные слова: -, \n",
            "Предполагаемый пол: unknown\n",
            "          \n"
          ]
        },
        {
          "output_type": "stream",
          "name": "stderr",
          "text": [
            "Обработка отзывов:  73%|███████▎  | 7300/9995 [1:44:13<55:27,  1.23s/it]  "
          ]
        },
        {
          "output_type": "stream",
          "name": "stdout",
          "text": [
            "\n",
            "Текст отзыва: Очень хорошо сохранились постройки целого комплекса Кремля. Поддерживается в хорошем состоянии. Рядом река., \n",
            "Имя пользователя: nan, \n",
            "Позитивные слова: хорошо сохранились постройки, поддерживается в хорошем состоянии, рядом река, \n",
            "Негативные слова: -, \n",
            "Предполагаемый пол: unknown\n",
            "          \n"
          ]
        },
        {
          "output_type": "stream",
          "name": "stderr",
          "text": [
            "Обработка отзывов:  73%|███████▎  | 7318/9995 [1:44:33<47:42,  1.07s/it]"
          ]
        },
        {
          "output_type": "stream",
          "name": "stdout",
          "text": [
            "Пол не определен: nan\n",
            "\n",
            "Попытка 1: Неверный формат ответа модели. Ответ: история началась в X веке<sep>фрагменты земляных оборонительных валов, пешеходный туристический маршрут, великолепный Суздальский Рождественский собор XIII века, ансамбль архиерейского двора XV-XVIII вв<sep>nan\n",
            "Не удалось обработать ответ модели: Неверное число полей: 5\n",
            "\n",
            "Попытка 2: Неверный формат ответа модели. Ответ: история началась в X веке<sep>фрагменты земляных оборонительных валов, пешеходный туристический маршрут<sep>великолепный Суздальский Рождественский собор XIII века, ансамбль архиерейского двора XV-XVIII вв., интересна<sep>-<sep>unknown\n"
          ]
        },
        {
          "output_type": "stream",
          "name": "stderr",
          "text": [
            "Обработка отзывов:  74%|███████▍  | 7400/9995 [1:46:12<55:19,  1.28s/it]"
          ]
        },
        {
          "output_type": "stream",
          "name": "stdout",
          "text": [
            "\n",
            "Текст отзыва: Прекрасное место. Хороший музейный комплекс. Кажется немного дороговато (600? за билет) но все ухоженно и отреставрированно. Недавно Суздаль отметил 1000лет., \n",
            "Имя пользователя: nan, \n",
            "Позитивные слова: прекрасное место, хороший музейный комплекс, \n",
            "Негативные слова: немного дороговато, \n",
            "Предполагаемый пол: unknown\n",
            "          \n"
          ]
        },
        {
          "output_type": "stream",
          "name": "stderr",
          "text": [
            "Обработка отзывов:  75%|███████▌  | 7501/9995 [1:47:53<39:33,  1.05it/s]"
          ]
        },
        {
          "output_type": "stream",
          "name": "stdout",
          "text": [
            "\n",
            "Текст отзыва: Как всегда много торговли и старины . Хороший сыр ! Правда дороговат .ну и медовуха как всегда на высоте !, \n",
            "Имя пользователя: nan, \n",
            "Позитивные слова: много торговли и старины, хороший сыр, медовуха на высоте, \n",
            "Негативные слова: дороговат, \n",
            "Предполагаемый пол: unknown\n",
            "          \n"
          ]
        },
        {
          "output_type": "stream",
          "name": "stderr",
          "text": [
            "Обработка отзывов:  76%|███████▌  | 7601/9995 [1:49:33<42:33,  1.07s/it]"
          ]
        },
        {
          "output_type": "stream",
          "name": "stdout",
          "text": [
            "\n",
            "Текст отзыва: Ооой,, ну даже слов нет.. Ездила туда в марте месяце... Я в таком восторге приехала. Такое святое место..с тысячелетней историей,такие старинные и антикварные иконы.. Место очень намоленное.. У меня заставке в телефоне икона СВ. Николая Чудотворца из этого Кремля.. Когда там стоишь, кажется что душа омывается.. А музей какой!!!! , \n",
            "Имя пользователя: nan, \n",
            "Позитивные слова: святое место с тысячелетней историей, старинные и антикварные иконы, намоленное место, душа омывается, музей, \n",
            "Негативные слова: -, \n",
            "Предполагаемый пол: unknown\n",
            "          \n"
          ]
        },
        {
          "output_type": "stream",
          "name": "stderr",
          "text": [
            "Обработка отзывов:  77%|███████▋  | 7700/9995 [1:51:01<30:14,  1.26it/s]"
          ]
        },
        {
          "output_type": "stream",
          "name": "stdout",
          "text": [
            "\n",
            "Текст отзыва: Чудесный музей! И то, что снаружи и то, что внутри, после даже самостоятельного посещения складывается картина в голове об истории города, да, что там города, нашей страны. Интересно детям, даже и если они устанут, экспонатов очень много, безусловно, эта насмотренность сложится в картинки в голове и что-то их обязательно заинтересует, кого-то история, кого-то быт предков и т. Д. На территории есть туалет, и фургон интересной еды \"хлеб да половинки\", этакий русский фаст фуд прекрасная альтернатива зарубежному, с вкусными напитками с ароматами разных специй и трав, обожаю такое. Ну а виды на валу в Кремле потрясают.... Вдохновлять, это именно то, зачем едем в Суздаль... , \n",
            "Имя пользователя: nan, \n",
            "Позитивные слова: чудесный музей, интересно детям, много экспонатов, насмотренность, вкусные напитки, \n",
            "Негативные слова: -, \n",
            "Предполагаемый пол: unknown\n",
            "          \n"
          ]
        },
        {
          "output_type": "stream",
          "name": "stderr",
          "text": [
            "Обработка отзывов:  78%|███████▊  | 7800/9995 [1:52:28<28:20,  1.29it/s]"
          ]
        },
        {
          "output_type": "stream",
          "name": "stdout",
          "text": [
            "\n",
            "Текст отзыва: Поездка в Суздаль просто замечательная. Хоть и маленький городок, но много интересных мест. Двух дней не хватает, чтобы насладиться атмосферой уютных улочек., \n",
            "Имя пользователя: nan, \n",
            "Позитивные слова: замечательная поездка, много интересных мест, уютные улочки, \n",
            "Негативные слова: -, \n",
            "Предполагаемый пол: unknown\n",
            "          \n"
          ]
        },
        {
          "output_type": "stream",
          "name": "stderr",
          "text": [
            "Обработка отзывов:  79%|███████▉  | 7900/9995 [1:53:56<25:07,  1.39it/s]"
          ]
        },
        {
          "output_type": "stream",
          "name": "stdout",
          "text": [
            "\n",
            "Текст отзыва: Потрясающее место, много интересного. , \n",
            "Имя пользователя: nan, \n",
            "Позитивные слова: потрясающее место, много интересного, \n",
            "Негативные слова: -, \n",
            "Предполагаемый пол: unknown\n",
            "          \n"
          ]
        },
        {
          "output_type": "stream",
          "name": "stderr",
          "text": [
            "Обработка отзывов:  80%|████████  | 8001/9995 [1:55:12<23:42,  1.40it/s]"
          ]
        },
        {
          "output_type": "stream",
          "name": "stdout",
          "text": [
            "\n",
            "Текст отзыва: Единый билет 400р погулять на часа 1.5 дорожки скользкие, \n",
            "Имя пользователя: nan, \n",
            "Позитивные слова: единый билет 400р, дорожки скользкие, \n",
            "Негативные слова: -, \n",
            "Предполагаемый пол: unknown\n",
            "          \n"
          ]
        },
        {
          "output_type": "stream",
          "name": "stderr",
          "text": [
            "Обработка отзывов:  81%|████████  | 8101/9995 [1:56:20<20:20,  1.55it/s]"
          ]
        },
        {
          "output_type": "stream",
          "name": "stdout",
          "text": [
            "\n",
            "Текст отзыва: Ничего интересного, вход стоит дорого, \n",
            "Имя пользователя: nan, \n",
            "Позитивные слова: -, \n",
            "Негативные слова: ничего интересного, вход стоит дорого, \n",
            "Предполагаемый пол: unknown\n",
            "          \n"
          ]
        },
        {
          "output_type": "stream",
          "name": "stderr",
          "text": [
            "Обработка отзывов:  81%|████████▏ | 8125/9995 [1:56:35<19:44,  1.58it/s]"
          ]
        },
        {
          "output_type": "stream",
          "name": "stdout",
          "text": [
            "Не удалось обработать ответ модели: Неверное число полей: 7\n",
            "\n",
            "Попытка 1: Неверный формат ответа модели. Ответ: суздаль милый тихий городок<sep>в сезон очень много туристов машин автобусов<sep>одним днём маловато для посещения<sep>пробежать бегло осмотреть хватит<sep>неспешно гулять город располагает мало дня<sep>уютный спокойный городок<sep>unknown\n",
            "Не удалось обработать ответ модели: Неверное число полей: 7\n",
            "\n",
            "Попытка 2: Неверный формат ответа модели. Ответ: суздаль милый тихий городок<sep>в сезон очень много туристов машин автобусов<sep>одним днём маловато для посещения<sep>пробежать бегло осмотреть хватит<sep>неспешно гулять город располагает мало дня<sep>уютный спокойный городок<sep>unknown\n"
          ]
        },
        {
          "output_type": "stream",
          "name": "stderr",
          "text": [
            "\rОбработка отзывов:  81%|████████▏ | 8128/9995 [1:56:41<39:06,  1.26s/it]"
          ]
        },
        {
          "output_type": "stream",
          "name": "stdout",
          "text": [
            "Не удалось обработать ответ модели: Неверное число полей: 7\n",
            "\n",
            "Попытка 3: Неверный формат ответа модели. Ответ: суздаль милый тихий городок<sep>в сезон очень много туристов машин автобусов<sep>одним днём маловато для посещения<sep>пробежать и бегло осмотреть хватит<sep>неспешно гулять мало дня<sep>уютный спокойный городок<sep>unknown\n",
            "\n",
            "Не удалось обработать отзыв после 3 попыток.\n"
          ]
        },
        {
          "output_type": "stream",
          "name": "stderr",
          "text": [
            "Обработка отзывов:  82%|████████▏ | 8200/9995 [1:57:25<17:54,  1.67it/s]"
          ]
        },
        {
          "output_type": "stream",
          "name": "stdout",
          "text": [
            "\n",
            "Текст отзыва: Осталась расстроенная тем, что вход 400 рублей. И православному человеку в храм помолиться не зайти без денег(((, \n",
            "Имя пользователя: nan, \n",
            "Позитивные слова: -, \n",
            "Негативные слова: вход 400 рублей, нельзя помолится бесплатно, \n",
            "Предполагаемый пол: unknown\n",
            "          \n"
          ]
        },
        {
          "output_type": "stream",
          "name": "stderr",
          "text": [
            "Обработка отзывов:  83%|████████▎ | 8301/9995 [1:58:31<17:05,  1.65it/s]"
          ]
        },
        {
          "output_type": "stream",
          "name": "stdout",
          "text": [
            "\n",
            "Текст отзыва: Билет 400. Музеи интересные на территории. Аптекарский огород., \n",
            "Имя пользователя: nan, \n",
            "Позитивные слова: интересные музеи, \n",
            "Негативные слова: -, \n",
            "Предполагаемый пол: unknown\n",
            "          \n"
          ]
        },
        {
          "output_type": "stream",
          "name": "stderr",
          "text": [
            "Обработка отзывов:  84%|████████▍ | 8400/9995 [1:59:35<15:05,  1.76it/s]"
          ]
        },
        {
          "output_type": "stream",
          "name": "stdout",
          "text": [
            "\n",
            "Текст отзыва: Все очень понравилось! Мир и счастье!!!, \n",
            "Имя пользователя: nan, \n",
            "Позитивные слова: все очень понравилось, \n",
            "Негативные слова: -, \n",
            "Предполагаемый пол: unknown\n",
            "          \n"
          ]
        },
        {
          "output_type": "stream",
          "name": "stderr",
          "text": [
            "Обработка отзывов:  85%|████████▌ | 8500/9995 [2:00:41<18:11,  1.37it/s]"
          ]
        },
        {
          "output_type": "stream",
          "name": "stdout",
          "text": [
            "\n",
            "Текст отзыва: Суздаль- Золотое кольцо России!!! Его невозможно не любить!, \n",
            "Имя пользователя: nan, \n",
            "Позитивные слова: суздаль золотое кольцо россии, \n",
            "Негативные слова: -, \n",
            "Предполагаемый пол: unknown\n",
            "          \n"
          ]
        },
        {
          "output_type": "stream",
          "name": "stderr",
          "text": [
            "Обработка отзывов:  86%|████████▌ | 8600/9995 [2:01:46<15:06,  1.54it/s]"
          ]
        },
        {
          "output_type": "stream",
          "name": "stdout",
          "text": [
            "\n",
            "Текст отзыва: Не впечатлил, \n",
            "Имя пользователя: nan, \n",
            "Позитивные слова: -, \n",
            "Негативные слова: не впечатлил, \n",
            "Предполагаемый пол: unknown\n",
            "          \n"
          ]
        },
        {
          "output_type": "stream",
          "name": "stderr",
          "text": [
            "Обработка отзывов:  87%|████████▋ | 8700/9995 [2:02:54<13:13,  1.63it/s]"
          ]
        },
        {
          "output_type": "stream",
          "name": "stdout",
          "text": [
            "\n",
            "Текст отзыва: Палаты, \n",
            "Имя пользователя: nan, \n",
            "Позитивные слова: -, \n",
            "Негативные слова: -, \n",
            "Предполагаемый пол: unknown\n",
            "          \n"
          ]
        },
        {
          "output_type": "stream",
          "name": "stderr",
          "text": [
            "Обработка отзывов:  88%|████████▊ | 8800/9995 [2:04:06<13:12,  1.51it/s]"
          ]
        },
        {
          "output_type": "stream",
          "name": "stdout",
          "text": [
            "\n",
            "Текст отзыва: Темновато, больше подсветки хотелось бы, а так все изумительно, \n",
            "Имя пользователя: nan, \n",
            "Позитивные слова: -, \n",
            "Негативные слова: темновато, больше подсветки хотелось бы, \n",
            "Предполагаемый пол: unknown\n",
            "          \n"
          ]
        },
        {
          "output_type": "stream",
          "name": "stderr",
          "text": [
            "Обработка отзывов:  89%|████████▉ | 8901/9995 [2:05:14<12:19,  1.48it/s]"
          ]
        },
        {
          "output_type": "stream",
          "name": "stdout",
          "text": [
            "\n",
            "Текст отзыва: Все прекрасно! Но ехать далеко на машине, по старой дороге мы доезжали на машине быстрей, чем теперь по новой трассе., \n",
            "Имя пользователя: nan, \n",
            "Позитивные слова: все прекрасно, \n",
            "Негативные слова: ехать далеко на машине, новая трасса, \n",
            "Предполагаемый пол: unknown\n",
            "          \n"
          ]
        },
        {
          "output_type": "stream",
          "name": "stderr",
          "text": [
            "Обработка отзывов:  90%|█████████ | 9001/9995 [2:06:20<10:13,  1.62it/s]"
          ]
        },
        {
          "output_type": "stream",
          "name": "stdout",
          "text": [
            "\n",
            "Текст отзыва: Очень небольшой, \n",
            "Имя пользователя: nan, \n",
            "Позитивные слова: -, \n",
            "Негативные слова: очень небольшой, \n",
            "Предполагаемый пол: unknown\n",
            "          \n"
          ]
        },
        {
          "output_type": "stream",
          "name": "stderr",
          "text": [
            "Обработка отзывов:  91%|█████████ | 9097/9995 [2:07:25<09:52,  1.52it/s]"
          ]
        },
        {
          "output_type": "stream",
          "name": "stdout",
          "text": [
            "Пол не определен: -\n",
            "\n",
            "Попытка 1: Неверный формат ответа модели. Ответ: -<sep>всё в ужасном состоянии, посмотреть толком нечего<sep>-\n",
            "Пол не определен: -\n",
            "\n",
            "Попытка 2: Неверный формат ответа модели. Ответ: -<sep>всё в ужасном состоянии, посмотреть толком нечего<sep>-\n"
          ]
        },
        {
          "output_type": "stream",
          "name": "stderr",
          "text": [
            "\rОбработка отзывов:  91%|█████████ | 9099/9995 [2:07:27<12:42,  1.17it/s]"
          ]
        },
        {
          "output_type": "stream",
          "name": "stdout",
          "text": [
            "Пол не определен: -\n",
            "\n",
            "Попытка 3: Неверный формат ответа модели. Ответ: -<sep>всё в ужасном состоянии, посмотреть толком нечего<sep>-\n",
            "\n",
            "Не удалось обработать отзыв после 3 попыток.\n"
          ]
        },
        {
          "output_type": "stream",
          "name": "stderr",
          "text": [
            "\rОбработка отзывов:  91%|█████████ | 9101/9995 [2:07:29<12:15,  1.22it/s]"
          ]
        },
        {
          "output_type": "stream",
          "name": "stdout",
          "text": [
            "\n",
            "Текст отзыва: Стоит посетить, но летом., \n",
            "Имя пользователя: nan, \n",
            "Позитивные слова: стоит посетить, \n",
            "Негативные слова: -, \n",
            "Предполагаемый пол: unknown\n",
            "          \n"
          ]
        },
        {
          "output_type": "stream",
          "name": "stderr",
          "text": [
            "Обработка отзывов:  92%|█████████▏| 9200/9995 [2:08:36<08:00,  1.65it/s]"
          ]
        },
        {
          "output_type": "stream",
          "name": "stdout",
          "text": [
            "\n",
            "Текст отзыва: Сердце Суздаля. Обязателен для посещения., \n",
            "Имя пользователя: nan, \n",
            "Позитивные слова: сердце суздаля, обязателен для посещения, \n",
            "Негативные слова: -, \n",
            "Предполагаемый пол: unknown\n",
            "          \n"
          ]
        },
        {
          "output_type": "stream",
          "name": "stderr",
          "text": [
            "Обработка отзывов:  93%|█████████▎| 9300/9995 [2:09:43<07:38,  1.52it/s]"
          ]
        },
        {
          "output_type": "stream",
          "name": "stdout",
          "text": [
            "\n",
            "Текст отзыва: Льготы пенсионерам смешные и декларативные - первый вторник... Щедро!, \n",
            "Имя пользователя: nan, \n",
            "Позитивные слова: -, \n",
            "Негативные слова: льготы пенсионерам смешные и декларативные, \n",
            "Предполагаемый пол: unknown\n",
            "          \n"
          ]
        },
        {
          "output_type": "stream",
          "name": "stderr",
          "text": [
            "Обработка отзывов:  94%|█████████▍| 9399/9995 [2:10:54<06:39,  1.49it/s]"
          ]
        },
        {
          "output_type": "stream",
          "name": "stdout",
          "text": [
            "\n",
            "Текст отзыва: Восхитительно красиво!, \n",
            "Имя пользователя: nan, \n",
            "Позитивные слова: восхитительно красиво, \n",
            "Негативные слова: -, \n",
            "Предполагаемый пол: unknown\n",
            "          \n"
          ]
        },
        {
          "output_type": "stream",
          "name": "stderr",
          "text": [
            "Обработка отзывов:  95%|█████████▌| 9500/9995 [2:12:00<06:21,  1.30it/s]"
          ]
        },
        {
          "output_type": "stream",
          "name": "stdout",
          "text": [
            "\n",
            "Текст отзыва: Красивое место, \n",
            "Имя пользователя: nan, \n",
            "Позитивные слова: красивое место, \n",
            "Негативные слова: -, \n",
            "Предполагаемый пол: unknown\n",
            "          \n"
          ]
        },
        {
          "output_type": "stream",
          "name": "stderr",
          "text": [
            "Обработка отзывов:  96%|█████████▌| 9601/9995 [2:13:11<06:04,  1.08it/s]"
          ]
        },
        {
          "output_type": "stream",
          "name": "stdout",
          "text": [
            "\n",
            "Текст отзыва: Очень красивое, до милого кукольное и очень многолюдное место. На территории есть кафешки и ресторанчики, продают медовуху и сбитень, можно посетить музейный комплекс с потрясающим видом на Каменку. На территории также есть платный туалет, зона для детей и сувенирная улочка. Из минусов лично для себя отметила количество лошадеиных экипажей для экскурсий по городу и Кремлю. Кстати, если вы, как мы, приехали по наитию на один день, то вам стоит ещё при въезде в город о месте где вы будете кушать. Большинство заведений работают по брони столов, \n",
            "Имя пользователя: nan, \n",
            "Позитивные слова: красивое место, до милого кукольное, много кафешек и ресторанчиков, потрясающий вид на Каменку, \n",
            "Негативные слова: много лошадеиных экипажей для экскурсий, \n",
            "Предполагаемый пол: unknown\n",
            "          \n"
          ]
        },
        {
          "output_type": "stream",
          "name": "stderr",
          "text": [
            "Обработка отзывов:  97%|█████████▋| 9700/9995 [2:14:16<03:21,  1.47it/s]"
          ]
        },
        {
          "output_type": "stream",
          "name": "stdout",
          "text": [
            "\n",
            "Текст отзыва: \n",
            "\n",
            "\n",
            "\n",
            "\n",
            "\n",
            "\n",
            "Нет, \n",
            "Имя пользователя: nan, \n",
            "Позитивные слова: -, \n",
            "Негативные слова: -, \n",
            "Предполагаемый пол: unknown\n",
            "          \n"
          ]
        },
        {
          "output_type": "stream",
          "name": "stderr",
          "text": [
            "Обработка отзывов:  98%|█████████▊| 9800/9995 [2:15:42<02:34,  1.26it/s]"
          ]
        },
        {
          "output_type": "stream",
          "name": "stdout",
          "text": [
            "\n",
            "Текст отзыва: Музейная экспозиция, знакомящая посетителей с историей развития жизни на территории Владимирской области, и с фаунистическим и флористическим разнообразием средней полосы европейской части России., \n",
            "Имя пользователя: nan, \n",
            "Позитивные слова: музейная экспозиция, \n",
            "Негативные слова: -, \n",
            "Предполагаемый пол: unknown\n",
            "          \n"
          ]
        },
        {
          "output_type": "stream",
          "name": "stderr",
          "text": [
            "Обработка отзывов:  99%|█████████▉| 9901/9995 [2:16:59<01:01,  1.53it/s]"
          ]
        },
        {
          "output_type": "stream",
          "name": "stdout",
          "text": [
            "\n",
            "Текст отзыва: Небольшой музей, хорошие экскурсоводы , \n",
            "Имя пользователя: nan, \n",
            "Позитивные слова: небольшой музей, хорошие экскурсоводы, \n",
            "Негативные слова: -, \n",
            "Предполагаемый пол: unknown\n",
            "          \n"
          ]
        },
        {
          "output_type": "stream",
          "name": "stderr",
          "text": [
            "Обработка отзывов: 100%|██████████| 9995/9995 [2:18:11<00:00,  1.21it/s]"
          ]
        },
        {
          "output_type": "stream",
          "name": "stdout",
          "text": [
            "\n",
            "Анализ завершен.\n",
            "Результаты сохранены в '/content/keywords_titan.csv'\n",
            "Количество отзывов, не обработанных LLM после всех попыток: 12\n"
          ]
        },
        {
          "output_type": "stream",
          "name": "stderr",
          "text": [
            "\n"
          ]
        }
      ]
    },
    {
      "cell_type": "markdown",
      "source": [
        "## Если часто делаешь дебаг - удаляем модель из кеша, а то будет ругаться"
      ],
      "metadata": {
        "id": "ULZP0sPicXc4"
      }
    },
    {
      "cell_type": "code",
      "source": [
        "import gc\n",
        "import torch\n",
        "\n",
        "try:\n",
        "    del llm  # if it's previously defined\n",
        "except NameError:\n",
        "    pass\n",
        "\n",
        "gc.collect()\n",
        "torch.cuda.empty_cache()\n"
      ],
      "metadata": {
        "id": "sCqVzUouT8-J"
      },
      "execution_count": null,
      "outputs": []
    },
    {
      "cell_type": "code",
      "source": [
        "df_analysis.head()"
      ],
      "metadata": {
        "colab": {
          "base_uri": "https://localhost:8080/",
          "height": 449
        },
        "id": "KnZupIVvWd7F",
        "outputId": "acb0e63a-810e-4062-d437-eb79e92d7b16"
      },
      "execution_count": null,
      "outputs": [
        {
          "output_type": "execute_result",
          "data": {
            "text/plain": [
              "                                                text            name  \\\n",
              "0  Плохая работа персонала Сама экспозиция очень ...       kauspeh72   \n",
              "1  Здравствуйте! Это полная хрень. Развод на день...  AnnaFomina0112   \n",
              "2  Посещали данный музей в рождество этого года. ...        Иродиада   \n",
              "3  Этим летом проезжали Суздаль и решили посетить...         АНЯМАША   \n",
              "4  Посещали всей семьей этот музей, нам очень пон...      nastyasol1   \n",
              "\n",
              "  city_where_from               visiting_date  publication_date        object  \\\n",
              "0             NaN  был(а) здесь в ноябре 2020              2020  derevo_musey   \n",
              "1       Краснодар                         NaN              2020  derevo_musey   \n",
              "2        Владимир                         NaN              2020  derevo_musey   \n",
              "3          МОСКВА                         NaN              2020  derevo_musey   \n",
              "4          Москва                         NaN              2020  derevo_musey   \n",
              "\n",
              "   platform                                          positives  \\\n",
              "0  tonkosti                              интересная экспозиция   \n",
              "1   otzovik                                                  -   \n",
              "2   otzovik                                                  -   \n",
              "3   otzovik  мастер-класс пошагово все объясняла, время про...   \n",
              "4   otzovik  приятный персонал, интересные экспонаты, больш...   \n",
              "\n",
              "                                           negatives   gender  \n",
              "0  плохая работа персонала, не приветливые, сухо ...  unknown  \n",
              "1  полная хрень, развод на деньги, пусто, не инте...        Ж  \n",
              "2  не радужное впечатление, серо, уныло, два полу...        Ж  \n",
              "3                                                  -        Ж  \n",
              "4  не так уж и много экспонатов, можно обойти за ...        Ж  "
            ],
            "text/html": [
              "\n",
              "  <div id=\"df-aeb66586-5b59-41a9-b7bc-460789c9c71b\" class=\"colab-df-container\">\n",
              "    <div>\n",
              "<style scoped>\n",
              "    .dataframe tbody tr th:only-of-type {\n",
              "        vertical-align: middle;\n",
              "    }\n",
              "\n",
              "    .dataframe tbody tr th {\n",
              "        vertical-align: top;\n",
              "    }\n",
              "\n",
              "    .dataframe thead th {\n",
              "        text-align: right;\n",
              "    }\n",
              "</style>\n",
              "<table border=\"1\" class=\"dataframe\">\n",
              "  <thead>\n",
              "    <tr style=\"text-align: right;\">\n",
              "      <th></th>\n",
              "      <th>text</th>\n",
              "      <th>name</th>\n",
              "      <th>city_where_from</th>\n",
              "      <th>visiting_date</th>\n",
              "      <th>publication_date</th>\n",
              "      <th>object</th>\n",
              "      <th>platform</th>\n",
              "      <th>positives</th>\n",
              "      <th>negatives</th>\n",
              "      <th>gender</th>\n",
              "    </tr>\n",
              "  </thead>\n",
              "  <tbody>\n",
              "    <tr>\n",
              "      <th>0</th>\n",
              "      <td>Плохая работа персонала Сама экспозиция очень ...</td>\n",
              "      <td>kauspeh72</td>\n",
              "      <td>NaN</td>\n",
              "      <td>был(а) здесь в ноябре 2020</td>\n",
              "      <td>2020</td>\n",
              "      <td>derevo_musey</td>\n",
              "      <td>tonkosti</td>\n",
              "      <td>интересная экспозиция</td>\n",
              "      <td>плохая работа персонала, не приветливые, сухо ...</td>\n",
              "      <td>unknown</td>\n",
              "    </tr>\n",
              "    <tr>\n",
              "      <th>1</th>\n",
              "      <td>Здравствуйте! Это полная хрень. Развод на день...</td>\n",
              "      <td>AnnaFomina0112</td>\n",
              "      <td>Краснодар</td>\n",
              "      <td>NaN</td>\n",
              "      <td>2020</td>\n",
              "      <td>derevo_musey</td>\n",
              "      <td>otzovik</td>\n",
              "      <td>-</td>\n",
              "      <td>полная хрень, развод на деньги, пусто, не инте...</td>\n",
              "      <td>Ж</td>\n",
              "    </tr>\n",
              "    <tr>\n",
              "      <th>2</th>\n",
              "      <td>Посещали данный музей в рождество этого года. ...</td>\n",
              "      <td>Иродиада</td>\n",
              "      <td>Владимир</td>\n",
              "      <td>NaN</td>\n",
              "      <td>2020</td>\n",
              "      <td>derevo_musey</td>\n",
              "      <td>otzovik</td>\n",
              "      <td>-</td>\n",
              "      <td>не радужное впечатление, серо, уныло, два полу...</td>\n",
              "      <td>Ж</td>\n",
              "    </tr>\n",
              "    <tr>\n",
              "      <th>3</th>\n",
              "      <td>Этим летом проезжали Суздаль и решили посетить...</td>\n",
              "      <td>АНЯМАША</td>\n",
              "      <td>МОСКВА</td>\n",
              "      <td>NaN</td>\n",
              "      <td>2020</td>\n",
              "      <td>derevo_musey</td>\n",
              "      <td>otzovik</td>\n",
              "      <td>мастер-класс пошагово все объясняла, время про...</td>\n",
              "      <td>-</td>\n",
              "      <td>Ж</td>\n",
              "    </tr>\n",
              "    <tr>\n",
              "      <th>4</th>\n",
              "      <td>Посещали всей семьей этот музей, нам очень пон...</td>\n",
              "      <td>nastyasol1</td>\n",
              "      <td>Москва</td>\n",
              "      <td>NaN</td>\n",
              "      <td>2020</td>\n",
              "      <td>derevo_musey</td>\n",
              "      <td>otzovik</td>\n",
              "      <td>приятный персонал, интересные экспонаты, больш...</td>\n",
              "      <td>не так уж и много экспонатов, можно обойти за ...</td>\n",
              "      <td>Ж</td>\n",
              "    </tr>\n",
              "  </tbody>\n",
              "</table>\n",
              "</div>\n",
              "    <div class=\"colab-df-buttons\">\n",
              "\n",
              "  <div class=\"colab-df-container\">\n",
              "    <button class=\"colab-df-convert\" onclick=\"convertToInteractive('df-aeb66586-5b59-41a9-b7bc-460789c9c71b')\"\n",
              "            title=\"Convert this dataframe to an interactive table.\"\n",
              "            style=\"display:none;\">\n",
              "\n",
              "  <svg xmlns=\"http://www.w3.org/2000/svg\" height=\"24px\" viewBox=\"0 -960 960 960\">\n",
              "    <path d=\"M120-120v-720h720v720H120Zm60-500h600v-160H180v160Zm220 220h160v-160H400v160Zm0 220h160v-160H400v160ZM180-400h160v-160H180v160Zm440 0h160v-160H620v160ZM180-180h160v-160H180v160Zm440 0h160v-160H620v160Z\"/>\n",
              "  </svg>\n",
              "    </button>\n",
              "\n",
              "  <style>\n",
              "    .colab-df-container {\n",
              "      display:flex;\n",
              "      gap: 12px;\n",
              "    }\n",
              "\n",
              "    .colab-df-convert {\n",
              "      background-color: #E8F0FE;\n",
              "      border: none;\n",
              "      border-radius: 50%;\n",
              "      cursor: pointer;\n",
              "      display: none;\n",
              "      fill: #1967D2;\n",
              "      height: 32px;\n",
              "      padding: 0 0 0 0;\n",
              "      width: 32px;\n",
              "    }\n",
              "\n",
              "    .colab-df-convert:hover {\n",
              "      background-color: #E2EBFA;\n",
              "      box-shadow: 0px 1px 2px rgba(60, 64, 67, 0.3), 0px 1px 3px 1px rgba(60, 64, 67, 0.15);\n",
              "      fill: #174EA6;\n",
              "    }\n",
              "\n",
              "    .colab-df-buttons div {\n",
              "      margin-bottom: 4px;\n",
              "    }\n",
              "\n",
              "    [theme=dark] .colab-df-convert {\n",
              "      background-color: #3B4455;\n",
              "      fill: #D2E3FC;\n",
              "    }\n",
              "\n",
              "    [theme=dark] .colab-df-convert:hover {\n",
              "      background-color: #434B5C;\n",
              "      box-shadow: 0px 1px 3px 1px rgba(0, 0, 0, 0.15);\n",
              "      filter: drop-shadow(0px 1px 2px rgba(0, 0, 0, 0.3));\n",
              "      fill: #FFFFFF;\n",
              "    }\n",
              "  </style>\n",
              "\n",
              "    <script>\n",
              "      const buttonEl =\n",
              "        document.querySelector('#df-aeb66586-5b59-41a9-b7bc-460789c9c71b button.colab-df-convert');\n",
              "      buttonEl.style.display =\n",
              "        google.colab.kernel.accessAllowed ? 'block' : 'none';\n",
              "\n",
              "      async function convertToInteractive(key) {\n",
              "        const element = document.querySelector('#df-aeb66586-5b59-41a9-b7bc-460789c9c71b');\n",
              "        const dataTable =\n",
              "          await google.colab.kernel.invokeFunction('convertToInteractive',\n",
              "                                                    [key], {});\n",
              "        if (!dataTable) return;\n",
              "\n",
              "        const docLinkHtml = 'Like what you see? Visit the ' +\n",
              "          '<a target=\"_blank\" href=https://colab.research.google.com/notebooks/data_table.ipynb>data table notebook</a>'\n",
              "          + ' to learn more about interactive tables.';\n",
              "        element.innerHTML = '';\n",
              "        dataTable['output_type'] = 'display_data';\n",
              "        await google.colab.output.renderOutput(dataTable, element);\n",
              "        const docLink = document.createElement('div');\n",
              "        docLink.innerHTML = docLinkHtml;\n",
              "        element.appendChild(docLink);\n",
              "      }\n",
              "    </script>\n",
              "  </div>\n",
              "\n",
              "\n",
              "    <div id=\"df-fe07a239-b9f5-4fb8-852b-e33e5641556f\">\n",
              "      <button class=\"colab-df-quickchart\" onclick=\"quickchart('df-fe07a239-b9f5-4fb8-852b-e33e5641556f')\"\n",
              "                title=\"Suggest charts\"\n",
              "                style=\"display:none;\">\n",
              "\n",
              "<svg xmlns=\"http://www.w3.org/2000/svg\" height=\"24px\"viewBox=\"0 0 24 24\"\n",
              "     width=\"24px\">\n",
              "    <g>\n",
              "        <path d=\"M19 3H5c-1.1 0-2 .9-2 2v14c0 1.1.9 2 2 2h14c1.1 0 2-.9 2-2V5c0-1.1-.9-2-2-2zM9 17H7v-7h2v7zm4 0h-2V7h2v10zm4 0h-2v-4h2v4z\"/>\n",
              "    </g>\n",
              "</svg>\n",
              "      </button>\n",
              "\n",
              "<style>\n",
              "  .colab-df-quickchart {\n",
              "      --bg-color: #E8F0FE;\n",
              "      --fill-color: #1967D2;\n",
              "      --hover-bg-color: #E2EBFA;\n",
              "      --hover-fill-color: #174EA6;\n",
              "      --disabled-fill-color: #AAA;\n",
              "      --disabled-bg-color: #DDD;\n",
              "  }\n",
              "\n",
              "  [theme=dark] .colab-df-quickchart {\n",
              "      --bg-color: #3B4455;\n",
              "      --fill-color: #D2E3FC;\n",
              "      --hover-bg-color: #434B5C;\n",
              "      --hover-fill-color: #FFFFFF;\n",
              "      --disabled-bg-color: #3B4455;\n",
              "      --disabled-fill-color: #666;\n",
              "  }\n",
              "\n",
              "  .colab-df-quickchart {\n",
              "    background-color: var(--bg-color);\n",
              "    border: none;\n",
              "    border-radius: 50%;\n",
              "    cursor: pointer;\n",
              "    display: none;\n",
              "    fill: var(--fill-color);\n",
              "    height: 32px;\n",
              "    padding: 0;\n",
              "    width: 32px;\n",
              "  }\n",
              "\n",
              "  .colab-df-quickchart:hover {\n",
              "    background-color: var(--hover-bg-color);\n",
              "    box-shadow: 0 1px 2px rgba(60, 64, 67, 0.3), 0 1px 3px 1px rgba(60, 64, 67, 0.15);\n",
              "    fill: var(--button-hover-fill-color);\n",
              "  }\n",
              "\n",
              "  .colab-df-quickchart-complete:disabled,\n",
              "  .colab-df-quickchart-complete:disabled:hover {\n",
              "    background-color: var(--disabled-bg-color);\n",
              "    fill: var(--disabled-fill-color);\n",
              "    box-shadow: none;\n",
              "  }\n",
              "\n",
              "  .colab-df-spinner {\n",
              "    border: 2px solid var(--fill-color);\n",
              "    border-color: transparent;\n",
              "    border-bottom-color: var(--fill-color);\n",
              "    animation:\n",
              "      spin 1s steps(1) infinite;\n",
              "  }\n",
              "\n",
              "  @keyframes spin {\n",
              "    0% {\n",
              "      border-color: transparent;\n",
              "      border-bottom-color: var(--fill-color);\n",
              "      border-left-color: var(--fill-color);\n",
              "    }\n",
              "    20% {\n",
              "      border-color: transparent;\n",
              "      border-left-color: var(--fill-color);\n",
              "      border-top-color: var(--fill-color);\n",
              "    }\n",
              "    30% {\n",
              "      border-color: transparent;\n",
              "      border-left-color: var(--fill-color);\n",
              "      border-top-color: var(--fill-color);\n",
              "      border-right-color: var(--fill-color);\n",
              "    }\n",
              "    40% {\n",
              "      border-color: transparent;\n",
              "      border-right-color: var(--fill-color);\n",
              "      border-top-color: var(--fill-color);\n",
              "    }\n",
              "    60% {\n",
              "      border-color: transparent;\n",
              "      border-right-color: var(--fill-color);\n",
              "    }\n",
              "    80% {\n",
              "      border-color: transparent;\n",
              "      border-right-color: var(--fill-color);\n",
              "      border-bottom-color: var(--fill-color);\n",
              "    }\n",
              "    90% {\n",
              "      border-color: transparent;\n",
              "      border-bottom-color: var(--fill-color);\n",
              "    }\n",
              "  }\n",
              "</style>\n",
              "\n",
              "      <script>\n",
              "        async function quickchart(key) {\n",
              "          const quickchartButtonEl =\n",
              "            document.querySelector('#' + key + ' button');\n",
              "          quickchartButtonEl.disabled = true;  // To prevent multiple clicks.\n",
              "          quickchartButtonEl.classList.add('colab-df-spinner');\n",
              "          try {\n",
              "            const charts = await google.colab.kernel.invokeFunction(\n",
              "                'suggestCharts', [key], {});\n",
              "          } catch (error) {\n",
              "            console.error('Error during call to suggestCharts:', error);\n",
              "          }\n",
              "          quickchartButtonEl.classList.remove('colab-df-spinner');\n",
              "          quickchartButtonEl.classList.add('colab-df-quickchart-complete');\n",
              "        }\n",
              "        (() => {\n",
              "          let quickchartButtonEl =\n",
              "            document.querySelector('#df-fe07a239-b9f5-4fb8-852b-e33e5641556f button');\n",
              "          quickchartButtonEl.style.display =\n",
              "            google.colab.kernel.accessAllowed ? 'block' : 'none';\n",
              "        })();\n",
              "      </script>\n",
              "    </div>\n",
              "    </div>\n",
              "  </div>\n"
            ],
            "application/vnd.google.colaboratory.intrinsic+json": {
              "type": "dataframe",
              "variable_name": "df_analysis",
              "summary": "{\n  \"name\": \"df_analysis\",\n  \"rows\": 9995,\n  \"fields\": [\n    {\n      \"column\": \"text\",\n      \"properties\": {\n        \"dtype\": \"string\",\n        \"num_unique_values\": 9282,\n        \"samples\": [\n          \"\\u0425\\u043e\\u0440\\u043e\\u0448\\u0438\\u0439 \\u043a\\u043e\\u043c\\u043f\\u043b\\u0435\\u043a\\u0441, \\u043d\\u043e \\u043a\\u0430\\u043a \\u0432\\u0441\\u0435\\u0433\\u0434\\u0430 \\u043d\\u0435 \\u0445\\u0432\\u0430\\u0442\\u0430\\u0435\\u0442 \\u0432\\u0440\\u0435\\u043c\\u0435\\u043d\\u0438 \\u0435\\u0433\\u043e \\u043e\\u0431\\u043e\\u0439\\u0442\\u0438 (\\u043f\\u043e\\u0441\\u043c\\u043e\\u0442\\u0440\\u0435\\u0442\\u044c \\u0432\\u0441\\u0435 \\u0434\\u043e\\u0441\\u0442\\u043e\\u043f\\u0440\\u0438\\u043c\\u0435\\u0447\\u0430\\u0442\\u0435\\u043b\\u044c\\u043d\\u043e\\u0441\\u0442\\u0438). \\u041a\\u0440\\u043e\\u043c\\u0435 \\u0441\\u043e\\u0431\\u043e\\u0440\\u0430, \\u043f\\u043e\\u0441\\u0442\\u043e\\u044f\\u043d\\u043d\\u043e  \\u043f\\u043e\\u0441\\u0435\\u0449\\u0430\\u0435\\u043c \\u0421\\u0443\\u0437\\u0434\\u0430\\u043b\\u044c\\u0441\\u043a\\u0443\\u044e \\u0442\\u044e\\u0440\\u044c\\u043c\\u0443, \\u0438\\u043d\\u0442\\u0435\\u0440\\u0435\\u0441\\u043d\\u043e\\u0435 \\u043c\\u0435\\u0441\\u0442\\u043e. \\u0412\\u0441\\u0435\\u043c \\u0441\\u043e\\u0432\\u0435\\u0442\\u0443\\u044e \\u0442\\u0443\\u0434\\u0430 \\u0441\\u0445\\u043e\\u0434\\u0438\\u0442\\u044c.\",\n          \"\\u0421\\u0438\\u043c\\u043f\\u0430\\u0442\\u0438\\u0447\\u043d\\u0430\\u044f \\u0431\\u0430\\u0448\\u0435\\u043d\\u043a\\u0430 \\u043e\\u043a\\u043e\\u043b\\u043e \\u043f\\u0430\\u043c\\u044f\\u0442\\u043d\\u0438\\u043a\\u0430 \\u0432\\u0438\\u0448\\u043d\\u0435, \\u0432 \\u043c\\u0443\\u0437\\u0435\\u0439 \\u043d\\u0435 \\u0443\\u0434\\u0430\\u043b\\u043e\\u0441\\u044c \\u043f\\u043e\\u043f\\u0430\\u0441\\u0442\\u044c.\",\n          \"\\u0417\\u0430\\u043c\\u0435\\u0447\\u0430\\u0442\\u0435\\u043b\\u044c\\u043d\\u044b\\u0439 \\u043c\\u0443\\u0437\\u0435\\u0439! \\u0412\\u0441\\u0435 \\u043f\\u0440\\u043e\\u0434\\u0443\\u043c\\u0430\\u043d\\u043e \\u0434\\u043b\\u044f \\u0442\\u0443\\u0440\\u0438\\u0441\\u0442\\u043e\\u0432! \\u042d\\u043a\\u0441\\u043f\\u043e\\u0437\\u0438\\u0446\\u0438\\u0438 \\u043d\\u0430 \\u0432\\u044b\\u0441\\u0448\\u0435\\u043c \\u0443\\u0440\\u043e\\u0432\\u043d\\u0435! \\u041d\\u0430\\u0438\\u043b\\u0443\\u0447\\u0448\\u0438\\u0435 \\u0432\\u043f\\u0435\\u0447\\u0430\\u0442\\u043b\\u0435\\u043d\\u0438\\u044f, \\u0445\\u043e\\u0447\\u0435\\u0442\\u0441\\u044f \\u0432\\u0435\\u0440\\u043d\\u0443\\u0442\\u044c\\u0441\\u044f!\"\n        ],\n        \"semantic_type\": \"\",\n        \"description\": \"\"\n      }\n    },\n    {\n      \"column\": \"name\",\n      \"properties\": {\n        \"dtype\": \"category\",\n        \"num_unique_values\": 229,\n        \"samples\": [\n          \"hollybeat\",\n          \"\\u041e\\u041b\\u044c\\u0433\\u0430 \\u041a\",\n          \"natali1663\"\n        ],\n        \"semantic_type\": \"\",\n        \"description\": \"\"\n      }\n    },\n    {\n      \"column\": \"city_where_from\",\n      \"properties\": {\n        \"dtype\": \"category\",\n        \"num_unique_values\": 61,\n        \"samples\": [\n          \"\\u041a\\u0440\\u0430\\u0441\\u043d\\u043e\\u0434\\u0430\\u0440\",\n          \"\\u0420\\u043e\\u0434\\u043d\\u043e\\u0439\",\n          \"\\u0410\\u0440\\u0438\\u0437\\u043e\\u043d\\u0430\"\n        ],\n        \"semantic_type\": \"\",\n        \"description\": \"\"\n      }\n    },\n    {\n      \"column\": \"visiting_date\",\n      \"properties\": {\n        \"dtype\": \"category\",\n        \"num_unique_values\": 78,\n        \"samples\": [\n          \"\\u043e\\u043a\\u0442. 2021 \\u0433.\",\n          \"\\u0431\\u044b\\u043b(\\u0430) \\u0437\\u0434\\u0435\\u0441\\u044c \\u0432 \\u043d\\u043e\\u044f\\u0431\\u0440\\u0435 2020\",\n          \"\\u044f\\u043d\\u0432. 2025 \\u0433.\"\n        ],\n        \"semantic_type\": \"\",\n        \"description\": \"\"\n      }\n    },\n    {\n      \"column\": \"publication_date\",\n      \"properties\": {\n        \"dtype\": \"number\",\n        \"std\": 1,\n        \"min\": 2020,\n        \"max\": 2025,\n        \"num_unique_values\": 6,\n        \"samples\": [\n          2020,\n          2021,\n          2025\n        ],\n        \"semantic_type\": \"\",\n        \"description\": \"\"\n      }\n    },\n    {\n      \"column\": \"object\",\n      \"properties\": {\n        \"dtype\": \"category\",\n        \"num_unique_values\": 10,\n        \"samples\": [\n          \"suzdal_kreml\",\n          \"hrustal_musey\",\n          \"prirodi_musey\"\n        ],\n        \"semantic_type\": \"\",\n        \"description\": \"\"\n      }\n    },\n    {\n      \"column\": \"platform\",\n      \"properties\": {\n        \"dtype\": \"category\",\n        \"num_unique_values\": 13,\n        \"samples\": [\n          \"https://otzovik.com/review_14213035.html\",\n          \"https://otzovik.com/review_16448039.html\",\n          \"tonkosti\"\n        ],\n        \"semantic_type\": \"\",\n        \"description\": \"\"\n      }\n    },\n    {\n      \"column\": \"positives\",\n      \"properties\": {\n        \"dtype\": \"category\",\n        \"num_unique_values\": 7,\n        \"samples\": [\n          \"\\u0438\\u043d\\u0442\\u0435\\u0440\\u0435\\u0441\\u043d\\u0430\\u044f \\u044d\\u043a\\u0441\\u043f\\u043e\\u0437\\u0438\\u0446\\u0438\\u044f\",\n          \"-\",\n          \"\\u0438\\u043d\\u0442\\u0435\\u0440\\u0435\\u0441\\u043d\\u0430\\u044f \\u043a\\u043e\\u043d\\u0441\\u0442\\u0440\\u0443\\u043a\\u0446\\u0438\\u044f, \\u0438\\u043d\\u0442\\u0435\\u0440\\u0435\\u0441\\u043d\\u044b\\u0439 \\u043c\\u0443\\u0437\\u0435\\u0439, \\u0431\\u044b\\u0442 \\u043a\\u0440\\u0435\\u0441\\u0442\\u044c\\u044f\\u043d\"\n        ],\n        \"semantic_type\": \"\",\n        \"description\": \"\"\n      }\n    },\n    {\n      \"column\": \"negatives\",\n      \"properties\": {\n        \"dtype\": \"category\",\n        \"num_unique_values\": 7,\n        \"samples\": [\n          \"\\u043f\\u043b\\u043e\\u0445\\u0430\\u044f \\u0440\\u0430\\u0431\\u043e\\u0442\\u0430 \\u043f\\u0435\\u0440\\u0441\\u043e\\u043d\\u0430\\u043b\\u0430, \\u043d\\u0435 \\u043f\\u0440\\u0438\\u0432\\u0435\\u0442\\u043b\\u0438\\u0432\\u044b\\u0435, \\u0441\\u0443\\u0445\\u043e \\u0438 \\u043d\\u0435\\u043e\\u0445\\u043e\\u0442\\u043d\\u043e \\u043e\\u0442\\u0432\\u0435\\u0447\\u0430\\u043b\\u0438, \\u043e\\u0449\\u0443\\u0449\\u0435\\u043d\\u0438\\u0435 \\u0447\\u0442\\u043e \\u043d\\u0435 \\u0440\\u0430\\u0434\\u044b\",\n          \"\\u043f\\u043e\\u043b\\u043d\\u0430\\u044f \\u0445\\u0440\\u0435\\u043d\\u044c, \\u0440\\u0430\\u0437\\u0432\\u043e\\u0434 \\u043d\\u0430 \\u0434\\u0435\\u043d\\u044c\\u0433\\u0438, \\u043f\\u0443\\u0441\\u0442\\u043e, \\u043d\\u0435 \\u0438\\u043d\\u0442\\u0435\\u0440\\u0435\\u0441\\u043d\\u043e, \\u043d\\u0435\\u0447\\u0435\\u043c \\u0437\\u0430\\u043d\\u044f\\u0442\\u044c\\u0441\\u044f\",\n          \"\\u043f\\u0440\\u043e\\u0445\\u043e\\u0434 \\u043c\\u0430\\u043b\\u0435\\u043d\\u044c\\u043a\\u0438\\u0439, \\u043f\\u043e\\u0442\\u043e\\u043b\\u043a\\u0438 \\u043d\\u0438\\u0437\\u043a\\u0438\\u0435, \\u0443\\u0441\\u043b\\u043e\\u0432\\u0438\\u044f \\u0442\\u0430\\u043a \\u0441\\u0435\\u0431\\u0435\"\n        ],\n        \"semantic_type\": \"\",\n        \"description\": \"\"\n      }\n    },\n    {\n      \"column\": \"gender\",\n      \"properties\": {\n        \"dtype\": \"category\",\n        \"num_unique_values\": 4,\n        \"samples\": [\n          \"\\u0416\",\n          \"\",\n          \"unknown\"\n        ],\n        \"semantic_type\": \"\",\n        \"description\": \"\"\n      }\n    }\n  ]\n}"
            }
          },
          "metadata": {},
          "execution_count": 27
        }
      ]
    },
    {
      "cell_type": "code",
      "source": [],
      "metadata": {
        "id": "2QRsNPSdWfAz"
      },
      "execution_count": null,
      "outputs": []
    }
  ]
}