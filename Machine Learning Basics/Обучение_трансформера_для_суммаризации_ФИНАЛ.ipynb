{
  "cells": [
    {
      "cell_type": "code",
      "execution_count": 1,
      "metadata": {
        "colab": {
          "base_uri": "https://localhost:8080/"
        },
        "collapsed": true,
        "id": "JrKCbnSmvoxk",
        "outputId": "2030758a-0060-4107-8fd2-c35b98799b31"
      },
      "outputs": [
        {
          "output_type": "stream",
          "name": "stdout",
          "text": [
            "Collecting rouge\n",
            "  Downloading rouge-1.0.1-py3-none-any.whl.metadata (4.1 kB)\n",
            "Collecting evaluate\n",
            "  Downloading evaluate-0.4.3-py3-none-any.whl.metadata (9.2 kB)\n",
            "Requirement already satisfied: six in /usr/local/lib/python3.11/dist-packages (from rouge) (1.17.0)\n",
            "Requirement already satisfied: datasets>=2.0.0 in /usr/local/lib/python3.11/dist-packages (from evaluate) (2.14.4)\n",
            "Requirement already satisfied: numpy>=1.17 in /usr/local/lib/python3.11/dist-packages (from evaluate) (2.0.2)\n",
            "Requirement already satisfied: dill in /usr/local/lib/python3.11/dist-packages (from evaluate) (0.3.7)\n",
            "Requirement already satisfied: pandas in /usr/local/lib/python3.11/dist-packages (from evaluate) (2.2.2)\n",
            "Requirement already satisfied: requests>=2.19.0 in /usr/local/lib/python3.11/dist-packages (from evaluate) (2.32.3)\n",
            "Requirement already satisfied: tqdm>=4.62.1 in /usr/local/lib/python3.11/dist-packages (from evaluate) (4.67.1)\n",
            "Requirement already satisfied: xxhash in /usr/local/lib/python3.11/dist-packages (from evaluate) (3.5.0)\n",
            "Requirement already satisfied: multiprocess in /usr/local/lib/python3.11/dist-packages (from evaluate) (0.70.15)\n",
            "Requirement already satisfied: fsspec>=2021.05.0 in /usr/local/lib/python3.11/dist-packages (from fsspec[http]>=2021.05.0->evaluate) (2025.3.2)\n",
            "Requirement already satisfied: huggingface-hub>=0.7.0 in /usr/local/lib/python3.11/dist-packages (from evaluate) (0.31.2)\n",
            "Requirement already satisfied: packaging in /usr/local/lib/python3.11/dist-packages (from evaluate) (24.2)\n",
            "Requirement already satisfied: pyarrow>=8.0.0 in /usr/local/lib/python3.11/dist-packages (from datasets>=2.0.0->evaluate) (18.1.0)\n",
            "Requirement already satisfied: aiohttp in /usr/local/lib/python3.11/dist-packages (from datasets>=2.0.0->evaluate) (3.11.15)\n",
            "Requirement already satisfied: pyyaml>=5.1 in /usr/local/lib/python3.11/dist-packages (from datasets>=2.0.0->evaluate) (6.0.2)\n",
            "Requirement already satisfied: filelock in /usr/local/lib/python3.11/dist-packages (from huggingface-hub>=0.7.0->evaluate) (3.18.0)\n",
            "Requirement already satisfied: typing-extensions>=3.7.4.3 in /usr/local/lib/python3.11/dist-packages (from huggingface-hub>=0.7.0->evaluate) (4.13.2)\n",
            "Requirement already satisfied: charset-normalizer<4,>=2 in /usr/local/lib/python3.11/dist-packages (from requests>=2.19.0->evaluate) (3.4.2)\n",
            "Requirement already satisfied: idna<4,>=2.5 in /usr/local/lib/python3.11/dist-packages (from requests>=2.19.0->evaluate) (3.10)\n",
            "Requirement already satisfied: urllib3<3,>=1.21.1 in /usr/local/lib/python3.11/dist-packages (from requests>=2.19.0->evaluate) (2.4.0)\n",
            "Requirement already satisfied: certifi>=2017.4.17 in /usr/local/lib/python3.11/dist-packages (from requests>=2.19.0->evaluate) (2025.4.26)\n",
            "Requirement already satisfied: python-dateutil>=2.8.2 in /usr/local/lib/python3.11/dist-packages (from pandas->evaluate) (2.9.0.post0)\n",
            "Requirement already satisfied: pytz>=2020.1 in /usr/local/lib/python3.11/dist-packages (from pandas->evaluate) (2025.2)\n",
            "Requirement already satisfied: tzdata>=2022.7 in /usr/local/lib/python3.11/dist-packages (from pandas->evaluate) (2025.2)\n",
            "Requirement already satisfied: aiohappyeyeballs>=2.3.0 in /usr/local/lib/python3.11/dist-packages (from aiohttp->datasets>=2.0.0->evaluate) (2.6.1)\n",
            "Requirement already satisfied: aiosignal>=1.1.2 in /usr/local/lib/python3.11/dist-packages (from aiohttp->datasets>=2.0.0->evaluate) (1.3.2)\n",
            "Requirement already satisfied: attrs>=17.3.0 in /usr/local/lib/python3.11/dist-packages (from aiohttp->datasets>=2.0.0->evaluate) (25.3.0)\n",
            "Requirement already satisfied: frozenlist>=1.1.1 in /usr/local/lib/python3.11/dist-packages (from aiohttp->datasets>=2.0.0->evaluate) (1.6.0)\n",
            "Requirement already satisfied: multidict<7.0,>=4.5 in /usr/local/lib/python3.11/dist-packages (from aiohttp->datasets>=2.0.0->evaluate) (6.4.3)\n",
            "Requirement already satisfied: propcache>=0.2.0 in /usr/local/lib/python3.11/dist-packages (from aiohttp->datasets>=2.0.0->evaluate) (0.3.1)\n",
            "Requirement already satisfied: yarl<2.0,>=1.17.0 in /usr/local/lib/python3.11/dist-packages (from aiohttp->datasets>=2.0.0->evaluate) (1.20.0)\n",
            "Downloading rouge-1.0.1-py3-none-any.whl (13 kB)\n",
            "Downloading evaluate-0.4.3-py3-none-any.whl (84 kB)\n",
            "\u001b[2K   \u001b[90m━━━━━━━━━━━━━━━━━━━━━━━━━━━━━━━━━━━━━━━━\u001b[0m \u001b[32m84.0/84.0 kB\u001b[0m \u001b[31m7.9 MB/s\u001b[0m eta \u001b[36m0:00:00\u001b[0m\n",
            "\u001b[?25hInstalling collected packages: rouge, evaluate\n",
            "Successfully installed evaluate-0.4.3 rouge-1.0.1\n"
          ]
        }
      ],
      "source": [
        "#устанавливаем и импортируем все необходимое\n",
        "!pip install rouge evaluate -q\n",
        "\n",
        "import evaluate\n",
        "\n",
        "import gc\n",
        "import glob\n",
        "\n",
        "import json\n",
        "\n",
        "import kagglehub\n",
        "\n",
        "import math\n",
        "import multiprocessing as mp\n",
        "\n",
        "import numpy as np\n",
        "\n",
        "import os\n",
        "\n",
        "import pandas as pd\n",
        "\n",
        "import re\n",
        "from rouge import Rouge\n",
        "\n",
        "from sklearn.model_selection import train_test_split\n",
        "import string\n",
        "import sentencepiece as spm\n",
        "\n",
        "import torch\n",
        "import torch.nn as nn\n",
        "from torch.nn import Transformer\n",
        "import torch.nn.functional as F\n",
        "import torch.optim as optim\n",
        "from torch.optim import AdamW\n",
        "from torch.optim.lr_scheduler import LinearLR, CosineAnnealingLR, SequentialLR\n",
        "from torch.utils.data import DataLoader, Dataset\n",
        "from torch.nn.utils.rnn import pad_sequence\n",
        "from torch.amp import autocast, GradScaler\n",
        "from transformers import get_linear_schedule_with_warmup\n",
        "from transformers import AutoTokenizer\n",
        "from tqdm import tqdm\n"
      ]
    },
    {
      "cell_type": "markdown",
      "source": [
        "# Загружаем путь к датасету"
      ],
      "metadata": {
        "id": "EHWRKQVfG39L"
      }
    },
    {
      "cell_type": "code",
      "execution_count": 5,
      "metadata": {
        "colab": {
          "base_uri": "https://localhost:8080/"
        },
        "id": "sGcNqkh9F-pu",
        "outputId": "0a987afd-20a3-4a30-8098-fcca0fd40eee"
      },
      "outputs": [
        {
          "output_type": "stream",
          "name": "stdout",
          "text": [
            "Downloading from https://www.kaggle.com/api/v1/datasets/download/varunucl/wikihow-summarization?dataset_version_number=1...\n"
          ]
        },
        {
          "output_type": "stream",
          "name": "stderr",
          "text": [
            "100%|██████████| 200M/200M [00:00<00:00, 216MB/s]"
          ]
        },
        {
          "output_type": "stream",
          "name": "stdout",
          "text": [
            "Extracting files...\n"
          ]
        },
        {
          "output_type": "stream",
          "name": "stderr",
          "text": [
            "\n"
          ]
        },
        {
          "output_type": "stream",
          "name": "stdout",
          "text": [
            "Path to dataset files: /root/.cache/kagglehub/datasets/varunucl/wikihow-summarization/versions/1\n"
          ]
        }
      ],
      "source": [
        "path = kagglehub.dataset_download(\"varunucl/wikihow-summarization\")\n",
        "\n",
        "print(\"Path to dataset files:\", path)"
      ]
    },
    {
      "cell_type": "markdown",
      "metadata": {
        "id": "-yza32SOG_sq"
      },
      "source": [
        "# Чистка токенизация, чанки"
      ]
    },
    {
      "cell_type": "code",
      "execution_count": 6,
      "metadata": {
        "id": "OQOOGYO6l6lQ"
      },
      "outputs": [],
      "source": [
        "#загружаем датасет в датафрейм\n",
        "INPUT_CSV = path + \"/wikihowAll.csv\"\n",
        "df = pd.read_csv(INPUT_CSV)"
      ]
    },
    {
      "cell_type": "code",
      "execution_count": 7,
      "metadata": {
        "colab": {
          "base_uri": "https://localhost:8080/"
        },
        "id": "qtjiNIMmnExK",
        "outputId": "74bc6826-a24b-492d-a62a-4d3bf72aee33"
      },
      "outputs": [
        {
          "output_type": "stream",
          "name": "stdout",
          "text": [
            "                                            headline  \\\n",
            "0  \\nKeep related supplies in the same area.,\\nMa...   \n",
            "1  \\nCreate a sketch in the NeoPopRealist manner ...   \n",
            "2  \\nGet a bachelor’s degree.,\\nEnroll in a studi...   \n",
            "\n",
            "                                    title  \\\n",
            "0          How to Be an Organized Artist1   \n",
            "1  How to Create a Neopoprealist Art Work   \n",
            "2      How to Be a Visual Effects Artist1   \n",
            "\n",
            "                                                text  \n",
            "0   If you're a photographer, keep all the necess...  \n",
            "1   See the image for how this drawing develops s...  \n",
            "2   It is possible to become a VFX artist without...  \n",
            "(215365, 3)\n"
          ]
        }
      ],
      "source": [
        "#проверяем что датафрейм выглядит нормально\n",
        "print(df[:3])\n",
        "print(df.shape)"
      ]
    },
    {
      "cell_type": "code",
      "execution_count": 8,
      "metadata": {
        "id": "6GIbrdHHnU6w"
      },
      "outputs": [],
      "source": [
        "#на всякий случай чистим датасет от мусора\n",
        "def clean_dataframe(df, keep_punctuation=string.punctuation):\n",
        "    escaped_punct = re.escape(keep_punctuation)\n",
        "    pattern = f'[^a-zA-Z0-9\\s{escaped_punct}]'\n",
        "    def clean_cell(cell):\n",
        "        if pd.isna(cell):\n",
        "            return cell\n",
        "        return re.sub(pattern, '', str(cell))\n",
        "    for col in df.select_dtypes(include=['object', 'string']).columns:\n",
        "        df[col] = df[col].apply(clean_cell)\n",
        "\n",
        "    return df"
      ]
    },
    {
      "cell_type": "code",
      "execution_count": 9,
      "metadata": {
        "id": "4Uq1YI96xK8x"
      },
      "outputs": [],
      "source": [
        "#чистим\n",
        "df = clean_dataframe(df)"
      ]
    },
    {
      "cell_type": "code",
      "execution_count": 10,
      "metadata": {
        "id": "UoquHsEUz7N1"
      },
      "outputs": [],
      "source": [
        "#делаем файл с текстом из нужных столбцов датасета для обучения токенизатора\n",
        "txt_wh = list(df['headline']) + list(df['text'])\n",
        "txt_wh = '\\n'.join(str(i) for i in txt_wh)\n",
        "\n",
        "with open('wikihow.txt', 'w') as f:\n",
        "  f.write(txt_wh)"
      ]
    },
    {
      "cell_type": "code",
      "execution_count": 11,
      "metadata": {
        "colab": {
          "base_uri": "https://localhost:8080/"
        },
        "id": "MrtixYOowUZB",
        "outputId": "9f3b06f1-0236-4810-eca0-baf5a6d29199"
      },
      "outputs": [
        {
          "output_type": "execute_result",
          "data": {
            "text/plain": [
              "True"
            ]
          },
          "metadata": {},
          "execution_count": 11
        }
      ],
      "source": [
        "#обучаем\n",
        "# `m.vocab` is just a reference. not used in the segmentation.\n",
        "spm.SentencePieceTrainer.train('--input=wikihow.txt --model_prefix=m --vocab_size=32000 --model_type=bpe --unk_id=0 --bos_id=1  --eos_id=2  --pad_id=3')\n",
        "\n",
        "# makes segmenter instance and loads the model file (m.model)\n",
        "sp = spm.SentencePieceProcessor()\n",
        "sp.load('m.model')"
      ]
    },
    {
      "cell_type": "markdown",
      "metadata": {
        "id": "IaeCaHIkJY5G"
      },
      "source": [
        "## Разбиваем на чанки"
      ]
    },
    {
      "cell_type": "code",
      "execution_count": 12,
      "metadata": {
        "id": "JaxfPfQBJa_g"
      },
      "outputs": [],
      "source": [
        "def process_chunk(chunk_idx, chunk, output_dir):\n",
        "    '''\n",
        "    Обрабатывает чанки, применяя к ним функцию для кодирования в индексы safe_encode\n",
        "    '''\n",
        "    print(f\"🔹 Processing chunk {chunk_idx}...\")\n",
        "\n",
        "    chunk = chunk.dropna(subset=[\"text\", \"headline\"]).copy().reset_index(drop=True)\n",
        "\n",
        "    text_tokens = chunk[\"text\"].apply(safe_encode)\n",
        "    headline_tokens = chunk[\"headline\"].apply(safe_encode)\n",
        "\n",
        "    chunk[\"text_indices\"] = text_tokens\n",
        "    chunk[\"headline_indices\"] = headline_tokens\n",
        "\n",
        "    output_path = os.path.join(output_dir, f\"chunk_{chunk_idx}.parquet\")\n",
        "    chunk[[\"text_indices\", \"headline_indices\"]].to_parquet(output_path, engine=\"pyarrow\")\n",
        "    print(f\"💾 Saved {output_path}\")\n",
        "\n",
        "    del chunk\n",
        "    gc.collect()\n",
        "\n",
        "def safe_encode(text):\n",
        "  '''\n",
        "  Функция для токенизации. Если получает пустую строку или не строку, возвращает паддинг токен, а не пустой список\n",
        "  '''\n",
        "  if not isinstance(text, str):\n",
        "      return [sp.pad_id()]\n",
        "  tokens = sp.encode_as_ids(text)\n",
        "  return [sp.bos_id()] + tokens + [sp.eos_id()]"
      ]
    },
    {
      "cell_type": "code",
      "execution_count": 13,
      "metadata": {
        "colab": {
          "base_uri": "https://localhost:8080/"
        },
        "id": "foL-4UYR3hHb",
        "outputId": "e8d5121b-f726-4787-b263-2a5663636b64",
        "collapsed": true
      },
      "outputs": [
        {
          "output_type": "stream",
          "name": "stdout",
          "text": [
            "Starting preprocessing chunks\n",
            "🧩 Total chunks to process: 22\n",
            "🔹 Processing chunk 0...\n",
            "💾 Saved ./chunks/chunk_0.parquet\n",
            "🔹 Processing chunk 1...\n",
            "💾 Saved ./chunks/chunk_1.parquet\n",
            "🔹 Processing chunk 2...\n",
            "💾 Saved ./chunks/chunk_2.parquet\n",
            "🔹 Processing chunk 3...\n",
            "💾 Saved ./chunks/chunk_3.parquet\n",
            "🔹 Processing chunk 4...\n",
            "💾 Saved ./chunks/chunk_4.parquet\n",
            "🔹 Processing chunk 5...\n",
            "💾 Saved ./chunks/chunk_5.parquet\n",
            "🔹 Processing chunk 6...\n",
            "💾 Saved ./chunks/chunk_6.parquet\n",
            "🔹 Processing chunk 7...\n",
            "💾 Saved ./chunks/chunk_7.parquet\n",
            "🔹 Processing chunk 8...\n",
            "💾 Saved ./chunks/chunk_8.parquet\n",
            "🔹 Processing chunk 9...\n",
            "💾 Saved ./chunks/chunk_9.parquet\n",
            "🔹 Processing chunk 10...\n",
            "💾 Saved ./chunks/chunk_10.parquet\n",
            "🔹 Processing chunk 11...\n",
            "💾 Saved ./chunks/chunk_11.parquet\n",
            "🔹 Processing chunk 12...\n",
            "💾 Saved ./chunks/chunk_12.parquet\n",
            "🔹 Processing chunk 13...\n",
            "💾 Saved ./chunks/chunk_13.parquet\n",
            "🔹 Processing chunk 14...\n",
            "💾 Saved ./chunks/chunk_14.parquet\n",
            "🔹 Processing chunk 15...\n",
            "💾 Saved ./chunks/chunk_15.parquet\n",
            "🔹 Processing chunk 16...\n",
            "💾 Saved ./chunks/chunk_16.parquet\n",
            "🔹 Processing chunk 17...\n",
            "💾 Saved ./chunks/chunk_17.parquet\n",
            "🔹 Processing chunk 18...\n",
            "💾 Saved ./chunks/chunk_18.parquet\n",
            "🔹 Processing chunk 19...\n",
            "💾 Saved ./chunks/chunk_19.parquet\n",
            "🔹 Processing chunk 20...\n",
            "💾 Saved ./chunks/chunk_20.parquet\n",
            "🔹 Processing chunk 21...\n",
            "💾 Saved ./chunks/chunk_21.parquet\n",
            "Finished processing chunks\n"
          ]
        }
      ],
      "source": [
        "CHUNK_SIZE = 10000\n",
        "OUTPUT_DIR = './chunks'\n",
        "\n",
        "if __name__ == '__main__':\n",
        "  print('Starting preprocessing chunks')\n",
        "  os.makedirs(OUTPUT_DIR, exist_ok=True)\n",
        "  chunks = [df[i:i + CHUNK_SIZE] for i in range(0, len(df), CHUNK_SIZE)]\n",
        "  print(f\"🧩 Total chunks to process: {len(chunks)}\")\n",
        "  for i, chunk in enumerate(chunks):\n",
        "    process_chunk(i, chunk, OUTPUT_DIR)\n",
        "print('Finished processing chunks')"
      ]
    },
    {
      "cell_type": "markdown",
      "metadata": {
        "id": "PuH4R1GmHFuk"
      },
      "source": [
        "## Загружаем все чанки в единый файл-датафрейм"
      ]
    },
    {
      "cell_type": "code",
      "execution_count": 14,
      "metadata": {
        "colab": {
          "base_uri": "https://localhost:8080/"
        },
        "id": "kKnDPD6bm4aP",
        "outputId": "416fb6a1-2561-44b9-e13b-f15ffd8388bd"
      },
      "outputs": [
        {
          "output_type": "stream",
          "name": "stdout",
          "text": [
            "Total samples: 215365\n"
          ]
        }
      ],
      "source": [
        "files = sorted(glob.glob('/content/chunks/chunk_*.parquet'))  # or your actual file pattern\n",
        "df_processed = pd.concat([pd.read_parquet(f) for f in files], ignore_index=True)\n",
        "print(f\"Total samples: {len(df)}\")\n"
      ]
    },
    {
      "cell_type": "code",
      "execution_count": 15,
      "metadata": {
        "colab": {
          "base_uri": "https://localhost:8080/"
        },
        "collapsed": true,
        "id": "aMC-DhvZ3LR_",
        "outputId": "91a0f3d8-7dce-42b8-d254-b105ac1623cf"
      },
      "outputs": [
        {
          "output_type": "stream",
          "name": "stdout",
          "text": [
            "[    1  2729     9  1949    69   342   200  3585 11893   906 31956  1954\n",
            " 31956 10932 31945  1043 31946   463    71    94   651  4395 31981     9\n",
            "  1361 12856    92    21  6910    73 31946    37   344 31946    21   988\n",
            "   578  3250 31945   492     9  1866    21   988     9  1949  1709    37\n",
            "  3317 31945  2497 19194  3317    86   619  3730 31983 13790 31945   728\n",
            "  1483   153  1891 31946    69   523   248 18421 31928 31959   325  4887\n",
            "    47  2147    71  4249  5195   728     5  3910  3132    64     9   490\n",
            " 31946   257   857    14  2409   567    70 25526     5    29  4727  1022\n",
            "  2636   253  7185 31945  3817   215  3125    37  3231 31946   217  3548\n",
            "    37  1352    21  4395   100   264    14  7745 31945 25526     5    29\n",
            "  4727  2636     5  4367  1767 31946    86     9   489  1551    80    87\n",
            "    54  8636 31945   246  1551   225    54  2012    37  1813 31945  1043\n",
            " 31946   485  4911 31956   480  1120 31937  4991    87    54   747    69\n",
            "    36  4344 31928 31959   325  4887    47   177    29  4727  1886 31945\n",
            "    70   446  8907  4971    80  1266    69  1816 31946   497     5  9633\n",
            "  3025     0  8262  8907  1484   663    54    36   580  2157 31945   446\n",
            "  7725  3854 31946   271 10293 10138 31945 24254 31952  1241  1377 17771\n",
            "    37  1459  2801 31945  2580  5673     9  2906  1522   724    21    54\n",
            "  3215 31946     9  2906   839    40  1484    87    54  9975 31946   217\n",
            "  1754   200    29  4727  4396  2636   501  1801   712  1316    37  1542\n",
            "   712 13508     9  3826   724    21    54  8636   432   857    71  1313\n",
            "    21   792  4945     9   489   839    40   432   276 31945 11695  3854\n",
            " 15028   183    54  8185    63 15609    86     5  1316  1484 17398 31946\n",
            "   549  2213   183    54  2589    86  7465 31945 11112   600    92  4075\n",
            "    21   741  5913 31946  7908 31946  1001  4955 31946  1896 31946     9\n",
            "  7725  4971   125   143   129   679  7851 31945   328  2036  2297 31946\n",
            "  2369     9    29  4727  7585   183   822  1352 31945   446    80  1743\n",
            " 31946   153    14   230    36  4344 31928 31959   325  4887    47   177\n",
            "    29  4727  7821    21   575  4249 31956  8530 20118    38   896    63\n",
            "  2069 31946    14    87   963   497 14967    69    36    29  4727 31945\n",
            "    70  2729  4434  1504 31945   149  1349   100   628    14     5  2334\n",
            "    40 12946 31945   148   100   129  3250  2966    37  4449    60   492\n",
            "     5  6973    37  1931   141  4642     9 11984    37  4799    40  3191\n",
            "  2175    40    36  2294 31945 24369   692  1338  3547   100   264    14\n",
            "  5864     9   839    40  1484   284   432  4131    71  8150   234   575\n",
            "   857    60   145     9  1551    71  1219 31946     9  1677    29  4727\n",
            "    87    54  8636  3508    64     9  1602    63   179     5   906 31935\n",
            "  5447 31945   446  2016   333 31946    14   183   129    21  3219     5\n",
            " 31852    60  5261     9  5148    37  4625  1866    60   492  1316  1484\n",
            "    99  2970    60  1180   937  8832 31946   497    36   301  7005  6973\n",
            " 31946     9  1767    40  1338  4449    40  3752 31946  2738    38     9\n",
            " 20940 31945 14416  4607    64     9 17261    40    36    29  4727 31945\n",
            "   145    14    92  2983    38    36 12172  2029 31946    14   183   990\n",
            "    21  1369   232    40     9  2213    38 26585    60   442  2303 31946\n",
            "   436   608  6170  2475   179   276   857   190 15855 31968    21   788\n",
            "   190 11431   607  1043 31946  4469    87    54 11901   193  1742 31945\n",
            "  2759   792  1793   857    21   687   392  9339    21     9  3585    60\n",
            "  1010   523   663    54  4396     5   971  3730   271  1273  7465 31946\n",
            " 12055 31946   271   529  7465    69  5464    37  4817  3730    60   145\n",
            "    14   129     5  9149    63   782 31946  1484   314    73    86     9\n",
            "   857  1484  1769    69    80  1767 31945 26041  1866    37  3730   153\n",
            "   221    92 21587    60   145    73    71  6375    21  1266     5   511\n",
            "   266    63   153    73    71    64     5  1551    80   822  2110 31946\n",
            "   314 11582    36    29  4727  1886    86     5  1246 12227    60  1043\n",
            " 31946   153    14  1426 31953 31927    54   709    21  5014   240   389\n",
            "  4724  3134    40    36  2900 31953 31933 31819  2115 31946    14 31953\n",
            "    35   656   193    86     9  2927  1073  9478    40  3730    63   485\n",
            "  3685 31946    86    32 30594    63   162 31956 13124  1714    34 31956\n",
            " 31937 30594 31945  2058    21   988     9  4344 31928 31959   325  4887\n",
            "    47   177   104 16928   276  1177     9  6370 31946   385    87    54\n",
            "  7052    38 16634   387   234  5225   497   368   103   713 12136 31953\n",
            "  4344   325   325 15872   177 24498  2319 31945  2459 31946     9  1932\n",
            " 31938  1098 31953  1716 31956 15550 17476 20431  2319   100  2739    14\n",
            "   519   342    21 28981   664   221   129  2909    38  1194    86  4111\n",
            "  8344    37   575  8084 31945     2]\n",
            "[    1  1842     5  6973    38     9  4344 31928 31959   325  4887    47\n",
            "   177  4590    40     9  2235    29  4727    64     5   529  1276    40\n",
            "   774 27725 31952  3237 31960   497     9  1542  5201  2559    60  2852\n",
            "    21   988    36  4344 31928 31959   325  4887    47   177    29  4727\n",
            "    60  2852    36  1484    60  3986    36  1886    86     5  1349    60\n",
            " 30888     5   301  7005   354  3071    40    36  2483    29  4727    60\n",
            "  2852     9  1522    21    54  8636    60  1112    14   129 31396     9\n",
            "  1551 31946  1931     9  1522    60  5160    38     9  1548  2532    40\n",
            "     9  2970    60  2352     9  2970    37  1548  6738    21   687    60\n",
            "  2596     9  1866 31946   344  1528     9 19194  1525    86   619 13765\n",
            "  3730   190 19190     9  3691  1504  2358  5160  3730    86  7465    40\n",
            "  4367  1336    69     9  1503  3329    40   333    14    92  4396    60\n",
            "  2969   193     9  1866    37  4168    99  1891    60  9740     9    29\n",
            "  4727   153  1891    60   442 11477    37    73   100   264    14  7745\n",
            " 31991     2]\n"
          ]
        }
      ],
      "source": [
        "# проверим, как сейчас выглядят индексы\n",
        "print(df_processed['text_indices'][1])\n",
        "print(df_processed['headline_indices'][1])"
      ]
    },
    {
      "cell_type": "markdown",
      "metadata": {
        "id": "z4-x9ElVCusm"
      },
      "source": [
        "## Индексы в виде файла"
      ]
    },
    {
      "cell_type": "code",
      "execution_count": 16,
      "metadata": {
        "id": "ODNzYcPCgyPi"
      },
      "outputs": [],
      "source": [
        "df_processed.to_csv('transformer_indices.csv', sep=',', encoding='utf-8')"
      ]
    },
    {
      "cell_type": "markdown",
      "metadata": {
        "id": "Nd8UjkURTNjd"
      },
      "source": [
        "# текст - сурс, хедлайны - таргет"
      ]
    },
    {
      "cell_type": "code",
      "execution_count": 17,
      "metadata": {
        "id": "Njkd1qHlpR7n"
      },
      "outputs": [],
      "source": [
        "class MyDataset(Dataset):\n",
        "    def __init__(self, dataframe):\n",
        "        \"\"\"\n",
        "        Initializes the dataset.\n",
        "\n",
        "        Args:\n",
        "            dataframe (pd.DataFrame): Expected columns:\n",
        "                'text_indices' → source token IDs (no BOS/EOS)\n",
        "                'headline_indices' → target token IDs (already includes BOS+EOS)\n",
        "        \"\"\"\n",
        "        required_cols = ['text_indices', 'headline_indices']\n",
        "        if not all(col in dataframe.columns for col in required_cols):\n",
        "            raise ValueError(f\"DataFrame must contain: {required_cols}\")\n",
        "\n",
        "        self.df = dataframe.reset_index(drop=True)\n",
        "\n",
        "    def __len__(self):\n",
        "        return len(self.df)\n",
        "\n",
        "    def __getitem__(self, idx):\n",
        "        row = self.df.iloc[idx]\n",
        "\n",
        "        src_ids = torch.tensor(row['text_indices'], dtype=torch.long)\n",
        "        tgt_ids = torch.tensor(row['headline_indices'], dtype=torch.long)\n",
        "\n",
        "        return src_ids, tgt_ids\n",
        "\n",
        "\n",
        "def collate_fn(batch):\n",
        "    \"\"\"\n",
        "    Pads source and target sequences within a batch dynamically AND truncates to MAX_LEN.\n",
        "\n",
        "    Returns:\n",
        "        tuple:\n",
        "            - src_padded: (B, min(L_src_max_in_batch, MAX_LEN))\n",
        "            - tgt_padded: (B, min(L_tgt_max_in_batch, MAX_LEN))\n",
        "    \"\"\"\n",
        "    src_list, tgt_list = zip(*batch)\n",
        "\n",
        "    src_padded = pad_sequence(src_list, batch_first=True, padding_value=PAD_IDX)\n",
        "    tgt_padded = pad_sequence(tgt_list, batch_first=True, padding_value=PAD_IDX)\n",
        "\n",
        "    # Truncate sequences if they are longer than MAX_LEN\n",
        "    # This ensures that the sequence length dimension of the tensors\n",
        "    # passed to the model (and thus to PositionalEncoding) does not exceed MAX_LEN.\n",
        "    src_padded = src_padded[:, :MAX_LEN]\n",
        "    tgt_padded = tgt_padded[:, :MAX_LEN] # Target sequences also need to be truncated\n",
        "\n",
        "    return src_padded, tgt_padded"
      ]
    },
    {
      "cell_type": "markdown",
      "metadata": {
        "id": "jPFnKWtM28Ot"
      },
      "source": [
        "# Настройка гиперпараметров"
      ]
    },
    {
      "cell_type": "markdown",
      "metadata": {
        "id": "88Zk2RsZ17Jn"
      },
      "source": [
        "примеры параметров из гайда\n",
        "![image.png](data:image/png;base64,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)"
      ]
    },
    {
      "cell_type": "code",
      "execution_count": 18,
      "metadata": {
        "id": "o_7Won2kFdnK"
      },
      "outputs": [],
      "source": [
        "EMBED_DIM = 512\n",
        "FF_DIM    = 2048\n",
        "NUM_LAYERS = 6\n",
        "NUM_HEADS  = 8\n",
        "MAX_LEN    = 256\n",
        "PAD_IDX = 0\n",
        "EPOCHS = 5\n",
        "LEARNING_RATE = 0.0001\n",
        "BATCH_SIZE = 32\n",
        "DEVICE = torch.device('cuda' if torch.cuda.is_available() else 'cpu')"
      ]
    },
    {
      "cell_type": "markdown",
      "metadata": {
        "id": "LpXh9t8b2_Cq"
      },
      "source": [
        "#  Деление на трейн вал и тест"
      ]
    },
    {
      "cell_type": "code",
      "execution_count": 19,
      "metadata": {
        "id": "Qqj-rTuNS11x"
      },
      "outputs": [],
      "source": [
        "train_data, temp_data = train_test_split(df_processed, test_size=0.4, random_state=42)\n",
        "val_data, test_data = train_test_split(temp_data, test_size=0.5, random_state=42)\n",
        "\n",
        "train_dataset = MyDataset(train_data)\n",
        "val_dataset   = MyDataset(val_data)\n",
        "test_dataset  = MyDataset(test_data)\n",
        "\n",
        "train_loader = DataLoader(\n",
        "    train_dataset,\n",
        "    batch_size=BATCH_SIZE,\n",
        "    shuffle=True,\n",
        "    collate_fn=collate_fn,\n",
        "    num_workers=2,\n",
        "    pin_memory=True\n",
        ")\n",
        "\n",
        "val_loader = DataLoader(\n",
        "    val_dataset,\n",
        "    batch_size=BATCH_SIZE,\n",
        "    shuffle=False,\n",
        "    collate_fn=collate_fn,\n",
        "    num_workers=2\n",
        ")\n",
        "\n",
        "test_loader = DataLoader(\n",
        "    test_dataset,\n",
        "    batch_size=BATCH_SIZE,\n",
        "    shuffle=False,\n",
        "    collate_fn=collate_fn,\n",
        "    num_workers=2\n",
        ")"
      ]
    },
    {
      "cell_type": "markdown",
      "metadata": {
        "id": "tfNmJq2NTkdX"
      },
      "source": [
        "# Создаем класс модели трансформер-суммаризатор\n",
        "\n",
        "\n",
        "1.   Слои включают энкодер, создающий векторное контекстное представление, которое затем использует декодер. Выходной слой преобразует вектор декодера в вероятностное распределение по всему словарю\n",
        "2.   Позиционные кодировки. Так как трансформер, в отличие от рекуррентных НС, не запоминает позицию, нам нужно закодировать позицию токенов, чтобы модель ее запоминала\n",
        "3. Прямой проход\n",
        "\n",
        "\n"
      ]
    },
    {
      "cell_type": "code",
      "execution_count": 21,
      "metadata": {
        "id": "ol5OZRAhhqf5"
      },
      "outputs": [],
      "source": [
        "class PositionalEncoding(nn.Module):\n",
        "    def __init__(self, d_model, max_len, dropout=0.1):\n",
        "        super().__init__()\n",
        "        self.dropout = nn.Dropout(p=dropout)\n",
        "\n",
        "        pe = torch.zeros(1, max_len, d_model)\n",
        "        position = torch.arange(max_len).unsqueeze(1).float()\n",
        "        div_term = torch.exp(\n",
        "            torch.arange(0, d_model, 2).float() * (-math.log(10000.0) / d_model)\n",
        "        )\n",
        "        pe[0, :, 0::2] = torch.sin(position * div_term)\n",
        "        pe[0, :, 1::2] = torch.cos(position * div_term)\n",
        "\n",
        "        self.register_buffer('pe', pe)\n",
        "\n",
        "    def forward(self, x):\n",
        "        seq_len = x.size(1)\n",
        "        x = x + self.pe[:, :seq_len]\n",
        "        return self.dropout(x)\n",
        "\n",
        "class TransformerSummarizer(nn.Module):\n",
        "    def __init__(self, vocab_size, embed_dim, num_heads, ff_dim, num_layers, pad_idx, max_len):\n",
        "        \"\"\"\n",
        "        Transformer-based summarization model.\n",
        "\n",
        "        Args:\n",
        "            vocab_size: Size of vocabulary\n",
        "            embed_dim: Embedding dimension\n",
        "            num_heads: Number of attention heads\n",
        "            ff_dim: Feed-forward dimension\n",
        "            num_layers: Number of transformer layers\n",
        "            pad_idx: Padding token index\n",
        "        \"\"\"\n",
        "        super().__init__()\n",
        "        self.embed = nn.Embedding(vocab_size, embed_dim, padding_idx=pad_idx)\n",
        "        self.pos_enc = PositionalEncoding(\n",
        "            d_model=embed_dim,\n",
        "            max_len=max_len,\n",
        "            dropout=0.1\n",
        "        )\n",
        "        self.transformer = Transformer(\n",
        "            d_model=embed_dim,\n",
        "            nhead=num_heads,\n",
        "            num_encoder_layers=num_layers,\n",
        "            num_decoder_layers=num_layers,\n",
        "            dim_feedforward=ff_dim,\n",
        "            dropout=0.1,\n",
        "            batch_first=True\n",
        "        )\n",
        "        self.fc_out = nn.Linear(embed_dim, vocab_size)\n",
        "        self.pad_idx = pad_idx\n",
        "        self.vocab_size = vocab_size\n",
        "\n",
        "    def forward(self, src, tgt, tgt_mask=None, src_key_padding_mask=None, tgt_key_padding_mask=None):\n",
        "        \"\"\"\n",
        "        Forward pass for training.\n",
        "\n",
        "        Args:\n",
        "            src: [batch_size, src_seq_len]\n",
        "            tgt: [batch_size, tgt_seq_len]\n",
        "            tgt_mask: Optional target mask\n",
        "            src_key_padding_mask: Source padding mask\n",
        "            tgt_key_padding_mask: Target padding mask\n",
        "\n",
        "        Returns:\n",
        "            Output logits [batch_size, tgt_seq_len, vocab_size]\n",
        "        \"\"\"\n",
        "        self._validate_inputs(src, tgt)\n",
        "\n",
        "        src_emb = self.pos_enc(self.embed(src))\n",
        "        tgt_emb = self.pos_enc(self.embed(tgt))\n",
        "\n",
        "        output = self.transformer(\n",
        "            src_emb,\n",
        "            tgt_emb,\n",
        "            tgt_mask=tgt_mask,\n",
        "            src_key_padding_mask=src_key_padding_mask,\n",
        "            tgt_key_padding_mask=tgt_key_padding_mask\n",
        "        )\n",
        "\n",
        "        return self.fc_out(output)\n",
        "\n",
        "    def generate(self, src, bos_idx=1, eos_idx=2, max_length=50, repetition_penalty=1.2):\n",
        "        \"\"\"\n",
        "        Generate summary autoregressively with a repetition penalty.\n",
        "\n",
        "        Args:\n",
        "            src: (batch_size, src_seq_len) input token IDs\n",
        "            max_length: Maximum length of the generated summary\n",
        "            repetition_penalty: >1.0 penalizes tokens already generated\n",
        "\n",
        "        Returns:\n",
        "            Tensor of shape (batch_size, gen_len) with generated IDs\n",
        "        \"\"\"\n",
        "        self._validate_inputs(src)\n",
        "\n",
        "        device = src.device\n",
        "        batch_size = src.size(0)\n",
        "\n",
        "        src_emb = self.pos_enc(self.embed(src))\n",
        "        src_padding_mask = (src == self.pad_idx)\n",
        "\n",
        "        tgt = torch.full((batch_size, 1), bos_idx, dtype=torch.long, device=device)\n",
        "\n",
        "        for _step in range(max_length - 1):\n",
        "            tgt_emb = self.pos_enc(self.embed(tgt))\n",
        "            tgt_mask = generate_square_subsequent_mask(tgt.size(1)).to(device)\n",
        "            tgt_padding_mask = (tgt == self.pad_idx)\n",
        "\n",
        "            out = self.transformer(\n",
        "                src_emb,\n",
        "                tgt_emb,\n",
        "                tgt_mask=tgt_mask,\n",
        "                src_key_padding_mask=src_padding_mask,\n",
        "                tgt_key_padding_mask=tgt_padding_mask\n",
        "            )\n",
        "\n",
        "            logits = self.fc_out(out[:, -1, :])\n",
        "\n",
        "            # Apply repetition penalty: for each batch item, any token that’s\n",
        "            # already in tgt[i] will have its logit divided by penalty\n",
        "            for i in range(batch_size):\n",
        "                generated = tgt[i].tolist()\n",
        "                if repetition_penalty != 1.0:\n",
        "                    # convert to set to penalize each token only once\n",
        "                    for token_id in set(generated):\n",
        "                        logits[i, token_id] = logits[i, token_id] / repetition_penalty\n",
        "\n",
        "            next_token = logits.argmax(dim=-1, keepdim=True)\n",
        "            tgt = torch.cat([tgt, next_token], dim=1)\n",
        "\n",
        "            if (next_token == eos_idx).all():\n",
        "                break\n",
        "\n",
        "        return tgt\n",
        "\n",
        "\n",
        "    def _validate_inputs(self, src, tgt=None):\n",
        "        \"\"\"Validate input tensors for device and indices\"\"\"\n",
        "        assert src.device == self.embed.weight.device, \\\n",
        "               f\"Input device {src.device} != model device {self.embed.weight.device}\"\n",
        "\n",
        "        assert src.min() >= 0 and src.max() < self.vocab_size, \\\n",
        "               f\"Source tokens out of range [0, {self.vocab_size-1}]\"\n",
        "\n",
        "        if tgt is not None:\n",
        "            assert tgt.device == src.device, \"Source and target devices must match\"\n",
        "            assert tgt.min() >= 0 and tgt.max() < self.vocab_size, \\\n",
        "                   f\"Target tokens out of range [0, {self.vocab_size-1}]\"\n",
        "\n",
        "def generate_square_subsequent_mask(sz):\n",
        "    \"\"\"Generate causal mask for autoregressive decoding\"\"\"\n",
        "    return torch.triu(torch.ones(sz, sz, dtype=torch.bool), diagonal=1)"
      ]
    },
    {
      "cell_type": "code",
      "execution_count": 23,
      "metadata": {
        "id": "1tR4NzPIbeIZ"
      },
      "outputs": [],
      "source": [
        "VOCAB_SIZE = sp.get_piece_size()"
      ]
    },
    {
      "cell_type": "code",
      "execution_count": 24,
      "metadata": {
        "id": "b7Sf-iM3bekk"
      },
      "outputs": [],
      "source": [
        "PAD_IDX = sp.pad_id()"
      ]
    },
    {
      "cell_type": "markdown",
      "metadata": {
        "id": "mSvDqMqNU1hP"
      },
      "source": [
        "# Функция обучения модели"
      ]
    },
    {
      "cell_type": "code",
      "execution_count": 25,
      "metadata": {
        "id": "YE42aW2N6Ki5"
      },
      "outputs": [],
      "source": [
        "def train_model(model, train_loader, val_loader, criterion, optimizer, scheduler, scaler, device, epochs, vocab_size, pad_idx):\n",
        "    \"\"\"\n",
        "    Training loop for the TransformerSummarizer model.\n",
        "\n",
        "    Args:\n",
        "        model: TransformerSummarizer model instance.\n",
        "        train_loader: DataLoader for training data.\n",
        "        val_loader: DataLoader for validation data.\n",
        "        criterion: Loss function (e.g., nn.CrossEntropyLoss).\n",
        "        optimizer: Optimizer (e.g., AdamW).\n",
        "        scheduler: Learning rate scheduler.\n",
        "        scaler: GradScaler for mixed precision training.\n",
        "        device: Device to run the model on (e.g., 'cuda').\n",
        "        epochs: Number of training epochs.\n",
        "        vocab_size: Size of the vocabulary (e.g., 30522).\n",
        "        pad_idx: Index of the padding token (e.g., 0).\n",
        "\n",
        "    Returns:\n",
        "        None (prints training and validation metrics).\n",
        "    \"\"\"\n",
        "    train_losses = []\n",
        "    val_losses = []\n",
        "    epoch_loss = 0.0\n",
        "    total_tokens = 0\n",
        "\n",
        "    for epoch in range(epochs):\n",
        "        model.train()\n",
        "        epoch_loss = 0\n",
        "        total_tokens = 0\n",
        "        pbar = tqdm(train_loader, desc=f\"Epoch {epoch+1}/{epochs}\")\n",
        "        for src, tgt in pbar:\n",
        "            src, tgt = src.to(device), tgt.to(device)\n",
        "            optimizer.zero_grad()\n",
        "\n",
        "            tgt_input = tgt[:, :-1]\n",
        "            tgt_mask = generate_square_subsequent_mask(tgt_input.size(1)).to(device)\n",
        "\n",
        "            src_padding_mask = (src == pad_idx).to(device)\n",
        "            tgt_padding_mask = (tgt_input == pad_idx).to(device)\n",
        "\n",
        "            with autocast('cuda', dtype=torch.float16):\n",
        "                output = model(\n",
        "                    src,\n",
        "                    tgt_input,\n",
        "                    tgt_mask=tgt_mask,\n",
        "                    src_key_padding_mask=src_padding_mask,\n",
        "                    tgt_key_padding_mask=tgt_padding_mask\n",
        "                )\n",
        "                loss = criterion(\n",
        "                    output.contiguous().view(-1, vocab_size),\n",
        "                    tgt[:, 1:].contiguous().view(-1)\n",
        "                )\n",
        "                non_pad_positions = (tgt[:, 1:] != pad_idx).sum().item()\n",
        "                epoch_loss += loss.item() * non_pad_positions\n",
        "                total_tokens += non_pad_positions\n",
        "\n",
        "            scaler.scale(loss).backward()\n",
        "            scaler.unscale_(optimizer)\n",
        "            torch.nn.utils.clip_grad_norm_(model.parameters(), 1.0)\n",
        "            scaler.step(optimizer)\n",
        "            scaler.update()\n",
        "            scheduler.step()\n",
        "\n",
        "            pbar.set_postfix(token_loss=f\"{loss.item():.4f}\")\n",
        "\n",
        "\n",
        "        avg_train_loss = epoch_loss / total_tokens\n",
        "        train_losses.append(avg_train_loss)\n",
        "        print(f\"\\nEpoch {epoch+1} average training Loss: {avg_train_loss:.4f}\")\n",
        "\n",
        "        # Валидация\n",
        "        model.eval()\n",
        "        val_loss = 0\n",
        "        val_tokens = 0\n",
        "        with torch.no_grad():\n",
        "            for src, tgt in val_loader:\n",
        "                src, tgt = src.to(device), tgt.to(device)\n",
        "                tgt_input = tgt[:, :-1]\n",
        "                tgt_mask = generate_square_subsequent_mask(tgt_input.size(1)).to(device)\n",
        "                src_padding_mask = (src == pad_idx).to(device)\n",
        "                tgt_padding_mask = (tgt_input == pad_idx).to(device)\n",
        "\n",
        "                with autocast(device_type='cuda', dtype=torch.float16):\n",
        "                    output = model(\n",
        "                        src,\n",
        "                        tgt_input,\n",
        "                        tgt_mask=tgt_mask,\n",
        "                        src_key_padding_mask=src_padding_mask,\n",
        "                        tgt_key_padding_mask=tgt_padding_mask\n",
        "                    )\n",
        "                    loss = criterion(\n",
        "                        output.contiguous().view(-1, vocab_size),\n",
        "                        tgt[:, 1:].contiguous().view(-1)\n",
        "                    )\n",
        "                    non_pad_positions = (tgt[:, 1:] != pad_idx).sum().item()\n",
        "\n",
        "                val_loss += loss.item() * non_pad_positions\n",
        "                val_tokens += non_pad_positions\n",
        "\n",
        "            avg_val_loss = val_loss / val_tokens\n",
        "            val_losses.append(avg_val_loss)\n",
        "            print(f\"Epoch {epoch+1} average validation Loss: {avg_val_loss:.4f}\")\n",
        "\n",
        "        # Сохраняем чекпоинт модели\n",
        "        torch.save(model.state_dict(), f\"transformer_summarizer_epoch_{epoch+1}.pt\")\n",
        "\n",
        "    return train_losses, val_losses"
      ]
    },
    {
      "cell_type": "code",
      "execution_count": 26,
      "metadata": {
        "collapsed": true,
        "id": "F2FJpzBvS_yp"
      },
      "outputs": [],
      "source": [
        "model = TransformerSummarizer(VOCAB_SIZE, EMBED_DIM, NUM_HEADS, FF_DIM, NUM_LAYERS, PAD_IDX, MAX_LEN).to(DEVICE)\n",
        "criterion = nn.CrossEntropyLoss(ignore_index=PAD_IDX, reduction='mean')\n",
        "\n",
        "optimizer = AdamW(model.parameters(), lr=LEARNING_RATE, weight_decay=0.01)\n",
        "total_steps = len(train_loader) * EPOCHS\n",
        "warmup_steps = int(0.05 * total_steps)\n",
        "scheduler = get_linear_schedule_with_warmup(optimizer, num_warmup_steps=warmup_steps, num_training_steps=total_steps)\n",
        "\n",
        "scaler = GradScaler()"
      ]
    },
    {
      "cell_type": "markdown",
      "metadata": {
        "id": "b8_htE49IF15"
      },
      "source": [
        "# Начинаем обучение модели, сохраняем функцию потерь в списки для дальнейшей визуализации"
      ]
    },
    {
      "cell_type": "code",
      "execution_count": 27,
      "metadata": {
        "colab": {
          "base_uri": "https://localhost:8080/"
        },
        "collapsed": true,
        "id": "DX_nn5GnqeGl",
        "outputId": "1d016408-220f-43ae-ba64-2b484c0b69e5"
      },
      "outputs": [
        {
          "output_type": "stream",
          "name": "stderr",
          "text": [
            "Epoch 1/5: 100%|██████████| 4018/4018 [22:55<00:00,  2.92it/s, token_loss=5.0403]"
          ]
        },
        {
          "output_type": "stream",
          "name": "stdout",
          "text": [
            "\n",
            "Epoch 1 average training Loss: 5.6669\n"
          ]
        },
        {
          "output_type": "stream",
          "name": "stderr",
          "text": [
            "\n"
          ]
        },
        {
          "output_type": "stream",
          "name": "stdout",
          "text": [
            "Epoch 1 average validation Loss: 4.8221\n"
          ]
        },
        {
          "output_type": "stream",
          "name": "stderr",
          "text": [
            "Epoch 2/5: 100%|██████████| 4018/4018 [22:58<00:00,  2.92it/s, token_loss=4.4045]"
          ]
        },
        {
          "output_type": "stream",
          "name": "stdout",
          "text": [
            "\n",
            "Epoch 2 average training Loss: 4.6658\n"
          ]
        },
        {
          "output_type": "stream",
          "name": "stderr",
          "text": [
            "\n"
          ]
        },
        {
          "output_type": "stream",
          "name": "stdout",
          "text": [
            "Epoch 2 average validation Loss: 4.4358\n"
          ]
        },
        {
          "output_type": "stream",
          "name": "stderr",
          "text": [
            "Epoch 3/5: 100%|██████████| 4018/4018 [22:56<00:00,  2.92it/s, token_loss=4.2006]"
          ]
        },
        {
          "output_type": "stream",
          "name": "stdout",
          "text": [
            "\n",
            "Epoch 3 average training Loss: 4.3630\n"
          ]
        },
        {
          "output_type": "stream",
          "name": "stderr",
          "text": [
            "\n"
          ]
        },
        {
          "output_type": "stream",
          "name": "stdout",
          "text": [
            "Epoch 3 average validation Loss: 4.2438\n"
          ]
        },
        {
          "output_type": "stream",
          "name": "stderr",
          "text": [
            "Epoch 4/5: 100%|██████████| 4018/4018 [22:57<00:00,  2.92it/s, token_loss=3.8353]"
          ]
        },
        {
          "output_type": "stream",
          "name": "stdout",
          "text": [
            "\n",
            "Epoch 4 average training Loss: 4.1871\n"
          ]
        },
        {
          "output_type": "stream",
          "name": "stderr",
          "text": [
            "\n"
          ]
        },
        {
          "output_type": "stream",
          "name": "stdout",
          "text": [
            "Epoch 4 average validation Loss: 4.1410\n"
          ]
        },
        {
          "output_type": "stream",
          "name": "stderr",
          "text": [
            "Epoch 5/5: 100%|██████████| 4018/4018 [22:56<00:00,  2.92it/s, token_loss=3.8334]"
          ]
        },
        {
          "output_type": "stream",
          "name": "stdout",
          "text": [
            "\n",
            "Epoch 5 average training Loss: 4.0839\n"
          ]
        },
        {
          "output_type": "stream",
          "name": "stderr",
          "text": [
            "\n"
          ]
        },
        {
          "output_type": "stream",
          "name": "stdout",
          "text": [
            "Epoch 5 average validation Loss: 4.0993\n"
          ]
        }
      ],
      "source": [
        "train_losses, val_losses = train_model(\n",
        "    model, train_loader, val_loader, criterion, optimizer, scheduler, scaler, DEVICE, EPOCHS, VOCAB_SIZE, PAD_IDX\n",
        ")"
      ]
    },
    {
      "cell_type": "markdown",
      "metadata": {
        "id": "7vHPMXwEIMQR"
      },
      "source": [
        "# Код для загрузки модели в формате .pt и проверки генерации саммари"
      ]
    },
    {
      "cell_type": "code",
      "execution_count": null,
      "metadata": {
        "colab": {
          "base_uri": "https://localhost:8080/"
        },
        "id": "Nz5t_cU2Sr2y",
        "outputId": "6dc0db2b-73a3-422e-a59a-a3d29314b7cd"
      },
      "outputs": [
        {
          "data": {
            "text/plain": [
              "<All keys matched successfully>"
            ]
          },
          "execution_count": 23,
          "metadata": {},
          "output_type": "execute_result"
        }
      ],
      "source": [
        "# выполнять только если загружаешь модель, если ты только обучил, тогда в переменной уже сидит нужная модель\n",
        "model = TransformerSummarizer(VOCAB_SIZE, EMBED_DIM, NUM_HEADS, FF_DIM, NUM_LAYERS, PAD_IDX, MAX_LEN).to(DEVICE)\n",
        "state_dict = torch.load(\"/content/transformer_summarizer_epoch_5.pt\", map_location='cpu', weights_only=True)\n",
        "model.load_state_dict(state_dict)"
      ]
    },
    {
      "cell_type": "code",
      "execution_count": null,
      "metadata": {
        "id": "FP8wEbIqfmKr"
      },
      "outputs": [],
      "source": [
        "input_texts = pd.read_csv(path + '/wikihowAll.csv')"
      ]
    },
    {
      "cell_type": "code",
      "execution_count": null,
      "metadata": {
        "id": "HpBCLpcnUqq8"
      },
      "outputs": [],
      "source": [
        "print(input_texts['text'][3])\n",
        "print('_____________')\n",
        "print(input_texts['headline'][3])"
      ]
    },
    {
      "cell_type": "code",
      "execution_count": null,
      "metadata": {
        "colab": {
          "base_uri": "https://localhost:8080/"
        },
        "id": "lvI1_nRnffwJ",
        "outputId": "0343fb63-8d3a-4614-bfac-162b6e90101a"
      },
      "outputs": [
        {
          "name": "stdout",
          "output_type": "stream",
          "text": [
            "Generated summary: Look for signs of infection., Check the label., Notice if your cat is too long.\n",
            "Target summary: \n",
            "Check the length of the cockatiels nails.,\n",
            "Have the nails trimmed by a vet or trained professional.,\n",
            "Get a friend to hold the bird steady for you.,\n",
            "Look for the quick.,\n",
            "Clip carefully.\n",
            "Original text:   Generally, the nails are too long if the toe is unable to make full contact with the ground when the cockatiel is placed on a flat surface.Another way to evaluate whether the nails are too long is to pay attention to the feeling of the birds nails when they perch on your hand or arm. If the nails are so sharp that they cut, scratch, or cause pain in your arm, its time to get them trimmed., Before doing it yourself, it will help to see a pet shop employee or veterinarian trim your cockatiels nails. This way, youll know how to properly trim them when you try it yourself.Even if you cant be present to see hem actually do it, it will help to observe the length of the nails before and after being trimmed. You can use these measurements to get an idea of how long the nails should be in the future.\n",
            "\n",
            "\n",
            "A list of cockatiel breeders is available at https://www.beautyofbirds.com/cockatielbreeders.html. Some cockatiel breeders offer grooming services.\n",
            "A list of avian vets is available through the Association of Avian Veterinarians at http://aav.site-ym.com/search/custom.asp?id=1803.\n",
            "Another list of avian vets is available through the American Board of Veterinary Practitioners animal specialist database at http://www.abvp.com/diplomate.\n",
            "\n",
            ", The trimming is much easier when you have a partner. Your partner should wrap the bird in a small towel to prevent it from flapping and moving too much when its having its nails trimmed., The quick is a fine blood vessel that runs through the center of the nail. While its easy to spot in lutinos and light-colored cockatiels, it can be harder to see in gray-footed cockatiels, or those with dark toenails. Cutting the quick will result in a dangerous, bloody mess on your cockatiels foot. If you cannot see the quick, consider having a specialist cut the birds nails, or err on the side of caution when cutting the cockatiels nails.If you accidentally cut the quick, check the severity. Sometimes a small cut will stop quickly after a few drops of blood are spilt.\n",
            "Have some styptic sticks on hand as part of your cockatiel first-aid kit. Styptic sticks are agents which promote hemostasis (the process by which bleeding stops) and are available at pet stores. If you do not have any styptic sticks and the bleeding is profuse, dip the bleeding foot in cornstarch or flour to staunch the flow.\n",
            "\n",
            ", Cockatiel nails can be clipped with a regular nail clipper, but these might be too large and make the task more difficult than it need be. Instead, try a baby nail clipper or a specially-designed nail clipper for birds and cats.These are available at pet stores or online.\n",
            "\n",
            "\n",
            "Do not cut the quick when clipping.\n",
            "\n",
            "\n"
          ]
        }
      ],
      "source": [
        "input_text = df['text'][2414]\n",
        "target_sum = df['headline'][2414]\n",
        "\n",
        "encoded = safe_encode(input_text)\n",
        "src_tensor = torch.tensor(encoded, dtype=torch.long, device=DEVICE).unsqueeze(0)\n",
        "src_tensor = src_tensor[:, :MAX_LEN]\n",
        "\n",
        "model.eval()\n",
        "with torch.no_grad():\n",
        "    output_ids = model.generate(src_tensor, max_length=256)\n",
        "\n",
        "gen_ids = output_ids[0].cpu().tolist()\n",
        "\n",
        "summary = sp.decode_ids(gen_ids)\n",
        "print(\"Generated summary:\", summary)\n",
        "print(\"Target summary:\", target_sum)\n",
        "print(\"Original text: \", input_text)\n"
      ]
    },
    {
      "cell_type": "markdown",
      "source": [
        "**Generated summary:** Learn the basics of a song., Understand that you can't be able to read your music., Know what to do with your favorite songs. , Choose a style for your video., Decide on a theme., Pick a song or song that is best for you., Select a song that fits your video., Start writing your video., Play it up and enjoy!\n",
        "\n",
        "**Target summary:** Practice your material until you can perform each song perfectly., Choose whether you're going to record your music in your own home studio or a professional recording studio., Prove your talent., Pick your best three to five songs for a demo submission., Write a brief bio., Visit http://www.PhantomCityStudio.com/Demos for up-to-date information on how to properly submit your music demo. , Complete the demo submission process. , Wait a for a response.\n",
        "\n",
        "\n",
        "**Generated summary:** Decide what you want to do., Choose a topic that is right for you., Write your resume., Create an outline of the job., Make sure you have enough space in writing., Start with a list of all the necessary materials., Keep it simple and concise.\n",
        "\n",
        "**Target summary:** Introduce yourself., Talk about why you like them so much., Say thank you., Keep your letter short., Use neat handwriting., Decorate your letter or envelope., Ask for an autograph., Talk to an adult."
      ],
      "metadata": {
        "id": "KgXeN0ZzTAPy"
      }
    },
    {
      "cell_type": "markdown",
      "metadata": {
        "id": "TvnWw9vFU4Fq"
      },
      "source": [
        "## Оцениваем модель на тестовой выборке"
      ]
    },
    {
      "cell_type": "code",
      "execution_count": 30,
      "metadata": {
        "id": "VV3RQ4OjzPWQ",
        "colab": {
          "base_uri": "https://localhost:8080/",
          "height": 1000
        },
        "collapsed": true,
        "outputId": "98d0fef6-d711-4c61-eeed-f2531763d7eb"
      },
      "outputs": [
        {
          "output_type": "stream",
          "name": "stdout",
          "text": [
            "Collecting bert_score\n",
            "  Downloading bert_score-0.3.13-py3-none-any.whl.metadata (15 kB)\n",
            "Requirement already satisfied: torch>=1.0.0 in /usr/local/lib/python3.11/dist-packages (from bert_score) (2.6.0+cu124)\n",
            "Requirement already satisfied: pandas>=1.0.1 in /usr/local/lib/python3.11/dist-packages (from bert_score) (2.2.2)\n",
            "Requirement already satisfied: transformers>=3.0.0 in /usr/local/lib/python3.11/dist-packages (from bert_score) (4.51.3)\n",
            "Requirement already satisfied: numpy in /usr/local/lib/python3.11/dist-packages (from bert_score) (2.0.2)\n",
            "Requirement already satisfied: requests in /usr/local/lib/python3.11/dist-packages (from bert_score) (2.32.3)\n",
            "Requirement already satisfied: tqdm>=4.31.1 in /usr/local/lib/python3.11/dist-packages (from bert_score) (4.67.1)\n",
            "Requirement already satisfied: matplotlib in /usr/local/lib/python3.11/dist-packages (from bert_score) (3.10.0)\n",
            "Requirement already satisfied: packaging>=20.9 in /usr/local/lib/python3.11/dist-packages (from bert_score) (24.2)\n",
            "Requirement already satisfied: python-dateutil>=2.8.2 in /usr/local/lib/python3.11/dist-packages (from pandas>=1.0.1->bert_score) (2.9.0.post0)\n",
            "Requirement already satisfied: pytz>=2020.1 in /usr/local/lib/python3.11/dist-packages (from pandas>=1.0.1->bert_score) (2025.2)\n",
            "Requirement already satisfied: tzdata>=2022.7 in /usr/local/lib/python3.11/dist-packages (from pandas>=1.0.1->bert_score) (2025.2)\n",
            "Requirement already satisfied: filelock in /usr/local/lib/python3.11/dist-packages (from torch>=1.0.0->bert_score) (3.18.0)\n",
            "Requirement already satisfied: typing-extensions>=4.10.0 in /usr/local/lib/python3.11/dist-packages (from torch>=1.0.0->bert_score) (4.13.2)\n",
            "Requirement already satisfied: networkx in /usr/local/lib/python3.11/dist-packages (from torch>=1.0.0->bert_score) (3.4.2)\n",
            "Requirement already satisfied: jinja2 in /usr/local/lib/python3.11/dist-packages (from torch>=1.0.0->bert_score) (3.1.6)\n",
            "Requirement already satisfied: fsspec in /usr/local/lib/python3.11/dist-packages (from torch>=1.0.0->bert_score) (2025.3.2)\n",
            "Collecting nvidia-cuda-nvrtc-cu12==12.4.127 (from torch>=1.0.0->bert_score)\n",
            "  Downloading nvidia_cuda_nvrtc_cu12-12.4.127-py3-none-manylinux2014_x86_64.whl.metadata (1.5 kB)\n",
            "Collecting nvidia-cuda-runtime-cu12==12.4.127 (from torch>=1.0.0->bert_score)\n",
            "  Downloading nvidia_cuda_runtime_cu12-12.4.127-py3-none-manylinux2014_x86_64.whl.metadata (1.5 kB)\n",
            "Collecting nvidia-cuda-cupti-cu12==12.4.127 (from torch>=1.0.0->bert_score)\n",
            "  Downloading nvidia_cuda_cupti_cu12-12.4.127-py3-none-manylinux2014_x86_64.whl.metadata (1.6 kB)\n",
            "Collecting nvidia-cudnn-cu12==9.1.0.70 (from torch>=1.0.0->bert_score)\n",
            "  Downloading nvidia_cudnn_cu12-9.1.0.70-py3-none-manylinux2014_x86_64.whl.metadata (1.6 kB)\n",
            "Collecting nvidia-cublas-cu12==12.4.5.8 (from torch>=1.0.0->bert_score)\n",
            "  Downloading nvidia_cublas_cu12-12.4.5.8-py3-none-manylinux2014_x86_64.whl.metadata (1.5 kB)\n",
            "Collecting nvidia-cufft-cu12==11.2.1.3 (from torch>=1.0.0->bert_score)\n",
            "  Downloading nvidia_cufft_cu12-11.2.1.3-py3-none-manylinux2014_x86_64.whl.metadata (1.5 kB)\n",
            "Collecting nvidia-curand-cu12==10.3.5.147 (from torch>=1.0.0->bert_score)\n",
            "  Downloading nvidia_curand_cu12-10.3.5.147-py3-none-manylinux2014_x86_64.whl.metadata (1.5 kB)\n",
            "Collecting nvidia-cusolver-cu12==11.6.1.9 (from torch>=1.0.0->bert_score)\n",
            "  Downloading nvidia_cusolver_cu12-11.6.1.9-py3-none-manylinux2014_x86_64.whl.metadata (1.6 kB)\n",
            "Collecting nvidia-cusparse-cu12==12.3.1.170 (from torch>=1.0.0->bert_score)\n",
            "  Downloading nvidia_cusparse_cu12-12.3.1.170-py3-none-manylinux2014_x86_64.whl.metadata (1.6 kB)\n",
            "Requirement already satisfied: nvidia-cusparselt-cu12==0.6.2 in /usr/local/lib/python3.11/dist-packages (from torch>=1.0.0->bert_score) (0.6.2)\n",
            "Requirement already satisfied: nvidia-nccl-cu12==2.21.5 in /usr/local/lib/python3.11/dist-packages (from torch>=1.0.0->bert_score) (2.21.5)\n",
            "Requirement already satisfied: nvidia-nvtx-cu12==12.4.127 in /usr/local/lib/python3.11/dist-packages (from torch>=1.0.0->bert_score) (12.4.127)\n",
            "Collecting nvidia-nvjitlink-cu12==12.4.127 (from torch>=1.0.0->bert_score)\n",
            "  Downloading nvidia_nvjitlink_cu12-12.4.127-py3-none-manylinux2014_x86_64.whl.metadata (1.5 kB)\n",
            "Requirement already satisfied: triton==3.2.0 in /usr/local/lib/python3.11/dist-packages (from torch>=1.0.0->bert_score) (3.2.0)\n",
            "Requirement already satisfied: sympy==1.13.1 in /usr/local/lib/python3.11/dist-packages (from torch>=1.0.0->bert_score) (1.13.1)\n",
            "Requirement already satisfied: mpmath<1.4,>=1.1.0 in /usr/local/lib/python3.11/dist-packages (from sympy==1.13.1->torch>=1.0.0->bert_score) (1.3.0)\n",
            "Requirement already satisfied: huggingface-hub<1.0,>=0.30.0 in /usr/local/lib/python3.11/dist-packages (from transformers>=3.0.0->bert_score) (0.31.2)\n",
            "Requirement already satisfied: pyyaml>=5.1 in /usr/local/lib/python3.11/dist-packages (from transformers>=3.0.0->bert_score) (6.0.2)\n",
            "Requirement already satisfied: regex!=2019.12.17 in /usr/local/lib/python3.11/dist-packages (from transformers>=3.0.0->bert_score) (2024.11.6)\n",
            "Requirement already satisfied: tokenizers<0.22,>=0.21 in /usr/local/lib/python3.11/dist-packages (from transformers>=3.0.0->bert_score) (0.21.1)\n",
            "Requirement already satisfied: safetensors>=0.4.3 in /usr/local/lib/python3.11/dist-packages (from transformers>=3.0.0->bert_score) (0.5.3)\n",
            "Requirement already satisfied: contourpy>=1.0.1 in /usr/local/lib/python3.11/dist-packages (from matplotlib->bert_score) (1.3.2)\n",
            "Requirement already satisfied: cycler>=0.10 in /usr/local/lib/python3.11/dist-packages (from matplotlib->bert_score) (0.12.1)\n",
            "Requirement already satisfied: fonttools>=4.22.0 in /usr/local/lib/python3.11/dist-packages (from matplotlib->bert_score) (4.58.0)\n",
            "Requirement already satisfied: kiwisolver>=1.3.1 in /usr/local/lib/python3.11/dist-packages (from matplotlib->bert_score) (1.4.8)\n",
            "Requirement already satisfied: pillow>=8 in /usr/local/lib/python3.11/dist-packages (from matplotlib->bert_score) (11.2.1)\n",
            "Requirement already satisfied: pyparsing>=2.3.1 in /usr/local/lib/python3.11/dist-packages (from matplotlib->bert_score) (3.2.3)\n",
            "Requirement already satisfied: charset-normalizer<4,>=2 in /usr/local/lib/python3.11/dist-packages (from requests->bert_score) (3.4.2)\n",
            "Requirement already satisfied: idna<4,>=2.5 in /usr/local/lib/python3.11/dist-packages (from requests->bert_score) (3.10)\n",
            "Requirement already satisfied: urllib3<3,>=1.21.1 in /usr/local/lib/python3.11/dist-packages (from requests->bert_score) (2.4.0)\n",
            "Requirement already satisfied: certifi>=2017.4.17 in /usr/local/lib/python3.11/dist-packages (from requests->bert_score) (2025.4.26)\n",
            "Requirement already satisfied: six>=1.5 in /usr/local/lib/python3.11/dist-packages (from python-dateutil>=2.8.2->pandas>=1.0.1->bert_score) (1.17.0)\n",
            "Requirement already satisfied: MarkupSafe>=2.0 in /usr/local/lib/python3.11/dist-packages (from jinja2->torch>=1.0.0->bert_score) (3.0.2)\n",
            "Downloading bert_score-0.3.13-py3-none-any.whl (61 kB)\n",
            "\u001b[2K   \u001b[90m━━━━━━━━━━━━━━━━━━━━━━━━━━━━━━━━━━━━━━━━\u001b[0m \u001b[32m61.1/61.1 kB\u001b[0m \u001b[31m5.1 MB/s\u001b[0m eta \u001b[36m0:00:00\u001b[0m\n",
            "\u001b[?25hDownloading nvidia_cublas_cu12-12.4.5.8-py3-none-manylinux2014_x86_64.whl (363.4 MB)\n",
            "\u001b[2K   \u001b[90m━━━━━━━━━━━━━━━━━━━━━━━━━━━━━━━━━━━━━━━━\u001b[0m \u001b[32m363.4/363.4 MB\u001b[0m \u001b[31m1.5 MB/s\u001b[0m eta \u001b[36m0:00:00\u001b[0m\n",
            "\u001b[?25hDownloading nvidia_cuda_cupti_cu12-12.4.127-py3-none-manylinux2014_x86_64.whl (13.8 MB)\n",
            "\u001b[2K   \u001b[90m━━━━━━━━━━━━━━━━━━━━━━━━━━━━━━━━━━━━━━━━\u001b[0m \u001b[32m13.8/13.8 MB\u001b[0m \u001b[31m107.5 MB/s\u001b[0m eta \u001b[36m0:00:00\u001b[0m\n",
            "\u001b[?25hDownloading nvidia_cuda_nvrtc_cu12-12.4.127-py3-none-manylinux2014_x86_64.whl (24.6 MB)\n",
            "\u001b[2K   \u001b[90m━━━━━━━━━━━━━━━━━━━━━━━━━━━━━━━━━━━━━━━━\u001b[0m \u001b[32m24.6/24.6 MB\u001b[0m \u001b[31m32.3 MB/s\u001b[0m eta \u001b[36m0:00:00\u001b[0m\n",
            "\u001b[?25hDownloading nvidia_cuda_runtime_cu12-12.4.127-py3-none-manylinux2014_x86_64.whl (883 kB)\n",
            "\u001b[2K   \u001b[90m━━━━━━━━━━━━━━━━━━━━━━━━━━━━━━━━━━━━━━━━\u001b[0m \u001b[32m883.7/883.7 kB\u001b[0m \u001b[31m63.0 MB/s\u001b[0m eta \u001b[36m0:00:00\u001b[0m\n",
            "\u001b[?25hDownloading nvidia_cudnn_cu12-9.1.0.70-py3-none-manylinux2014_x86_64.whl (664.8 MB)\n",
            "\u001b[2K   \u001b[90m━━━━━━━━━━━━━━━━━━━━━━━━━━━━━━━━━━━━━━━\u001b[0m \u001b[32m664.8/664.8 MB\u001b[0m \u001b[31m635.9 kB/s\u001b[0m eta \u001b[36m0:00:00\u001b[0m\n",
            "\u001b[?25hDownloading nvidia_cufft_cu12-11.2.1.3-py3-none-manylinux2014_x86_64.whl (211.5 MB)\n",
            "\u001b[2K   \u001b[90m━━━━━━━━━━━━━━━━━━━━━━━━━━━━━━━━━━━━━━━━\u001b[0m \u001b[32m211.5/211.5 MB\u001b[0m \u001b[31m1.7 MB/s\u001b[0m eta \u001b[36m0:00:00\u001b[0m\n",
            "\u001b[?25hDownloading nvidia_curand_cu12-10.3.5.147-py3-none-manylinux2014_x86_64.whl (56.3 MB)\n",
            "\u001b[2K   \u001b[90m━━━━━━━━━━━━━━━━━━━━━━━━━━━━━━━━━━━━━━━━\u001b[0m \u001b[32m56.3/56.3 MB\u001b[0m \u001b[31m17.1 MB/s\u001b[0m eta \u001b[36m0:00:00\u001b[0m\n",
            "\u001b[?25hDownloading nvidia_cusolver_cu12-11.6.1.9-py3-none-manylinux2014_x86_64.whl (127.9 MB)\n",
            "\u001b[2K   \u001b[90m━━━━━━━━━━━━━━━━━━━━━━━━━━━━━━━━━━━━━━━━\u001b[0m \u001b[32m127.9/127.9 MB\u001b[0m \u001b[31m10.3 MB/s\u001b[0m eta \u001b[36m0:00:00\u001b[0m\n",
            "\u001b[?25hDownloading nvidia_cusparse_cu12-12.3.1.170-py3-none-manylinux2014_x86_64.whl (207.5 MB)\n",
            "\u001b[2K   \u001b[90m━━━━━━━━━━━━━━━━━━━━━━━━━━━━━━━━━━━━━━━━\u001b[0m \u001b[32m207.5/207.5 MB\u001b[0m \u001b[31m6.9 MB/s\u001b[0m eta \u001b[36m0:00:00\u001b[0m\n",
            "\u001b[?25hDownloading nvidia_nvjitlink_cu12-12.4.127-py3-none-manylinux2014_x86_64.whl (21.1 MB)\n",
            "\u001b[2K   \u001b[90m━━━━━━━━━━━━━━━━━━━━━━━━━━━━━━━━━━━━━━━━\u001b[0m \u001b[32m21.1/21.1 MB\u001b[0m \u001b[31m22.8 MB/s\u001b[0m eta \u001b[36m0:00:00\u001b[0m\n",
            "\u001b[?25hInstalling collected packages: nvidia-nvjitlink-cu12, nvidia-curand-cu12, nvidia-cufft-cu12, nvidia-cuda-runtime-cu12, nvidia-cuda-nvrtc-cu12, nvidia-cuda-cupti-cu12, nvidia-cublas-cu12, nvidia-cusparse-cu12, nvidia-cudnn-cu12, nvidia-cusolver-cu12, bert_score\n",
            "  Attempting uninstall: nvidia-nvjitlink-cu12\n",
            "    Found existing installation: nvidia-nvjitlink-cu12 12.5.82\n",
            "    Uninstalling nvidia-nvjitlink-cu12-12.5.82:\n",
            "      Successfully uninstalled nvidia-nvjitlink-cu12-12.5.82\n",
            "  Attempting uninstall: nvidia-curand-cu12\n",
            "    Found existing installation: nvidia-curand-cu12 10.3.6.82\n",
            "    Uninstalling nvidia-curand-cu12-10.3.6.82:\n",
            "      Successfully uninstalled nvidia-curand-cu12-10.3.6.82\n",
            "  Attempting uninstall: nvidia-cufft-cu12\n",
            "    Found existing installation: nvidia-cufft-cu12 11.2.3.61\n",
            "    Uninstalling nvidia-cufft-cu12-11.2.3.61:\n",
            "      Successfully uninstalled nvidia-cufft-cu12-11.2.3.61\n",
            "  Attempting uninstall: nvidia-cuda-runtime-cu12\n",
            "    Found existing installation: nvidia-cuda-runtime-cu12 12.5.82\n",
            "    Uninstalling nvidia-cuda-runtime-cu12-12.5.82:\n",
            "      Successfully uninstalled nvidia-cuda-runtime-cu12-12.5.82\n",
            "  Attempting uninstall: nvidia-cuda-nvrtc-cu12\n",
            "    Found existing installation: nvidia-cuda-nvrtc-cu12 12.5.82\n",
            "    Uninstalling nvidia-cuda-nvrtc-cu12-12.5.82:\n",
            "      Successfully uninstalled nvidia-cuda-nvrtc-cu12-12.5.82\n",
            "  Attempting uninstall: nvidia-cuda-cupti-cu12\n",
            "    Found existing installation: nvidia-cuda-cupti-cu12 12.5.82\n",
            "    Uninstalling nvidia-cuda-cupti-cu12-12.5.82:\n",
            "      Successfully uninstalled nvidia-cuda-cupti-cu12-12.5.82\n",
            "  Attempting uninstall: nvidia-cublas-cu12\n",
            "    Found existing installation: nvidia-cublas-cu12 12.5.3.2\n",
            "    Uninstalling nvidia-cublas-cu12-12.5.3.2:\n",
            "      Successfully uninstalled nvidia-cublas-cu12-12.5.3.2\n",
            "  Attempting uninstall: nvidia-cusparse-cu12\n",
            "    Found existing installation: nvidia-cusparse-cu12 12.5.1.3\n",
            "    Uninstalling nvidia-cusparse-cu12-12.5.1.3:\n",
            "      Successfully uninstalled nvidia-cusparse-cu12-12.5.1.3\n",
            "  Attempting uninstall: nvidia-cudnn-cu12\n",
            "    Found existing installation: nvidia-cudnn-cu12 9.3.0.75\n",
            "    Uninstalling nvidia-cudnn-cu12-9.3.0.75:\n",
            "      Successfully uninstalled nvidia-cudnn-cu12-9.3.0.75\n",
            "  Attempting uninstall: nvidia-cusolver-cu12\n",
            "    Found existing installation: nvidia-cusolver-cu12 11.6.3.83\n",
            "    Uninstalling nvidia-cusolver-cu12-11.6.3.83:\n",
            "      Successfully uninstalled nvidia-cusolver-cu12-11.6.3.83\n",
            "Successfully installed bert_score-0.3.13 nvidia-cublas-cu12-12.4.5.8 nvidia-cuda-cupti-cu12-12.4.127 nvidia-cuda-nvrtc-cu12-12.4.127 nvidia-cuda-runtime-cu12-12.4.127 nvidia-cudnn-cu12-9.1.0.70 nvidia-cufft-cu12-11.2.1.3 nvidia-curand-cu12-10.3.5.147 nvidia-cusolver-cu12-11.6.1.9 nvidia-cusparse-cu12-12.3.1.170 nvidia-nvjitlink-cu12-12.4.127\n"
          ]
        },
        {
          "output_type": "display_data",
          "data": {
            "application/vnd.colab-display-data+json": {
              "pip_warning": {
                "packages": [
                  "nvidia"
                ]
              },
              "id": "8112595bf3634776af16df2d52b89a0e"
            }
          },
          "metadata": {}
        }
      ],
      "source": [
        "pip install bert_score -q"
      ]
    },
    {
      "cell_type": "code",
      "source": [
        "# кусочек тестовой выборки - а то оценка идет очень долго\n",
        "\n",
        "test_data = test_data.sample(frac=0.1, random_state=42)\n",
        "\n",
        "test_dataset  = MyDataset(test_data)\n",
        "\n",
        "test_loader = DataLoader(\n",
        "    test_dataset,\n",
        "    batch_size=BATCH_SIZE,\n",
        "    shuffle=False,\n",
        "    collate_fn=collate_fn,\n",
        "    num_workers=2\n",
        ")"
      ],
      "metadata": {
        "id": "QYVp-snPXsv8"
      },
      "execution_count": 54,
      "outputs": []
    },
    {
      "cell_type": "code",
      "execution_count": 37,
      "metadata": {
        "id": "GHUHoitstMjB"
      },
      "outputs": [],
      "source": [
        "from bert_score import score as bert_score\n",
        "\n",
        "def calculate_bertscore(model, loader, sp, max_len=MAX_LEN, lang='ru', device='cuda'):\n",
        "    \"\"\"\n",
        "    Вычисляет BERTScore для модели на заданном DataLoader.\n",
        "\n",
        "    Args:\n",
        "        model: Модель суммаризации.\n",
        "        loader: DataLoader с тестовыми/валидационными данными.\n",
        "        sp: SentencePieceProcessor или объект токенизатора с методом decode_ids.\n",
        "        max_len: Максимальная длина генерации.\n",
        "        lang: Язык ('ru' для русского).\n",
        "        device: Устройство ('cuda' или 'cpu').\n",
        "\n",
        "    Returns:\n",
        "        Словарь с precision, recall, F1 BERTScore.\n",
        "    \"\"\"\n",
        "    model.eval()\n",
        "    all_preds = []\n",
        "    all_targets = []\n",
        "\n",
        "    with torch.no_grad():\n",
        "        for src, tgt in tqdm(loader, desc=\"Calculating BERTScore\"):\n",
        "            src, tgt = src.to(device), tgt.to(device)\n",
        "\n",
        "            # Генерируем текст\n",
        "            generated = model.generate(src, max_length=max_len)\n",
        "\n",
        "            # Декодируем предсказания и цели\n",
        "            preds = [sp.decode_ids(generated[i].cpu().tolist()) for i in range(len(generated))]\n",
        "            targets = [sp.decode_ids(tgt[i].cpu().tolist()) for i in range(len(tgt))]\n",
        "\n",
        "            all_preds.extend(preds)\n",
        "            all_targets.extend(targets)\n",
        "\n",
        "    # Вычисляем BERTScore\n",
        "    P, R, F1 = bert_score(all_preds, all_targets, lang=lang, device=device)\n",
        "\n",
        "    return {\n",
        "        'bertscore_precision': P.mean().item(),\n",
        "        'bertscore_recall': R.mean().item(),\n",
        "        'bertscore_f1': F1.mean().item()\n",
        "    }"
      ]
    },
    {
      "cell_type": "code",
      "execution_count": 55,
      "metadata": {
        "colab": {
          "base_uri": "https://localhost:8080/",
          "height": 268,
          "referenced_widgets": [
            "b7d18a1d82a94567ac8d789b1bba2796",
            "5fa0ef4486ac40dcb0e661b0df3616dd",
            "85a935b75beb4e8d9afe9b71570eeddb",
            "7fe3220e939642ef9e279076017f2ef6",
            "2339e28de0c14617a9ff45660ffae10e",
            "831f5fbed79948c19ff7f8fc37a5e568",
            "45dc929e48a3456990f36792ad12a533",
            "4b03fc6e8ca04cb7b6c6b12fdd925c30",
            "efdd187d12ea4fb78c5527cb9d02c120",
            "6bd798384f6f4b839d616a27480044b0",
            "017deb47b0c9439887efeeffb6e15a80",
            "16daff436e3f4482859b95606c91c2bf",
            "aac992a868904fa7a588e677755be151",
            "66a13a2f75014ce39ebfccddcffd6d5d",
            "ab286a4bc7b146308a8d6919254378ff",
            "70ab46513cd6441ebb3718139071565e",
            "6eefc9c0b67b429ca3e3061b2a5f6553",
            "416ebd2daf9246fd8e39aeef51d7961d",
            "71661e3fdc494deb89ae1c7edbc39856",
            "337c01c467334e7887d2e58fa9dd3581",
            "23545b244cbb49de9c873cab1320ea79",
            "6aa6b587165644cfa5e93efe31c68945",
            "79da4fa03f9b46789cc13120eceebaa6",
            "40e533c35fae495692a55b73a9791020",
            "6f8d24bc6c584f6ab8f5b5d4c55ce318",
            "77812e827d16468dace2c725327b8113",
            "ef60dc7fd12e4a5da7fb2f3404d01c36",
            "2926732e9c1c4803adf08ea5fd051e9b",
            "5b8417eed6ae49048c3a324cd54467ca",
            "e63945a0a5c14b05a878fb9c4f8871e8",
            "6c0e39cf8e3b40ea99827c6482548740",
            "c272642a5dad4580928c27787fb68694",
            "0fd0b5f3e2c148649542e508eced12a6",
            "1e5a1208189b487b9ec4924536720344",
            "f2836e8c2d1245af90d87be20e4f55a4",
            "8309551ddf104ba7a41f062d03fc8d4c",
            "1a05677a142b460ab6ca9b823f7f827e",
            "4419202bb0a944eab35fa99ba21c253b",
            "dd84275d518f44c78167383933be8835",
            "2cf157f9633d41efa46bb265c82787b0",
            "601c606041344ebead61fc3dbdde39df",
            "0fdaf8e0843e45959302d52bd2821908",
            "925cb9cd0b5e474ea5299ee70717ec2a",
            "a376a24b2a0d4a53ae15b08beb47113a",
            "37aba57367304113857af3dde4db3469",
            "c84599bbc8094255812319c7bacb1c7a",
            "7ad0c3d3e41e49c2a2c8bf723fee3bb9",
            "5ce86a55194549a9b1dd220d856d7959",
            "8bcb275319134014a77213e9be3842f2",
            "0ce0e7be9f8b46f8ba2557dce4254425",
            "5debdeec5b0642b99daae85225662da2",
            "b16517e4c3734298809a22919da1fddc",
            "bcad9e57443d46d894df7cad8f8c7534",
            "2c608da57ce2483cbd3ac036bd264c64",
            "61de559c04064dc0ac2b140c5424bd6b"
          ]
        },
        "collapsed": true,
        "id": "tVUcGKkK0F_N",
        "outputId": "813ab276-b63c-4ccd-f975-a8cb276f5c0f"
      },
      "outputs": [
        {
          "output_type": "stream",
          "name": "stderr",
          "text": [
            "Calculating BERTScore: 100%|██████████| 14/14 [14:21<00:00, 61.54s/it]\n"
          ]
        },
        {
          "output_type": "display_data",
          "data": {
            "text/plain": [
              "tokenizer_config.json:   0%|          | 0.00/49.0 [00:00<?, ?B/s]"
            ],
            "application/vnd.jupyter.widget-view+json": {
              "version_major": 2,
              "version_minor": 0,
              "model_id": "b7d18a1d82a94567ac8d789b1bba2796"
            }
          },
          "metadata": {}
        },
        {
          "output_type": "display_data",
          "data": {
            "text/plain": [
              "config.json:   0%|          | 0.00/625 [00:00<?, ?B/s]"
            ],
            "application/vnd.jupyter.widget-view+json": {
              "version_major": 2,
              "version_minor": 0,
              "model_id": "16daff436e3f4482859b95606c91c2bf"
            }
          },
          "metadata": {}
        },
        {
          "output_type": "display_data",
          "data": {
            "text/plain": [
              "vocab.txt:   0%|          | 0.00/996k [00:00<?, ?B/s]"
            ],
            "application/vnd.jupyter.widget-view+json": {
              "version_major": 2,
              "version_minor": 0,
              "model_id": "79da4fa03f9b46789cc13120eceebaa6"
            }
          },
          "metadata": {}
        },
        {
          "output_type": "display_data",
          "data": {
            "text/plain": [
              "tokenizer.json:   0%|          | 0.00/1.96M [00:00<?, ?B/s]"
            ],
            "application/vnd.jupyter.widget-view+json": {
              "version_major": 2,
              "version_minor": 0,
              "model_id": "1e5a1208189b487b9ec4924536720344"
            }
          },
          "metadata": {}
        },
        {
          "output_type": "stream",
          "name": "stderr",
          "text": [
            "Xet Storage is enabled for this repo, but the 'hf_xet' package is not installed. Falling back to regular HTTP download. For better performance, install the package with: `pip install huggingface_hub[hf_xet]` or `pip install hf_xet`\n",
            "WARNING:huggingface_hub.file_download:Xet Storage is enabled for this repo, but the 'hf_xet' package is not installed. Falling back to regular HTTP download. For better performance, install the package with: `pip install huggingface_hub[hf_xet]` or `pip install hf_xet`\n"
          ]
        },
        {
          "output_type": "display_data",
          "data": {
            "text/plain": [
              "model.safetensors:   0%|          | 0.00/714M [00:00<?, ?B/s]"
            ],
            "application/vnd.jupyter.widget-view+json": {
              "version_major": 2,
              "version_minor": 0,
              "model_id": "37aba57367304113857af3dde4db3469"
            }
          },
          "metadata": {}
        },
        {
          "output_type": "stream",
          "name": "stdout",
          "text": [
            "Test BERTScore — Precision: 0.6487, Recall: 0.7003, F1: 0.6728\n"
          ]
        }
      ],
      "source": [
        "#применяем бертскор\n",
        "test_bertscore = calculate_bertscore(model, test_loader, sp)\n",
        "print(f\"Test BERTScore — Precision: {test_bertscore['bertscore_precision']:.4f}, Recall: {test_bertscore['bertscore_recall']:.4f}, F1: {test_bertscore['bertscore_f1']:.4f}\")"
      ]
    },
    {
      "cell_type": "markdown",
      "source": [
        "BERTScore leverages the pre-trained contextual embeddings from BERT and matches words in candidate and reference sentences by cosine similarity. It has been shown to correlate with human judgment on sentence-level and system-level evaluation. Moreover, BERTScore computes precision, recall, and F1 measure, which can be useful for evaluating different language generation tasks."
      ],
      "metadata": {
        "id": "_4t7YjVXStwF"
      }
    },
    {
      "cell_type": "code",
      "source": [
        "pip install rouge_score"
      ],
      "metadata": {
        "colab": {
          "base_uri": "https://localhost:8080/"
        },
        "collapsed": true,
        "id": "B4lc6Js9W7X0",
        "outputId": "b5e35539-56e8-4633-945d-f8a1d68e7a2a"
      },
      "execution_count": 41,
      "outputs": [
        {
          "output_type": "stream",
          "name": "stdout",
          "text": [
            "Collecting rouge_score\n",
            "  Downloading rouge_score-0.1.2.tar.gz (17 kB)\n",
            "  Preparing metadata (setup.py) ... \u001b[?25l\u001b[?25hdone\n",
            "Requirement already satisfied: absl-py in /usr/local/lib/python3.11/dist-packages (from rouge_score) (1.4.0)\n",
            "Requirement already satisfied: nltk in /usr/local/lib/python3.11/dist-packages (from rouge_score) (3.9.1)\n",
            "Requirement already satisfied: numpy in /usr/local/lib/python3.11/dist-packages (from rouge_score) (2.0.2)\n",
            "Requirement already satisfied: six>=1.14.0 in /usr/local/lib/python3.11/dist-packages (from rouge_score) (1.17.0)\n",
            "Requirement already satisfied: click in /usr/local/lib/python3.11/dist-packages (from nltk->rouge_score) (8.2.0)\n",
            "Requirement already satisfied: joblib in /usr/local/lib/python3.11/dist-packages (from nltk->rouge_score) (1.5.0)\n",
            "Requirement already satisfied: regex>=2021.8.3 in /usr/local/lib/python3.11/dist-packages (from nltk->rouge_score) (2024.11.6)\n",
            "Requirement already satisfied: tqdm in /usr/local/lib/python3.11/dist-packages (from nltk->rouge_score) (4.67.1)\n",
            "Building wheels for collected packages: rouge_score\n",
            "  Building wheel for rouge_score (setup.py) ... \u001b[?25l\u001b[?25hdone\n",
            "  Created wheel for rouge_score: filename=rouge_score-0.1.2-py3-none-any.whl size=24934 sha256=0632a81e52884e6079262174d946ef9059059ca7d675fdae93cf45b7188b5424\n",
            "  Stored in directory: /root/.cache/pip/wheels/1e/19/43/8a442dc83660ca25e163e1bd1f89919284ab0d0c1475475148\n",
            "Successfully built rouge_score\n",
            "Installing collected packages: rouge_score\n",
            "Successfully installed rouge_score-0.1.2\n"
          ]
        }
      ]
    },
    {
      "cell_type": "code",
      "source": [
        "# Загружаем метрику ROUGE\n",
        "rouge_metric = evaluate.load('rouge')\n",
        "\n",
        "def evaluate_with_rouge(model, test_loader, sp_model=sp, device='cuda'):\n",
        "    \"\"\"\n",
        "    Оценивает модель суммаризации с использованием метрики ROUGE.\n",
        "\n",
        "    Args:\n",
        "        model: обученная модель суммаризации\n",
        "        test_loader: DataLoader с тестовыми данными (src, tgt)\n",
        "        sp_model: SentencePiece-токенизатор\n",
        "        device: 'cuda' или 'cpu'\n",
        "\n",
        "    Returns:\n",
        "        dict: {'rouge1', 'rouge2', 'rougeL', 'rougeLsum'}\n",
        "    \"\"\"\n",
        "    model.eval()\n",
        "    all_preds = []\n",
        "    all_targets = []\n",
        "\n",
        "    with torch.no_grad():\n",
        "        for src, tgt in tqdm(test_loader, desc=\"Evaluating\"):\n",
        "            src = src.to(device)\n",
        "            tgt = tgt.to(device)\n",
        "\n",
        "            # Генерация выходных последовательностей\n",
        "            generated = model.generate(src)\n",
        "\n",
        "            # Декодируем каждую последовательность в текст\n",
        "            for i in range(generated.shape[0]):\n",
        "                pred_ids = generated[i].cpu().tolist()\n",
        "                target_ids = tgt[i].cpu().tolist()\n",
        "\n",
        "                pred_text = sp_model.decode_ids(pred_ids)\n",
        "                target_text = sp_model.decode_ids(target_ids)\n",
        "\n",
        "                all_preds.append(pred_text)\n",
        "                all_targets.append(target_text)\n",
        "\n",
        "    # Вычисляем метрики\n",
        "    results = rouge_metric.compute(predictions=all_preds, references=all_targets)\n",
        "    return {\n",
        "        'rouge1': results['rouge1'],\n",
        "        'rouge2': results['rouge2'],\n",
        "        'rougeL': results['rougeL'],\n",
        "        'rougeLsum': results['rougeLsum']\n",
        "    }"
      ],
      "metadata": {
        "id": "P_mQ0wtFWs-d"
      },
      "execution_count": 45,
      "outputs": []
    },
    {
      "cell_type": "code",
      "execution_count": 48,
      "metadata": {
        "colab": {
          "base_uri": "https://localhost:8080/"
        },
        "collapsed": true,
        "id": "mJo224MeTCuV",
        "outputId": "e0e5d18c-b485-4648-dfad-95f22ac331a8"
      },
      "outputs": [
        {
          "output_type": "stream",
          "name": "stderr",
          "text": [
            "Evaluating: 100%|██████████| 134/134 [14:58<00:00,  6.70s/it]\n"
          ]
        },
        {
          "output_type": "stream",
          "name": "stdout",
          "text": [
            "Test ROUGE Scores — Rouge-1: 0.2124, Rouge-2: 0.0308, Rouge-L: 0.1404\n"
          ]
        }
      ],
      "source": [
        "#применяем руж\n",
        "test_scores = evaluate_with_rouge(model, test_loader)\n",
        "print(f\"Test ROUGE Scores — Rouge-1: {test_scores['rouge1']:.4f}, Rouge-2: {test_scores['rouge2']:.4f}, Rouge-L: {test_scores['rougeL']:.4f}\")"
      ]
    },
    {
      "cell_type": "markdown",
      "source": [
        "ROUGE, or Recall-Oriented Understudy for Gisting Evaluation,[1] is a set of metrics and a software package used for evaluating automatic summarization and machine translation software in natural language processing. The metrics compare an automatically produced summary or translation against a reference or a set of references (human-produced) summary or translation. ROUGE metrics range between 0 and 1, with higher scores indicating higher similarity between the automatically produced summary and the reference."
      ],
      "metadata": {
        "id": "70M9wZNpS0Fj"
      }
    },
    {
      "cell_type": "markdown",
      "metadata": {
        "id": "FDPfv5-KIvNh"
      },
      "source": [
        "# Визуализации"
      ]
    },
    {
      "cell_type": "code",
      "execution_count": 29,
      "metadata": {
        "id": "D9Wf87DT_aQo",
        "colab": {
          "base_uri": "https://localhost:8080/",
          "height": 507
        },
        "outputId": "9259682e-de9d-4260-f7ec-6d6ef1795c65"
      },
      "outputs": [
        {
          "output_type": "display_data",
          "data": {
            "text/plain": [
              "<Figure size 1200x500 with 2 Axes>"
            ],
            "image/png": "[encoded data removed]"
          },
          "metadata": {}
        }
      ],
      "source": [
        "import matplotlib.pyplot as plt\n",
        "\n",
        "# === График 1: Потери на обучающей выборке ===\n",
        "plt.figure(figsize=(12, 5))\n",
        "\n",
        "plt.subplot(1, 2, 1)\n",
        "plt.plot(range(1, EPOCHS + 1), train_losses, marker='o', color='blue', label='Train Loss')\n",
        "plt.title('Training Loss Over Epochs')\n",
        "plt.xlabel('Epoch')\n",
        "plt.ylabel('Loss')\n",
        "plt.grid(True)\n",
        "plt.legend()\n",
        "\n",
        "# === График 2: Потери на валидационной выборке ===\n",
        "plt.subplot(1, 2, 2)\n",
        "plt.plot(range(1, EPOCHS + 1), val_losses, marker='s', color='orange', label='Validation Loss')\n",
        "plt.title('Validation Loss Over Epochs')\n",
        "plt.xlabel('Epoch')\n",
        "plt.ylabel('Loss')\n",
        "plt.grid(True)\n",
        "plt.legend()\n",
        "\n",
        "plt.tight_layout()\n",
        "plt.show()"
      ]
    },
    {
      "cell_type": "code",
      "source": [
        "# График руж скоров на тестовой выборке\n",
        "\n",
        "import seaborn as sns\n",
        "\n",
        "# Формируем DataFrame\n",
        "plot_metrics = {k: v for k, v in test_scores.items() if k != 'rougeLsum'}\n",
        "df = pd.DataFrame({\n",
        "    'Metric': list(plot_metrics.keys()),\n",
        "    'Score': list(plot_metrics.values())\n",
        "})\n",
        "\n",
        "# Строим график\n",
        "plt.figure(figsize=(9, 6))\n",
        "bar = sns.barplot(x='Metric', y='Score', data=df, palette='Blues_d')\n",
        "\n",
        "# Добавляем заголовок и подписи\n",
        "plt.title('ROUGE Scores on Test Dataset', fontsize=16)\n",
        "plt.xlabel('Metric', fontsize=14)\n",
        "plt.ylabel('Score', fontsize=14)\n",
        "plt.ylim(0, 1)\n",
        "plt.grid(True, linestyle='--', alpha=0.5)\n",
        "\n",
        "# Подписываем значения над столбцами\n",
        "for index, row in df.iterrows():\n",
        "    bar.text(row.name, row['Score'] + 0.02, f'{row[\"Score\"]:.2f}',\n",
        "             color='black', ha='center', fontsize=12)\n",
        "\n",
        "plt.tight_layout()\n",
        "plt.show()"
      ],
      "metadata": {
        "colab": {
          "base_uri": "https://localhost:8080/",
          "height": 716
        },
        "id": "JsShNewxSih8",
        "outputId": "a688c4ed-54b0-40f7-eb8f-6df4582e58ae"
      },
      "execution_count": 53,
      "outputs": [
        {
          "output_type": "stream",
          "name": "stderr",
          "text": [
            "<ipython-input-53-a733ceb4625e>:14: FutureWarning: \n",
            "\n",
            "Passing `palette` without assigning `hue` is deprecated and will be removed in v0.14.0. Assign the `x` variable to `hue` and set `legend=False` for the same effect.\n",
            "\n",
            "  bar = sns.barplot(x='Metric', y='Score', data=df, palette='Blues_d')\n"
          ]
        },
        {
          "output_type": "display_data",
          "data": {
            "text/plain": [
              "<Figure size 900x600 with 1 Axes>"
            ],
            "image/png": "[encoded data removed]"
          },
          "metadata": {}
        }
      ]
    },
    {
      "cell_type": "code",
      "source": [
        "# бертскор на тестовой выборке\n",
        "df_bert = pd.DataFrame({\n",
        "    'Metric': list(test_bertscore.keys()),\n",
        "    'Score': list(test_bertscore.values())\n",
        "})\n",
        "\n",
        "# Строим график\n",
        "plt.figure(figsize=(8, 5))\n",
        "bar = sns.barplot(x='Metric', y='Score', data=df_bert, palette='coolwarm')\n",
        "\n",
        "# Настройки графика\n",
        "plt.title('BERTScore Metrics (Precision, Recall, F1)', fontsize=14)\n",
        "plt.xlabel('Metric', fontsize=12)\n",
        "plt.ylabel('Score', fontsize=12)\n",
        "plt.ylim(0, 1)\n",
        "plt.grid(True, linestyle='--', alpha=0.5)\n",
        "\n",
        "# Подписываем значения над столбцами\n",
        "for index, row in df_bert.iterrows():\n",
        "    bar.text(row.name, row['Score'] + 0.02, f'{row[\"Score\"]:.2f}',\n",
        "             color='black', ha='center', fontsize=10)\n",
        "\n",
        "plt.tight_layout()\n",
        "plt.show()"
      ],
      "metadata": {
        "colab": {
          "base_uri": "https://localhost:8080/",
          "height": 616
        },
        "collapsed": true,
        "id": "vxb6g-XaSi0i",
        "outputId": "18454d9d-7179-4f5b-cf28-e611cbc1716c"
      },
      "execution_count": 56,
      "outputs": [
        {
          "output_type": "stream",
          "name": "stderr",
          "text": [
            "<ipython-input-56-453ba4c06389>:9: FutureWarning: \n",
            "\n",
            "Passing `palette` without assigning `hue` is deprecated and will be removed in v0.14.0. Assign the `x` variable to `hue` and set `legend=False` for the same effect.\n",
            "\n",
            "  bar = sns.barplot(x='Metric', y='Score', data=df_bert, palette='coolwarm')\n"
          ]
        },
        {
          "output_type": "display_data",
          "data": {
            "text/plain": [
              "<Figure size 800x500 with 1 Axes>"
            ],
            "image/png": "[encoded data removed]"
          },
          "metadata": {}
        }
      ]
    },
    {
      "cell_type": "markdown",
      "source": [
        "# Итоговые мысли\n",
        "\n",
        "\n",
        "*   Обучение модели с нуля - нетривиальная задачка без хороших гпушек...\n",
        "*   При наличии времени (привет, сеанс в колабе) в целом можно сделать что-то удобоваримое, особенно при использовании проверенных стратегий обучения\n",
        "*   Вайб-кодинг - норм, но только для ручных задач, которые легко можно сделать самому (пока, матплотлиб). Для более сложных типа токенизации датасета (от чего зависит большая часть результата) или определения слоев модели не надо...\n",
        "\n"
      ],
      "metadata": {
        "id": "D7wlBrm4nGvn"
      }
    },
    {
      "cell_type": "code",
      "source": [],
      "metadata": {
        "id": "9Cylcujwn1r5"
      },
      "execution_count": null,
      "outputs": []
    }
  ],
  "metadata": {
    "accelerator": "GPU",
    "colab": {
      "gpuType": "T4",
      "provenance": []
    },
    "kernelspec": {
      "display_name": "Python 3",
      "name": "python3"
    },
    "language_info": {
      "name": "python"
    }
  },
  "nbformat": 4,
  "nbformat_minor": 0
}