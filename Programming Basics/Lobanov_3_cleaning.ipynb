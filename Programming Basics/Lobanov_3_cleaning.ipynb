{
  "cells": [
    {
      "cell_type": "markdown",
      "metadata": {
        "colab_type": "text",
        "id": "view-in-github"
      },
      "source": [
        "<a href=\"https://colab.research.google.com/github/vifirsanova/hse-python-course/blob/main/workbook/3_cleaning.ipynb\" target=\"_parent\"><img src=\"https://colab.research.google.com/assets/colab-badge.svg\" alt=\"Open In Colab\"/></a>"
      ]
    },
    {
      "cell_type": "markdown",
      "metadata": {
        "id": "Vl6M3rDU5XhG"
      },
      "source": [
        "**Data Cleaning** (чистка данных) - этап предварительной обработки данных для анализа данных и машинного обучения.\n",
        "\n",
        "**Примеры Data Cleaning:**\n",
        "- удаление избыточных столбцов из табличных данных;\n",
        "- приведение текста к нижнему регистру;\n",
        "- чистка текста от HTML-артефактов\n",
        "\n",
        "Загрузим тренировочный датасет, почистим его и проанализируем результаты."
      ]
    },
    {
      "cell_type": "markdown",
      "metadata": {
        "id": "LK_zsNv26Tsk"
      },
      "source": [
        "# Задание 1: Загрузка данных\n",
        "\n",
        "Загрузим тренировочный датасет и посмотрим на наши данные.\n",
        "\n",
        "Представим, что мы загрузили статью в формате HTML.\n",
        "\n",
        "Скачаем ее и выведем на экран первые 100 символов с помощью слайсинга (среза)."
      ]
    },
    {
      "cell_type": "code",
      "execution_count": 2,
      "metadata": {
        "colab": {
          "base_uri": "https://localhost:8080/"
        },
        "id": "tbak8zIx8i6_",
        "outputId": "ef0a0bd4-9a25-49e6-ed2a-819f0e6c697b"
      },
      "outputs": [
        {
          "name": "stdout",
          "output_type": "stream",
          "text": [
            "zsh:1: command not found: wget\n"
          ]
        }
      ],
      "source": [
        "# загружаем тренировочные данные\n",
        "!wget https://raw.githubusercontent.com/vifirsanova/hse-python-course/main/data/data_cleaning.txt"
      ]
    },
    {
      "cell_type": "code",
      "execution_count": 3,
      "metadata": {
        "id": "OJ68oc8E8r9P"
      },
      "outputs": [],
      "source": [
        "# запишем данные в переменную data\n",
        "with open('data_cleaning.txt', 'r') as f:\n",
        "  data = f.read()"
      ]
    },
    {
      "cell_type": "code",
      "execution_count": 4,
      "metadata": {
        "colab": {
          "base_uri": "https://localhost:8080/"
        },
        "id": "EZ9GtP8s86V8",
        "outputId": "129513c4-d6c1-4364-a43d-e8ba4e5811d4"
      },
      "outputs": [
        {
          "name": "stdout",
          "output_type": "stream",
          "text": [
            "<!DOCTYPE html>\n",
            "<html>\n",
            "<head>\n",
            "    <title>Sample HTML Document</title>\n",
            "</head>\n",
            "<body>\n",
            "    <h1>Welcome\n"
          ]
        }
      ],
      "source": [
        "# выведите на экран первые 100 символов с помощью слайсинга\n",
        "print(data[:100])\n",
        "### ваш код здесь ###"
      ]
    },
    {
      "cell_type": "markdown",
      "metadata": {
        "id": "XIGQ9xGQ6t1U"
      },
      "source": [
        "# Задание 2: Удаление артефактов\n",
        "\n",
        "В данных много артефактов - HTML-тегов.\n",
        "\n",
        "Удалим HTML-артефакты с помощью регулярных выражений RegEx"
      ]
    },
    {
      "cell_type": "code",
      "execution_count": 5,
      "metadata": {
        "id": "aQ0ka1oq9uVz"
      },
      "outputs": [],
      "source": [
        "# пропишем паттерн для поиска HTML-тегов вида <tag> ... </tag>\n",
        "import re   # загрузим библиотеку для обработки регулярных выражений\n",
        "\n",
        "tag_pattern = r'<[^>]+>'    # паттерн для поиска тегов"
      ]
    },
    {
      "cell_type": "markdown",
      "metadata": {
        "id": "h8oleHAo_UaY"
      },
      "source": [
        "Используйте функцию `re.sub` (substitution) для чистки данных\n",
        "\n",
        "`re.sub` ищет в строке `string` соответствия RegEx-паттерну `pattern` и меняет найденное на указанную строку `repl`\n",
        "\n",
        "Как используем функцию: `re.sub(pattern, repl, string)`\n",
        "\n",
        "- `pattern` - паттерн RegEx, соответствия которому будет искать функция\n",
        "- `repl` - на что будем менять найденные соответствия\n",
        "- `string` - где будем искать, наш датасет\n",
        "\n",
        "Запишите результат в переменную `clean_text` и выведите на экран с 720-го по 800-ый символ очищенного текста\n",
        "\n",
        "Используйте слайсинг"
      ]
    },
    {
      "cell_type": "code",
      "execution_count": 6,
      "metadata": {
        "colab": {
          "base_uri": "https://localhost:8080/"
        },
        "id": "DjqjGi8P-H6O",
        "outputId": "eeee5657-d31e-4aca-d1ec-8f1f9b52ae30"
      },
      "outputs": [
        {
          "name": "stdout",
          "output_type": "stream",
          "text": [
            " It's crucial to handle HTML entities such as &lt;div&gt;, &lt;p&gt;, &amp;, etc\n"
          ]
        }
      ],
      "source": [
        "# Подсказки:\n",
        "# используйте паттерн, записанный в переменную tag_pattern\n",
        "# замените результат на пустую строку \"\"\n",
        "### ваш код здесь: примените re.sub ###\n",
        "### ваш код здесь: выведите результат с 720-го по 800-ый символ ###\n",
        "tag_pattern = r'<[^>]+>' \n",
        "clean_text = re.sub(tag_pattern, '', data)\n",
        "print(clean_text[720:800])"
      ]
    },
    {
      "cell_type": "markdown",
      "metadata": {
        "id": "fZAWGBC7Ajr7"
      },
      "source": [
        "Мы удалили не все специальные символы HTML\n",
        "\n",
        "Создадим еще один паттерн и повторим процедуру"
      ]
    },
    {
      "cell_type": "code",
      "execution_count": 7,
      "metadata": {
        "id": "jIftruIgBuQj"
      },
      "outputs": [],
      "source": [
        "symbols_pattern = r'&\\w+;'    # паттерн для поиска специальных символов"
      ]
    },
    {
      "cell_type": "markdown",
      "metadata": {
        "id": "LJ19ehiFB5d6"
      },
      "source": [
        "Используйте `re.sub` для удаления этих символов\n",
        "\n",
        "Теперь функция принимает на вход паттерн `symbols_pattern` и текст `clean_text`\n",
        "\n",
        "Перезапишите переменную `clean_text`\n",
        "\n",
        "Выведите на экран с 720-го по 800-ый символ, чтобы убедиться в том, что чистка прошла успешно"
      ]
    },
    {
      "cell_type": "code",
      "execution_count": 8,
      "metadata": {
        "colab": {
          "base_uri": "https://localhost:8080/"
        },
        "id": "UsX39hWDCLR6",
        "outputId": "b531ff90-87aa-491f-bec3-82ad09d9f638"
      },
      "outputs": [
        {
          "name": "stdout",
          "output_type": "stream",
          "text": [
            " It's crucial to handle HTML entities such as div, p, , etc. HTML entities are s\n"
          ]
        }
      ],
      "source": [
        "### ваш код здесь: примените re.sub ###\n",
        "### ваш код здесь: выведите результат с 720-го по 800-ый символ ###\n",
        "clean_text = re.sub(symbols_pattern, '', clean_text)\n",
        "print(clean_text[720:800])"
      ]
    },
    {
      "cell_type": "markdown",
      "metadata": {
        "id": "mP70Rf3oCKNZ"
      },
      "source": [
        "В нашем тексте остались двойные пробелы\n",
        "\n",
        "Уберем им с помощью очередного паттерна"
      ]
    },
    {
      "cell_type": "code",
      "execution_count": 9,
      "metadata": {
        "colab": {
          "base_uri": "https://localhost:8080/",
          "height": 35
        },
        "id": "GMGJDpaEDHx5",
        "outputId": "bb5e2c86-def1-4495-f402-22beec03d204"
      },
      "outputs": [
        {
          "data": {
            "text/plain": [
              "'\\n\\n\\n    Sample HTML Document\\n\\n\\n    Welcome to Data Cleaning\\n    This is a sample paragraph with HTML '"
            ]
          },
          "execution_count": 9,
          "metadata": {},
          "output_type": "execute_result"
        }
      ],
      "source": [
        "# выведите на экран первые 100 символов вашего текущего результата\n",
        "# на этот раз не используйте print\n",
        "### ваш код здесь\n",
        "def firsthundred():\n",
        "    return clean_text[:100]\n",
        "\n",
        "\n",
        "firsthundred()"
      ]
    },
    {
      "cell_type": "markdown",
      "metadata": {
        "id": "GpgXBzMxDicX"
      },
      "source": [
        "Создаем паттерн для поиска двойных пробелов\n",
        "\n",
        "Повторите процедуру, перезапишите результат в `clean_text` и выведите первые 100 символов\n",
        "\n",
        "Что мы запишем в переменную `repl`, чтобы не удалить абсолютно все пробелы?"
      ]
    },
    {
      "cell_type": "code",
      "execution_count": 10,
      "metadata": {
        "colab": {
          "base_uri": "https://localhost:8080/",
          "height": 35
        },
        "id": "aQ-ZqbEcDcIE",
        "outputId": "2e609be3-e417-4b9b-cef4-507156b67367"
      },
      "outputs": [
        {
          "data": {
            "text/plain": [
              "' Sample HTML Document Welcome to Data Cleaning This is a sample paragraph with HTML artifacts such a'"
            ]
          },
          "execution_count": 10,
          "metadata": {},
          "output_type": "execute_result"
        }
      ],
      "source": [
        "space_pattern = r'\\s+'\n",
        "\n",
        "### ваш код здесь: примените re.sub ###\n",
        "### ваш код здесь: выведите первые 100 символов, не используя print ###\n",
        "clean_text = re.sub(space_pattern, ' ', clean_text)\n",
        "firsthundred()"
      ]
    },
    {
      "cell_type": "markdown",
      "metadata": {
        "id": "Hwtj4l2x6bwS"
      },
      "source": [
        "# Задание 3: Смена регистра\n",
        "\n",
        "Приведем все слова к нижнему регистру с помощью функции `lower`\n",
        "\n",
        "Запишем результат в переменную `text_lower` и выведем на экран последние 100 символов"
      ]
    },
    {
      "cell_type": "code",
      "execution_count": 11,
      "metadata": {
        "colab": {
          "base_uri": "https://localhost:8080/"
        },
        "id": "NbmH8JL0EPeg",
        "outputId": "884199df-9871-41fd-ae3c-1f4caab40f9c"
      },
      "outputs": [
        {
          "name": "stdout",
          "output_type": "stream",
          "text": [
            "e learning models, making predictions, or generating insights to support decision-making processes. \n"
          ]
        }
      ],
      "source": [
        "### ваш код здесь: примените lower к clean_text ###\n",
        "### ваш код здесь: выведите первые 100 символов с конца, используйте слайсинг и не забудьте про - ###\n",
        "text_lower = clean_text.lower()\n",
        "print(clean_text[-100:])"
      ]
    },
    {
      "cell_type": "markdown",
      "metadata": {
        "id": "vkxdtN1Q6mwU"
      },
      "source": [
        "# Задание 4: Удаление стоп-слов\n",
        "\n",
        "Удалим частотные слова, которые создают шум для решения задач\n",
        "\n",
        "Загрузим список стоп-слов"
      ]
    },
    {
      "cell_type": "code",
      "execution_count": 12,
      "metadata": {
        "colab": {
          "base_uri": "https://localhost:8080/"
        },
        "id": "8ypsKpKBE6T-",
        "outputId": "feea762c-2265-4b84-c620-26883d3e6277"
      },
      "outputs": [
        {
          "name": "stdout",
          "output_type": "stream",
          "text": [
            "zsh:1: command not found: wget\n"
          ]
        }
      ],
      "source": [
        "!wget https://raw.githubusercontent.com/vifirsanova/hse-python-course/main/data/stopwords.txt"
      ]
    },
    {
      "cell_type": "code",
      "execution_count": 13,
      "metadata": {
        "id": "_c1xfdkgFNcg"
      },
      "outputs": [],
      "source": [
        "# запишем данные в переменную stopwords\n",
        "with open('stopwords.txt', 'r') as f:\n",
        "  stopwords = f.read().split()"
      ]
    },
    {
      "cell_type": "markdown",
      "metadata": {
        "id": "nansznnrFVN-"
      },
      "source": [
        "Выведите на экран первые 10 стоп-слов"
      ]
    },
    {
      "cell_type": "code",
      "execution_count": 14,
      "metadata": {
        "colab": {
          "base_uri": "https://localhost:8080/"
        },
        "id": "Pctau5NgFYJG",
        "outputId": "40354e7e-842b-42a2-a40a-06d604e50122"
      },
      "outputs": [
        {
          "name": "stdout",
          "output_type": "stream",
          "text": [
            "['a', 'about', 'above', 'after', 'again', 'against', 'all', 'am', 'an', 'and']\n"
          ]
        }
      ],
      "source": [
        "### ваш код здесь ###\n",
        "print(stopwords[:10])"
      ]
    },
    {
      "cell_type": "markdown",
      "metadata": {
        "id": "7C4R5y63Fqrl"
      },
      "source": [
        "С помощью `random` мы можем \"вытянуть\" из списка стоп-слов случайное слово"
      ]
    },
    {
      "cell_type": "code",
      "execution_count": 15,
      "metadata": {
        "colab": {
          "base_uri": "https://localhost:8080/",
          "height": 35
        },
        "id": "8SX-lcCAFjNc",
        "outputId": "a2dd88b9-da4e-48a8-b628-2bebaf9b9aed"
      },
      "outputs": [
        {
          "data": {
            "text/plain": [
              "'had'"
            ]
          },
          "execution_count": 15,
          "metadata": {},
          "output_type": "execute_result"
        }
      ],
      "source": [
        "import random\n",
        "random.choice(stopwords)"
      ]
    },
    {
      "cell_type": "markdown",
      "metadata": {
        "id": "tPDPQYYTFwsM"
      },
      "source": [
        "\"Вытяните\" еще одно случайное слово и запишите его в переменную `random_word`"
      ]
    },
    {
      "cell_type": "code",
      "execution_count": 16,
      "metadata": {
        "id": "oJkDb27LF75t"
      },
      "outputs": [],
      "source": [
        "### ваш код здесь ###\n",
        "random_word = random.choice(stopwords)"
      ]
    },
    {
      "cell_type": "markdown",
      "metadata": {
        "id": "erv_tjszGZlo"
      },
      "source": [
        "Проверьте, есть ли это слово в `text_lower` с помощью `in`\n",
        "\n",
        "Выведите на экран это слово"
      ]
    },
    {
      "cell_type": "code",
      "execution_count": 17,
      "metadata": {
        "colab": {
          "base_uri": "https://localhost:8080/"
        },
        "id": "j2NJtaSOGBDT",
        "outputId": "032b2982-b5c1-41f8-fe7a-abcefa1d00cd"
      },
      "outputs": [
        {
          "name": "stdout",
          "output_type": "stream",
          "text": [
            "Результат проверки: True\n",
            "Случайное слово: after\n"
          ]
        }
      ],
      "source": [
        "### ваш код здесь: вывод на экран текста \"Результат проверки:\" и проверки с in ###\n",
        "def check(word, text):\n",
        "    print(f'Результат проверки: {word in text}')\n",
        "    print(f'Случайное слово: {random_word}')\n",
        "### ваш код здесь: вывод текста \"Случайное слово:\" и random_word ###\n",
        "check(random_word, text_lower)\n"
      ]
    },
    {
      "cell_type": "markdown",
      "metadata": {
        "id": "VBJJHLvrHCCO"
      },
      "source": [
        "Попробуйте сгенерировать еще несколько слов и проверить их наличие в `text_lower`\n",
        "\n",
        "Для этого запустите повторно две последние ячейки"
      ]
    },
    {
      "cell_type": "code",
      "execution_count": 18,
      "metadata": {
        "colab": {
          "base_uri": "https://localhost:8080/",
          "height": 105
        },
        "id": "gY7oeXTXGW0D",
        "outputId": "29a5fe30-9fd3-447b-9de7-5ed01589fdd4"
      },
      "outputs": [
        {
          "data": {
            "text/plain": [
              "'\\nВот так будет выглядеть текст после удаления стоп-слов _без_ токенизации\\nЗаменятся все аналогичные сочетания знаков\\nПоэтому перед _удалением_ стоп-слов, проведем токенизацию\\n'"
            ]
          },
          "execution_count": 18,
          "metadata": {},
          "output_type": "execute_result"
        }
      ],
      "source": [
        "\"\"\"\n",
        "Вот так будет выглядеть текст после удаления стоп-слов _без_ токенизации\n",
        "Заменятся все аналогичные сочетания знаков\n",
        "Поэтому перед _удалением_ стоп-слов, проведем токенизацию\n",
        "\"\"\""
      ]
    },
    {
      "cell_type": "markdown",
      "metadata": {
        "id": "Mepvb0Kw7Ncq"
      },
      "source": [
        "# Задание 5: Токенизация\n",
        "\n",
        "Токенизируем датасет для дальнейшей работы\n",
        "\n",
        "Создадим 2 набора токенов: с сегментацией по предложениям и с сегментацией по словам"
      ]
    },
    {
      "cell_type": "markdown",
      "metadata": {
        "id": "Me63a7SNLa6C"
      },
      "source": [
        "Создайте переменную `sentences`\n",
        "\n",
        "С помощью `split` разделите текст на предложения (сегменты, разделенные знаком `.`)\n",
        "\n",
        "Выведите на экран первые 10 элементов `sentences`"
      ]
    },
    {
      "cell_type": "code",
      "execution_count": 19,
      "metadata": {
        "colab": {
          "base_uri": "https://localhost:8080/"
        },
        "id": "8G13fM_27M1t",
        "outputId": "5238ef6b-7c2d-4bc2-e052-28d263da20ba"
      },
      "outputs": [
        {
          "name": "stdout",
          "output_type": "stream",
          "text": [
            "[' sample html document welcome to data cleaning this is a sample paragraph with html artifacts such as bold and italic text', ' data cleaning is an essential process in preparing data for analysis', ' it involves various techniques to clean, transform, and preprocess data', ' in data cleaning, it\\'s important to remove stop words like \"the\", \"and\", \"of\", etc', ' stop words are common words that are often filtered out from text data because they do not carry significant meaning', \" here's another paragraph\", ' sometimes text is in uppercase or lowercase', \" it's important to standardize the text case to ensure consistency in the dataset\", ' this can be achieved by converting all text to lowercase or uppercase', \" it's crucial to handle html entities such as div, p, , etc\"]\n"
          ]
        }
      ],
      "source": [
        "### ваш код здесь: split для сегментации по знаку `.` ###\n",
        "sentences = text_lower.split('.')\n",
        "### вывод на экран первых 10 предложений ###\n",
        "print(sentences[:10])"
      ]
    },
    {
      "cell_type": "markdown",
      "metadata": {
        "id": "6J_C8cq0L2rB"
      },
      "source": [
        "Создайте переменную `tokens`\n",
        "\n",
        "С помощью `split` разделите текст `text_lower` на слова\n",
        "\n",
        "Выведите первые 10 элементов"
      ]
    },
    {
      "cell_type": "code",
      "execution_count": 20,
      "metadata": {
        "colab": {
          "base_uri": "https://localhost:8080/"
        },
        "id": "Rj3dXh576a5A",
        "outputId": "0d6920c5-a457-4ef2-ca3f-f86c2c6aaf02"
      },
      "outputs": [
        {
          "name": "stdout",
          "output_type": "stream",
          "text": [
            "['sample', 'html', 'document', 'welcome', 'to', 'data', 'cleaning', 'this', 'is', 'a']\n"
          ]
        }
      ],
      "source": [
        "### ваш код здесь: split для сегментации по пробелу ###\n",
        "tokens = text_lower.split()\n",
        "### ваш код здесь: вывод на экран первых 10 слов ###\n",
        "print(tokens[:10])"
      ]
    },
    {
      "cell_type": "markdown",
      "metadata": {
        "id": "5Q7FfNK9MJ_K"
      },
      "source": [
        " Удалим стоп-слова"
      ]
    },
    {
      "cell_type": "code",
      "execution_count": 21,
      "metadata": {
        "colab": {
          "base_uri": "https://localhost:8080/"
        },
        "id": "QMy-_DNJ0HF3",
        "outputId": "c4fcd19a-949d-4c5c-d7a2-c93a422eac07"
      },
      "outputs": [
        {
          "name": "stdout",
          "output_type": "stream",
          "text": [
            "['sample', 'html', 'document', 'welcome', 'data', 'cleaning', 'sample', 'paragraph', 'html', 'artifacts']\n"
          ]
        }
      ],
      "source": [
        "clean_tokens = []\n",
        "\n",
        "for token in tokens:  # итерация по списку токенов tokens\n",
        "  if token not in stopwords:  # проверяем отсутствие токена в списке стоп-слов\n",
        "    clean_tokens.append(token)  # добавляем токен в новый очищенный список токенов, если его нет в стоп-словах\n",
        "\n",
        "### ваш код здесь: вывод на экран первых 10 элементов clean_tokens ###\n",
        "print(clean_tokens[:10])"
      ]
    },
    {
      "cell_type": "markdown",
      "metadata": {
        "id": "0EYfMpHZNUkA"
      },
      "source": [
        "# И еще одно задание...\n",
        "\n",
        "В ячейке ниже вы сможете загрузить еще один текст\n",
        "\n",
        "Используйте свой код и код из задания, чтобы\n",
        "\n",
        "1. удалить артефакты (html-теги, специальные символы и двойные пробелы)\n",
        "\n",
        "2. привести текст к нижнему регистру\n",
        "\n",
        "3. токенизировать текст по предложениям\n",
        "\n",
        "4. токенизировать текст по словам\n",
        "\n",
        "5. удалить стоп-слова"
      ]
    },
    {
      "cell_type": "code",
      "execution_count": 22,
      "metadata": {
        "colab": {
          "base_uri": "https://localhost:8080/"
        },
        "id": "qE6b-OKsNqK_",
        "outputId": "4735ce90-f57f-44b7-90e3-e091005413b0"
      },
      "outputs": [
        {
          "name": "stdout",
          "output_type": "stream",
          "text": [
            "zsh:1: command not found: wget\n"
          ]
        }
      ],
      "source": [
        "!wget https://raw.githubusercontent.com/vifirsanova/hse-python-course/main/extracurricular/artefacts.txt"
      ]
    },
    {
      "cell_type": "code",
      "execution_count": 23,
      "metadata": {
        "id": "CT7eVLpHOMTQ"
      },
      "outputs": [],
      "source": [
        "# запишем данные в переменную artefacts\n",
        "with open('artefacts.txt', 'r') as f:\n",
        "  artefacts = f.read()"
      ]
    },
    {
      "cell_type": "code",
      "execution_count": 28,
      "metadata": {
        "id": "9g-geUOsORlM"
      },
      "outputs": [
        {
          "name": "stdout",
          "output_type": "stream",
          "text": [
            " Sample Web Page Welcome to Our Website This is some sample text on our website. You can contact us \n",
            " Sample Web Page Welcome to Our Website This is some sample text on our website. You can contact us \n",
            "['sample', 'web', 'page', 'welcome', 'website', 'sample', 'text', 'website.', 'can', 'contact', 'us', 'info@example.com.', 'latest', 'news', 'breaking', 'news:', 'important', 'announcement', 'lorem', 'ipsum', 'dolor', 'sit', 'amet,', 'consectetur', 'adipiscing', 'elit.', 'vivamus', 'lacinia,', 'arcu', 'fermentum', 'tincidunt.', '2023', 'website.', 'rights', 'reserved.', '|', 'privacy', 'policy', '|', 'contact', 'us', \"console.log('this\", 'javascript', 'content', 'runs', \"browser.');\"]\n"
          ]
        }
      ],
      "source": [
        "### ваш код в ячейках ниже ###\n",
        "artefacts = re.sub(tag_pattern, '', artefacts)\n",
        "artefacts = re.sub(symbols_pattern, '', artefacts)\n",
        "artefacts = re.sub(space_pattern, ' ', artefacts)\n",
        "print(artefacts[:100])\n",
        "lartefacts = artefacts.lower()\n",
        "sentences = lartefacts.split('.')\n",
        "tokens = lartefacts.split()\n",
        "clean_tokens = []\n",
        "for token in tokens:\n",
        "    if token not in stopwords:\n",
        "        clean_tokens.append(token)\n",
        "print(clean_tokens[:100])\n"
      ]
    }
  ],
  "metadata": {
    "colab": {
      "authorship_tag": "ABX9TyOLOE0Z8VyFp76LQAc2njcJ",
      "include_colab_link": true,
      "provenance": []
    },
    "kernelspec": {
      "display_name": "Python 3",
      "name": "python3"
    },
    "language_info": {
      "codemirror_mode": {
        "name": "ipython",
        "version": 3
      },
      "file_extension": ".py",
      "mimetype": "text/x-python",
      "name": "python",
      "nbconvert_exporter": "python",
      "pygments_lexer": "ipython3",
      "version": "3.12.5"
    }
  },
  "nbformat": 4,
  "nbformat_minor": 0
}
