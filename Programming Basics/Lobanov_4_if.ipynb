{
  "cells": [
    {
      "cell_type": "markdown",
      "metadata": {
        "colab_type": "text",
        "id": "view-in-github"
      },
      "source": [
        "<a href=\"https://colab.research.google.com/github/vifirsanova/hse-python-course/blob/main/4_if.ipynb\" target=\"_parent\"><img src=\"https://colab.research.google.com/assets/colab-badge.svg\" alt=\"Open In Colab\"/></a>"
      ]
    },
    {
      "cell_type": "markdown",
      "metadata": {
        "id": "xjBo_ebS9BpG"
      },
      "source": [
        "# Блок 1: задачи на условия"
      ]
    },
    {
      "cell_type": "markdown",
      "metadata": {
        "id": "f52IBxo_3QMO"
      },
      "source": [
        "## Задание 1\n",
        "\n",
        "### Напишите программу для проверки пароля пользователя\n",
        "\n",
        "**Образец работы программы:**\n",
        "\n",
        "```\n",
        "Введите пароль: 123\n",
        "Пароль неверный\n",
        "Введите пароль: 321\n",
        "Пароль верный\n",
        "```\n",
        "\n",
        "**Алгоритм:**\n",
        "\n",
        "1. Создайте переменную, в которой хранится верный пароль\n",
        "2. Запросите у пользователя пароль\n",
        "3. Если пароль верный, выведите \"Пароль верный\"\n",
        "4. Иначе, выведите \"Пароль неверный\""
      ]
    },
    {
      "cell_type": "code",
      "execution_count": 1,
      "metadata": {
        "id": "XDk2pBii3Nvo"
      },
      "outputs": [
        {
          "name": "stdout",
          "output_type": "stream",
          "text": [
            "Пароль неверный\n",
            "Пароль неверный\n",
            "Пароль верный\n"
          ]
        }
      ],
      "source": [
        "### ваш код здесь ###\n",
        "password = '123456789'\n",
        "while True:\n",
        "    passw = input('Введите пароль: ')\n",
        "    if passw == password:\n",
        "        print('Пароль верный')\n",
        "        break\n",
        "    else:\n",
        "        print('Пароль неверный')"
      ]
    },
    {
      "cell_type": "markdown",
      "metadata": {
        "id": "JUJsTkMH4Gbi"
      },
      "source": [
        "## Задание 2\n",
        "\n",
        "### Напишите программу для проверки возраста пользователя\n",
        "\n",
        "**Образец работы программы:**\n",
        "\n",
        "```\n",
        "Введите возраст: 12\n",
        "Доступ запрещен\n",
        "Введите пароль: 21\n",
        "Доступ разрешен\n",
        "```\n",
        "Если возраст больше или равен 18, программа выводит \"Доступ разрешен\""
      ]
    },
    {
      "cell_type": "code",
      "execution_count": 3,
      "metadata": {
        "id": "aUr56W8b3-gg"
      },
      "outputs": [
        {
          "name": "stdout",
          "output_type": "stream",
          "text": [
            "Доступ разрешен\n"
          ]
        }
      ],
      "source": [
        "### ваш код здесь ###\n",
        "age = int(input('Введите возраст: '))\n",
        "if age >= 18:\n",
        "    print('Доступ разрешен')\n",
        "else:\n",
        "    print('Доступ запрещен')"
      ]
    },
    {
      "cell_type": "markdown",
      "metadata": {
        "id": "ty-_ARJv4hjz"
      },
      "source": [
        "## Задание 3\n",
        "\n",
        "### Напишите программу для приветствия пользователя\n",
        "\n",
        "**Образец работы программы:**\n",
        "\n",
        "```\n",
        "Введите время: 12:30\n",
        "Добрый день!\n",
        "Введите время: 10:30\n",
        "Доброе утро!\n",
        "Введите время: 21:30\n",
        "Добрый вечер!\n",
        "Введите время: 01:30\n",
        "Доброй ночи!\n",
        "```\n",
        "**Алгоритм:**\n",
        "\n",
        "1. Программа принимает на вход строку\n",
        "2. Делим строку по знаку `:`, создаем новую переменную с результатом разделения\n",
        "3. Извлекаем первый элемент из созданной переменной\n",
        "3. Использует логические выражения, чтобы вывести одно из четырех приветствий"
      ]
    },
    {
      "cell_type": "code",
      "execution_count": 6,
      "metadata": {
        "id": "076IfTcK42zK"
      },
      "outputs": [
        {
          "name": "stdout",
          "output_type": "stream",
          "text": [
            "Добрый вечер!\n"
          ]
        }
      ],
      "source": [
        "### ваш код здесь ###\n",
        "time = input('Введите время в формате 24 часов: ').split(':')[0]\n",
        "if '00' <= time <= '05':\n",
        "    print('Доброй ночи!')\n",
        "if '06' <= time <= '11':\n",
        "    print('Доброе утро!')\n",
        "if '12' <= time <= '17':\n",
        "    print('Добрый день!')\n",
        "if '18' <= time <= '23':\n",
        "    print('Добрый вечер!')\n"
      ]
    },
    {
      "cell_type": "markdown",
      "metadata": {
        "id": "ibVDS0oG6Kab"
      },
      "source": [
        "## Задание 4\n",
        "\n",
        "### Целочисленный калькулятор\n",
        "\n",
        "**Образец работы программы:**\n",
        "\n",
        "```\n",
        "Введите выражение: 2 + 2\n",
        "4\n",
        "Введите выражение: 2 - 2\n",
        "0\n",
        "Введите выражение: 2 : 2\n",
        "1\n",
        "Введите выражение: 2 * 2\n",
        "4\n",
        "```\n",
        "**Алгоритм:**\n",
        "\n",
        "1. Программа принимает на вход строку\n",
        "2. Делим строку, создаем список из 3-х элементов\n",
        "3. Проверяем, что записано во втором элементе (помним, что нумерация начинается с 0!) с помощью условий\n",
        "4. Производим одно из четырех возможных действий с первым и последним элементом созданного списка"
      ]
    },
    {
      "cell_type": "code",
      "execution_count": 8,
      "metadata": {
        "id": "TQroW6Jr7C0K"
      },
      "outputs": [
        {
          "name": "stdout",
          "output_type": "stream",
          "text": [
            "1034.25\n"
          ]
        }
      ],
      "source": [
        "### ваш код здесь ###\n",
        "expr = input('Введите выражение: ').split()\n",
        "if expr[1] == '+':\n",
        "    print(int(expr[0]) + int(expr[2]))\n",
        "if expr[1] == '-':\n",
        "    print(int(expr[0]) - int(expr[2]))\n",
        "if expr[1] == ':':\n",
        "    print(int(expr[0]) // int(expr[2]))\n",
        "if expr[1] == '*':\n",
        "    print(int(expr[0]) * int(expr[2]))"
      ]
    },
    {
      "cell_type": "markdown",
      "metadata": {
        "id": "Byz1IibM7s8y"
      },
      "source": [
        "## Задание 5\n",
        "\n",
        "### Умный калькулятор\n",
        "\n",
        "**Образец работы программы:**\n",
        "\n",
        "```\n",
        "Введите выражение: 2 + 2\n",
        "4\n",
        "Введите выражение: 2 == 2\n",
        "True\n",
        "Введите выражение: 2 + 2.1\n",
        "4.1\n",
        "```\n",
        "Дополните калькулятор из задания 4:\n",
        "1. Замените операции с int операциями с float\n",
        "2. Научите калькулятор выполнять логические выражения, добавив новое условие\n",
        "3. Если результат вычисления - целое число (например, `4.0`), выводите целочисленный тип (`4`), иначе, выводите float"
      ]
    },
    {
      "cell_type": "code",
      "execution_count": 16,
      "metadata": {
        "id": "z5cHM4Og7G9s"
      },
      "outputs": [
        {
          "name": "stdout",
          "output_type": "stream",
          "text": [
            "1\n"
          ]
        }
      ],
      "source": [
        "### ваш код здесь ###\n",
        "expr = input('Введите выражение: ').split()\n",
        "sum = float(expr[0]) + float(expr[2])\n",
        "subt = float(expr[0]) - float(expr[2])\n",
        "mult = float(expr[0]) * float(expr[2])\n",
        "div = float(expr[0]) / float(expr[2])\n",
        "if expr[1] == '+':\n",
        "    print(int(sum) if int(sum) == float(sum) else float(sum))\n",
        "if expr[1] == '-':\n",
        "    print(int(subt) if int(subt) == float(subt) else float(subt))\n",
        "if expr[1] == ':':\n",
        "    print(int(div) if int(div) == float(div) else float(div))\n",
        "if expr[1] == '*':\n",
        "    print(int(mult) if int(mult) == float(mult) else float(mult))\n",
        "if expr[1] == '==':\n",
        "    print(float(expr[0] == float(expr[2])))"
      ]
    },
    {
      "cell_type": "markdown",
      "metadata": {
        "id": "HkO1aD2F9Iss"
      },
      "source": [
        "# Блок 2: задачи на обработку данных"
      ]
    },
    {
      "cell_type": "markdown",
      "metadata": {
        "id": "pmEBQyIh9Ist"
      },
      "source": [
        "## Задание 6\n",
        "\n",
        "### Фильтрация данных\n",
        "\n",
        "**Образец результата работы программы:**\n",
        "\n",
        "```\n",
        "Laptop\n",
        "Smartphone\n",
        "Tablet\n",
        "```\n",
        "\n",
        "**Условия:**\n",
        "\n",
        "Дан список продуктов в магазине техники:\n",
        "\n",
        "`\"Laptop True\", \"Headphones False\", \"Smartphone True\", \"Tablet True\", \"Speaker False\"`\n",
        "\n",
        "Каждый элемент списка состоит из двух слов:\n",
        "\n",
        "1. тип продукта (`Laptop`)\n",
        "2. его наличие (`True`) или отсутствие (`False`) в магазине\n",
        "\n",
        "Допишите код ниже, чтобы вывести на экран продукты в наличии.\n",
        "\n",
        "Используйте условие: вторая часть элемента списка должна быть равна `True`."
      ]
    },
    {
      "cell_type": "code",
      "execution_count": 20,
      "metadata": {
        "id": "i5vvEmhZ9Isv"
      },
      "outputs": [
        {
          "name": "stdout",
          "output_type": "stream",
          "text": [
            "Laptop\n",
            "Smartphone\n",
            "Tablet\n"
          ]
        }
      ],
      "source": [
        "# Список продуктов\n",
        "products = [\"Laptop True\", \"Headphones False\", \"Smartphone True\", \"Tablet True\", \"Speaker False\"]\n",
        "\n",
        "# Начинаем перебирать список\n",
        "for product in products:\n",
        "  # если вторая часть текущего элемента списка product == True\n",
        "  ### ваш код здесь ###\n",
        "  if product.split()[1] == 'True':\n",
        "    print(product.split()[0])\n",
        "    # выведите на экран первую часть текущего элемента списка product\n",
        "    ### ваш код здесь ###"
      ]
    },
    {
      "cell_type": "markdown",
      "metadata": {
        "id": "NdG5Y_Cg9Isv"
      },
      "source": [
        "## Задание 7\n",
        "\n",
        "### Фильтрация по числу\n",
        "\n",
        "**Образец результата работы программы:**\n",
        "\n",
        "```\n",
        "Headphones\n",
        "Smartphone\n",
        "Tablet\n",
        "```\n",
        "\n",
        "**Условия:**\n",
        "\n",
        "Дан список продуктов в магазине техники:\n",
        "\n",
        "`\"Laptop 8\", \"Headphones 12\", \"Smartphone 41\", \"Tablet 10\", \"Speaker 6\"`\n",
        "\n",
        "Каждый элемент списка состоит из двух компонентов:\n",
        "\n",
        "1. тип продукта (`Laptop`)\n",
        "2. количество продуктов данного типа в магазине (`8`)\n",
        "\n",
        "Допишите код ниже, чтобы вывести на экран продукты, количество которых равно или больше 10.\n",
        "\n",
        "Используйте условие: вторая часть элемента списка должна быть равна или больше десяти."
      ]
    },
    {
      "cell_type": "code",
      "execution_count": 22,
      "metadata": {
        "id": "tpsi4s4l9Isw"
      },
      "outputs": [
        {
          "name": "stdout",
          "output_type": "stream",
          "text": [
            "Headphones\n",
            "Smartphone\n",
            "Tablet\n"
          ]
        }
      ],
      "source": [
        "# Список продуктов\n",
        "num_products = [\"Laptop 8\", \"Headphones 12\", \"Smartphone 41\", \"Tablet 10\", \"Speaker 6\"]\n",
        "\n",
        "# Начинаем перебирать список\n",
        "for product in num_products:\n",
        "  ### ваш код здесь ###\n",
        "    ### ваш код здесь ###\n",
        "  if int(product.split()[1]) >= 10:\n",
        "    print(product.split()[0])"
      ]
    },
    {
      "cell_type": "markdown",
      "metadata": {
        "id": "Tf1rQpab9Isx"
      },
      "source": [
        "## Задание 8\n",
        "\n",
        "### Изменение списка\n",
        "\n",
        "**Образец результата работы программы:**\n",
        "\n",
        "```\n",
        "`\"Headphones 12\", \"Smartphone 41\", \"Tablet 10\", \"Desktop 16\"`\n",
        "```\n",
        "\n",
        "**Условия:**\n",
        "\n",
        "Дан список новых продуктов для поставки магазин техники:\n",
        "\n",
        "`\"Desktop 16\", \"Mouse 2\", \"Keyboard 4\"`\n",
        "\n",
        "Каждый элемент списка состоит из двух компонентов:\n",
        "\n",
        "1. тип продукта (`Desktop`)\n",
        "2. количество продуктов данного типа в магазине (`16`)\n",
        "\n",
        "Допишите код ниже, чтобы добавить в список `num_products` продукты, количество которых равно или больше 10.\n",
        "\n",
        "Используйте условие и функцию `append`."
      ]
    },
    {
      "cell_type": "code",
      "execution_count": 26,
      "metadata": {
        "id": "LSd3_vPw9Isx"
      },
      "outputs": [
        {
          "name": "stdout",
          "output_type": "stream",
          "text": [
            "['Laptop 8', 'Headphones 12', 'Smartphone 41', 'Tablet 10', 'Speaker 6', 'Desktop 16']\n",
            "['Laptop 8', 'Headphones 12', 'Smartphone 41', 'Tablet 10', 'Speaker 6', 'Desktop 16']\n",
            "['Laptop 8', 'Headphones 12', 'Smartphone 41', 'Tablet 10', 'Speaker 6', 'Desktop 16']\n"
          ]
        }
      ],
      "source": [
        "new_products = [\"Desktop 16\", \"Mouse 2\", \"Keyboard 4\"]\n",
        "\n",
        "for product in new_products:\n",
        "  # Проверьте количество продуктов\n",
        "  ### ваш код здесь ###\n",
        "    # Примените append к списку num_products\n",
        "    ### ваш код здесь ###\n",
        "    if int(product.split()[1]) >= 10:\n",
        "      num_products.append(product)\n",
        "    print(num_products)"
      ]
    },
    {
      "cell_type": "markdown",
      "metadata": {
        "id": "FAIsp2TOB1_a"
      },
      "source": [
        "Удалите из `num_products` элементы, количество которых меньше 10.\n",
        "\n",
        "Используйте `remove`. Когда мы используем `remove`, список меняется и в следующей итерации могут вознкнуть конфликты.\n",
        "\n",
        "    Пример:  \n",
        "      Итерация 1: удали третий элемент из списка [1, 2, 3]\n",
        "      Итерация 2: удали третий элемент из списка [1, 2] - ошибка!\n",
        "\n",
        "Поэтому мы создаем временную копию списка `num_products[:]`."
      ]
    },
    {
      "cell_type": "code",
      "execution_count": 30,
      "metadata": {
        "id": "Gt-6sSw9B-_f"
      },
      "outputs": [
        {
          "name": "stdout",
          "output_type": "stream",
          "text": [
            "['Headphones 12', 'Smartphone 41', 'Tablet 10', 'Desktop 16']\n"
          ]
        }
      ],
      "source": [
        "for product in num_products[:]: # [:] создает копию списка, чтобы избежать конфликтов\n",
        "  # Проверьте количество продуктов\n",
        "  ### ваш код здесь ###\n",
        "  if int(product.split()[1]) < 10:\n",
        "      num_products.remove(product)\n",
        "    # Примените remove к списку num_products\n",
        "    ### ваш код здесь ###\n",
        "print(num_products)"
      ]
    },
    {
      "cell_type": "markdown",
      "metadata": {
        "id": "JPbwkam09Isx"
      },
      "source": [
        "## Задание 9\n",
        "\n",
        "### Фильтрация списка имен\n",
        "\n",
        "**Образец результата работы программы:**\n",
        "\n",
        "```\n",
        "a_k = \"Alex\", \"Chloe\", \"George\", \"Jordan\"\n",
        "l_z = \"Lauren\", \"Tom\"\n",
        "```\n",
        "\n",
        "**Условия:**\n",
        "\n",
        "Дан список имен:\n",
        "\n",
        "`[\"Tom\", \"Chloe\", \"Alex\", \"George\", \"Lauren\", \"Jordan\"]`\n",
        "\n",
        "Создайте два списка и отсортируйте их в алфавитном порядке:\n",
        "\n",
        "1. `a_k`: список имен, начинающихся с букв в диапазоне от `A` до `K` (буквы чувствительны к регистру и ранжируются [как числа] от A до Z и далее от a до z)\n",
        "2. `l_z`: список от `L` до `Z`"
      ]
    },
    {
      "cell_type": "code",
      "execution_count": 35,
      "metadata": {
        "id": "BPzG9mme9Isx"
      },
      "outputs": [
        {
          "name": "stdout",
          "output_type": "stream",
          "text": [
            "Names from A to K: ['Alex', 'Chloe', 'George', 'Jordan'], names from L to Z: ['Lauren', 'Tom']\n"
          ]
        }
      ],
      "source": [
        "names = [\"Tom\", \"Chloe\", \"Alex\", \"George\", \"Lauren\", \"Jordan\"]\n",
        "\n",
        "# Создайте 2 пустых списка a_k и l_z\n",
        "### ваш код здесь ###\n",
        "a_k = []\n",
        "l_z = []\n",
        "\n",
        "for name in names:\n",
        "  # Используйте append, чтобы внести в a_k имена от A до K\n",
        "    ### ваш код здесь ###\n",
        "    if 'A' <= name[0] <= 'K':\n",
        "      a_k.append(name)\n",
        "    else:\n",
        "      l_z.append(name)\n",
        "  # Иначе, добавьте имена в другой список\n",
        "    ### ваш код здесь ###\n",
        "\n",
        "# Используйте sorted, чтобы перезаписать в оба списка отсортированные по алфавиту данные\n",
        "### ваш код здесь ###\n",
        "print(f'Names from A to K: {sorted(a_k)}, names from L to Z: {sorted(l_z)}')"
      ]
    },
    {
      "cell_type": "markdown",
      "metadata": {
        "id": "_GVE8_lb9Isx"
      },
      "source": [
        "## Задание 10\n",
        "\n",
        "### Фильтрация типов\n",
        "\n",
        "**Образец результата работы программы:**\n",
        "\n",
        "```\n",
        "nums = [1, 3, 4]\n",
        "names = [\"apple\", \"banana\", \"kiwi\"]\n",
        "floats = [2.5, 7.6]\n",
        "bools = [True, True, False]\n",
        "```\n",
        "\n",
        "**Условия:**\n",
        "\n",
        "Дан список данных разных типов:\n",
        "\n",
        "`3, 1, \"kiwi\", 7.6, False, True, \"apple\", 2.5, \"banana\", True, 4`\n",
        "\n",
        "Используйте выражение `if isinstance(element, type)`, где `type` - питоновский тип (`int`, `str`...), чтобы создать списки, содержащие элементы одного типа.\n",
        "\n",
        "Отсортируйте списки с помощью `sorted`."
      ]
    },
    {
      "cell_type": "code",
      "execution_count": 43,
      "metadata": {
        "id": "wI_V15MM9Isy"
      },
      "outputs": [
        {
          "name": "stdout",
          "output_type": "stream",
          "text": [
            "[1, 3, 4]\n",
            "['apple', 'banana', 'kiwi']\n",
            "[2.5, 7.6]\n",
            "[False, True, True]\n"
          ]
        }
      ],
      "source": [
        "mixed_list = [3, 1, \"kiwi\", 7.6, False, True, \"apple\", 2.5, \"banana\", True, 4]\n",
        "\n",
        "# Создайте пустые списки\n",
        "### ваш код здесь ###\n",
        "nums = []\n",
        "names = []\n",
        "floats = []\n",
        "bools = []\n",
        "for element in mixed_list:\n",
        "  # Проверьте тип\n",
        "  ### ваш код здесь ###\n",
        "  if isinstance(element, bool):\n",
        "    bools.append(element)\n",
        "  elif isinstance(element, str):\n",
        "    names.append(element)\n",
        "  elif isinstance(element, float):\n",
        "    floats.append(element)\n",
        "  elif isinstance(element, int):\n",
        "    nums.append(element)\n",
        "# Отсортируйте списки\n",
        "### ваш код здесь ###\n",
        "print(sorted(nums), sorted(names), sorted(floats), sorted(bools), sep='\\n')"
      ]
    }
  ],
  "metadata": {
    "colab": {
      "authorship_tag": "ABX9TyOPw18q4sM822KoygcnrGyr",
      "collapsed_sections": [
        "xjBo_ebS9BpG",
        "f52IBxo_3QMO",
        "JUJsTkMH4Gbi",
        "ty-_ARJv4hjz",
        "ibVDS0oG6Kab",
        "Byz1IibM7s8y",
        "pmEBQyIh9Ist",
        "NdG5Y_Cg9Isv",
        "Tf1rQpab9Isx"
      ],
      "include_colab_link": true,
      "provenance": []
    },
    "kernelspec": {
      "display_name": "Python 3",
      "name": "python3"
    },
    "language_info": {
      "codemirror_mode": {
        "name": "ipython",
        "version": 3
      },
      "file_extension": ".py",
      "mimetype": "text/x-python",
      "name": "python",
      "nbconvert_exporter": "python",
      "pygments_lexer": "ipython3",
      "version": "3.12.5"
    }
  },
  "nbformat": 4,
  "nbformat_minor": 0
}
