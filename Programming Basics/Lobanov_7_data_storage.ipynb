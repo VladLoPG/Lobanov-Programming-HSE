{
  "cells": [
    {
      "cell_type": "markdown",
      "metadata": {
        "colab_type": "text",
        "id": "view-in-github"
      },
      "source": [
        "<a href=\"https://colab.research.google.com/github/vifirsanova/hse-python-course/blob/main/workbook/7_data_storage.ipynb\" target=\"_parent\"><img src=\"https://colab.research.google.com/assets/colab-badge.svg\" alt=\"Open In Colab\"/></a>"
      ]
    },
    {
      "cell_type": "markdown",
      "metadata": {
        "id": "OksYVI3CpDzx"
      },
      "source": [
        "# Форматы хранения данных\n",
        "\n",
        "В этом воркбуке мы познакомимся с форматами хранения данных, популярными в NLP"
      ]
    },
    {
      "cell_type": "markdown",
      "metadata": {
        "id": "mtnFFCluuefl"
      },
      "source": [
        "## TXT"
      ]
    },
    {
      "cell_type": "markdown",
      "metadata": {
        "id": "-Hl_poYg05dS"
      },
      "source": [
        "Познакомимся с режимами чтения файлов\n",
        "\n",
        "`open('filename.txt', 'r')`\n",
        "\n",
        "| Режим | Функция |\n",
        "| ----- | ------- |\n",
        "| r | только чтение |\n",
        "| w | запись (удаляет содержимое) |\n",
        "| a | append (не удаляет содержимое) |\n",
        "| r+ | чтение и запись |\n",
        "| w+ | чтение, запись, создает новый файл, если его еще нет |\n",
        "| a+ | чтение, дозапись, создание файла |"
      ]
    },
    {
      "cell_type": "code",
      "execution_count": 1,
      "metadata": {
        "colab": {
          "base_uri": "https://localhost:8080/"
        },
        "id": "61ki6MN13mD5",
        "outputId": "5d571e33-0d15-4a18-80e0-ba1fa180f100"
      },
      "outputs": [
        {
          "name": "stdout",
          "output_type": "stream",
          "text": [
            "Мы создали пустой файл\n"
          ]
        }
      ],
      "source": [
        "# 'w' создает пустой файл\n",
        "\n",
        "f = open('text.txt', 'w')\n",
        "\n",
        "print(\"Мы создали пустой файл\")"
      ]
    },
    {
      "cell_type": "code",
      "execution_count": 2,
      "metadata": {
        "colab": {
          "base_uri": "https://localhost:8080/",
          "height": 176
        },
        "id": "qaYkqRpR0CQ9",
        "outputId": "b080d3f0-39f1-4727-ef18-89d9434e8304"
      },
      "outputs": [
        {
          "ename": "UnsupportedOperation",
          "evalue": "not readable",
          "output_type": "error",
          "traceback": [
            "\u001b[0;31m---------------------------------------------------------------------------\u001b[0m",
            "\u001b[0;31mUnsupportedOperation\u001b[0m                      Traceback (most recent call last)",
            "Cell \u001b[0;32mIn[2], line 4\u001b[0m\n\u001b[1;32m      1\u001b[0m \u001b[38;5;66;03m# Файл доступен только для записи, прочитать его нельзя\u001b[39;00m\n\u001b[1;32m      2\u001b[0m \u001b[38;5;66;03m# UnsupportedOperation: not readable\u001b[39;00m\n\u001b[0;32m----> 4\u001b[0m \u001b[43mf\u001b[49m\u001b[38;5;241;43m.\u001b[39;49m\u001b[43mread\u001b[49m\u001b[43m(\u001b[49m\u001b[43m)\u001b[49m\n",
            "\u001b[0;31mUnsupportedOperation\u001b[0m: not readable"
          ]
        }
      ],
      "source": [
        "# Файл доступен только для записи, прочитать его нельзя\n",
        "# UnsupportedOperation: not readable\n",
        "\n",
        "f.read()"
      ]
    },
    {
      "cell_type": "code",
      "execution_count": 3,
      "metadata": {
        "colab": {
          "base_uri": "https://localhost:8080/"
        },
        "id": "Jc1MxVX50L3Z",
        "outputId": "0aafdfd3-774a-45fe-fb2b-e2b308346a4f"
      },
      "outputs": [
        {
          "data": {
            "text/plain": [
              "25"
            ]
          },
          "execution_count": 3,
          "metadata": {},
          "output_type": "execute_result"
        }
      ],
      "source": [
        "# Но мы можем записать в файл информацию\n",
        "# В выводе отображается длина записанной строки\n",
        "\n",
        "f.write('This is a sample sentence')"
      ]
    },
    {
      "cell_type": "code",
      "execution_count": 4,
      "metadata": {
        "id": "Gw33JHar0Y8D"
      },
      "outputs": [],
      "source": [
        "# Закроем файл: иначе он будет занимать память\n",
        "# Откройте файл в файловой системе Colab, чтобы увидеть результат\n",
        "\n",
        "f.close()"
      ]
    },
    {
      "cell_type": "code",
      "execution_count": 6,
      "metadata": {
        "id": "3h9c4i710q2t"
      },
      "outputs": [],
      "source": [
        "# Повторите действия:\n",
        "# 1. откройте text.txt в режиме 'w'\n",
        "# 2. запишите в него любой текст\n",
        "# 3. закройте файл\n",
        "# 4. откройте файл в файловой системе Colab\n",
        "# Напишите в комментариях, что вы заметили\n",
        "\n",
        "### ваш код здесь ###\n",
        "file = open('text.txt', 'w')\n",
        "file.write('Thank you for this amazing course, Victoria!') # write очистил файл и вписал новую строку, предыдущей там уже нет\n",
        "file.close()"
      ]
    },
    {
      "cell_type": "code",
      "execution_count": 8,
      "metadata": {
        "id": "Nvi_2Pwc1Qpd"
      },
      "outputs": [],
      "source": [
        "# Повторите действия с новым режимом:\n",
        "# 1. откройте text.txt в режиме 'a'\n",
        "# 2. запишите в него любой текст\n",
        "# 3. закройте файл\n",
        "# 4. откройте файл в файловой системе Colab\n",
        "# Напишите в комментариях, что вы заметили\n",
        "\n",
        "### ваш код здесь ###\n",
        "file = open('text.txt', 'a')\n",
        "file.write(' It has been a pleasure. Looking forward to ML next year') # в этом режиме новая строка добавляется в конце файла, а старая строка остается нетронутой\n",
        "file.close()"
      ]
    },
    {
      "cell_type": "code",
      "execution_count": 13,
      "metadata": {
        "colab": {
          "base_uri": "https://localhost:8080/"
        },
        "id": "kd4khQXt1qQ2",
        "outputId": "46302b03-81aa-4c30-b597-bb813ac12298"
      },
      "outputs": [
        {
          "name": "stdout",
          "output_type": "stream",
          "text": [
            "Thank you for this amazing course, Victoria!It has been a pleasure. Looking forward to ML next year It has been a pleasure. Looking forward to ML next year\n"
          ]
        }
      ],
      "source": [
        "# Повторите действия с новым режимом:\n",
        "# 1. откройте text.txt в режиме 'r'\n",
        "# 2. запишем в переменную text содержимое файла с помощью функции read (см. пример в ячейках выше)\n",
        "# 3. выведем на экран содержимое переменной text\n",
        "\n",
        "### ваш код здесь ###\n",
        "file = open('text.txt', 'r')\n",
        "text = file.read()\n",
        "print(text)\n",
        "file.close()"
      ]
    },
    {
      "cell_type": "code",
      "execution_count": 10,
      "metadata": {
        "colab": {
          "base_uri": "https://localhost:8080/",
          "height": 175
        },
        "id": "C_FDO6NmydoQ",
        "outputId": "19e595e9-c9c4-45db-e166-dc27573f8cba"
      },
      "outputs": [
        {
          "ename": "FileNotFoundError",
          "evalue": "[Errno 2] No such file or directory: 'hahaha.txt'",
          "output_type": "error",
          "traceback": [
            "\u001b[0;31m---------------------------------------------------------------------------\u001b[0m",
            "\u001b[0;31mFileNotFoundError\u001b[0m                         Traceback (most recent call last)",
            "Cell \u001b[0;32mIn[10], line 6\u001b[0m\n\u001b[1;32m      1\u001b[0m \u001b[38;5;66;03m# Попробуйте создать файл с другим именем с помощью open и режима 'r'\u001b[39;00m\n\u001b[1;32m      2\u001b[0m \u001b[38;5;66;03m# Вы должны увидеть ошибку FileNotFoundError\u001b[39;00m\n\u001b[1;32m      3\u001b[0m \u001b[38;5;66;03m# Напишите в комментариях, когда лучше использовать 'w', когда 'a', когда 'r'\u001b[39;00m\n\u001b[1;32m      4\u001b[0m \n\u001b[1;32m      5\u001b[0m \u001b[38;5;66;03m### ваш код здесь ###\u001b[39;00m\n\u001b[0;32m----> 6\u001b[0m file \u001b[38;5;241m=\u001b[39m \u001b[38;5;28;43mopen\u001b[39;49m\u001b[43m(\u001b[49m\u001b[38;5;124;43m'\u001b[39;49m\u001b[38;5;124;43mhahaha.txt\u001b[39;49m\u001b[38;5;124;43m'\u001b[39;49m\u001b[43m,\u001b[49m\u001b[43m \u001b[49m\u001b[38;5;124;43m'\u001b[39;49m\u001b[38;5;124;43mr\u001b[39;49m\u001b[38;5;124;43m'\u001b[39;49m\u001b[43m)\u001b[49m\n",
            "File \u001b[0;32m~/Python/.venv/lib/python3.12/site-packages/IPython/core/interactiveshell.py:324\u001b[0m, in \u001b[0;36m_modified_open\u001b[0;34m(file, *args, **kwargs)\u001b[0m\n\u001b[1;32m    317\u001b[0m \u001b[38;5;28;01mif\u001b[39;00m file \u001b[38;5;129;01min\u001b[39;00m {\u001b[38;5;241m0\u001b[39m, \u001b[38;5;241m1\u001b[39m, \u001b[38;5;241m2\u001b[39m}:\n\u001b[1;32m    318\u001b[0m     \u001b[38;5;28;01mraise\u001b[39;00m \u001b[38;5;167;01mValueError\u001b[39;00m(\n\u001b[1;32m    319\u001b[0m         \u001b[38;5;124mf\u001b[39m\u001b[38;5;124m\"\u001b[39m\u001b[38;5;124mIPython won\u001b[39m\u001b[38;5;124m'\u001b[39m\u001b[38;5;124mt let you open fd=\u001b[39m\u001b[38;5;132;01m{\u001b[39;00mfile\u001b[38;5;132;01m}\u001b[39;00m\u001b[38;5;124m by default \u001b[39m\u001b[38;5;124m\"\u001b[39m\n\u001b[1;32m    320\u001b[0m         \u001b[38;5;124m\"\u001b[39m\u001b[38;5;124mas it is likely to crash IPython. If you know what you are doing, \u001b[39m\u001b[38;5;124m\"\u001b[39m\n\u001b[1;32m    321\u001b[0m         \u001b[38;5;124m\"\u001b[39m\u001b[38;5;124myou can use builtins\u001b[39m\u001b[38;5;124m'\u001b[39m\u001b[38;5;124m open.\u001b[39m\u001b[38;5;124m\"\u001b[39m\n\u001b[1;32m    322\u001b[0m     )\n\u001b[0;32m--> 324\u001b[0m \u001b[38;5;28;01mreturn\u001b[39;00m \u001b[43mio_open\u001b[49m\u001b[43m(\u001b[49m\u001b[43mfile\u001b[49m\u001b[43m,\u001b[49m\u001b[43m \u001b[49m\u001b[38;5;241;43m*\u001b[39;49m\u001b[43margs\u001b[49m\u001b[43m,\u001b[49m\u001b[43m \u001b[49m\u001b[38;5;241;43m*\u001b[39;49m\u001b[38;5;241;43m*\u001b[39;49m\u001b[43mkwargs\u001b[49m\u001b[43m)\u001b[49m\n",
            "\u001b[0;31mFileNotFoundError\u001b[0m: [Errno 2] No such file or directory: 'hahaha.txt'"
          ]
        }
      ],
      "source": [
        "# Попробуйте создать файл с другим именем с помощью open и режима 'r'\n",
        "# Вы должны увидеть ошибку FileNotFoundError\n",
        "# Напишите в комментариях, когда лучше использовать 'w', когда 'a', когда 'r'\n",
        "\n",
        "### ваш код здесь ###\n",
        "file = open('hahaha.txt', 'r')\n",
        "# read подойдет, когда нельзя или нежелательно менять содержание файла, а достаточно только узнать его содержимое\n",
        "# write подходит для создания новых файлов\n",
        "# append подходит для записи в существующие файлы"
      ]
    },
    {
      "cell_type": "code",
      "execution_count": 14,
      "metadata": {
        "id": "gnVoyMcg1nMp"
      },
      "outputs": [
        {
          "name": "stdout",
          "output_type": "stream",
          "text": [
            "Thank you for this amazing course, Victoria!It has been a pleasure. Looking forward to ML next year It has been a pleasure. Looking forward to ML next year\n",
            "\n"
          ]
        }
      ],
      "source": [
        "# В этой ячейке самостоятельно протестируйте режимы r+, w+, a+\n",
        "# Опишите в комментариях, когда лучше использовать 'r+', 'w+' или 'a+'\n",
        "\n",
        "### ваш код здесь ###\n",
        "file = open('text.txt', 'r+')\n",
        "print(file.read())\n",
        "file.write('hooha')\n",
        "file.close()"
      ]
    },
    {
      "cell_type": "code",
      "execution_count": 18,
      "metadata": {},
      "outputs": [
        {
          "name": "stdout",
          "output_type": "stream",
          "text": [
            "Hey, you here? I hear you've been promoted. My congrats.\n"
          ]
        }
      ],
      "source": [
        "file = open('message.txt', 'w+')\n",
        "file.write('Hey, you here? I hear you\\'ve been promoted. My congrats.')\n",
        "file.seek(0) # видимо, это позволяет нам вернуть позицию работы на начало, иначе не выводило ничего при чтении, хотя в файле все было\n",
        "print(file.read())"
      ]
    },
    {
      "cell_type": "code",
      "execution_count": 19,
      "metadata": {},
      "outputs": [
        {
          "name": "stdout",
          "output_type": "stream",
          "text": [
            "Hey, you here? I hear you've been promoted. My congrats.What's your position called now?\n"
          ]
        }
      ],
      "source": [
        "file = open('message.txt', 'a+')\n",
        "file.write('What\\'s your position called now?')\n",
        "file.seek(0)\n",
        "print(file.read())\n",
        "\n",
        "# думаю, эти режимы в целом удобны, когда у нас разносторонняя работа с файлом, нужно что-то читать, проверять, что записалось, а также собственно записывать.\n",
        "# r+ не создает новый файл, если его не существовало ранее, наверное, это удобно, чтобы не плодить файлы при ошибках в названии\n",
        "# w+ создает новый файл, но чистит его при записи, наверно, удобно, когда данных не очень много и мы работаем с разными их версиями и нам не нужны предыдущие\n",
        "# a+ создает новый файл и позволяет записать новые данные в конец файла, удобно, когда нам нужно записывать много информации"
      ]
    },
    {
      "cell_type": "markdown",
      "metadata": {
        "id": "70HDcEse46oP"
      },
      "source": [
        "Метод `writelines` позволяет записывать списки"
      ]
    },
    {
      "cell_type": "code",
      "execution_count": 20,
      "metadata": {
        "id": "214tVT8g5WVD"
      },
      "outputs": [],
      "source": [
        "# Обратите внимание на использование \\ - это escape symbol, или экранирование\n",
        "# Мы используем экранирование для снятия неоднозначности\n",
        "# В программировании тоже есть омонимия!\n",
        "# Например, когда служебный символ '' или \\n совпадает с информацией в тексте\n",
        "# Бэкслеш указывает на то, что символ не является служебным, это часть текста\n",
        "\n",
        "sample_list = [\n",
        "    'This another sentence.',\n",
        "    'This is one more sentence.',\n",
        "    'Wow, here\\'s one more sentence!'\n",
        "]"
      ]
    },
    {
      "cell_type": "code",
      "execution_count": 22,
      "metadata": {
        "colab": {
          "base_uri": "https://localhost:8080/",
          "height": 159
        },
        "id": "iyDWggNV6dRp",
        "outputId": "870d2e7f-7cbc-401f-b0db-a146f6f7b594"
      },
      "outputs": [
        {
          "ename": "TypeError",
          "evalue": "write() argument must be str, not list",
          "output_type": "error",
          "traceback": [
            "\u001b[0;31m---------------------------------------------------------------------------\u001b[0m",
            "\u001b[0;31mTypeError\u001b[0m                                 Traceback (most recent call last)",
            "Cell \u001b[0;32mIn[22], line 7\u001b[0m\n\u001b[1;32m      1\u001b[0m \u001b[38;5;66;03m# Откройте новый файл в режиме 'w+'\u001b[39;00m\n\u001b[1;32m      2\u001b[0m \u001b[38;5;66;03m# С помощью метода write попробуйте записать список в файл\u001b[39;00m\n\u001b[1;32m      3\u001b[0m \u001b[38;5;66;03m# Что произошло?\u001b[39;00m\n\u001b[1;32m      4\u001b[0m \n\u001b[1;32m      5\u001b[0m \u001b[38;5;66;03m### ваш код здесь ###\u001b[39;00m\n\u001b[1;32m      6\u001b[0m new_file \u001b[38;5;241m=\u001b[39m \u001b[38;5;28mopen\u001b[39m(\u001b[38;5;124m'\u001b[39m\u001b[38;5;124mlist.txt\u001b[39m\u001b[38;5;124m'\u001b[39m, \u001b[38;5;124m'\u001b[39m\u001b[38;5;124mw+\u001b[39m\u001b[38;5;124m'\u001b[39m)\n\u001b[0;32m----> 7\u001b[0m \u001b[43mnew_file\u001b[49m\u001b[38;5;241;43m.\u001b[39;49m\u001b[43mwrite\u001b[49m\u001b[43m(\u001b[49m\u001b[43msample_list\u001b[49m\u001b[43m)\u001b[49m\n\u001b[1;32m      8\u001b[0m new_file\u001b[38;5;241m.\u001b[39mclose()\n",
            "\u001b[0;31mTypeError\u001b[0m: write() argument must be str, not list"
          ]
        }
      ],
      "source": [
        "# Откройте новый файл в режиме 'w+'\n",
        "# С помощью метода write попробуйте записать список в файл\n",
        "# Что произошло?\n",
        "\n",
        "### ваш код здесь ###\n",
        "new_file = open('list.txt', 'w+')\n",
        "new_file.write(sample_list)\n",
        "new_file.close()\n",
        "# тип данных список не может быть записан методом write, только строка"
      ]
    },
    {
      "cell_type": "code",
      "execution_count": 37,
      "metadata": {
        "id": "MB6dWA4V8ZAe"
      },
      "outputs": [
        {
          "name": "stdout",
          "output_type": "stream",
          "text": [
            "This another sentence.This is one more sentence.Wow, here's one more sentence!\n"
          ]
        }
      ],
      "source": [
        "# Замените write на writelines, чтобы записать список\n",
        "# Закройте файл\n",
        "# Что вы заметили?\n",
        "\n",
        "### ваш код здесь ###\n",
        "new_file = open('list.txt', 'w+')\n",
        "new_file.writelines(sample_list)\n",
        "new_file.seek(0)\n",
        "print(new_file.read())\n",
        "new_file.close()\n",
        "# все получилось, список записался в файл"
      ]
    },
    {
      "cell_type": "code",
      "execution_count": 38,
      "metadata": {
        "id": "giOm1ja5DwmW"
      },
      "outputs": [],
      "source": [
        "# Измените ваш код с writelines так,\n",
        "# чтобы получилась структура, как на скриншоте ниже\n",
        "\n",
        "### ваш код здесь ###\n",
        "new_file = open('list.txt', 'a+')\n",
        "new_file.write('\\n')\n",
        "for line in sample_list:\n",
        "    new_file.write(line + '\\n')\n"
      ]
    },
    {
      "cell_type": "markdown",
      "metadata": {
        "id": "T6DKS1dd-Oty"
      },
      "source": [
        "![image.png](data:image/png;base64,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)"
      ]
    },
    {
      "cell_type": "code",
      "execution_count": 39,
      "metadata": {
        "id": "Iv-IYRvhHMgD"
      },
      "outputs": [
        {
          "name": "stdout",
          "output_type": "stream",
          "text": [
            "[\"This another sentence.This is one more sentence.Wow, here's one more sentence!\\n\", 'This another sentence.\\n', 'This is one more sentence.\\n', \"Wow, here's one more sentence!\\n\"]\n"
          ]
        }
      ],
      "source": [
        "# Откройте ваш файл и выведите на экран результат\n",
        "# Используйте метод readlines\n",
        "\n",
        "### ваш код здесь ###\n",
        "new_file.seek(0)\n",
        "print(new_file.readlines())\n",
        "new_file.close()"
      ]
    },
    {
      "cell_type": "markdown",
      "metadata": {
        "id": "EHCilhW4E1zP"
      },
      "source": [
        "**`with` vs `open`+`close`**\n",
        "\n",
        "`with` позволяет работать с файлами, не закрывая их\n",
        "\n",
        "Обработка происходит внутри конструкции `with` (как внутри цикла `for`), вне которой файл не существует\n",
        "\n",
        "**Когда использовать `open` и `close`?**\n",
        "\n",
        "При работе с большими данными, когда требуется построчная обработка.\n",
        "\n",
        "**Когда использовать `with`?**\n",
        "\n",
        "У нас небольшой файл, который нужен нам целиком."
      ]
    },
    {
      "cell_type": "code",
      "execution_count": 40,
      "metadata": {
        "colab": {
          "base_uri": "https://localhost:8080/"
        },
        "id": "tBZPudXIHuRU",
        "outputId": "692bd604-6871-4e13-d288-ae78f7c5d99e"
      },
      "outputs": [
        {
          "name": "stdout",
          "output_type": "stream",
          "text": [
            "--2024-12-15 23:31:14--  https://gist.githubusercontent.com/sebleier/554280/raw/7e0e4a1ce04c2bb7bd41089c9821dbcf6d0c786c/NLTK's%2520list%2520of%2520english%2520stopwords\n",
            "Распознаётся gist.githubusercontent.com (gist.githubusercontent.com)… 185.199.108.133, 185.199.111.133, 185.199.109.133, ...\n",
            "Подключение к gist.githubusercontent.com (gist.githubusercontent.com)|185.199.108.133|:443... соединение установлено.\n",
            "HTTP-запрос отправлен. Ожидание ответа… 200 OK\n",
            "Длина: 622 [text/plain]\n",
            "Сохранение в: «stopwords.txt»\n",
            "\n",
            "stopwords.txt       100%[===================>]     622  --.-KB/s    за 0s      \n",
            "\n",
            "2024-12-15 23:31:14 (22,8 MB/s) - «stopwords.txt» сохранён [622/622]\n",
            "\n"
          ]
        }
      ],
      "source": [
        "# Загрузим список стоп-слов для английского из GitHub\n",
        "# Сохраним список в stopwords.txt\n",
        "\n",
        "!wget https://gist.githubusercontent.com/sebleier/554280/raw/7e0e4a1ce04c2bb7bd41089c9821dbcf6d0c786c/NLTK\\'s%2520list%2520of%2520english%2520stopwords -O stopwords.txt"
      ]
    },
    {
      "cell_type": "code",
      "execution_count": 41,
      "metadata": {
        "colab": {
          "base_uri": "https://localhost:8080/"
        },
        "id": "UzJuKCDiISTr",
        "outputId": "4fd15b39-23a8-4644-a82d-fc96b273ffe9"
      },
      "outputs": [
        {
          "name": "stdout",
          "output_type": "stream",
          "text": [
            "Word number 1: i\n",
            "Word number 2: me\n",
            "Word number 3: my\n",
            "Word number 4: myself\n",
            "Word number 5: we\n",
            "Word number 6: our\n",
            "Word number 7: ours\n",
            "Word number 8: ourselves\n",
            "Word number 9: you\n",
            "Word number 10: your\n",
            "Word number 11: yours\n",
            "Word number 12: yourself\n",
            "Word number 13: yourselves\n",
            "Word number 14: he\n",
            "Word number 15: him\n",
            "Word number 16: his\n",
            "Word number 17: himself\n",
            "Word number 18: she\n",
            "Word number 19: her\n",
            "Word number 20: hers\n",
            "Word number 21: herself\n",
            "Word number 22: it\n",
            "Word number 23: its\n",
            "Word number 24: itself\n",
            "Word number 25: they\n",
            "Word number 26: them\n",
            "Word number 27: their\n",
            "Word number 28: theirs\n",
            "Word number 29: themselves\n",
            "Word number 30: what\n",
            "Word number 31: which\n",
            "Word number 32: who\n",
            "Word number 33: whom\n",
            "Word number 34: this\n",
            "Word number 35: that\n",
            "Word number 36: these\n",
            "Word number 37: those\n",
            "Word number 38: am\n",
            "Word number 39: is\n",
            "Word number 40: are\n",
            "Word number 41: was\n",
            "Word number 42: were\n",
            "Word number 43: be\n",
            "Word number 44: been\n",
            "Word number 45: being\n",
            "Word number 46: have\n",
            "Word number 47: has\n",
            "Word number 48: had\n",
            "Word number 49: having\n",
            "Word number 50: do\n",
            "Word number 51: does\n",
            "Word number 52: did\n",
            "Word number 53: doing\n",
            "Word number 54: a\n",
            "Word number 55: an\n",
            "Word number 56: the\n",
            "Word number 57: and\n",
            "Word number 58: but\n",
            "Word number 59: if\n",
            "Word number 60: or\n",
            "Word number 61: because\n",
            "Word number 62: as\n",
            "Word number 63: until\n",
            "Word number 64: while\n",
            "Word number 65: of\n",
            "Word number 66: at\n",
            "Word number 67: by\n",
            "Word number 68: for\n",
            "Word number 69: with\n",
            "Word number 70: about\n",
            "Word number 71: against\n",
            "Word number 72: between\n",
            "Word number 73: into\n",
            "Word number 74: through\n",
            "Word number 75: during\n",
            "Word number 76: before\n",
            "Word number 77: after\n",
            "Word number 78: above\n",
            "Word number 79: below\n",
            "Word number 80: to\n",
            "Word number 81: from\n",
            "Word number 82: up\n",
            "Word number 83: down\n",
            "Word number 84: in\n",
            "Word number 85: out\n",
            "Word number 86: on\n",
            "Word number 87: off\n",
            "Word number 88: over\n",
            "Word number 89: under\n",
            "Word number 90: again\n",
            "Word number 91: further\n",
            "Word number 92: then\n",
            "Word number 93: once\n",
            "Word number 94: here\n",
            "Word number 95: there\n",
            "Word number 96: when\n",
            "Word number 97: where\n",
            "Word number 98: why\n",
            "Word number 99: how\n",
            "Word number 100: all\n",
            "Word number 101: any\n",
            "Word number 102: both\n",
            "Word number 103: each\n",
            "Word number 104: few\n",
            "Word number 105: more\n",
            "Word number 106: most\n",
            "Word number 107: other\n",
            "Word number 108: some\n",
            "Word number 109: such\n",
            "Word number 110: no\n",
            "Word number 111: nor\n",
            "Word number 112: not\n",
            "Word number 113: only\n",
            "Word number 114: own\n",
            "Word number 115: same\n",
            "Word number 116: so\n",
            "Word number 117: than\n",
            "Word number 118: too\n",
            "Word number 119: very\n",
            "Word number 120: s\n",
            "Word number 121: t\n",
            "Word number 122: can\n",
            "Word number 123: will\n",
            "Word number 124: just\n",
            "Word number 125: don\n",
            "Word number 126: should\n",
            "Word number 127: now\n"
          ]
        }
      ],
      "source": [
        "# Допустим, нам нужно посчитать количество стоп-слов в списке\n",
        "\n",
        "stopwords = open('stopwords.txt', 'r') # открываем файл\n",
        "\n",
        "count = 0 # создаем счетчик\n",
        "\n",
        "while True: # цикл While\n",
        "\n",
        "    count += 1 # считаем порядковый номер слова\n",
        "\n",
        "    line = stopwords.readline() # выводим одну строку с readline (а не readlines - она выведет все)\n",
        "\n",
        "    if not line: # цикл заканчивается там, где заканчиваются строки\n",
        "        break\n",
        "\n",
        "    print(f\"Word number {count}: {line.strip()}\") # выводим номер слова и само слово\n",
        "\n",
        "stopwords.close() # закрываем файл"
      ]
    },
    {
      "cell_type": "markdown",
      "metadata": {
        "id": "FprFuFkIJmP8"
      },
      "source": [
        "**Рефлексия**: для каких задач подойдет такой формат обработки?\n",
        "\n",
        "**Подсказка**: недавно я выгружала википедию для создания нового датасета..\n",
        "\n",
        "Напишите ответ здесь: возможно, как вы и писали выше, при работе с большими данными, когда нам не требуется обрабатывать непосредственно каждый айтем, а достаточно вывести структуру датасета и ее проанализировать\n",
        "\n"
      ]
    },
    {
      "cell_type": "code",
      "execution_count": 42,
      "metadata": {
        "colab": {
          "base_uri": "https://localhost:8080/"
        },
        "id": "_rGJ018q-_7O",
        "outputId": "fb53c65a-096c-4407-90aa-6824752841b4"
      },
      "outputs": [
        {
          "data": {
            "text/plain": [
              "['i',\n",
              " 'me',\n",
              " 'my',\n",
              " 'myself',\n",
              " 'we',\n",
              " 'our',\n",
              " 'ours',\n",
              " 'ourselves',\n",
              " 'you',\n",
              " 'your',\n",
              " 'yours',\n",
              " 'yourself',\n",
              " 'yourselves',\n",
              " 'he',\n",
              " 'him',\n",
              " 'his',\n",
              " 'himself',\n",
              " 'she',\n",
              " 'her',\n",
              " 'hers',\n",
              " 'herself',\n",
              " 'it',\n",
              " 'its',\n",
              " 'itself',\n",
              " 'they',\n",
              " 'them',\n",
              " 'their',\n",
              " 'theirs',\n",
              " 'themselves',\n",
              " 'what',\n",
              " 'which',\n",
              " 'who',\n",
              " 'whom',\n",
              " 'this',\n",
              " 'that',\n",
              " 'these',\n",
              " 'those',\n",
              " 'am',\n",
              " 'is',\n",
              " 'are',\n",
              " 'was',\n",
              " 'were',\n",
              " 'be',\n",
              " 'been',\n",
              " 'being',\n",
              " 'have',\n",
              " 'has',\n",
              " 'had',\n",
              " 'having',\n",
              " 'do',\n",
              " 'does',\n",
              " 'did',\n",
              " 'doing',\n",
              " 'a',\n",
              " 'an',\n",
              " 'the',\n",
              " 'and',\n",
              " 'but',\n",
              " 'if',\n",
              " 'or',\n",
              " 'because',\n",
              " 'as',\n",
              " 'until',\n",
              " 'while',\n",
              " 'of',\n",
              " 'at',\n",
              " 'by',\n",
              " 'for',\n",
              " 'with',\n",
              " 'about',\n",
              " 'against',\n",
              " 'between',\n",
              " 'into',\n",
              " 'through',\n",
              " 'during',\n",
              " 'before',\n",
              " 'after',\n",
              " 'above',\n",
              " 'below',\n",
              " 'to',\n",
              " 'from',\n",
              " 'up',\n",
              " 'down',\n",
              " 'in',\n",
              " 'out',\n",
              " 'on',\n",
              " 'off',\n",
              " 'over',\n",
              " 'under',\n",
              " 'again',\n",
              " 'further',\n",
              " 'then',\n",
              " 'once',\n",
              " 'here',\n",
              " 'there',\n",
              " 'when',\n",
              " 'where',\n",
              " 'why',\n",
              " 'how',\n",
              " 'all',\n",
              " 'any',\n",
              " 'both',\n",
              " 'each',\n",
              " 'few',\n",
              " 'more',\n",
              " 'most',\n",
              " 'other',\n",
              " 'some',\n",
              " 'such',\n",
              " 'no',\n",
              " 'nor',\n",
              " 'not',\n",
              " 'only',\n",
              " 'own',\n",
              " 'same',\n",
              " 'so',\n",
              " 'than',\n",
              " 'too',\n",
              " 'very',\n",
              " 's',\n",
              " 't',\n",
              " 'can',\n",
              " 'will',\n",
              " 'just',\n",
              " 'don',\n",
              " 'should',\n",
              " 'now']"
            ]
          },
          "execution_count": 42,
          "metadata": {},
          "output_type": "execute_result"
        }
      ],
      "source": [
        "# Стоп-слова обычно нужны нам целиком, поэтому на практике мы предпочитаем with\n",
        "\n",
        "with open('stopwords.txt', 'r') as f:\n",
        "  stopwords = list(map(lambda x: x.strip(), [item for item in f.readlines()])) # можно обойтись списочным выражением, просто выучил map и захотел блеснуть\n",
        "\n",
        "stopwords\n",
        "\n",
        "# Измените этот код, чтобы ушли лишние \\n"
      ]
    },
    {
      "cell_type": "code",
      "execution_count": 43,
      "metadata": {
        "colab": {
          "base_uri": "https://localhost:8080/"
        },
        "id": "FTmX2FsQsa1t",
        "outputId": "0077dcb3-2147-4598-d040-d2e37d3150fc"
      },
      "outputs": [
        {
          "name": "stdout",
          "output_type": "stream",
          "text": [
            "--2024-12-15 23:42:50--  https://raw.githubusercontent.com/vifirsanova/hse-python-course/main/extracurricular/corpus.json\n",
            "Распознаётся raw.githubusercontent.com (raw.githubusercontent.com)… 185.199.108.133, 185.199.109.133, 185.199.110.133, ...\n",
            "Подключение к raw.githubusercontent.com (raw.githubusercontent.com)|185.199.108.133|:443... соединение установлено.\n",
            "HTTP-запрос отправлен. Ожидание ответа… 200 OK\n",
            "Длина: 263190 (257K) [text/plain]\n",
            "Сохранение в: «corpus.json»\n",
            "\n",
            "corpus.json         100%[===================>] 257,02K  --.-KB/s    за 0,1s    \n",
            "\n",
            "2024-12-15 23:42:50 (1,95 MB/s) - «corpus.json» сохранён [263190/263190]\n",
            "\n"
          ]
        }
      ],
      "source": [
        "!wget https://raw.githubusercontent.com/vifirsanova/hse-python-course/main/extracurricular/corpus.json"
      ]
    },
    {
      "cell_type": "markdown",
      "metadata": {
        "id": "mSRWF7DSvPgG"
      },
      "source": [
        "## CSV"
      ]
    },
    {
      "cell_type": "markdown",
      "metadata": {
        "id": "DcioCEdILw6e"
      },
      "source": [
        "При работе с табличными данными мы предпочитаем использовать библиотеку `pandas`\n",
        "\n",
        "Начало работы: импорт модуля `import pandas as pd`\n",
        "\n",
        "Почему pd? По договоренности!\n",
        "\n",
        "Это не влияет на работу модуля, но принято загружать библиотеку именно так, но именно с таким сокращением pd вы встретитесь в любой части официальной документации Pandas."
      ]
    },
    {
      "cell_type": "code",
      "execution_count": 44,
      "metadata": {
        "id": "zjz48As1MFHf"
      },
      "outputs": [],
      "source": [
        "import pandas as pd"
      ]
    },
    {
      "cell_type": "markdown",
      "metadata": {
        "id": "P3CK3i7BMjfi"
      },
      "source": [
        "Табличные данные удобно хранить в формате `csv` (comma-separated values)\n",
        "\n",
        "Для чтения таких файлов есть функция `read_csv`\n",
        "\n",
        "Знаете ли вы преимущества `csv` перед другими форматами?\n",
        "Напишите здесь: удобно читать, обрабатывать, сами файлы легкие, потому что в них только делимитер и собственно текст, а еще вроде бы хорошо совместим с многими программами и языками программирования"
      ]
    },
    {
      "cell_type": "code",
      "execution_count": 45,
      "metadata": {
        "colab": {
          "base_uri": "https://localhost:8080/"
        },
        "id": "dLr9IjEvMFge",
        "outputId": "b7dcaa68-670b-4d7e-8269-354b93a81cd6"
      },
      "outputs": [
        {
          "name": "stdout",
          "output_type": "stream",
          "text": [
            "--2024-12-15 23:45:55--  https://raw.githubusercontent.com/datasciencedojo/datasets/master/titanic.csv\n",
            "Распознаётся raw.githubusercontent.com (raw.githubusercontent.com)… 185.199.108.133, 185.199.109.133, 185.199.110.133, ...\n",
            "Подключение к raw.githubusercontent.com (raw.githubusercontent.com)|185.199.108.133|:443... соединение установлено.\n",
            "HTTP-запрос отправлен. Ожидание ответа… 200 OK\n",
            "Длина: 60302 (59K) [text/plain]\n",
            "Сохранение в: «titanic.csv»\n",
            "\n",
            "titanic.csv         100%[===================>]  58,89K  --.-KB/s    за 0,05s   \n",
            "\n",
            "2024-12-15 23:45:55 (1,10 MB/s) - «titanic.csv» сохранён [60302/60302]\n",
            "\n"
          ]
        }
      ],
      "source": [
        "# Загрузим датасет про Титаник\n",
        "\n",
        "!wget https://raw.githubusercontent.com/datasciencedojo/datasets/master/titanic.csv"
      ]
    },
    {
      "cell_type": "code",
      "execution_count": 46,
      "metadata": {
        "colab": {
          "base_uri": "https://localhost:8080/",
          "height": 143
        },
        "id": "vInNarNUM1_Y",
        "outputId": "83869574-e9c7-4545-f453-db57f5662be8"
      },
      "outputs": [
        {
          "data": {
            "text/html": [
              "<div>\n",
              "<style scoped>\n",
              "    .dataframe tbody tr th:only-of-type {\n",
              "        vertical-align: middle;\n",
              "    }\n",
              "\n",
              "    .dataframe tbody tr th {\n",
              "        vertical-align: top;\n",
              "    }\n",
              "\n",
              "    .dataframe thead th {\n",
              "        text-align: right;\n",
              "    }\n",
              "</style>\n",
              "<table border=\"1\" class=\"dataframe\">\n",
              "  <thead>\n",
              "    <tr style=\"text-align: right;\">\n",
              "      <th></th>\n",
              "      <th>PassengerId</th>\n",
              "      <th>Survived</th>\n",
              "      <th>Pclass</th>\n",
              "      <th>Name</th>\n",
              "      <th>Sex</th>\n",
              "      <th>Age</th>\n",
              "      <th>SibSp</th>\n",
              "      <th>Parch</th>\n",
              "      <th>Ticket</th>\n",
              "      <th>Fare</th>\n",
              "      <th>Cabin</th>\n",
              "      <th>Embarked</th>\n",
              "    </tr>\n",
              "  </thead>\n",
              "  <tbody>\n",
              "    <tr>\n",
              "      <th>0</th>\n",
              "      <td>1</td>\n",
              "      <td>0</td>\n",
              "      <td>3</td>\n",
              "      <td>Braund, Mr. Owen Harris</td>\n",
              "      <td>male</td>\n",
              "      <td>22.0</td>\n",
              "      <td>1</td>\n",
              "      <td>0</td>\n",
              "      <td>A/5 21171</td>\n",
              "      <td>7.2500</td>\n",
              "      <td>NaN</td>\n",
              "      <td>S</td>\n",
              "    </tr>\n",
              "    <tr>\n",
              "      <th>1</th>\n",
              "      <td>2</td>\n",
              "      <td>1</td>\n",
              "      <td>1</td>\n",
              "      <td>Cumings, Mrs. John Bradley (Florence Briggs Th...</td>\n",
              "      <td>female</td>\n",
              "      <td>38.0</td>\n",
              "      <td>1</td>\n",
              "      <td>0</td>\n",
              "      <td>PC 17599</td>\n",
              "      <td>71.2833</td>\n",
              "      <td>C85</td>\n",
              "      <td>C</td>\n",
              "    </tr>\n",
              "    <tr>\n",
              "      <th>2</th>\n",
              "      <td>3</td>\n",
              "      <td>1</td>\n",
              "      <td>3</td>\n",
              "      <td>Heikkinen, Miss. Laina</td>\n",
              "      <td>female</td>\n",
              "      <td>26.0</td>\n",
              "      <td>0</td>\n",
              "      <td>0</td>\n",
              "      <td>STON/O2. 3101282</td>\n",
              "      <td>7.9250</td>\n",
              "      <td>NaN</td>\n",
              "      <td>S</td>\n",
              "    </tr>\n",
              "  </tbody>\n",
              "</table>\n",
              "</div>"
            ],
            "text/plain": [
              "   PassengerId  Survived  Pclass  \\\n",
              "0            1         0       3   \n",
              "1            2         1       1   \n",
              "2            3         1       3   \n",
              "\n",
              "                                                Name     Sex   Age  SibSp  \\\n",
              "0                            Braund, Mr. Owen Harris    male  22.0      1   \n",
              "1  Cumings, Mrs. John Bradley (Florence Briggs Th...  female  38.0      1   \n",
              "2                             Heikkinen, Miss. Laina  female  26.0      0   \n",
              "\n",
              "   Parch            Ticket     Fare Cabin Embarked  \n",
              "0      0         A/5 21171   7.2500   NaN        S  \n",
              "1      0          PC 17599  71.2833   C85        C  \n",
              "2      0  STON/O2. 3101282   7.9250   NaN        S  "
            ]
          },
          "execution_count": 46,
          "metadata": {},
          "output_type": "execute_result"
        }
      ],
      "source": [
        "# Читаем датасет\n",
        "titanic = pd.read_csv(\"titanic.csv\")\n",
        "\n",
        "# Выводим первые 3 строки\n",
        "titanic.head(3)"
      ]
    },
    {
      "cell_type": "code",
      "execution_count": 50,
      "metadata": {
        "id": "bdXT-roVM-TR"
      },
      "outputs": [
        {
          "data": {
            "text/html": [
              "<div>\n",
              "<style scoped>\n",
              "    .dataframe tbody tr th:only-of-type {\n",
              "        vertical-align: middle;\n",
              "    }\n",
              "\n",
              "    .dataframe tbody tr th {\n",
              "        vertical-align: top;\n",
              "    }\n",
              "\n",
              "    .dataframe thead th {\n",
              "        text-align: right;\n",
              "    }\n",
              "</style>\n",
              "<table border=\"1\" class=\"dataframe\">\n",
              "  <thead>\n",
              "    <tr style=\"text-align: right;\">\n",
              "      <th></th>\n",
              "      <th>original text</th>\n",
              "      <th>lemmas</th>\n",
              "      <th>parts of speech</th>\n",
              "    </tr>\n",
              "  </thead>\n",
              "  <tbody>\n",
              "    <tr>\n",
              "      <th>0</th>\n",
              "      <td>alices</td>\n",
              "      <td>alice</td>\n",
              "      <td>NOUN</td>\n",
              "    </tr>\n",
              "    <tr>\n",
              "      <th>1</th>\n",
              "      <td>adventures</td>\n",
              "      <td>adventure</td>\n",
              "      <td>VERB</td>\n",
              "    </tr>\n",
              "    <tr>\n",
              "      <th>2</th>\n",
              "      <td>wonderland</td>\n",
              "      <td>wonderland</td>\n",
              "      <td>NOUN</td>\n",
              "    </tr>\n",
              "  </tbody>\n",
              "</table>\n",
              "</div>"
            ],
            "text/plain": [
              "  original text      lemmas parts of speech\n",
              "0        alices       alice            NOUN\n",
              "1    adventures   adventure            VERB\n",
              "2    wonderland  wonderland            NOUN"
            ]
          },
          "execution_count": 50,
          "metadata": {},
          "output_type": "execute_result"
        }
      ],
      "source": [
        "# Загрузите любой csv и откройте его с помощью pd.read_csv\n",
        "# Далее мы разберем работу с pandas более подробно\n",
        "# Ознакомьтесь с возможностями, которые предоставляет вам Colab с Pandas:\n",
        "# рекомендованные графики и разные форматы отображения таблиц;\n",
        "# создайте визуал для своих данных по шаблону, сгенерированному Colab\n",
        "\n",
        "### ваш код здесь ###\n",
        "alice_dataframe = pd.read_csv('alice_dataframe.csv')\n",
        "alice_dataframe.head(3)"
      ]
    },
    {
      "cell_type": "markdown",
      "metadata": {
        "id": "A_eq0cFkuv97"
      },
      "source": [
        "## JSON"
      ]
    },
    {
      "cell_type": "code",
      "execution_count": 52,
      "metadata": {
        "colab": {
          "base_uri": "https://localhost:8080/"
        },
        "id": "PcdZllG5Nsek",
        "outputId": "9291d82c-2f34-457c-8ae1-aa7e05a8f1a8"
      },
      "outputs": [
        {
          "name": "stdout",
          "output_type": "stream",
          "text": [
            "--2024-12-15 23:59:14--  https://raw.githubusercontent.com/vifirsanova/hse-python-course/main/extracurricular/corpus.json\n",
            "Распознаётся raw.githubusercontent.com (raw.githubusercontent.com)… 185.199.108.133, 185.199.109.133, 185.199.110.133, ...\n",
            "Подключение к raw.githubusercontent.com (raw.githubusercontent.com)|185.199.108.133|:443... соединение установлено.\n",
            "HTTP-запрос отправлен. Ожидание ответа… 200 OK\n",
            "Длина: 263190 (257K) [text/plain]\n",
            "Сохранение в: «corpus.json.1»\n",
            "\n",
            "corpus.json.1       100%[===================>] 257,02K  --.-KB/s    за 0,1s    \n",
            "\n",
            "2024-12-15 23:59:14 (1,71 MB/s) - «corpus.json.1» сохранён [263190/263190]\n",
            "\n"
          ]
        }
      ],
      "source": [
        "# Загрузим новостной корпус в json\n",
        "\n",
        "!wget https://raw.githubusercontent.com/vifirsanova/hse-python-course/main/extracurricular/corpus.json"
      ]
    },
    {
      "cell_type": "code",
      "execution_count": 53,
      "metadata": {
        "id": "7NNCVKTmOT3Z"
      },
      "outputs": [],
      "source": [
        "# Для работы с json нужна одноименная библиотека\n",
        "\n",
        "import json\n",
        "\n",
        "with open(\"corpus.json\", \"r\", encoding=\"utf8\") as f:\n",
        "   data = json.load(f)"
      ]
    },
    {
      "cell_type": "code",
      "execution_count": 61,
      "metadata": {
        "colab": {
          "base_uri": "https://localhost:8080/"
        },
        "id": "WnBGh3FDXWRU",
        "outputId": "872c18c7-3706-4485-9be6-1acfeacda69a"
      },
      "outputs": [
        {
          "name": "stdout",
          "output_type": "stream",
          "text": [
            "{'body': 'Южный окружной военный суд приговорил к пожизненному лишению свободы '\n",
            "         'главаря крупнейшей в России организованной преступной группировки '\n",
            "         '(ОПГ) Аслана Гагиева по прозвищу Джако, которого называют главным '\n",
            "         'киллером страны. Он создал настоящую секту безжалостных '\n",
            "         'ликвидаторов, на совести которых жизни 60 человек. Среди подручных '\n",
            "         'Джако были действующие сотрудники полиции и прокуратуры, а их '\n",
            "         'арсеналу могли позавидовать иные спецподразделения: более 140 '\n",
            "         'пистолетов, автоматов, винтовок и пулеметов, в том числе '\n",
            "         'иностранного производства. На своем ремесле Гагиев зарабатывал '\n",
            "         'миллионы евро, а тем, кто решал выйти из дела, хладнокровно выносил '\n",
            "         'последний приговор. Между тем Джако — далеко не единственный, у кого '\n",
            "         'заказные уничтожения целей стали делом жизни. После развала СССР на '\n",
            "         'территории страны действовало сразу несколько легендарных '\n",
            "         'ликвидаторов, преступления которых навсегда вошли в криминальную '\n",
            "         'историю России. Подробности о них — в материале «Ленты.ру». Саша '\n",
            "         'Солдат — охотник на бандитов Александр Пустовалов, родившийся 25 '\n",
            "         'сентября 1973 года, в юности занимался дзюдо, а срочную службу '\n",
            "         'проходил в морской пехоте. Позже он хотел стать бойцом спецназа, но '\n",
            "         'его не взяли — помешало отсутствие высшего образования. Зато '\n",
            "         'Пустовалова с радостью приняли к себе лидеры Ореховского '\n",
            "         'организованного преступного сообщества (ОПС). Их впечатлило, как '\n",
            "         'Александр проявил себя во время драки, которая произошла в баре. '\n",
            "         'Один из лидеров ОПС, Сергей Буторин (Ося), вскоре назначил '\n",
            "         'Пустовалова своим телохранителем и стал давать ему особые поручения '\n",
            "         '— по ликвидации неугодных людей. Первым стал вор в законе Александр '\n",
            "         'Биджамо (Алик Зверь), которого Пустовалов устранил в августе 1995 '\n",
            "         'года. Через год ликвидатор, получивший кличку Саша Солдат, отправил '\n",
            "         'на тот свет лидеров Кунцевской ОПГ Александра Калигина и Игоря '\n",
            "         'Панина, а еще спустя полтора года — криминального авторитета и '\n",
            "         'лидера ОПГ Артура Кюльбякова. Именно ликвидация бандитов (в основном '\n",
            "         'наркоманов) стала главным направлением преступной деятельности '\n",
            "         'Пустовалова. А самой известной целью Саши Солдата стал еще один '\n",
            "         'знаменитый киллер 1990-х, Александр Солоник (Саша Македонский), '\n",
            "         'которого он ликвидировал в феврале 1998 года. Александра Пустовалова '\n",
            "         'задержали в ноябре 1999 года — на тот момент на его совести были 13 '\n",
            "         'жизней. «Я солдат — это моя работа», — так он говорил о своих '\n",
            "         'преступлениях на допросах. Суд приговорил его к 24 годам лишения '\n",
            "         'свободы. Саша Македонский — огонь с двух рук Прежде чем стать '\n",
            "         'киллером, уроженец Кургана Александр Солоник успел послужить в '\n",
            "         'патрульно-постовой службе милиции, а также поработать в сфере '\n",
            "         'ритуальных услуг. Именно там он познакомился с будущими лидерами '\n",
            "         'Курганской ОПГ, на которых позже стал работать. Первой устраненной '\n",
            "         'целью Солоника в качестве киллера Курганской ОПГ в 1990 году стал '\n",
            "         'лидер Ишимской группировки Николай Причинич. А два года спустя в '\n",
            "         'Москве его судьбу повторил влиятельный вор в законе Виктор Никифоров '\n",
            "         '(Калина). Кроме того, Солоник лишил жизни лидеров Бауманской ОПГ '\n",
            "         'Валерия Длугача (Глобус) и Владислава Ваннера (Бобон). К услугам '\n",
            "         'ликвидатора нередко прибегал лидер Ореховского ОПС Сергей Буторин, а '\n",
            "         'за свое умение стрелять по-македонски (одновременно с двух рук) '\n",
            "         'Александр Солоник получил кличку Саша Македонский. В октябре 1994 '\n",
            "         'года Солоника задержали на Тимирязевском рынке: он безуспешно '\n",
            "         'пытался сбежать, открыв огонь по троим милиционерам и охраннику. '\n",
            "         'Вместе со своей возлюбленной, финалисткой конкурса красоты «Мисс '\n",
            "         'Россия-96» Светланой Котовой Солоник перебрался в Грецию, но осенью '\n",
            "         '1996 года наведался в Москву и совершил свое последнее преступление '\n",
            "         '— устранил бизнесмена Андрея Лукашова. А в 1997 году лидеры '\n",
            "         'Ореховского ОПС решили убрать самого Солоника — при прослушке виллы '\n",
            "         'киллера Сергей Буторин услышал, что ликвидатор задумал «валить» '\n",
            "         'главарей группировки. Тогда в греческий поселок Лагониси отправилась '\n",
            "         'команда ликвидаторов во главе с Александром Пустоваловым, который '\n",
            "         'заманил в гости и задушил Солоника вместе с Котовой. Несмотря на то '\n",
            "         'что после обнаружения тела киллера его мать настаивала на '\n",
            "         'захоронении в Кургане, свой последний приют Солоник нашел в Афинах. '\n",
            "         'Леша Солдат — мастер маскировки В детстве москвич Алексей '\n",
            "         'Шерстобитов мечтал о карьере военного, но в 1990-х, чтобы прокормить '\n",
            "         'жену и ребенка, начал заниматься бизнесом, а затем стал '\n",
            "         'телохранителем. Свободное время Шерстобитов проводил в спортзале, '\n",
            "         'где познакомился с лидером Медведковской ОПГ Григорием Гусятинским '\n",
            "         '(Гриша Северный). Сначала Алексей был в группировке на подхвате, но '\n",
            "         'затем у него возникла большая проблема — пропала вверенная ему сумка '\n",
            "         'с оружием. Гриша Северный подсказал, как выйти из ситуации: для '\n",
            "         'этого нужно было устранить бывшего силовика Михаила Фомина. Тот был '\n",
            "         'врагом Сергея Тимофеева (Сильвестр), лидера Ореховского ОПС — одной '\n",
            "         'из самых грозных группировок времен лихих 1990-х и союзника '\n",
            "         'Медведковской ОПГ. В мае 1993 года Шерстобитов выстрелил по '\n",
            "         'автомобилю Фомина из гранатомета — но водитель чудом уцелел: '\n",
            "         'боеприпас, не сдетонировав, прошил машину навылет. К слову, взрывы '\n",
            "         'вообще не были сильной стороной Шерстобитова: попытка ликвидировать '\n",
            "         'известного вора в законе Андрея Исаева (Роспись) при помощи '\n",
            "         'закрепленного на его машине самодельного взрывного устройства (СВУ) '\n",
            "         'также обернулась провалом. Выполнив это задание, Шерстобитов стал '\n",
            "         'штатным киллером медведковских бандитов и получил прозвище Леша '\n",
            "         'Солдат. Он слыл мастером маскировки: отправляясь на очередное дело, '\n",
            "         'клеил усы и бороду, носил парики, мог переодеться почти на ходу, '\n",
            "         'старался не оставлять следов и все время направлял следствие по '\n",
            "         'ложному следу. К примеру, при ликвидации бизнесмена Отари '\n",
            "         'Квантришвили в 1994 году киллер разбросал на чердаке, откуда вел '\n",
            "         'огонь, заранее собранный мусор. Прием сработал: следователи не нашли '\n",
            "         'зацепки, и следствие по делу об устранении коммерсанта забуксовало '\n",
            "         'на долгие годы. В 2006 году Алексей Шерстобитов наконец попался '\n",
            "         'сотрудникам правоохранительных органов: его сдал лидер Курганской '\n",
            "         'ОПГ Андрей Колигов, бывший жених девушки по имени Ирина, которая '\n",
            "         'стала любовницей ликвидатора. Шерстобитова признали виновным в 12 '\n",
            "         'преступлениях с летальным исходом и приговорили к 23 годам лишения '\n",
            "         'свободы. Чипит и Болтон — дуэт ликвидаторов В 1995 году к '\n",
            "         'Ореховскому организованному преступному сообществу примкнули два '\n",
            "         'ликвидатора: Игорь Сосновский (Чипит) и Сергей Фролов (Болтон). '\n",
            "         'Чипит был медиком по образованию и прошел афганскую войну, а Болтон '\n",
            "         'служил в спецназе. Оба были из Кемерово. Первым заданием дуэта '\n",
            "         'киллеров стала ликвидация бандита Владимира Пригоды, который утратил '\n",
            "         'доверие лидеров Ореховского ОПС из-за употребления наркотиков. '\n",
            "         'Чувствуя опасность, Пригода стал скрываться, но это его не спасло: '\n",
            "         'он пал от пуль Чипита в июне 1996 года. Затем киллеры открыли охоту '\n",
            "         'на лидера одинцовских наркоторговцев по фамилии Мингазов, который и '\n",
            "         'снабжал Пригоду запрещенными веществами. В июле того же 1996 года, '\n",
            "         'когда Мингазов вместе с охранником находились в '\n",
            "         'культурно-развлекательном центре «Мечта» (Одинцово), Чипит и Болтон '\n",
            "         'ликвидировали их выстрелами из пистолетов ТТ. Но главной целью дуэта '\n",
            "         'ликвидаторов стал совладелец торгового комплекса «Одинцовское '\n",
            "         'подворье» Сергей Журба, который в 2009 году отказался платить '\n",
            "         'лидерам Ореховского ОПС ежемесячную дань в 40-50 тысяч евро. '\n",
            "         'Покушение стало летальным для охранника коммерсанта, но он сам '\n",
            "         'выжил. В сентябре 2014 года ликвидаторы сумели добраться до адвоката '\n",
            "         'Журбы Татьяны Акимцевой и ее водителя Сергея Рыканова — их жизни '\n",
            "         'оборвали пули Чипита. Но сам Журба пережил объявленную киллерами '\n",
            "         'охоту. Всего на совести Чипита и Болтона оказались 15 жизней. '\n",
            "         'Правоохранительные органы искали ликвидаторов долгие 17 лет, '\n",
            "         'последние из которых они скрывались в Твери по поддельным '\n",
            "         'документам. После задержания Чипит, который активно сотрудничал со '\n",
            "         'следствием, получил одиннадцать с половиной лет лишения свободы, а '\n",
            "         'Болтона приговорили к пожизненному сроку. Джако — главный киллер '\n",
            "         'России Уроженец Южной Осетии Аслан Гагиев по прозвищу Джако, '\n",
            "         'которого СМИ называют главным киллером России, создал свою '\n",
            "         'группировку ликвидаторов в 2004 году. С 2004 по 2013 год в нее '\n",
            "         'входили 52 человека, в том числе девять сотрудников '\n",
            "         'правоохранительных органов — как действующих, так и бывших. К '\n",
            "         'примеру, первый помощник Джако — его однофамилец и давний соратник '\n",
            "         'Олег Гагиев (Ботэ или Малыш) — был южноосетинским контрразведчиком. '\n",
            "         'ОПГ киллеров, которые называли друг друга «братьями», принимала '\n",
            "         'заказы на устранение политиков, коммерсантов и силовиков — большая '\n",
            "         'часть преступлений была совершена в Северной Осетии. Так, в январе '\n",
            "         '2008 года ликвидаторы Джако совершили покушение на бывшего '\n",
            "         'начальника администрации главы Северной Осетии Сергея Такоева, но '\n",
            "         'тот выжил. Затем, в марте 2008 года, подручные Джако устроили засаду '\n",
            "         'для главы отдела по борьбе с оргпреступностью (ОБОП) МВД Северной '\n",
            "         'Осетии Марка Мецаева, когда он ехал на машине. Дорогу Мецаеву '\n",
            "         'перегородил автомобиль ликвидаторов, которые открыли огонь по '\n",
            "         'милиционеру. Тот попытался прорваться и протаранил бандитскую '\n",
            "         'машину, но получил ранения, несовместимые с жизнью. Также от рук '\n",
            "         'киллеров Джако пал глава отдела уголовного розыска республиканского '\n",
            "         'МВД Виталий Чельдиев вместе со своим 20-летним сыном Зауром. '\n",
            "         'Впрочем, порой ликвидаторы использовали куда более жестокие методы — '\n",
            "         'к примеру, отсечение головы или заливку живого человека в бетон. '\n",
            "         'Всего участники группировки главного киллера России успели отправить '\n",
            "         'на тот свет, по разным данным, 60-80 человек. На сегодняшний день из '\n",
            "         '52 участников банды 38 уже осуждены, включая самого Джако. Семь '\n",
            "         '«братьев» были ликвидированы своими же. Еще семеро остаются в '\n",
            "         'розыске Интерпола — они покинули пределы России летом 2013 года.',\n",
            " 'description': 'Южный окружной военный суд приговорил к пожизненному лишению '\n",
            "                'свободы главаря крупнейшей в России ОПГ Аслана Гагиева по '\n",
            "                'кличке Джако, которого называют главным киллером страны. '\n",
            "                'Подробности о нем и других легендарных ликвидаторах, '\n",
            "                'преступления которых навсегда вошли в криминальную историю '\n",
            "                'России — в материале «Ленты.ру».',\n",
            " 'headline': 'Побег из «Матросской Тишины», театральный грим и стрельба с двух '\n",
            "             'рук: чем прославились самые известные киллеры России?'}\n"
          ]
        }
      ],
      "source": [
        "# pprint позволяет выводить такие вложенные структуры, как json, красиво\n",
        "\n",
        "from pprint import pprint\n",
        "\n",
        "pprint(data[2][0])"
      ]
    },
    {
      "cell_type": "code",
      "execution_count": 66,
      "metadata": {
        "id": "vTbedC-fOk1E"
      },
      "outputs": [
        {
          "name": "stdout",
          "output_type": "stream",
          "text": [
            "Жителям российского города объяснили напугавший их звук взрыва\n",
            "В Китае назвали способ урегулировать конфликт на Украине\n",
            "В США рассказали о показанной Шойгу в Иране «странной» ракете\n",
            "Захарова высмеяла встречу Байдена с Зеленским\n",
            "Байден подтвердил скорое прибытие танков Abrams на Украину\n",
            "Суд на Украине отказался арестовать активы олигарха Коломойского\n",
            "Популярная модель попала на обложку журнала Harper's Bazaar топлес\n",
            "Байден утвердил новый пакет военной помощи Украине\n",
            "МИД Армении призвал ООН направить миссию в Карабах\n",
            "Вучич отметил развитие отношений с США и Россией\n",
            "30\n"
          ]
        }
      ],
      "source": [
        "# Работа с json аналогична работе со словарями в Python\n",
        "# Попробуйте самостоятельно изучить структуру этого файла:\n",
        "# выведите несколько заголовков из headline;\n",
        "# выведите количество элементов в data[0]\n",
        "\n",
        "### ваш код здесь ###\n",
        "for news in data[0][:10]:\n",
        "    print(news['headline'])\n",
        "print(len(data[0]))"
      ]
    },
    {
      "cell_type": "markdown",
      "metadata": {
        "id": "ogWIJwXHYpkB"
      },
      "source": [
        "Скачайте еще один датасет\n",
        "https://www.kaggle.com/datasets/finalepoch/medical-ner\n",
        "\n",
        "Загрузите его в файловую систему Colab и запустите ячейки ниже, чтобы визуально изучить структуру датасета"
      ]
    },
    {
      "cell_type": "code",
      "execution_count": 67,
      "metadata": {
        "id": "uw50Bre_YvDC"
      },
      "outputs": [],
      "source": [
        "with open(\"Corona2.json\", \"r\", encoding=\"utf8\") as f:\n",
        "   data = json.load(f)"
      ]
    },
    {
      "cell_type": "code",
      "execution_count": 69,
      "metadata": {
        "colab": {
          "base_uri": "https://localhost:8080/"
        },
        "id": "Z34UpONZaEFR",
        "outputId": "6533fb35-ee31-45d4-b9b7-d0ba4aa62b9d"
      },
      "outputs": [
        {
          "name": "stdout",
          "output_type": "stream",
          "text": [
            "{'annotations': [{'correct': None,\n",
            "                  'end': 340,\n",
            "                  'example_id': '1cff1759-36dd-4152-8c66-45ea305dfc22',\n",
            "                  'human_annotations': [{'annotator_id': 1,\n",
            "                                         'name': 'Ashpat123',\n",
            "                                         'reason': 'exploration',\n",
            "                                         'tagged_token_id': '0cb179aa-0296-4b37-8154-0e5f9edb2ae9',\n",
            "                                         'timestamp': '2020-03-18T07:08:49.030000Z'}],\n",
            "                  'id': '0cb179aa-0296-4b37-8154-0e5f9edb2ae9',\n",
            "                  'model_annotations': [],\n",
            "                  'start': 327,\n",
            "                  'tag_id': '03eb3e50-d4d8-4261-a60b-fa5aee5deb4a',\n",
            "                  'tag_name': 'Pathogen',\n",
            "                  'value': 'Streptococcus'},\n",
            "                 {'correct': None,\n",
            "                  'end': 521,\n",
            "                  'example_id': '1cff1759-36dd-4152-8c66-45ea305dfc22',\n",
            "                  'human_annotations': [{'annotator_id': 1,\n",
            "                                         'name': 'Ashpat123',\n",
            "                                         'reason': 'exploration',\n",
            "                                         'tagged_token_id': '1202fbdd-e853-4f79-a117-0ed1676204ad',\n",
            "                                         'timestamp': '2020-03-18T10:19:17.447000Z'}],\n",
            "                  'id': '1202fbdd-e853-4f79-a117-0ed1676204ad',\n",
            "                  'model_annotations': [],\n",
            "                  'start': 514,\n",
            "                  'tag_id': '03eb3e50-d4d8-4261-a60b-fa5aee5deb4a',\n",
            "                  'tag_name': 'MedicalCondition',\n",
            "                  'value': 'tetanus'},\n",
            "                 {'correct': None,\n",
            "                  'end': 522,\n",
            "                  'example_id': '1cff1759-36dd-4152-8c66-45ea305dfc22',\n",
            "                  'human_annotations': [],\n",
            "                  'id': '23713764-7042-433e-8624-544fb63e617a',\n",
            "                  'model_annotations': [],\n",
            "                  'start': 513,\n",
            "                  'tag_id': '03eb3e50-d4d8-4261-a60b-fa5aee5deb4a',\n",
            "                  'tag_name': 'MedicalCondition',\n",
            "                  'value': ' tetanus,'},\n",
            "                 {'correct': None,\n",
            "                  'end': 447,\n",
            "                  'example_id': '1cff1759-36dd-4152-8c66-45ea305dfc22',\n",
            "                  'human_annotations': [],\n",
            "                  'id': '2ef243d7-5959-4a93-89f9-6ecf1f24f31b',\n",
            "                  'model_annotations': [],\n",
            "                  'start': 433,\n",
            "                  'tag_id': '03eb3e50-d4d8-4261-a60b-fa5aee5deb4a',\n",
            "                  'tag_name': 'Pathogen',\n",
            "                  'value': 'Campylobacter,'},\n",
            "                 {'correct': None,\n",
            "                  'end': 462,\n",
            "                  'example_id': '1cff1759-36dd-4152-8c66-45ea305dfc22',\n",
            "                  'human_annotations': [{'annotator_id': 1,\n",
            "                                         'name': 'Ashpat123',\n",
            "                                         'reason': 'exploration',\n",
            "                                         'tagged_token_id': '3d4af5b4-6d79-4e11-a4ee-4c7a488448dc',\n",
            "                                         'timestamp': '2020-03-18T07:09:27.057000Z'}],\n",
            "                  'id': '3d4af5b4-6d79-4e11-a4ee-4c7a488448dc',\n",
            "                  'model_annotations': [],\n",
            "                  'start': 452,\n",
            "                  'tag_id': '2340864c-0876-4ad1-8a34-600324a516d1',\n",
            "                  'tag_name': 'Pathogen',\n",
            "                  'value': 'Salmonella'},\n",
            "                 {'correct': None,\n",
            "                  'end': 285,\n",
            "                  'example_id': '1cff1759-36dd-4152-8c66-45ea305dfc22',\n",
            "                  'human_annotations': [{'annotator_id': 1,\n",
            "                                         'name': 'Ashpat123',\n",
            "                                         'reason': 'exploration',\n",
            "                                         'tagged_token_id': '4a521b35-cf85-4c48-a488-148a92ff826f',\n",
            "                                         'timestamp': '2020-03-18T10:19:57.225000Z'}],\n",
            "                  'id': '4a521b35-cf85-4c48-a488-148a92ff826f',\n",
            "                  'model_annotations': [],\n",
            "                  'start': 276,\n",
            "                  'tag_id': '03eb3e50-d4d8-4261-a60b-fa5aee5deb4a',\n",
            "                  'tag_name': 'MedicalCondition',\n",
            "                  'value': 'pneumonia'},\n",
            "                 {'correct': None,\n",
            "                  'end': 536,\n",
            "                  'example_id': '1cff1759-36dd-4152-8c66-45ea305dfc22',\n",
            "                  'human_annotations': [{'annotator_id': 1,\n",
            "                                         'name': 'Ashpat123',\n",
            "                                         'reason': 'exploration',\n",
            "                                         'tagged_token_id': '4b21399f-3b93-44cc-ad9c-3bc16227a9c9',\n",
            "                                         'timestamp': '2020-03-18T10:19:32.396000Z'}],\n",
            "                  'id': '4b21399f-3b93-44cc-ad9c-3bc16227a9c9',\n",
            "                  'model_annotations': [],\n",
            "                  'start': 523,\n",
            "                  'tag_id': '03eb3e50-d4d8-4261-a60b-fa5aee5deb4a',\n",
            "                  'tag_name': 'MedicalCondition',\n",
            "                  'value': 'typhoid fever'},\n",
            "                 {'correct': None,\n",
            "                  'end': 571,\n",
            "                  'example_id': '1cff1759-36dd-4152-8c66-45ea305dfc22',\n",
            "                  'human_annotations': [{'annotator_id': 1,\n",
            "                                         'name': 'Ashpat123',\n",
            "                                         'reason': 'exploration',\n",
            "                                         'tagged_token_id': '7cb76e98-3c5e-46eb-b359-c237a287de81',\n",
            "                                         'timestamp': '2020-03-18T10:19:47.887000Z'}],\n",
            "                  'id': '7cb76e98-3c5e-46eb-b359-c237a287de81',\n",
            "                  'model_annotations': [],\n",
            "                  'start': 564,\n",
            "                  'tag_id': '03eb3e50-d4d8-4261-a60b-fa5aee5deb4a',\n",
            "                  'tag_name': 'MedicalCondition',\n",
            "                  'value': 'leprosy'},\n",
            "                 {'correct': None,\n",
            "                  'end': 446,\n",
            "                  'example_id': '1cff1759-36dd-4152-8c66-45ea305dfc22',\n",
            "                  'human_annotations': [{'annotator_id': 1,\n",
            "                                         'name': 'Ashpat123',\n",
            "                                         'reason': 'exploration',\n",
            "                                         'tagged_token_id': '856ecc98-cba4-4aee-a662-0e7e0b2d88bf',\n",
            "                                         'timestamp': '2020-03-18T07:09:41.771000Z'}],\n",
            "                  'id': '856ecc98-cba4-4aee-a662-0e7e0b2d88bf',\n",
            "                  'model_annotations': [],\n",
            "                  'start': 433,\n",
            "                  'tag_id': '2340864c-0876-4ad1-8a34-600324a516d1',\n",
            "                  'tag_name': 'Pathogen',\n",
            "                  'value': 'Campylobacter'},\n",
            "                 {'correct': None,\n",
            "                  'end': 548,\n",
            "                  'example_id': '1cff1759-36dd-4152-8c66-45ea305dfc22',\n",
            "                  'human_annotations': [{'annotator_id': 1,\n",
            "                                         'name': 'Ashpat123',\n",
            "                                         'reason': 'exploration',\n",
            "                                         'tagged_token_id': '905b5608-84a1-46ec-aab6-a4076f1e2508',\n",
            "                                         'timestamp': '2020-03-18T10:19:37.673000Z'}],\n",
            "                  'id': '905b5608-84a1-46ec-aab6-a4076f1e2508',\n",
            "                  'model_annotations': [],\n",
            "                  'start': 538,\n",
            "                  'tag_id': '03eb3e50-d4d8-4261-a60b-fa5aee5deb4a',\n",
            "                  'tag_name': 'MedicalCondition',\n",
            "                  'value': 'diphtheria'},\n",
            "                 {'correct': None,\n",
            "                  'end': 356,\n",
            "                  'example_id': '1cff1759-36dd-4152-8c66-45ea305dfc22',\n",
            "                  'human_annotations': [{'annotator_id': 1,\n",
            "                                         'name': 'Ashpat123',\n",
            "                                         'reason': 'exploration',\n",
            "                                         'tagged_token_id': '9309d95d-6f6d-4482-98ff-7bbb65feed05',\n",
            "                                         'timestamp': '2020-03-18T07:09:06.558000Z'}],\n",
            "                  'id': '9309d95d-6f6d-4482-98ff-7bbb65feed05',\n",
            "                  'model_annotations': [],\n",
            "                  'start': 345,\n",
            "                  'tag_id': '2340864c-0876-4ad1-8a34-600324a516d1',\n",
            "                  'tag_name': 'Pathogen',\n",
            "                  'value': 'Pseudomonas'},\n",
            "                 {'correct': None,\n",
            "                  'end': 77,\n",
            "                  'example_id': '1cff1759-36dd-4152-8c66-45ea305dfc22',\n",
            "                  'human_annotations': [{'annotator_id': 1,\n",
            "                                         'name': 'Ashpat123',\n",
            "                                         'reason': 'exploration',\n",
            "                                         'tagged_token_id': 'b62d0e6a-02c7-41ea-8341-6e11acae9915',\n",
            "                                         'timestamp': '2020-03-18T07:08:18.217000Z'}],\n",
            "                  'id': 'b62d0e6a-02c7-41ea-8341-6e11acae9915',\n",
            "                  'model_annotations': [],\n",
            "                  'start': 65,\n",
            "                  'tag_id': '03eb3e50-d4d8-4261-a60b-fa5aee5deb4a',\n",
            "                  'tag_name': 'MedicalCondition',\n",
            "                  'value': 'tuberculosis'},\n",
            "                 {'correct': None,\n",
            "                  'end': 558,\n",
            "                  'example_id': '1cff1759-36dd-4152-8c66-45ea305dfc22',\n",
            "                  'human_annotations': [{'annotator_id': 1,\n",
            "                                         'name': 'Ashpat123',\n",
            "                                         'reason': 'exploration',\n",
            "                                         'tagged_token_id': 'e818a974-a833-4f6d-816b-276bcaeb1e7c',\n",
            "                                         'timestamp': '2020-03-18T10:19:43.139000Z'}],\n",
            "                  'id': 'e818a974-a833-4f6d-816b-276bcaeb1e7c',\n",
            "                  'model_annotations': [],\n",
            "                  'start': 550,\n",
            "                  'tag_id': '03eb3e50-d4d8-4261-a60b-fa5aee5deb4a',\n",
            "                  'tag_name': 'MedicalCondition',\n",
            "                  'value': 'syphilis'},\n",
            "                 {'correct': None,\n",
            "                  'end': 536,\n",
            "                  'example_id': '1cff1759-36dd-4152-8c66-45ea305dfc22',\n",
            "                  'human_annotations': [],\n",
            "                  'id': 'f18350a2-d105-4dba-b8ec-de088b22535a',\n",
            "                  'model_annotations': [],\n",
            "                  'start': 524,\n",
            "                  'tag_id': '03eb3e50-d4d8-4261-a60b-fa5aee5deb4a',\n",
            "                  'tag_name': 'MedicalCondition',\n",
            "                  'value': 'yphoid fever'},\n",
            "                 {'correct': None,\n",
            "                  'end': 115,\n",
            "                  'example_id': '1cff1759-36dd-4152-8c66-45ea305dfc22',\n",
            "                  'human_annotations': [{'annotator_id': 1,\n",
            "                                         'name': 'Ashpat123',\n",
            "                                         'reason': 'exploration',\n",
            "                                         'tagged_token_id': 'faa95823-56ac-4888-a183-54148a433945',\n",
            "                                         'timestamp': '2020-03-18T07:08:27.893000Z'}],\n",
            "                  'id': 'faa95823-56ac-4888-a183-54148a433945',\n",
            "                  'model_annotations': [],\n",
            "                  'start': 89,\n",
            "                  'tag_id': '2340864c-0876-4ad1-8a34-600324a516d1',\n",
            "                  'tag_name': 'Pathogen',\n",
            "                  'value': 'Mycobacterium tuberculosis'},\n",
            "                 {'correct': None,\n",
            "                  'end': 431,\n",
            "                  'example_id': '1cff1759-36dd-4152-8c66-45ea305dfc22',\n",
            "                  'human_annotations': [{'annotator_id': 1,\n",
            "                                         'name': 'Ashpat123',\n",
            "                                         'reason': 'exploration',\n",
            "                                         'tagged_token_id': 'fec5f505-8783-410a-97cc-1588aa502783',\n",
            "                                         'timestamp': '2020-03-18T07:09:20.681000Z'}],\n",
            "                  'id': 'fec5f505-8783-410a-97cc-1588aa502783',\n",
            "                  'model_annotations': [],\n",
            "                  'start': 423,\n",
            "                  'tag_id': '2340864c-0876-4ad1-8a34-600324a516d1',\n",
            "                  'tag_name': 'Pathogen',\n",
            "                  'value': 'Shigella'}],\n",
            " 'classifications': [],\n",
            " 'content': 'One of the bacterial diseases with the highest disease burden is '\n",
            "            'tuberculosis, caused by Mycobacterium tuberculosis bacteria, '\n",
            "            'which kills about 2 million people a year, mostly in sub-Saharan '\n",
            "            'Africa. Pathogenic bacteria contribute to other globally '\n",
            "            'important diseases, such as pneumonia, which can be caused by '\n",
            "            'bacteria such as Streptococcus and Pseudomonas, and foodborne '\n",
            "            'illnesses, which can be caused by bacteria such as Shigella, '\n",
            "            'Campylobacter, and Salmonella. Pathogenic bacteria also cause '\n",
            "            'infections such as tetanus, typhoid fever, diphtheria, syphilis, '\n",
            "            'and leprosy. Pathogenic bacteria are also the cause of high '\n",
            "            'infant mortality rates in developing countries.[3]',\n",
            " 'id': '1cff1759-36dd-4152-8c66-45ea305dfc22',\n",
            " 'metadata': {}}\n"
          ]
        }
      ],
      "source": [
        "pprint(data['examples'][10])"
      ]
    },
    {
      "cell_type": "markdown",
      "metadata": {
        "id": "zXRi03Z9eib6"
      },
      "source": [
        "Такие форматы хорошо подходят для решения задач с элементами извлечения информации, автоматической разметки данных\n",
        "\n",
        "![image.png](data:image/png;base64,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)\n",
        "\n",
        "![image.png](data:image/png;base64,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)"
      ]
    },
    {
      "cell_type": "markdown",
      "metadata": {
        "id": "-QperTu6PfjJ"
      },
      "source": [
        "**И еще кое-что!**\n",
        "\n",
        "Создайте свой dict() с аналогичной структурой (тематика любая!):\n",
        "\n",
        "```\n",
        "{\n",
        "    \"firstName\": \"John\",\n",
        "    \"lastName\": \"Doe\",\n",
        "    \"skills\": [\"C++\", \"ChatGPT\", \"Data Science\"],\n",
        "    \"age\": 45,\n",
        "    \"experience\": [\n",
        "        {\n",
        "            \"job\": \"Product Manager\",\n",
        "            \"years\": 3\n",
        "        },\n",
        "        {\n",
        "            \"job\": \"ML Engineer\",\n",
        "            \"years\": 4\n",
        "        }\n",
        "    ]\n",
        "}\n",
        "```"
      ]
    },
    {
      "cell_type": "code",
      "execution_count": 71,
      "metadata": {
        "id": "QM2Y2xJAPiZL"
      },
      "outputs": [],
      "source": [
        "# Создайте файл, запишите его в переменную data\n",
        "\n",
        "### ваш код здесь ###\n",
        "cv = {\n",
        "'first name': 'Vladislav',\n",
        "'last name': 'Lobanov',\n",
        "'patronymic': 'Vladimirovich',\n",
        "'age': 22,\n",
        "'hobbies': [\n",
        "{'hobby': 'crochet',\n",
        "'when learned': 'summer 2023',\n",
        "'why learned': 'hype'\n",
        "},\n",
        "{'hobby': 'frisbee ultimate',\n",
        "'when learned': 'summer 2015',\n",
        "'why learned': 'introduced to by camp leaders'\n",
        "}\n",
        "]   \n",
        "}"
      ]
    },
    {
      "cell_type": "code",
      "execution_count": 75,
      "metadata": {
        "id": "9Ude11b4QsTi"
      },
      "outputs": [
        {
          "name": "stdout",
          "output_type": "stream",
          "text": [
            "{'age': 22,\n",
            " 'first name': 'Vladislav',\n",
            " 'hobbies': [{'hobby': 'crochet',\n",
            "              'when learned': 'summer 2023',\n",
            "              'why learned': 'hype'},\n",
            "             {'hobby': 'frisbee ultimate',\n",
            "              'when learned': 'summer 2015',\n",
            "              'why learned': 'introduced to by camp leaders'}],\n",
            " 'last name': 'Lobanov',\n",
            " 'patronymic': 'Vladimirovich'}\n"
          ]
        }
      ],
      "source": [
        "# Запустите ячейку, чтобы сохранить словарь в *.json\n",
        "\n",
        "with open(\"my_life.json\", \"w+\") as write_file:\n",
        "    json.dump(cv, write_file)\n",
        "    pprint(cv)\n"
      ]
    }
  ],
  "metadata": {
    "colab": {
      "authorship_tag": "ABX9TyOQFhUrscXPRXaJIo6o+mrz",
      "collapsed_sections": [
        "mtnFFCluuefl"
      ],
      "include_colab_link": true,
      "provenance": []
    },
    "kernelspec": {
      "display_name": "Python 3",
      "name": "python3"
    },
    "language_info": {
      "codemirror_mode": {
        "name": "ipython",
        "version": 3
      },
      "file_extension": ".py",
      "mimetype": "text/x-python",
      "name": "python",
      "nbconvert_exporter": "python",
      "pygments_lexer": "ipython3",
      "version": "3.12.5"
    }
  },
  "nbformat": 4,
  "nbformat_minor": 0
}
