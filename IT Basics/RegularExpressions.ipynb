{
 "cells": [
  {
   "cell_type": "markdown",
   "metadata": {},
   "source": [
    "# Задания по регулярным выражениям\n",
    "## Task 1"
   ]
  },
  {
   "cell_type": "code",
   "execution_count": 167,
   "metadata": {},
   "outputs": [
    {
     "data": {
      "text/plain": [
       "['Hello', 'Regex', 'Python']"
      ]
     },
     "execution_count": 167,
     "metadata": {},
     "output_type": "execute_result"
    }
   ],
   "source": [
    "import re\n",
    "stroka = \"Hello world, this is a Regex example with Python.\"\n",
    "re.findall(r'\\b[A-Z]+[a-z]+\\b', stroka)\n"
   ]
  },
  {
   "cell_type": "markdown",
   "metadata": {},
   "source": [
    "## Task 2"
   ]
  },
  {
   "cell_type": "code",
   "execution_count": 157,
   "metadata": {},
   "outputs": [
    {
     "name": "stdout",
     "output_type": "stream",
     "text": [
      "This was a test. This was only a test.\n"
     ]
    }
   ],
   "source": [
    "import re\n",
    "stroka = \"This is a test. This is only a test.\"\n",
    "stroka = re.sub(r'\\bis\\b', 'was', stroka)\n",
    "print(stroka)"
   ]
  },
  {
   "cell_type": "markdown",
   "metadata": {},
   "source": [
    "## Task 3"
   ]
  },
  {
   "cell_type": "code",
   "execution_count": 191,
   "metadata": {},
   "outputs": [
    {
     "data": {
      "text/plain": [
       "['https://www.example.com',\n",
       " 'http://example.org.',\n",
       " 'https://another-example.com/path?arg=val']"
      ]
     },
     "execution_count": 191,
     "metadata": {},
     "output_type": "execute_result"
    }
   ],
   "source": [
    "import re\n",
    "stroka = \"\"\"\n",
    "Visit https://www.example.com or follow http://example.org.\n",
    "You can also check out https://another-example.com/path?arg=val for more details.\n",
    "\"\"\"\n",
    "re.findall(r'https+\\S+|http+\\S+', stroka)"
   ]
  },
  {
   "cell_type": "markdown",
   "metadata": {},
   "source": [
    "## Task 4"
   ]
  },
  {
   "cell_type": "code",
   "execution_count": 185,
   "metadata": {},
   "outputs": [
    {
     "data": {
      "text/plain": [
       "['#sunset', '#nature', '#beautiful_day']"
      ]
     },
     "execution_count": 185,
     "metadata": {},
     "output_type": "execute_result"
    }
   ],
   "source": [
    "import re\n",
    "comment = \"Loving the #sunset and #nature! #beautiful_day\"\n",
    "re.findall(r'#\\w+', comment)"
   ]
  },
  {
   "cell_type": "markdown",
   "metadata": {},
   "source": [
    "## Task 5"
   ]
  },
  {
   "cell_type": "code",
   "execution_count": 190,
   "metadata": {},
   "outputs": [
    {
     "name": "stdout",
     "output_type": "stream",
     "text": [
      "This is a test string.\n"
     ]
    }
   ],
   "source": [
    "import re\n",
    "repeated = \"This is is a test test string.\"\n",
    "cleaned = re.sub(r\"\\b(\\w+)(?:\\W\\1\\b)+\", r'\\1', repeated)\n",
    "print(cleaned)"
   ]
  }
 ],
 "metadata": {
  "kernelspec": {
   "display_name": ".venv",
   "language": "python",
   "name": "python3"
  },
  "language_info": {
   "codemirror_mode": {
    "name": "ipython",
    "version": 3
   },
   "file_extension": ".py",
   "mimetype": "text/x-python",
   "name": "python",
   "nbconvert_exporter": "python",
   "pygments_lexer": "ipython3",
   "version": "3.12.5"
  }
 },
 "nbformat": 4,
 "nbformat_minor": 2
}
